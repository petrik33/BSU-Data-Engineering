{
    "metadata": {
        "kernelspec": {
            "name": "SQL",
            "display_name": "SQL",
            "language": "sql"
        },
        "language_info": {
            "name": "sql",
            "version": ""
        },
        "orig_nbformat": 4
    },
    "nbformat_minor": 2,
    "nbformat": 4,
    "cells": [
        {
            "cell_type": "markdown",
            "source": [
                "# Лабароторная работа №12\n",
                "\n",
                "Предметная область: 19. Музыкальные альбомы\n",
                "Коллекция состоит из музыкальных альбомов, которые могут быть записаны на\n",
                "Audio CD, или на жестком диске. Каждый альбом создан одним автором (исполнителем).\n",
                "У каждого исполнителя может быть несколько альбомов. Каждый альбом содержит\n",
                "несколько треков (композиций), которые имеют определенную длину и порядок в\n",
                "альбоме. Каждый трек может быть только в одном альбоме."
            ],
            "metadata": {
                "azdata_cell_guid": "589a31a3-10c5-4cea-8021-b6e3ec262ab9"
            },
            "attachments": {}
        },
        {
            "cell_type": "markdown",
            "source": [
                "## Структура БД\n",
                "\n",
                "![DB Diagram and Structure](Screenshot%20from%202023-05-18%2008-32-29.png)\n",
                "\n",
                "##  Данные в БД\n",
                "\n",
                "### Albums\n",
                "\n",
                "![Albums Data](Screenshot%20from%202023-05-18%2008-34-38.png)\n",
                "\n",
                "### Authors\n",
                "\n",
                "![Authors Data](Screenshot%20from%202023-05-18%2008-35-42.png)\n",
                "\n",
                "### Collections\n",
                "\n",
                "![Collections Data](Screenshot%20from%202023-05-18%2008-35-52.png)\n",
                "\n",
                "### Items\n",
                "\n",
                "![Items Data](Screenshot%20from%202023-05-18%2008-36-01.png)\n",
                "\n",
                "### Tracks\n",
                "\n",
                "![Tracks Data](Screenshot%20from%202023-05-18%2008-36-11.png)"
            ],
            "metadata": {
                "azdata_cell_guid": "954f656f-e7ad-46ab-aeb7-8d48db1c16fd"
            },
            "attachments": {}
        },
        {
            "cell_type": "markdown",
            "source": [
                "## 3. С помощью языка T-SQL выполнить следующие запросы:\n",
                "\n",
                "* вывести все данные из таблиц\n",
                "* вывести определенные данные, отсортированные в алфавитном порядке по\n",
                "определенному полю\n",
                "* вывести определенные данные, отсортированные в обратном алфавитном\n",
                "порядке по двум полям\n",
                "* создать вычисляемое поле, и вывести данные, убрав дубликаты\n",
                "* вывести 30% строк\n",
                "* вывести первые 5 строк\n",
                "* вывести строки начиная с 4 строки по 7 строку, отсортированные в обратном\n",
                "порядке\n",
                "* Отсортировать данные, используя в качестве критерия сортировки сложно\n",
                "выражение на основе столбцов\n",
                "* Запрос на выборку с добавлением SELECT INTO"
            ],
            "metadata": {
                "azdata_cell_guid": "ab8c99a5-822a-4214-a1d1-65090d806a32"
            },
            "attachments": {}
        },
        {
            "cell_type": "code",
            "source": [
                "-- Select all data from the authors table\n",
                "SELECT * FROM authors;\n",
                "\n",
                "-- Select all data from the albums table\n",
                "SELECT * FROM albums;\n",
                "\n",
                "-- Select all data from the tracks table\n",
                "SELECT * FROM tracks;\n",
                "\n",
                "-- Select all data from the collections table\n",
                "SELECT * FROM collections;\n",
                "\n",
                "-- Select all data from the items table\n",
                "SELECT * FROM items;"
            ],
            "metadata": {
                "azdata_cell_guid": "bb0664f4-8a17-485a-adef-4b26d4e587f6",
                "language": "sql",
                "tags": []
            },
            "outputs": [
                {
                    "output_type": "display_data",
                    "data": {
                        "text/html": "(10 rows affected)"
                    },
                    "metadata": {}
                },
                {
                    "output_type": "display_data",
                    "data": {
                        "text/html": "(14 rows affected)"
                    },
                    "metadata": {}
                },
                {
                    "output_type": "display_data",
                    "data": {
                        "text/html": "(11 rows affected)"
                    },
                    "metadata": {}
                },
                {
                    "output_type": "display_data",
                    "data": {
                        "text/html": "(10 rows affected)"
                    },
                    "metadata": {}
                },
                {
                    "output_type": "display_data",
                    "data": {
                        "text/html": "(15 rows affected)"
                    },
                    "metadata": {}
                },
                {
                    "output_type": "display_data",
                    "data": {
                        "text/html": "Total execution time: 00:00:00.022"
                    },
                    "metadata": {}
                },
                {
                    "output_type": "execute_result",
                    "metadata": {},
                    "execution_count": 24,
                    "data": {
                        "application/vnd.dataresource+json": {
                            "schema": {
                                "fields": [
                                    {
                                        "name": "id"
                                    },
                                    {
                                        "name": "name"
                                    },
                                    {
                                        "name": "birthday"
                                    }
                                ]
                            },
                            "data": [
                                {
                                    "0": "2",
                                    "1": "David Bowie",
                                    "2": "1947-01-08"
                                },
                                {
                                    "0": "3",
                                    "1": "Iggy Pop",
                                    "2": "1947-04-21"
                                },
                                {
                                    "0": "4",
                                    "1": "Lou Reed",
                                    "2": "1942-03-02"
                                },
                                {
                                    "0": "5",
                                    "1": "Tom Waits",
                                    "2": "1949-12-07"
                                },
                                {
                                    "0": "6",
                                    "1": "Stromae",
                                    "2": "1985-03-12"
                                },
                                {
                                    "0": "7",
                                    "1": "Скриптонит",
                                    "2": "1990-06-03"
                                },
                                {
                                    "0": "8",
                                    "1": "Виктор Цой",
                                    "2": "1962-06-21"
                                },
                                {
                                    "0": "9",
                                    "1": "Земфира",
                                    "2": "1976-08-26"
                                },
                                {
                                    "0": "10",
                                    "1": "Jim Morrison",
                                    "2": "1943-12-08"
                                },
                                {
                                    "0": "11",
                                    "1": "Kanye West",
                                    "2": "1977-06-08"
                                }
                            ]
                        },
                        "text/html": [
                            "<table>",
                            "<tr><th>id</th><th>name</th><th>birthday</th></tr>",
                            "<tr><td>2</td><td>David Bowie</td><td>1947-01-08</td></tr>",
                            "<tr><td>3</td><td>Iggy Pop</td><td>1947-04-21</td></tr>",
                            "<tr><td>4</td><td>Lou Reed</td><td>1942-03-02</td></tr>",
                            "<tr><td>5</td><td>Tom Waits</td><td>1949-12-07</td></tr>",
                            "<tr><td>6</td><td>Stromae</td><td>1985-03-12</td></tr>",
                            "<tr><td>7</td><td>Скриптонит</td><td>1990-06-03</td></tr>",
                            "<tr><td>8</td><td>Виктор Цой</td><td>1962-06-21</td></tr>",
                            "<tr><td>9</td><td>Земфира</td><td>1976-08-26</td></tr>",
                            "<tr><td>10</td><td>Jim Morrison</td><td>1943-12-08</td></tr>",
                            "<tr><td>11</td><td>Kanye West</td><td>1977-06-08</td></tr>",
                            "</table>"
                        ]
                    }
                },
                {
                    "output_type": "execute_result",
                    "metadata": {},
                    "execution_count": 24,
                    "data": {
                        "application/vnd.dataresource+json": {
                            "schema": {
                                "fields": [
                                    {
                                        "name": "id"
                                    },
                                    {
                                        "name": "name"
                                    },
                                    {
                                        "name": "author"
                                    },
                                    {
                                        "name": "release"
                                    }
                                ]
                            },
                            "data": [
                                {
                                    "0": "1",
                                    "1": "Scary Monsters",
                                    "2": "2",
                                    "3": "1980-09-12"
                                },
                                {
                                    "0": "2",
                                    "1": "Heroes",
                                    "2": "2",
                                    "3": "1977-10-14"
                                },
                                {
                                    "0": "3",
                                    "1": "Transformer",
                                    "2": "4",
                                    "3": "1972-11-08"
                                },
                                {
                                    "0": "4",
                                    "1": "Lust For Life",
                                    "2": "3",
                                    "3": "1977-09-09"
                                },
                                {
                                    "0": "5",
                                    "1": "Bone Machine",
                                    "2": "5",
                                    "3": "1992-09-08"
                                },
                                {
                                    "0": "6",
                                    "1": "Stromae",
                                    "2": "6",
                                    "3": "2022-03-04"
                                },
                                {
                                    "0": "7",
                                    "1": "2004",
                                    "2": "7",
                                    "3": "2019-12-24"
                                },
                                {
                                    "0": "8",
                                    "1": "Последний Герой",
                                    "2": "8",
                                    "3": "1984-01-01"
                                },
                                {
                                    "0": "9",
                                    "1": "45",
                                    "2": "8",
                                    "3": "1982-07-22"
                                },
                                {
                                    "0": "10",
                                    "1": "Прости меня моя любовь",
                                    "2": "9",
                                    "3": "2000-03-28"
                                },
                                {
                                    "0": "11",
                                    "1": "Земфира",
                                    "2": "9",
                                    "3": "1999-05-10"
                                },
                                {
                                    "0": "12",
                                    "1": "Вендетта",
                                    "2": "9",
                                    "3": "2005-03-01"
                                },
                                {
                                    "0": "13",
                                    "1": "The Life of Pablo",
                                    "2": "11",
                                    "3": "2016-02-14"
                                },
                                {
                                    "0": "14",
                                    "1": "808s & Heartbreak",
                                    "2": "11",
                                    "3": "2008-11-24"
                                }
                            ]
                        },
                        "text/html": [
                            "<table>",
                            "<tr><th>id</th><th>name</th><th>author</th><th>release</th></tr>",
                            "<tr><td>1</td><td>Scary Monsters</td><td>2</td><td>1980-09-12</td></tr>",
                            "<tr><td>2</td><td>Heroes</td><td>2</td><td>1977-10-14</td></tr>",
                            "<tr><td>3</td><td>Transformer</td><td>4</td><td>1972-11-08</td></tr>",
                            "<tr><td>4</td><td>Lust For Life</td><td>3</td><td>1977-09-09</td></tr>",
                            "<tr><td>5</td><td>Bone Machine</td><td>5</td><td>1992-09-08</td></tr>",
                            "<tr><td>6</td><td>Stromae</td><td>6</td><td>2022-03-04</td></tr>",
                            "<tr><td>7</td><td>2004</td><td>7</td><td>2019-12-24</td></tr>",
                            "<tr><td>8</td><td>Последний Герой</td><td>8</td><td>1984-01-01</td></tr>",
                            "<tr><td>9</td><td>45</td><td>8</td><td>1982-07-22</td></tr>",
                            "<tr><td>10</td><td>Прости меня моя любовь</td><td>9</td><td>2000-03-28</td></tr>",
                            "<tr><td>11</td><td>Земфира</td><td>9</td><td>1999-05-10</td></tr>",
                            "<tr><td>12</td><td>Вендетта</td><td>9</td><td>2005-03-01</td></tr>",
                            "<tr><td>13</td><td>The Life of Pablo</td><td>11</td><td>2016-02-14</td></tr>",
                            "<tr><td>14</td><td>808s &amp; Heartbreak</td><td>11</td><td>2008-11-24</td></tr>",
                            "</table>"
                        ]
                    }
                },
                {
                    "output_type": "execute_result",
                    "metadata": {},
                    "execution_count": 24,
                    "data": {
                        "application/vnd.dataresource+json": {
                            "schema": {
                                "fields": [
                                    {
                                        "name": "id"
                                    },
                                    {
                                        "name": "name"
                                    },
                                    {
                                        "name": "length"
                                    },
                                    {
                                        "name": "album"
                                    }
                                ]
                            },
                            "data": [
                                {
                                    "0": "9",
                                    "1": "Scary Monsters",
                                    "2": "232",
                                    "3": "1"
                                },
                                {
                                    "0": "10",
                                    "1": "Ashes to Ashes",
                                    "2": "133",
                                    "3": "1"
                                },
                                {
                                    "0": "11",
                                    "1": "Heroes",
                                    "2": "332",
                                    "3": "2"
                                },
                                {
                                    "0": "12",
                                    "1": "Passenger",
                                    "2": "245",
                                    "3": "4"
                                },
                                {
                                    "0": "13",
                                    "1": "Who are you this time?",
                                    "2": "305",
                                    "3": "5"
                                },
                                {
                                    "0": "14",
                                    "1": "Бездельник №1",
                                    "2": "155",
                                    "3": "9"
                                },
                                {
                                    "0": "15",
                                    "1": "Бездельник №2",
                                    "2": "177",
                                    "3": "9"
                                },
                                {
                                    "0": "16",
                                    "1": "Saint Pablo",
                                    "2": "344",
                                    "3": "13"
                                },
                                {
                                    "0": "17",
                                    "1": "Welcome to Heartbreak",
                                    "2": "190",
                                    "3": "14"
                                },
                                {
                                    "0": "18",
                                    "1": "Ромашки",
                                    "2": "190",
                                    "3": "11"
                                },
                                {
                                    "0": "19",
                                    "1": "Сердца из железа",
                                    "2": "119",
                                    "3": "7"
                                }
                            ]
                        },
                        "text/html": [
                            "<table>",
                            "<tr><th>id</th><th>name</th><th>length</th><th>album</th></tr>",
                            "<tr><td>9</td><td>Scary Monsters</td><td>232</td><td>1</td></tr>",
                            "<tr><td>10</td><td>Ashes to Ashes</td><td>133</td><td>1</td></tr>",
                            "<tr><td>11</td><td>Heroes</td><td>332</td><td>2</td></tr>",
                            "<tr><td>12</td><td>Passenger</td><td>245</td><td>4</td></tr>",
                            "<tr><td>13</td><td>Who are you this time?</td><td>305</td><td>5</td></tr>",
                            "<tr><td>14</td><td>Бездельник №1</td><td>155</td><td>9</td></tr>",
                            "<tr><td>15</td><td>Бездельник №2</td><td>177</td><td>9</td></tr>",
                            "<tr><td>16</td><td>Saint Pablo</td><td>344</td><td>13</td></tr>",
                            "<tr><td>17</td><td>Welcome to Heartbreak</td><td>190</td><td>14</td></tr>",
                            "<tr><td>18</td><td>Ромашки</td><td>190</td><td>11</td></tr>",
                            "<tr><td>19</td><td>Сердца из железа</td><td>119</td><td>7</td></tr>",
                            "</table>"
                        ]
                    }
                },
                {
                    "output_type": "execute_result",
                    "metadata": {},
                    "execution_count": 24,
                    "data": {
                        "application/vnd.dataresource+json": {
                            "schema": {
                                "fields": [
                                    {
                                        "name": "id"
                                    },
                                    {
                                        "name": "started"
                                    }
                                ]
                            },
                            "data": [
                                {
                                    "0": "1",
                                    "1": "2004-03-30"
                                },
                                {
                                    "0": "2",
                                    "1": "NULL"
                                },
                                {
                                    "0": "3",
                                    "1": "2023-03-16"
                                },
                                {
                                    "0": "4",
                                    "1": "1973-10-10"
                                },
                                {
                                    "0": "5",
                                    "1": "2020-04-01"
                                },
                                {
                                    "0": "6",
                                    "1": "2003-04-18"
                                },
                                {
                                    "0": "7",
                                    "1": "2011-09-11"
                                },
                                {
                                    "0": "8",
                                    "1": "1976-06-06"
                                },
                                {
                                    "0": "9",
                                    "1": "1968-11-22"
                                },
                                {
                                    "0": "10",
                                    "1": "2000-01-01"
                                }
                            ]
                        },
                        "text/html": [
                            "<table>",
                            "<tr><th>id</th><th>started</th></tr>",
                            "<tr><td>1</td><td>2004-03-30</td></tr>",
                            "<tr><td>2</td><td>NULL</td></tr>",
                            "<tr><td>3</td><td>2023-03-16</td></tr>",
                            "<tr><td>4</td><td>1973-10-10</td></tr>",
                            "<tr><td>5</td><td>2020-04-01</td></tr>",
                            "<tr><td>6</td><td>2003-04-18</td></tr>",
                            "<tr><td>7</td><td>2011-09-11</td></tr>",
                            "<tr><td>8</td><td>1976-06-06</td></tr>",
                            "<tr><td>9</td><td>1968-11-22</td></tr>",
                            "<tr><td>10</td><td>2000-01-01</td></tr>",
                            "</table>"
                        ]
                    }
                },
                {
                    "output_type": "execute_result",
                    "metadata": {},
                    "execution_count": 24,
                    "data": {
                        "application/vnd.dataresource+json": {
                            "schema": {
                                "fields": [
                                    {
                                        "name": "id"
                                    },
                                    {
                                        "name": "album"
                                    },
                                    {
                                        "name": "collection"
                                    },
                                    {
                                        "name": "type"
                                    },
                                    {
                                        "name": "price"
                                    }
                                ]
                            },
                            "data": [
                                {
                                    "0": "1",
                                    "1": "1",
                                    "2": "3",
                                    "3": "Vinyl",
                                    "4": "30.00"
                                },
                                {
                                    "0": "2",
                                    "1": "1",
                                    "2": "3",
                                    "3": "Tape",
                                    "4": "20.00"
                                },
                                {
                                    "0": "3",
                                    "1": "1",
                                    "2": "3",
                                    "3": "Digital",
                                    "4": "4.00"
                                },
                                {
                                    "0": "4",
                                    "1": "2",
                                    "2": "1",
                                    "3": "Vinyl",
                                    "4": "35.00"
                                },
                                {
                                    "0": "5",
                                    "1": "5",
                                    "2": "7",
                                    "3": "CD",
                                    "4": "25.00"
                                },
                                {
                                    "0": "6",
                                    "1": "9",
                                    "2": "9",
                                    "3": "CD",
                                    "4": "23.00"
                                },
                                {
                                    "0": "7",
                                    "1": "7",
                                    "2": "2",
                                    "3": "Digital",
                                    "4": "2.00"
                                },
                                {
                                    "0": "8",
                                    "1": "10",
                                    "2": "2",
                                    "3": "Digital",
                                    "4": "1.00"
                                },
                                {
                                    "0": "9",
                                    "1": "11",
                                    "2": "2",
                                    "3": "Digital",
                                    "4": "0.33"
                                },
                                {
                                    "0": "10",
                                    "1": "8",
                                    "2": "5",
                                    "3": "Tape",
                                    "4": "15.00"
                                },
                                {
                                    "0": "11",
                                    "1": "9",
                                    "2": "5",
                                    "3": "Tape",
                                    "4": "12.50"
                                },
                                {
                                    "0": "12",
                                    "1": "13",
                                    "2": "6",
                                    "3": "Vinyl",
                                    "4": "100.00"
                                },
                                {
                                    "0": "13",
                                    "1": "14",
                                    "2": "6",
                                    "3": "Vinyl",
                                    "4": "80.00"
                                },
                                {
                                    "0": "14",
                                    "1": "5",
                                    "2": "6",
                                    "3": "Vinyl",
                                    "4": "300.00"
                                },
                                {
                                    "0": "15",
                                    "1": "4",
                                    "2": "6",
                                    "3": "Vinyl",
                                    "4": "30.00"
                                }
                            ]
                        },
                        "text/html": [
                            "<table>",
                            "<tr><th>id</th><th>album</th><th>collection</th><th>type</th><th>price</th></tr>",
                            "<tr><td>1</td><td>1</td><td>3</td><td>Vinyl</td><td>30.00</td></tr>",
                            "<tr><td>2</td><td>1</td><td>3</td><td>Tape</td><td>20.00</td></tr>",
                            "<tr><td>3</td><td>1</td><td>3</td><td>Digital</td><td>4.00</td></tr>",
                            "<tr><td>4</td><td>2</td><td>1</td><td>Vinyl</td><td>35.00</td></tr>",
                            "<tr><td>5</td><td>5</td><td>7</td><td>CD</td><td>25.00</td></tr>",
                            "<tr><td>6</td><td>9</td><td>9</td><td>CD</td><td>23.00</td></tr>",
                            "<tr><td>7</td><td>7</td><td>2</td><td>Digital</td><td>2.00</td></tr>",
                            "<tr><td>8</td><td>10</td><td>2</td><td>Digital</td><td>1.00</td></tr>",
                            "<tr><td>9</td><td>11</td><td>2</td><td>Digital</td><td>0.33</td></tr>",
                            "<tr><td>10</td><td>8</td><td>5</td><td>Tape</td><td>15.00</td></tr>",
                            "<tr><td>11</td><td>9</td><td>5</td><td>Tape</td><td>12.50</td></tr>",
                            "<tr><td>12</td><td>13</td><td>6</td><td>Vinyl</td><td>100.00</td></tr>",
                            "<tr><td>13</td><td>14</td><td>6</td><td>Vinyl</td><td>80.00</td></tr>",
                            "<tr><td>14</td><td>5</td><td>6</td><td>Vinyl</td><td>300.00</td></tr>",
                            "<tr><td>15</td><td>4</td><td>6</td><td>Vinyl</td><td>30.00</td></tr>",
                            "</table>"
                        ]
                    }
                }
            ],
            "execution_count": 24
        },
        {
            "cell_type": "code",
            "source": [
                "SELECT * FROM albums\n",
                "ORDER BY name"
            ],
            "metadata": {
                "azdata_cell_guid": "655149d2-a902-4907-b6d6-2607cd39d2fc",
                "language": "sql"
            },
            "outputs": [
                {
                    "output_type": "display_data",
                    "data": {
                        "text/html": "(14 rows affected)"
                    },
                    "metadata": {}
                },
                {
                    "output_type": "display_data",
                    "data": {
                        "text/html": "Total execution time: 00:00:00.011"
                    },
                    "metadata": {}
                },
                {
                    "output_type": "execute_result",
                    "metadata": {},
                    "execution_count": 4,
                    "data": {
                        "application/vnd.dataresource+json": {
                            "schema": {
                                "fields": [
                                    {
                                        "name": "id"
                                    },
                                    {
                                        "name": "name"
                                    },
                                    {
                                        "name": "author"
                                    },
                                    {
                                        "name": "release"
                                    }
                                ]
                            },
                            "data": [
                                {
                                    "0": "7",
                                    "1": "2004",
                                    "2": "7",
                                    "3": "2019-12-24"
                                },
                                {
                                    "0": "9",
                                    "1": "45",
                                    "2": "8",
                                    "3": "1982-07-22"
                                },
                                {
                                    "0": "14",
                                    "1": "808s & Heartbreak",
                                    "2": "11",
                                    "3": "2008-11-24"
                                },
                                {
                                    "0": "5",
                                    "1": "Bone Machine",
                                    "2": "5",
                                    "3": "1992-09-08"
                                },
                                {
                                    "0": "2",
                                    "1": "Heroes",
                                    "2": "2",
                                    "3": "1977-10-14"
                                },
                                {
                                    "0": "4",
                                    "1": "Lust For Life",
                                    "2": "3",
                                    "3": "1977-09-09"
                                },
                                {
                                    "0": "1",
                                    "1": "Scary Monsters",
                                    "2": "2",
                                    "3": "1980-09-12"
                                },
                                {
                                    "0": "6",
                                    "1": "Stromae",
                                    "2": "6",
                                    "3": "2022-03-04"
                                },
                                {
                                    "0": "13",
                                    "1": "The Life of Pablo",
                                    "2": "11",
                                    "3": "2016-02-14"
                                },
                                {
                                    "0": "3",
                                    "1": "Transformer",
                                    "2": "4",
                                    "3": "1972-11-08"
                                },
                                {
                                    "0": "12",
                                    "1": "Вендетта",
                                    "2": "9",
                                    "3": "2005-03-01"
                                },
                                {
                                    "0": "11",
                                    "1": "Земфира",
                                    "2": "9",
                                    "3": "1999-05-10"
                                },
                                {
                                    "0": "8",
                                    "1": "Последний Герой",
                                    "2": "8",
                                    "3": "1984-01-01"
                                },
                                {
                                    "0": "10",
                                    "1": "Прости меня моя любовь",
                                    "2": "9",
                                    "3": "2000-03-28"
                                }
                            ]
                        },
                        "text/html": [
                            "<table>",
                            "<tr><th>id</th><th>name</th><th>author</th><th>release</th></tr>",
                            "<tr><td>7</td><td>2004</td><td>7</td><td>2019-12-24</td></tr>",
                            "<tr><td>9</td><td>45</td><td>8</td><td>1982-07-22</td></tr>",
                            "<tr><td>14</td><td>808s &amp; Heartbreak</td><td>11</td><td>2008-11-24</td></tr>",
                            "<tr><td>5</td><td>Bone Machine</td><td>5</td><td>1992-09-08</td></tr>",
                            "<tr><td>2</td><td>Heroes</td><td>2</td><td>1977-10-14</td></tr>",
                            "<tr><td>4</td><td>Lust For Life</td><td>3</td><td>1977-09-09</td></tr>",
                            "<tr><td>1</td><td>Scary Monsters</td><td>2</td><td>1980-09-12</td></tr>",
                            "<tr><td>6</td><td>Stromae</td><td>6</td><td>2022-03-04</td></tr>",
                            "<tr><td>13</td><td>The Life of Pablo</td><td>11</td><td>2016-02-14</td></tr>",
                            "<tr><td>3</td><td>Transformer</td><td>4</td><td>1972-11-08</td></tr>",
                            "<tr><td>12</td><td>Вендетта</td><td>9</td><td>2005-03-01</td></tr>",
                            "<tr><td>11</td><td>Земфира</td><td>9</td><td>1999-05-10</td></tr>",
                            "<tr><td>8</td><td>Последний Герой</td><td>8</td><td>1984-01-01</td></tr>",
                            "<tr><td>10</td><td>Прости меня моя любовь</td><td>9</td><td>2000-03-28</td></tr>",
                            "</table>"
                        ]
                    }
                }
            ],
            "execution_count": 4
        },
        {
            "cell_type": "code",
            "source": [
                "SELECT * FROM tracks\n",
                "ORDER BY name, length"
            ],
            "metadata": {
                "language": "sql",
                "azdata_cell_guid": "c6095a46-0f65-42a0-b6b3-61250f425e7b"
            },
            "outputs": [],
            "execution_count": null
        },
        {
            "cell_type": "code",
            "source": [
                "SELECT FLOOR(length / 60) AS [Length in minutes]\n",
                "from tracks"
            ],
            "metadata": {
                "language": "sql",
                "azdata_cell_guid": "56e30294-bb59-4942-acda-430e54debc11"
            },
            "outputs": [
                {
                    "output_type": "display_data",
                    "data": {
                        "text/html": "(11 rows affected)"
                    },
                    "metadata": {}
                },
                {
                    "output_type": "display_data",
                    "data": {
                        "text/html": "Total execution time: 00:00:00.012"
                    },
                    "metadata": {}
                },
                {
                    "output_type": "execute_result",
                    "metadata": {},
                    "execution_count": 2,
                    "data": {
                        "application/vnd.dataresource+json": {
                            "schema": {
                                "fields": [
                                    {
                                        "name": "Length in minutes"
                                    }
                                ]
                            },
                            "data": [
                                {
                                    "0": "3"
                                },
                                {
                                    "0": "2"
                                },
                                {
                                    "0": "5"
                                },
                                {
                                    "0": "4"
                                },
                                {
                                    "0": "5"
                                },
                                {
                                    "0": "2"
                                },
                                {
                                    "0": "2"
                                },
                                {
                                    "0": "5"
                                },
                                {
                                    "0": "3"
                                },
                                {
                                    "0": "3"
                                },
                                {
                                    "0": "1"
                                }
                            ]
                        },
                        "text/html": [
                            "<table>",
                            "<tr><th>Length in minutes</th></tr>",
                            "<tr><td>3</td></tr>",
                            "<tr><td>2</td></tr>",
                            "<tr><td>5</td></tr>",
                            "<tr><td>4</td></tr>",
                            "<tr><td>5</td></tr>",
                            "<tr><td>2</td></tr>",
                            "<tr><td>2</td></tr>",
                            "<tr><td>5</td></tr>",
                            "<tr><td>3</td></tr>",
                            "<tr><td>3</td></tr>",
                            "<tr><td>1</td></tr>",
                            "</table>"
                        ]
                    }
                }
            ],
            "execution_count": 2
        },
        {
            "cell_type": "code",
            "source": [
                "SELECT TOP 30 PERCENT * FROM items"
            ],
            "metadata": {
                "language": "sql",
                "azdata_cell_guid": "f00bce1a-13eb-418a-aad0-50b750e79ce4"
            },
            "outputs": [],
            "execution_count": null
        },
        {
            "cell_type": "code",
            "source": [
                "SELECT TOP 5 * from collections"
            ],
            "metadata": {
                "language": "sql",
                "azdata_cell_guid": "951e10b8-8680-43cb-9f6f-546567626887"
            },
            "outputs": [],
            "execution_count": null
        },
        {
            "cell_type": "code",
            "source": [
                "SELECT *\n",
                "    FROM tracks\n",
                "    ORDER BY name DESC\n",
                "    OFFSET 3 ROWS\n",
                "    FETCH NEXT 4 ROWS ONLY"
            ],
            "metadata": {
                "language": "sql",
                "azdata_cell_guid": "b5208578-b030-4af2-b075-52386500c0a6"
            },
            "outputs": [
                {
                    "output_type": "display_data",
                    "data": {
                        "text/html": "(4 rows affected)"
                    },
                    "metadata": {}
                },
                {
                    "output_type": "display_data",
                    "data": {
                        "text/html": "Total execution time: 00:00:00.016"
                    },
                    "metadata": {}
                },
                {
                    "output_type": "execute_result",
                    "metadata": {},
                    "execution_count": 3,
                    "data": {
                        "application/vnd.dataresource+json": {
                            "schema": {
                                "fields": [
                                    {
                                        "name": "id"
                                    },
                                    {
                                        "name": "name"
                                    },
                                    {
                                        "name": "length"
                                    },
                                    {
                                        "name": "album"
                                    }
                                ]
                            },
                            "data": [
                                {
                                    "0": "14",
                                    "1": "Бездельник №1",
                                    "2": "155",
                                    "3": "9"
                                },
                                {
                                    "0": "13",
                                    "1": "Who are you this time?",
                                    "2": "305",
                                    "3": "5"
                                },
                                {
                                    "0": "17",
                                    "1": "Welcome to Heartbreak",
                                    "2": "190",
                                    "3": "14"
                                },
                                {
                                    "0": "9",
                                    "1": "Scary Monsters",
                                    "2": "232",
                                    "3": "1"
                                }
                            ]
                        },
                        "text/html": [
                            "<table>",
                            "<tr><th>id</th><th>name</th><th>length</th><th>album</th></tr>",
                            "<tr><td>14</td><td>Бездельник №1</td><td>155</td><td>9</td></tr>",
                            "<tr><td>13</td><td>Who are you this time?</td><td>305</td><td>5</td></tr>",
                            "<tr><td>17</td><td>Welcome to Heartbreak</td><td>190</td><td>14</td></tr>",
                            "<tr><td>9</td><td>Scary Monsters</td><td>232</td><td>1</td></tr>",
                            "</table>"
                        ]
                    }
                }
            ],
            "execution_count": 3
        },
        {
            "cell_type": "code",
            "source": [
                "select * from authors\n",
                "order by name + REVERSE(name)"
            ],
            "metadata": {
                "language": "sql",
                "azdata_cell_guid": "64fdd3a0-5a2b-4bc6-8640-a95bb7509acd"
            },
            "outputs": [
                {
                    "output_type": "display_data",
                    "data": {
                        "text/html": "(10 rows affected)"
                    },
                    "metadata": {}
                },
                {
                    "output_type": "display_data",
                    "data": {
                        "text/html": "Total execution time: 00:00:00.008"
                    },
                    "metadata": {}
                },
                {
                    "output_type": "execute_result",
                    "metadata": {},
                    "execution_count": 5,
                    "data": {
                        "application/vnd.dataresource+json": {
                            "schema": {
                                "fields": [
                                    {
                                        "name": "id"
                                    },
                                    {
                                        "name": "name"
                                    },
                                    {
                                        "name": "birthday"
                                    }
                                ]
                            },
                            "data": [
                                {
                                    "0": "2",
                                    "1": "David Bowie",
                                    "2": "1947-01-08"
                                },
                                {
                                    "0": "3",
                                    "1": "Iggy Pop",
                                    "2": "1947-04-21"
                                },
                                {
                                    "0": "10",
                                    "1": "Jim Morrison",
                                    "2": "1943-12-08"
                                },
                                {
                                    "0": "11",
                                    "1": "Kanye West",
                                    "2": "1977-06-08"
                                },
                                {
                                    "0": "4",
                                    "1": "Lou Reed",
                                    "2": "1942-03-02"
                                },
                                {
                                    "0": "6",
                                    "1": "Stromae",
                                    "2": "1985-03-12"
                                },
                                {
                                    "0": "5",
                                    "1": "Tom Waits",
                                    "2": "1949-12-07"
                                },
                                {
                                    "0": "8",
                                    "1": "Виктор Цой",
                                    "2": "1962-06-21"
                                },
                                {
                                    "0": "9",
                                    "1": "Земфира",
                                    "2": "1976-08-26"
                                },
                                {
                                    "0": "7",
                                    "1": "Скриптонит",
                                    "2": "1990-06-03"
                                }
                            ]
                        },
                        "text/html": [
                            "<table>",
                            "<tr><th>id</th><th>name</th><th>birthday</th></tr>",
                            "<tr><td>2</td><td>David Bowie</td><td>1947-01-08</td></tr>",
                            "<tr><td>3</td><td>Iggy Pop</td><td>1947-04-21</td></tr>",
                            "<tr><td>10</td><td>Jim Morrison</td><td>1943-12-08</td></tr>",
                            "<tr><td>11</td><td>Kanye West</td><td>1977-06-08</td></tr>",
                            "<tr><td>4</td><td>Lou Reed</td><td>1942-03-02</td></tr>",
                            "<tr><td>6</td><td>Stromae</td><td>1985-03-12</td></tr>",
                            "<tr><td>5</td><td>Tom Waits</td><td>1949-12-07</td></tr>",
                            "<tr><td>8</td><td>Виктор Цой</td><td>1962-06-21</td></tr>",
                            "<tr><td>9</td><td>Земфира</td><td>1976-08-26</td></tr>",
                            "<tr><td>7</td><td>Скриптонит</td><td>1990-06-03</td></tr>",
                            "</table>"
                        ]
                    }
                }
            ],
            "execution_count": 5
        },
        {
            "cell_type": "code",
            "source": [
                "IF OBJECT_ID('dbo.albums_authors', 'U') IS NOT NULL\n",
                "    DROP TABLE albums_authors\n",
                "SELECT \n",
                "\talbums.id, \n",
                "\talbums.name, \n",
                "\talbums.release,\n",
                "\tauthors.name as [Author name],\n",
                "\tauthors.birthday [Author birthday]\n",
                "INTO albums_authors\n",
                "FROM albums, authors\n",
                "WHERE albums.author = authors.id\n",
                "\n",
                "SELECT * FROM albums_authors"
            ],
            "metadata": {
                "language": "sql",
                "azdata_cell_guid": "a52732db-0913-4ce6-9137-5e0091a23da8",
                "tags": []
            },
            "outputs": [
                {
                    "output_type": "display_data",
                    "data": {
                        "text/html": "(14 rows affected)"
                    },
                    "metadata": {}
                },
                {
                    "output_type": "display_data",
                    "data": {
                        "text/html": "(14 rows affected)"
                    },
                    "metadata": {}
                },
                {
                    "output_type": "display_data",
                    "data": {
                        "text/html": "Total execution time: 00:00:00.042"
                    },
                    "metadata": {}
                },
                {
                    "output_type": "execute_result",
                    "metadata": {},
                    "execution_count": 13,
                    "data": {
                        "application/vnd.dataresource+json": {
                            "schema": {
                                "fields": [
                                    {
                                        "name": "id"
                                    },
                                    {
                                        "name": "name"
                                    },
                                    {
                                        "name": "release"
                                    },
                                    {
                                        "name": "Author name"
                                    },
                                    {
                                        "name": "Author birthday"
                                    }
                                ]
                            },
                            "data": [
                                {
                                    "0": "1",
                                    "1": "Scary Monsters",
                                    "2": "1980-09-12",
                                    "3": "David Bowie",
                                    "4": "1947-01-08"
                                },
                                {
                                    "0": "2",
                                    "1": "Heroes",
                                    "2": "1977-10-14",
                                    "3": "David Bowie",
                                    "4": "1947-01-08"
                                },
                                {
                                    "0": "3",
                                    "1": "Transformer",
                                    "2": "1972-11-08",
                                    "3": "Lou Reed",
                                    "4": "1942-03-02"
                                },
                                {
                                    "0": "4",
                                    "1": "Lust For Life",
                                    "2": "1977-09-09",
                                    "3": "Iggy Pop",
                                    "4": "1947-04-21"
                                },
                                {
                                    "0": "5",
                                    "1": "Bone Machine",
                                    "2": "1992-09-08",
                                    "3": "Tom Waits",
                                    "4": "1949-12-07"
                                },
                                {
                                    "0": "6",
                                    "1": "Stromae",
                                    "2": "2022-03-04",
                                    "3": "Stromae",
                                    "4": "1985-03-12"
                                },
                                {
                                    "0": "7",
                                    "1": "2004",
                                    "2": "2019-12-24",
                                    "3": "Скриптонит",
                                    "4": "1990-06-03"
                                },
                                {
                                    "0": "8",
                                    "1": "Последний Герой",
                                    "2": "1984-01-01",
                                    "3": "Виктор Цой",
                                    "4": "1962-06-21"
                                },
                                {
                                    "0": "9",
                                    "1": "45",
                                    "2": "1982-07-22",
                                    "3": "Виктор Цой",
                                    "4": "1962-06-21"
                                },
                                {
                                    "0": "10",
                                    "1": "Прости меня моя любовь",
                                    "2": "2000-03-28",
                                    "3": "Земфира",
                                    "4": "1976-08-26"
                                },
                                {
                                    "0": "11",
                                    "1": "Земфира",
                                    "2": "1999-05-10",
                                    "3": "Земфира",
                                    "4": "1976-08-26"
                                },
                                {
                                    "0": "12",
                                    "1": "Вендетта",
                                    "2": "2005-03-01",
                                    "3": "Земфира",
                                    "4": "1976-08-26"
                                },
                                {
                                    "0": "13",
                                    "1": "The Life of Pablo",
                                    "2": "2016-02-14",
                                    "3": "Kanye West",
                                    "4": "1977-06-08"
                                },
                                {
                                    "0": "14",
                                    "1": "808s & Heartbreak",
                                    "2": "2008-11-24",
                                    "3": "Kanye West",
                                    "4": "1977-06-08"
                                }
                            ]
                        },
                        "text/html": [
                            "<table>",
                            "<tr><th>id</th><th>name</th><th>release</th><th>Author name</th><th>Author birthday</th></tr>",
                            "<tr><td>1</td><td>Scary Monsters</td><td>1980-09-12</td><td>David Bowie</td><td>1947-01-08</td></tr>",
                            "<tr><td>2</td><td>Heroes</td><td>1977-10-14</td><td>David Bowie</td><td>1947-01-08</td></tr>",
                            "<tr><td>3</td><td>Transformer</td><td>1972-11-08</td><td>Lou Reed</td><td>1942-03-02</td></tr>",
                            "<tr><td>4</td><td>Lust For Life</td><td>1977-09-09</td><td>Iggy Pop</td><td>1947-04-21</td></tr>",
                            "<tr><td>5</td><td>Bone Machine</td><td>1992-09-08</td><td>Tom Waits</td><td>1949-12-07</td></tr>",
                            "<tr><td>6</td><td>Stromae</td><td>2022-03-04</td><td>Stromae</td><td>1985-03-12</td></tr>",
                            "<tr><td>7</td><td>2004</td><td>2019-12-24</td><td>Скриптонит</td><td>1990-06-03</td></tr>",
                            "<tr><td>8</td><td>Последний Герой</td><td>1984-01-01</td><td>Виктор Цой</td><td>1962-06-21</td></tr>",
                            "<tr><td>9</td><td>45</td><td>1982-07-22</td><td>Виктор Цой</td><td>1962-06-21</td></tr>",
                            "<tr><td>10</td><td>Прости меня моя любовь</td><td>2000-03-28</td><td>Земфира</td><td>1976-08-26</td></tr>",
                            "<tr><td>11</td><td>Земфира</td><td>1999-05-10</td><td>Земфира</td><td>1976-08-26</td></tr>",
                            "<tr><td>12</td><td>Вендетта</td><td>2005-03-01</td><td>Земфира</td><td>1976-08-26</td></tr>",
                            "<tr><td>13</td><td>The Life of Pablo</td><td>2016-02-14</td><td>Kanye West</td><td>1977-06-08</td></tr>",
                            "<tr><td>14</td><td>808s &amp; Heartbreak</td><td>2008-11-24</td><td>Kanye West</td><td>1977-06-08</td></tr>",
                            "</table>"
                        ]
                    }
                }
            ],
            "execution_count": 13
        },
        {
            "cell_type": "markdown",
            "source": [
                "## 4. С помощью языка T-SQL написать и выполнить 7 запросов на фильтрацию данных с использованием в запросах операторов сравнения, логических операторов"
            ],
            "metadata": {
                "language": "sql",
                "azdata_cell_guid": "4404e7e1-8b63-4c38-9c8d-492871726020"
            },
            "attachments": {}
        },
        {
            "cell_type": "code",
            "source": [
                "SELECT * FROM authors\n",
                "WHERE id = 3"
            ],
            "metadata": {
                "language": "sql",
                "azdata_cell_guid": "0484fb13-ce6e-4379-9594-803a418e62d2"
            },
            "outputs": [
                {
                    "output_type": "display_data",
                    "data": {
                        "text/html": "(1 row affected)"
                    },
                    "metadata": {}
                },
                {
                    "output_type": "display_data",
                    "data": {
                        "text/html": "Total execution time: 00:00:00.009"
                    },
                    "metadata": {}
                },
                {
                    "output_type": "execute_result",
                    "metadata": {},
                    "execution_count": 15,
                    "data": {
                        "application/vnd.dataresource+json": {
                            "schema": {
                                "fields": [
                                    {
                                        "name": "id"
                                    },
                                    {
                                        "name": "name"
                                    },
                                    {
                                        "name": "birthday"
                                    }
                                ]
                            },
                            "data": [
                                {
                                    "0": "3",
                                    "1": "Iggy Pop",
                                    "2": "1947-04-21"
                                }
                            ]
                        },
                        "text/html": [
                            "<table>",
                            "<tr><th>id</th><th>name</th><th>birthday</th></tr>",
                            "<tr><td>3</td><td>Iggy Pop</td><td>1947-04-21</td></tr>",
                            "</table>"
                        ]
                    }
                }
            ],
            "execution_count": 15
        },
        {
            "cell_type": "code",
            "source": [
                "SELECT * FROM authors\n",
                "WHERE name LIKE 'K%'"
            ],
            "metadata": {
                "language": "sql",
                "azdata_cell_guid": "39d410c6-fd97-438f-96de-5feb37aab3e7"
            },
            "outputs": [
                {
                    "output_type": "display_data",
                    "data": {
                        "text/html": "(1 row affected)"
                    },
                    "metadata": {}
                },
                {
                    "output_type": "display_data",
                    "data": {
                        "text/html": "Total execution time: 00:00:00.010"
                    },
                    "metadata": {}
                },
                {
                    "output_type": "execute_result",
                    "metadata": {},
                    "execution_count": 17,
                    "data": {
                        "application/vnd.dataresource+json": {
                            "schema": {
                                "fields": [
                                    {
                                        "name": "id"
                                    },
                                    {
                                        "name": "name"
                                    },
                                    {
                                        "name": "birthday"
                                    }
                                ]
                            },
                            "data": [
                                {
                                    "0": "11",
                                    "1": "Kanye West",
                                    "2": "1977-06-08"
                                }
                            ]
                        },
                        "text/html": [
                            "<table>",
                            "<tr><th>id</th><th>name</th><th>birthday</th></tr>",
                            "<tr><td>11</td><td>Kanye West</td><td>1977-06-08</td></tr>",
                            "</table>"
                        ]
                    }
                }
            ],
            "execution_count": 17
        },
        {
            "cell_type": "code",
            "source": [
                "SELECT * from albums\n",
                "WHERE release < '2000-01-01'"
            ],
            "metadata": {
                "language": "sql",
                "azdata_cell_guid": "c4f1280e-4b88-4bb7-99e0-e45731d814fd"
            },
            "outputs": [
                {
                    "output_type": "display_data",
                    "data": {
                        "text/html": "(8 rows affected)"
                    },
                    "metadata": {}
                },
                {
                    "output_type": "display_data",
                    "data": {
                        "text/html": "Total execution time: 00:00:00.024"
                    },
                    "metadata": {}
                },
                {
                    "output_type": "execute_result",
                    "metadata": {},
                    "execution_count": 18,
                    "data": {
                        "application/vnd.dataresource+json": {
                            "schema": {
                                "fields": [
                                    {
                                        "name": "id"
                                    },
                                    {
                                        "name": "name"
                                    },
                                    {
                                        "name": "author"
                                    },
                                    {
                                        "name": "release"
                                    }
                                ]
                            },
                            "data": [
                                {
                                    "0": "1",
                                    "1": "Scary Monsters",
                                    "2": "2",
                                    "3": "1980-09-12"
                                },
                                {
                                    "0": "2",
                                    "1": "Heroes",
                                    "2": "2",
                                    "3": "1977-10-14"
                                },
                                {
                                    "0": "3",
                                    "1": "Transformer",
                                    "2": "4",
                                    "3": "1972-11-08"
                                },
                                {
                                    "0": "4",
                                    "1": "Lust For Life",
                                    "2": "3",
                                    "3": "1977-09-09"
                                },
                                {
                                    "0": "5",
                                    "1": "Bone Machine",
                                    "2": "5",
                                    "3": "1992-09-08"
                                },
                                {
                                    "0": "8",
                                    "1": "Последний Герой",
                                    "2": "8",
                                    "3": "1984-01-01"
                                },
                                {
                                    "0": "9",
                                    "1": "45",
                                    "2": "8",
                                    "3": "1982-07-22"
                                },
                                {
                                    "0": "11",
                                    "1": "Земфира",
                                    "2": "9",
                                    "3": "1999-05-10"
                                }
                            ]
                        },
                        "text/html": [
                            "<table>",
                            "<tr><th>id</th><th>name</th><th>author</th><th>release</th></tr>",
                            "<tr><td>1</td><td>Scary Monsters</td><td>2</td><td>1980-09-12</td></tr>",
                            "<tr><td>2</td><td>Heroes</td><td>2</td><td>1977-10-14</td></tr>",
                            "<tr><td>3</td><td>Transformer</td><td>4</td><td>1972-11-08</td></tr>",
                            "<tr><td>4</td><td>Lust For Life</td><td>3</td><td>1977-09-09</td></tr>",
                            "<tr><td>5</td><td>Bone Machine</td><td>5</td><td>1992-09-08</td></tr>",
                            "<tr><td>8</td><td>Последний Герой</td><td>8</td><td>1984-01-01</td></tr>",
                            "<tr><td>9</td><td>45</td><td>8</td><td>1982-07-22</td></tr>",
                            "<tr><td>11</td><td>Земфира</td><td>9</td><td>1999-05-10</td></tr>",
                            "</table>"
                        ]
                    }
                }
            ],
            "execution_count": 18
        },
        {
            "cell_type": "code",
            "source": [
                "SELECT * from tracks\n",
                "WHERE length > 180"
            ],
            "metadata": {
                "language": "sql",
                "azdata_cell_guid": "943b0bc7-0e58-4e59-a9db-bff2c06316ae"
            },
            "outputs": [
                {
                    "output_type": "display_data",
                    "data": {
                        "text/html": "(7 rows affected)"
                    },
                    "metadata": {}
                },
                {
                    "output_type": "display_data",
                    "data": {
                        "text/html": "Total execution time: 00:00:00.017"
                    },
                    "metadata": {}
                },
                {
                    "output_type": "execute_result",
                    "metadata": {},
                    "execution_count": 19,
                    "data": {
                        "application/vnd.dataresource+json": {
                            "schema": {
                                "fields": [
                                    {
                                        "name": "id"
                                    },
                                    {
                                        "name": "name"
                                    },
                                    {
                                        "name": "length"
                                    },
                                    {
                                        "name": "album"
                                    }
                                ]
                            },
                            "data": [
                                {
                                    "0": "9",
                                    "1": "Scary Monsters",
                                    "2": "232",
                                    "3": "1"
                                },
                                {
                                    "0": "11",
                                    "1": "Heroes",
                                    "2": "332",
                                    "3": "2"
                                },
                                {
                                    "0": "12",
                                    "1": "Passenger",
                                    "2": "245",
                                    "3": "4"
                                },
                                {
                                    "0": "13",
                                    "1": "Who are you this time?",
                                    "2": "305",
                                    "3": "5"
                                },
                                {
                                    "0": "16",
                                    "1": "Saint Pablo",
                                    "2": "344",
                                    "3": "13"
                                },
                                {
                                    "0": "17",
                                    "1": "Welcome to Heartbreak",
                                    "2": "190",
                                    "3": "14"
                                },
                                {
                                    "0": "18",
                                    "1": "Ромашки",
                                    "2": "190",
                                    "3": "11"
                                }
                            ]
                        },
                        "text/html": [
                            "<table>",
                            "<tr><th>id</th><th>name</th><th>length</th><th>album</th></tr>",
                            "<tr><td>9</td><td>Scary Monsters</td><td>232</td><td>1</td></tr>",
                            "<tr><td>11</td><td>Heroes</td><td>332</td><td>2</td></tr>",
                            "<tr><td>12</td><td>Passenger</td><td>245</td><td>4</td></tr>",
                            "<tr><td>13</td><td>Who are you this time?</td><td>305</td><td>5</td></tr>",
                            "<tr><td>16</td><td>Saint Pablo</td><td>344</td><td>13</td></tr>",
                            "<tr><td>17</td><td>Welcome to Heartbreak</td><td>190</td><td>14</td></tr>",
                            "<tr><td>18</td><td>Ромашки</td><td>190</td><td>11</td></tr>",
                            "</table>"
                        ]
                    }
                }
            ],
            "execution_count": 19
        },
        {
            "cell_type": "code",
            "source": [
                "SELECT * FROM albums\n",
                "WHERE id not in(3,6,9,12)"
            ],
            "metadata": {
                "language": "sql",
                "azdata_cell_guid": "18a9c401-f748-44fb-b8b1-60837cfd9da9"
            },
            "outputs": [
                {
                    "output_type": "display_data",
                    "data": {
                        "text/html": "(10 rows affected)"
                    },
                    "metadata": {}
                },
                {
                    "output_type": "display_data",
                    "data": {
                        "text/html": "Total execution time: 00:00:00.010"
                    },
                    "metadata": {}
                },
                {
                    "output_type": "execute_result",
                    "metadata": {},
                    "execution_count": 20,
                    "data": {
                        "application/vnd.dataresource+json": {
                            "schema": {
                                "fields": [
                                    {
                                        "name": "id"
                                    },
                                    {
                                        "name": "name"
                                    },
                                    {
                                        "name": "author"
                                    },
                                    {
                                        "name": "release"
                                    }
                                ]
                            },
                            "data": [
                                {
                                    "0": "1",
                                    "1": "Scary Monsters",
                                    "2": "2",
                                    "3": "1980-09-12"
                                },
                                {
                                    "0": "2",
                                    "1": "Heroes",
                                    "2": "2",
                                    "3": "1977-10-14"
                                },
                                {
                                    "0": "4",
                                    "1": "Lust For Life",
                                    "2": "3",
                                    "3": "1977-09-09"
                                },
                                {
                                    "0": "5",
                                    "1": "Bone Machine",
                                    "2": "5",
                                    "3": "1992-09-08"
                                },
                                {
                                    "0": "7",
                                    "1": "2004",
                                    "2": "7",
                                    "3": "2019-12-24"
                                },
                                {
                                    "0": "8",
                                    "1": "Последний Герой",
                                    "2": "8",
                                    "3": "1984-01-01"
                                },
                                {
                                    "0": "10",
                                    "1": "Прости меня моя любовь",
                                    "2": "9",
                                    "3": "2000-03-28"
                                },
                                {
                                    "0": "11",
                                    "1": "Земфира",
                                    "2": "9",
                                    "3": "1999-05-10"
                                },
                                {
                                    "0": "13",
                                    "1": "The Life of Pablo",
                                    "2": "11",
                                    "3": "2016-02-14"
                                },
                                {
                                    "0": "14",
                                    "1": "808s & Heartbreak",
                                    "2": "11",
                                    "3": "2008-11-24"
                                }
                            ]
                        },
                        "text/html": [
                            "<table>",
                            "<tr><th>id</th><th>name</th><th>author</th><th>release</th></tr>",
                            "<tr><td>1</td><td>Scary Monsters</td><td>2</td><td>1980-09-12</td></tr>",
                            "<tr><td>2</td><td>Heroes</td><td>2</td><td>1977-10-14</td></tr>",
                            "<tr><td>4</td><td>Lust For Life</td><td>3</td><td>1977-09-09</td></tr>",
                            "<tr><td>5</td><td>Bone Machine</td><td>5</td><td>1992-09-08</td></tr>",
                            "<tr><td>7</td><td>2004</td><td>7</td><td>2019-12-24</td></tr>",
                            "<tr><td>8</td><td>Последний Герой</td><td>8</td><td>1984-01-01</td></tr>",
                            "<tr><td>10</td><td>Прости меня моя любовь</td><td>9</td><td>2000-03-28</td></tr>",
                            "<tr><td>11</td><td>Земфира</td><td>9</td><td>1999-05-10</td></tr>",
                            "<tr><td>13</td><td>The Life of Pablo</td><td>11</td><td>2016-02-14</td></tr>",
                            "<tr><td>14</td><td>808s &amp; Heartbreak</td><td>11</td><td>2008-11-24</td></tr>",
                            "</table>"
                        ]
                    }
                }
            ],
            "execution_count": 20
        },
        {
            "cell_type": "code",
            "source": [
                "SELECT * from albums\n",
                "WHERE release BETWEEN '1990-01-01' AND '2000-01-01'"
            ],
            "metadata": {
                "language": "sql",
                "azdata_cell_guid": "827a4c67-9ed2-4d33-944f-cf9a25d96bda"
            },
            "outputs": [
                {
                    "output_type": "display_data",
                    "data": {
                        "text/html": "(2 rows affected)"
                    },
                    "metadata": {}
                },
                {
                    "output_type": "display_data",
                    "data": {
                        "text/html": "Total execution time: 00:00:00.010"
                    },
                    "metadata": {}
                },
                {
                    "output_type": "execute_result",
                    "metadata": {},
                    "execution_count": 21,
                    "data": {
                        "application/vnd.dataresource+json": {
                            "schema": {
                                "fields": [
                                    {
                                        "name": "id"
                                    },
                                    {
                                        "name": "name"
                                    },
                                    {
                                        "name": "author"
                                    },
                                    {
                                        "name": "release"
                                    }
                                ]
                            },
                            "data": [
                                {
                                    "0": "5",
                                    "1": "Bone Machine",
                                    "2": "5",
                                    "3": "1992-09-08"
                                },
                                {
                                    "0": "11",
                                    "1": "Земфира",
                                    "2": "9",
                                    "3": "1999-05-10"
                                }
                            ]
                        },
                        "text/html": [
                            "<table>",
                            "<tr><th>id</th><th>name</th><th>author</th><th>release</th></tr>",
                            "<tr><td>5</td><td>Bone Machine</td><td>5</td><td>1992-09-08</td></tr>",
                            "<tr><td>11</td><td>Земфира</td><td>9</td><td>1999-05-10</td></tr>",
                            "</table>"
                        ]
                    }
                }
            ],
            "execution_count": 21
        },
        {
            "cell_type": "code",
            "source": [
                "SELECT COUNT(*) as [Vinyls number] from items\n",
                "where [type] = 'Vinyl'"
            ],
            "metadata": {
                "language": "sql",
                "azdata_cell_guid": "85a1bd69-61a3-4096-9f5c-4e202148ca32",
                "tags": []
            },
            "outputs": [
                {
                    "output_type": "display_data",
                    "data": {
                        "text/html": "(1 row affected)"
                    },
                    "metadata": {}
                },
                {
                    "output_type": "display_data",
                    "data": {
                        "text/html": "Total execution time: 00:00:00.009"
                    },
                    "metadata": {}
                },
                {
                    "output_type": "execute_result",
                    "metadata": {},
                    "execution_count": 23,
                    "data": {
                        "application/vnd.dataresource+json": {
                            "schema": {
                                "fields": [
                                    {
                                        "name": "Vinyls number"
                                    }
                                ]
                            },
                            "data": [
                                {
                                    "0": "6"
                                }
                            ]
                        },
                        "text/html": [
                            "<table>",
                            "<tr><th>Vinyls number</th></tr>",
                            "<tr><td>6</td></tr>",
                            "</table>"
                        ]
                    }
                }
            ],
            "execution_count": 23
        },
        {
            "cell_type": "markdown",
            "source": [
                "## 5. Переименуйте одну из таблиц вашей БД"
            ],
            "metadata": {
                "language": "sql",
                "azdata_cell_guid": "9d831412-98dc-47fe-8e5d-4474bc0de2fe"
            },
            "attachments": {}
        },
        {
            "cell_type": "code",
            "source": [
                "exec sp_rename 'albums', 'records'\n",
                "GO"
            ],
            "metadata": {
                "language": "sql",
                "azdata_cell_guid": "9cfe9ff1-3562-4865-b61a-2e63a5a9f7a5"
            },
            "outputs": [],
            "execution_count": null
        },
        {
            "cell_type": "code",
            "source": [
                "exec sp_rename 'records', 'albums'\n",
                "GO"
            ],
            "metadata": {
                "language": "sql",
                "azdata_cell_guid": "4ecceb3d-1fa4-4cae-8ff4-e5255fb97ba4",
                "tags": [
                    "hide_input"
                ]
            },
            "outputs": [],
            "execution_count": null
        },
        {
            "cell_type": "markdown",
            "source": [
                "## 6. Добавьте по две записи в каждую из таблиц вашей БД"
            ],
            "metadata": {
                "language": "sql",
                "azdata_cell_guid": "fbe888ee-90b2-4839-876d-22db7f97e067"
            },
            "attachments": {}
        },
        {
            "cell_type": "code",
            "source": [
                "-- Insert authors\n",
                "INSERT INTO authors (name, birthday)\n",
                "VALUES \n",
                "    ('Freddie Mercury', '1946-09-05'),\n",
                "    ('Jimmy Page', '1944-01-09');\n",
                "\n",
                "-- Insert albums\n",
                "INSERT INTO albums (name, author, release)\n",
                "VALUES\n",
                "    ('A Night at the Opera', 12, '1975-11-21'),\n",
                "    ('Led Zeppelin IV', 13, '1971-11-08');\n",
                "\n",
                "-- Insert tracks\n",
                "INSERT INTO tracks (name, length, album)\n",
                "VALUES\n",
                "    ('Bohemian Rhapsody', 354, 15),\n",
                "    ('Stairway to Heaven', 482, 16);\n",
                "\n",
                "-- Insert collections\n",
                "INSERT INTO collections (started)\n",
                "VALUES ('2023-05-01'), ('2005-04-18');\n",
                "\n",
                "-- Insert items\n",
                "INSERT INTO items (album, collection, type, price)\n",
                "VALUES\n",
                "    (9, 1, 'CD', 15.99),\n",
                "    (7, 1, 'Vinyl', 24.99);\n",
                ""
            ],
            "metadata": {
                "language": "sql",
                "azdata_cell_guid": "ec1d9491-e3c4-4779-a6fd-1c911c7410df",
                "tags": []
            },
            "outputs": [],
            "execution_count": null
        }
    ]
}