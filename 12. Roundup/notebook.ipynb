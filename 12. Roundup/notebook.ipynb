{
    "metadata": {
        "kernelspec": {
            "name": "SQL",
            "display_name": "SQL",
            "language": "sql"
        },
        "language_info": {
            "name": "sql",
            "version": ""
        },
        "orig_nbformat": 4
    },
    "nbformat_minor": 2,
    "nbformat": 4,
    "cells": [
        {
            "cell_type": "markdown",
            "source": [
                "# Лабароторная работа №12\n",
                "\n",
                "Предметная область: 19. Музыкальные альбомы\n",
                "Коллекция состоит из музыкальных альбомов, которые могут быть записаны на\n",
                "Audio CD, или на жестком диске. Каждый альбом создан одним автором (исполнителем).\n",
                "У каждого исполнителя может быть несколько альбомов. Каждый альбом содержит\n",
                "несколько треков (композиций), которые имеют определенную длину и порядок в\n",
                "альбоме. Каждый трек может быть только в одном альбоме."
            ],
            "metadata": {
                "azdata_cell_guid": "589a31a3-10c5-4cea-8021-b6e3ec262ab9"
            },
            "attachments": {}
        },
        {
            "cell_type": "markdown",
            "source": [
                "## Структура БД\n",
                "\n",
                "![DB Diagram and Structure](Screenshot%20from%202023-05-18%2008-32-29.png)\n",
                "\n",
                "##  Данные в БД\n",
                "\n",
                "### Albums\n",
                "\n",
                "![Albums Data](Screenshot%20from%202023-05-18%2008-34-38.png)\n",
                "\n",
                "### Authors\n",
                "\n",
                "![Authors Data](Screenshot%20from%202023-05-18%2008-35-42.png)\n",
                "\n",
                "### Collections\n",
                "\n",
                "![Collections Data](Screenshot%20from%202023-05-18%2008-35-52.png)\n",
                "\n",
                "### Items\n",
                "\n",
                "![Items Data](Screenshot%20from%202023-05-18%2008-36-01.png)\n",
                "\n",
                "### Tracks\n",
                "\n",
                "![Tracks Data](Screenshot%20from%202023-05-18%2008-36-11.png)"
            ],
            "metadata": {
                "azdata_cell_guid": "954f656f-e7ad-46ab-aeb7-8d48db1c16fd"
            },
            "attachments": {}
        },
        {
            "cell_type": "markdown",
            "source": [
                "## 3. С помощью языка T-SQL выполнить следующие запросы:\n",
                "\n",
                "* вывести все данные из таблиц\n",
                "* вывести определенные данные, отсортированные в алфавитном порядке по\n",
                "определенному полю\n",
                "* вывести определенные данные, отсортированные в обратном алфавитном\n",
                "порядке по двум полям\n",
                "* создать вычисляемое поле, и вывести данные, убрав дубликаты\n",
                "* вывести 30% строк\n",
                "* вывести первые 5 строк\n",
                "* вывести строки начиная с 4 строки по 7 строку, отсортированные в обратном\n",
                "порядке\n",
                "* Отсортировать данные, используя в качестве критерия сортировки сложно\n",
                "выражение на основе столбцов\n",
                "* Запрос на выборку с добавлением SELECT INTO"
            ],
            "metadata": {
                "azdata_cell_guid": "ab8c99a5-822a-4214-a1d1-65090d806a32"
            },
            "attachments": {}
        },
        {
            "cell_type": "code",
            "source": [
                "-- Select all data from the authors table\n",
                "SELECT * FROM authors;\n",
                "\n",
                "-- Select all data from the albums table\n",
                "SELECT * FROM albums;\n",
                "\n",
                "-- Select all data from the tracks table\n",
                "SELECT * FROM tracks;\n",
                "\n",
                "-- Select all data from the collections table\n",
                "SELECT * FROM collections;\n",
                "\n",
                "-- Select all data from the items table\n",
                "SELECT * FROM items;"
            ],
            "metadata": {
                "azdata_cell_guid": "bb0664f4-8a17-485a-adef-4b26d4e587f6",
                "language": "sql",
                "tags": []
            },
            "outputs": [
                {
                    "output_type": "display_data",
                    "data": {
                        "text/html": "(10 rows affected)"
                    },
                    "metadata": {}
                },
                {
                    "output_type": "display_data",
                    "data": {
                        "text/html": "(14 rows affected)"
                    },
                    "metadata": {}
                },
                {
                    "output_type": "display_data",
                    "data": {
                        "text/html": "(11 rows affected)"
                    },
                    "metadata": {}
                },
                {
                    "output_type": "display_data",
                    "data": {
                        "text/html": "(10 rows affected)"
                    },
                    "metadata": {}
                },
                {
                    "output_type": "display_data",
                    "data": {
                        "text/html": "(15 rows affected)"
                    },
                    "metadata": {}
                },
                {
                    "output_type": "display_data",
                    "data": {
                        "text/html": "Total execution time: 00:00:00.022"
                    },
                    "metadata": {}
                },
                {
                    "output_type": "execute_result",
                    "execution_count": 24,
                    "data": {
                        "application/vnd.dataresource+json": {
                            "schema": {
                                "fields": [
                                    {
                                        "name": "id"
                                    },
                                    {
                                        "name": "name"
                                    },
                                    {
                                        "name": "birthday"
                                    }
                                ]
                            },
                            "data": [
                                {
                                    "0": "2",
                                    "1": "David Bowie",
                                    "2": "1947-01-08"
                                },
                                {
                                    "0": "3",
                                    "1": "Iggy Pop",
                                    "2": "1947-04-21"
                                },
                                {
                                    "0": "4",
                                    "1": "Lou Reed",
                                    "2": "1942-03-02"
                                },
                                {
                                    "0": "5",
                                    "1": "Tom Waits",
                                    "2": "1949-12-07"
                                },
                                {
                                    "0": "6",
                                    "1": "Stromae",
                                    "2": "1985-03-12"
                                },
                                {
                                    "0": "7",
                                    "1": "Скриптонит",
                                    "2": "1990-06-03"
                                },
                                {
                                    "0": "8",
                                    "1": "Виктор Цой",
                                    "2": "1962-06-21"
                                },
                                {
                                    "0": "9",
                                    "1": "Земфира",
                                    "2": "1976-08-26"
                                },
                                {
                                    "0": "10",
                                    "1": "Jim Morrison",
                                    "2": "1943-12-08"
                                },
                                {
                                    "0": "11",
                                    "1": "Kanye West",
                                    "2": "1977-06-08"
                                }
                            ]
                        },
                        "text/html": "<table><tr><th>id</th><th>name</th><th>birthday</th></tr><tr><td>2</td><td>David Bowie</td><td>1947-01-08</td></tr><tr><td>3</td><td>Iggy Pop</td><td>1947-04-21</td></tr><tr><td>4</td><td>Lou Reed</td><td>1942-03-02</td></tr><tr><td>5</td><td>Tom Waits</td><td>1949-12-07</td></tr><tr><td>6</td><td>Stromae</td><td>1985-03-12</td></tr><tr><td>7</td><td>Скриптонит</td><td>1990-06-03</td></tr><tr><td>8</td><td>Виктор Цой</td><td>1962-06-21</td></tr><tr><td>9</td><td>Земфира</td><td>1976-08-26</td></tr><tr><td>10</td><td>Jim Morrison</td><td>1943-12-08</td></tr><tr><td>11</td><td>Kanye West</td><td>1977-06-08</td></tr></table>"
                    },
                    "metadata": {}
                },
                {
                    "output_type": "execute_result",
                    "execution_count": 24,
                    "data": {
                        "application/vnd.dataresource+json": {
                            "schema": {
                                "fields": [
                                    {
                                        "name": "id"
                                    },
                                    {
                                        "name": "name"
                                    },
                                    {
                                        "name": "author"
                                    },
                                    {
                                        "name": "release"
                                    }
                                ]
                            },
                            "data": [
                                {
                                    "0": "1",
                                    "1": "Scary Monsters",
                                    "2": "2",
                                    "3": "1980-09-12"
                                },
                                {
                                    "0": "2",
                                    "1": "Heroes",
                                    "2": "2",
                                    "3": "1977-10-14"
                                },
                                {
                                    "0": "3",
                                    "1": "Transformer",
                                    "2": "4",
                                    "3": "1972-11-08"
                                },
                                {
                                    "0": "4",
                                    "1": "Lust For Life",
                                    "2": "3",
                                    "3": "1977-09-09"
                                },
                                {
                                    "0": "5",
                                    "1": "Bone Machine",
                                    "2": "5",
                                    "3": "1992-09-08"
                                },
                                {
                                    "0": "6",
                                    "1": "Stromae",
                                    "2": "6",
                                    "3": "2022-03-04"
                                },
                                {
                                    "0": "7",
                                    "1": "2004",
                                    "2": "7",
                                    "3": "2019-12-24"
                                },
                                {
                                    "0": "8",
                                    "1": "Последний Герой",
                                    "2": "8",
                                    "3": "1984-01-01"
                                },
                                {
                                    "0": "9",
                                    "1": "45",
                                    "2": "8",
                                    "3": "1982-07-22"
                                },
                                {
                                    "0": "10",
                                    "1": "Прости меня моя любовь",
                                    "2": "9",
                                    "3": "2000-03-28"
                                },
                                {
                                    "0": "11",
                                    "1": "Земфира",
                                    "2": "9",
                                    "3": "1999-05-10"
                                },
                                {
                                    "0": "12",
                                    "1": "Вендетта",
                                    "2": "9",
                                    "3": "2005-03-01"
                                },
                                {
                                    "0": "13",
                                    "1": "The Life of Pablo",
                                    "2": "11",
                                    "3": "2016-02-14"
                                },
                                {
                                    "0": "14",
                                    "1": "808s & Heartbreak",
                                    "2": "11",
                                    "3": "2008-11-24"
                                }
                            ]
                        },
                        "text/html": "<table><tr><th>id</th><th>name</th><th>author</th><th>release</th></tr><tr><td>1</td><td>Scary Monsters</td><td>2</td><td>1980-09-12</td></tr><tr><td>2</td><td>Heroes</td><td>2</td><td>1977-10-14</td></tr><tr><td>3</td><td>Transformer</td><td>4</td><td>1972-11-08</td></tr><tr><td>4</td><td>Lust For Life</td><td>3</td><td>1977-09-09</td></tr><tr><td>5</td><td>Bone Machine</td><td>5</td><td>1992-09-08</td></tr><tr><td>6</td><td>Stromae</td><td>6</td><td>2022-03-04</td></tr><tr><td>7</td><td>2004</td><td>7</td><td>2019-12-24</td></tr><tr><td>8</td><td>Последний Герой</td><td>8</td><td>1984-01-01</td></tr><tr><td>9</td><td>45</td><td>8</td><td>1982-07-22</td></tr><tr><td>10</td><td>Прости меня моя любовь</td><td>9</td><td>2000-03-28</td></tr><tr><td>11</td><td>Земфира</td><td>9</td><td>1999-05-10</td></tr><tr><td>12</td><td>Вендетта</td><td>9</td><td>2005-03-01</td></tr><tr><td>13</td><td>The Life of Pablo</td><td>11</td><td>2016-02-14</td></tr><tr><td>14</td><td>808s &amp; Heartbreak</td><td>11</td><td>2008-11-24</td></tr></table>"
                    },
                    "metadata": {}
                },
                {
                    "output_type": "execute_result",
                    "execution_count": 24,
                    "data": {
                        "application/vnd.dataresource+json": {
                            "schema": {
                                "fields": [
                                    {
                                        "name": "id"
                                    },
                                    {
                                        "name": "name"
                                    },
                                    {
                                        "name": "length"
                                    },
                                    {
                                        "name": "album"
                                    }
                                ]
                            },
                            "data": [
                                {
                                    "0": "9",
                                    "1": "Scary Monsters",
                                    "2": "232",
                                    "3": "1"
                                },
                                {
                                    "0": "10",
                                    "1": "Ashes to Ashes",
                                    "2": "133",
                                    "3": "1"
                                },
                                {
                                    "0": "11",
                                    "1": "Heroes",
                                    "2": "332",
                                    "3": "2"
                                },
                                {
                                    "0": "12",
                                    "1": "Passenger",
                                    "2": "245",
                                    "3": "4"
                                },
                                {
                                    "0": "13",
                                    "1": "Who are you this time?",
                                    "2": "305",
                                    "3": "5"
                                },
                                {
                                    "0": "14",
                                    "1": "Бездельник №1",
                                    "2": "155",
                                    "3": "9"
                                },
                                {
                                    "0": "15",
                                    "1": "Бездельник №2",
                                    "2": "177",
                                    "3": "9"
                                },
                                {
                                    "0": "16",
                                    "1": "Saint Pablo",
                                    "2": "344",
                                    "3": "13"
                                },
                                {
                                    "0": "17",
                                    "1": "Welcome to Heartbreak",
                                    "2": "190",
                                    "3": "14"
                                },
                                {
                                    "0": "18",
                                    "1": "Ромашки",
                                    "2": "190",
                                    "3": "11"
                                },
                                {
                                    "0": "19",
                                    "1": "Сердца из железа",
                                    "2": "119",
                                    "3": "7"
                                }
                            ]
                        },
                        "text/html": "<table><tr><th>id</th><th>name</th><th>length</th><th>album</th></tr><tr><td>9</td><td>Scary Monsters</td><td>232</td><td>1</td></tr><tr><td>10</td><td>Ashes to Ashes</td><td>133</td><td>1</td></tr><tr><td>11</td><td>Heroes</td><td>332</td><td>2</td></tr><tr><td>12</td><td>Passenger</td><td>245</td><td>4</td></tr><tr><td>13</td><td>Who are you this time?</td><td>305</td><td>5</td></tr><tr><td>14</td><td>Бездельник №1</td><td>155</td><td>9</td></tr><tr><td>15</td><td>Бездельник №2</td><td>177</td><td>9</td></tr><tr><td>16</td><td>Saint Pablo</td><td>344</td><td>13</td></tr><tr><td>17</td><td>Welcome to Heartbreak</td><td>190</td><td>14</td></tr><tr><td>18</td><td>Ромашки</td><td>190</td><td>11</td></tr><tr><td>19</td><td>Сердца из железа</td><td>119</td><td>7</td></tr></table>"
                    },
                    "metadata": {}
                },
                {
                    "output_type": "execute_result",
                    "execution_count": 24,
                    "data": {
                        "application/vnd.dataresource+json": {
                            "schema": {
                                "fields": [
                                    {
                                        "name": "id"
                                    },
                                    {
                                        "name": "started"
                                    }
                                ]
                            },
                            "data": [
                                {
                                    "0": "1",
                                    "1": "2004-03-30"
                                },
                                {
                                    "0": "2",
                                    "1": "NULL"
                                },
                                {
                                    "0": "3",
                                    "1": "2023-03-16"
                                },
                                {
                                    "0": "4",
                                    "1": "1973-10-10"
                                },
                                {
                                    "0": "5",
                                    "1": "2020-04-01"
                                },
                                {
                                    "0": "6",
                                    "1": "2003-04-18"
                                },
                                {
                                    "0": "7",
                                    "1": "2011-09-11"
                                },
                                {
                                    "0": "8",
                                    "1": "1976-06-06"
                                },
                                {
                                    "0": "9",
                                    "1": "1968-11-22"
                                },
                                {
                                    "0": "10",
                                    "1": "2000-01-01"
                                }
                            ]
                        },
                        "text/html": "<table><tr><th>id</th><th>started</th></tr><tr><td>1</td><td>2004-03-30</td></tr><tr><td>2</td><td>NULL</td></tr><tr><td>3</td><td>2023-03-16</td></tr><tr><td>4</td><td>1973-10-10</td></tr><tr><td>5</td><td>2020-04-01</td></tr><tr><td>6</td><td>2003-04-18</td></tr><tr><td>7</td><td>2011-09-11</td></tr><tr><td>8</td><td>1976-06-06</td></tr><tr><td>9</td><td>1968-11-22</td></tr><tr><td>10</td><td>2000-01-01</td></tr></table>"
                    },
                    "metadata": {}
                },
                {
                    "output_type": "execute_result",
                    "execution_count": 24,
                    "data": {
                        "application/vnd.dataresource+json": {
                            "schema": {
                                "fields": [
                                    {
                                        "name": "id"
                                    },
                                    {
                                        "name": "album"
                                    },
                                    {
                                        "name": "collection"
                                    },
                                    {
                                        "name": "type"
                                    },
                                    {
                                        "name": "price"
                                    }
                                ]
                            },
                            "data": [
                                {
                                    "0": "1",
                                    "1": "1",
                                    "2": "3",
                                    "3": "Vinyl",
                                    "4": "30.00"
                                },
                                {
                                    "0": "2",
                                    "1": "1",
                                    "2": "3",
                                    "3": "Tape",
                                    "4": "20.00"
                                },
                                {
                                    "0": "3",
                                    "1": "1",
                                    "2": "3",
                                    "3": "Digital",
                                    "4": "4.00"
                                },
                                {
                                    "0": "4",
                                    "1": "2",
                                    "2": "1",
                                    "3": "Vinyl",
                                    "4": "35.00"
                                },
                                {
                                    "0": "5",
                                    "1": "5",
                                    "2": "7",
                                    "3": "CD",
                                    "4": "25.00"
                                },
                                {
                                    "0": "6",
                                    "1": "9",
                                    "2": "9",
                                    "3": "CD",
                                    "4": "23.00"
                                },
                                {
                                    "0": "7",
                                    "1": "7",
                                    "2": "2",
                                    "3": "Digital",
                                    "4": "2.00"
                                },
                                {
                                    "0": "8",
                                    "1": "10",
                                    "2": "2",
                                    "3": "Digital",
                                    "4": "1.00"
                                },
                                {
                                    "0": "9",
                                    "1": "11",
                                    "2": "2",
                                    "3": "Digital",
                                    "4": "0.33"
                                },
                                {
                                    "0": "10",
                                    "1": "8",
                                    "2": "5",
                                    "3": "Tape",
                                    "4": "15.00"
                                },
                                {
                                    "0": "11",
                                    "1": "9",
                                    "2": "5",
                                    "3": "Tape",
                                    "4": "12.50"
                                },
                                {
                                    "0": "12",
                                    "1": "13",
                                    "2": "6",
                                    "3": "Vinyl",
                                    "4": "100.00"
                                },
                                {
                                    "0": "13",
                                    "1": "14",
                                    "2": "6",
                                    "3": "Vinyl",
                                    "4": "80.00"
                                },
                                {
                                    "0": "14",
                                    "1": "5",
                                    "2": "6",
                                    "3": "Vinyl",
                                    "4": "300.00"
                                },
                                {
                                    "0": "15",
                                    "1": "4",
                                    "2": "6",
                                    "3": "Vinyl",
                                    "4": "30.00"
                                }
                            ]
                        },
                        "text/html": "<table><tr><th>id</th><th>album</th><th>collection</th><th>type</th><th>price</th></tr><tr><td>1</td><td>1</td><td>3</td><td>Vinyl</td><td>30.00</td></tr><tr><td>2</td><td>1</td><td>3</td><td>Tape</td><td>20.00</td></tr><tr><td>3</td><td>1</td><td>3</td><td>Digital</td><td>4.00</td></tr><tr><td>4</td><td>2</td><td>1</td><td>Vinyl</td><td>35.00</td></tr><tr><td>5</td><td>5</td><td>7</td><td>CD</td><td>25.00</td></tr><tr><td>6</td><td>9</td><td>9</td><td>CD</td><td>23.00</td></tr><tr><td>7</td><td>7</td><td>2</td><td>Digital</td><td>2.00</td></tr><tr><td>8</td><td>10</td><td>2</td><td>Digital</td><td>1.00</td></tr><tr><td>9</td><td>11</td><td>2</td><td>Digital</td><td>0.33</td></tr><tr><td>10</td><td>8</td><td>5</td><td>Tape</td><td>15.00</td></tr><tr><td>11</td><td>9</td><td>5</td><td>Tape</td><td>12.50</td></tr><tr><td>12</td><td>13</td><td>6</td><td>Vinyl</td><td>100.00</td></tr><tr><td>13</td><td>14</td><td>6</td><td>Vinyl</td><td>80.00</td></tr><tr><td>14</td><td>5</td><td>6</td><td>Vinyl</td><td>300.00</td></tr><tr><td>15</td><td>4</td><td>6</td><td>Vinyl</td><td>30.00</td></tr></table>"
                    },
                    "metadata": {}
                }
            ],
            "execution_count": 24
        },
        {
            "cell_type": "code",
            "source": [
                "SELECT * FROM albums\n",
                "ORDER BY name"
            ],
            "metadata": {
                "azdata_cell_guid": "655149d2-a902-4907-b6d6-2607cd39d2fc",
                "language": "sql"
            },
            "outputs": [
                {
                    "output_type": "display_data",
                    "data": {
                        "text/html": "(14 rows affected)"
                    },
                    "metadata": {}
                },
                {
                    "output_type": "display_data",
                    "data": {
                        "text/html": "Total execution time: 00:00:00.011"
                    },
                    "metadata": {}
                },
                {
                    "output_type": "execute_result",
                    "execution_count": 4,
                    "data": {
                        "application/vnd.dataresource+json": {
                            "schema": {
                                "fields": [
                                    {
                                        "name": "id"
                                    },
                                    {
                                        "name": "name"
                                    },
                                    {
                                        "name": "author"
                                    },
                                    {
                                        "name": "release"
                                    }
                                ]
                            },
                            "data": [
                                {
                                    "0": "7",
                                    "1": "2004",
                                    "2": "7",
                                    "3": "2019-12-24"
                                },
                                {
                                    "0": "9",
                                    "1": "45",
                                    "2": "8",
                                    "3": "1982-07-22"
                                },
                                {
                                    "0": "14",
                                    "1": "808s & Heartbreak",
                                    "2": "11",
                                    "3": "2008-11-24"
                                },
                                {
                                    "0": "5",
                                    "1": "Bone Machine",
                                    "2": "5",
                                    "3": "1992-09-08"
                                },
                                {
                                    "0": "2",
                                    "1": "Heroes",
                                    "2": "2",
                                    "3": "1977-10-14"
                                },
                                {
                                    "0": "4",
                                    "1": "Lust For Life",
                                    "2": "3",
                                    "3": "1977-09-09"
                                },
                                {
                                    "0": "1",
                                    "1": "Scary Monsters",
                                    "2": "2",
                                    "3": "1980-09-12"
                                },
                                {
                                    "0": "6",
                                    "1": "Stromae",
                                    "2": "6",
                                    "3": "2022-03-04"
                                },
                                {
                                    "0": "13",
                                    "1": "The Life of Pablo",
                                    "2": "11",
                                    "3": "2016-02-14"
                                },
                                {
                                    "0": "3",
                                    "1": "Transformer",
                                    "2": "4",
                                    "3": "1972-11-08"
                                },
                                {
                                    "0": "12",
                                    "1": "Вендетта",
                                    "2": "9",
                                    "3": "2005-03-01"
                                },
                                {
                                    "0": "11",
                                    "1": "Земфира",
                                    "2": "9",
                                    "3": "1999-05-10"
                                },
                                {
                                    "0": "8",
                                    "1": "Последний Герой",
                                    "2": "8",
                                    "3": "1984-01-01"
                                },
                                {
                                    "0": "10",
                                    "1": "Прости меня моя любовь",
                                    "2": "9",
                                    "3": "2000-03-28"
                                }
                            ]
                        },
                        "text/html": "<table><tr><th>id</th><th>name</th><th>author</th><th>release</th></tr><tr><td>7</td><td>2004</td><td>7</td><td>2019-12-24</td></tr><tr><td>9</td><td>45</td><td>8</td><td>1982-07-22</td></tr><tr><td>14</td><td>808s &amp; Heartbreak</td><td>11</td><td>2008-11-24</td></tr><tr><td>5</td><td>Bone Machine</td><td>5</td><td>1992-09-08</td></tr><tr><td>2</td><td>Heroes</td><td>2</td><td>1977-10-14</td></tr><tr><td>4</td><td>Lust For Life</td><td>3</td><td>1977-09-09</td></tr><tr><td>1</td><td>Scary Monsters</td><td>2</td><td>1980-09-12</td></tr><tr><td>6</td><td>Stromae</td><td>6</td><td>2022-03-04</td></tr><tr><td>13</td><td>The Life of Pablo</td><td>11</td><td>2016-02-14</td></tr><tr><td>3</td><td>Transformer</td><td>4</td><td>1972-11-08</td></tr><tr><td>12</td><td>Вендетта</td><td>9</td><td>2005-03-01</td></tr><tr><td>11</td><td>Земфира</td><td>9</td><td>1999-05-10</td></tr><tr><td>8</td><td>Последний Герой</td><td>8</td><td>1984-01-01</td></tr><tr><td>10</td><td>Прости меня моя любовь</td><td>9</td><td>2000-03-28</td></tr></table>"
                    },
                    "metadata": {}
                }
            ],
            "execution_count": 4
        },
        {
            "cell_type": "code",
            "source": [
                "SELECT * FROM tracks\n",
                "ORDER BY name, length"
            ],
            "metadata": {
                "language": "sql",
                "azdata_cell_guid": "c6095a46-0f65-42a0-b6b3-61250f425e7b"
            },
            "outputs": [],
            "execution_count": null
        },
        {
            "cell_type": "code",
            "source": [
                "SELECT FLOOR(length / 60) AS [Length in minutes]\n",
                "from tracks"
            ],
            "metadata": {
                "language": "sql",
                "azdata_cell_guid": "56e30294-bb59-4942-acda-430e54debc11"
            },
            "outputs": [
                {
                    "output_type": "display_data",
                    "data": {
                        "text/html": "(11 rows affected)"
                    },
                    "metadata": {}
                },
                {
                    "output_type": "display_data",
                    "data": {
                        "text/html": "Total execution time: 00:00:00.012"
                    },
                    "metadata": {}
                },
                {
                    "output_type": "execute_result",
                    "execution_count": 2,
                    "data": {
                        "application/vnd.dataresource+json": {
                            "schema": {
                                "fields": [
                                    {
                                        "name": "Length in minutes"
                                    }
                                ]
                            },
                            "data": [
                                {
                                    "0": "3"
                                },
                                {
                                    "0": "2"
                                },
                                {
                                    "0": "5"
                                },
                                {
                                    "0": "4"
                                },
                                {
                                    "0": "5"
                                },
                                {
                                    "0": "2"
                                },
                                {
                                    "0": "2"
                                },
                                {
                                    "0": "5"
                                },
                                {
                                    "0": "3"
                                },
                                {
                                    "0": "3"
                                },
                                {
                                    "0": "1"
                                }
                            ]
                        },
                        "text/html": "<table><tr><th>Length in minutes</th></tr><tr><td>3</td></tr><tr><td>2</td></tr><tr><td>5</td></tr><tr><td>4</td></tr><tr><td>5</td></tr><tr><td>2</td></tr><tr><td>2</td></tr><tr><td>5</td></tr><tr><td>3</td></tr><tr><td>3</td></tr><tr><td>1</td></tr></table>"
                    },
                    "metadata": {}
                }
            ],
            "execution_count": 2
        },
        {
            "cell_type": "code",
            "source": [
                "SELECT TOP 30 PERCENT * FROM items"
            ],
            "metadata": {
                "language": "sql",
                "azdata_cell_guid": "f00bce1a-13eb-418a-aad0-50b750e79ce4"
            },
            "outputs": [],
            "execution_count": null
        },
        {
            "cell_type": "code",
            "source": [
                "SELECT TOP 5 * from collections"
            ],
            "metadata": {
                "language": "sql",
                "azdata_cell_guid": "951e10b8-8680-43cb-9f6f-546567626887"
            },
            "outputs": [],
            "execution_count": null
        },
        {
            "cell_type": "code",
            "source": [
                "SELECT *\n",
                "    FROM tracks\n",
                "    ORDER BY name DESC\n",
                "    OFFSET 3 ROWS\n",
                "    FETCH NEXT 4 ROWS ONLY"
            ],
            "metadata": {
                "language": "sql",
                "azdata_cell_guid": "b5208578-b030-4af2-b075-52386500c0a6"
            },
            "outputs": [
                {
                    "output_type": "display_data",
                    "data": {
                        "text/html": "(4 rows affected)"
                    },
                    "metadata": {}
                },
                {
                    "output_type": "display_data",
                    "data": {
                        "text/html": "Total execution time: 00:00:00.016"
                    },
                    "metadata": {}
                },
                {
                    "output_type": "execute_result",
                    "execution_count": 3,
                    "data": {
                        "application/vnd.dataresource+json": {
                            "schema": {
                                "fields": [
                                    {
                                        "name": "id"
                                    },
                                    {
                                        "name": "name"
                                    },
                                    {
                                        "name": "length"
                                    },
                                    {
                                        "name": "album"
                                    }
                                ]
                            },
                            "data": [
                                {
                                    "0": "14",
                                    "1": "Бездельник №1",
                                    "2": "155",
                                    "3": "9"
                                },
                                {
                                    "0": "13",
                                    "1": "Who are you this time?",
                                    "2": "305",
                                    "3": "5"
                                },
                                {
                                    "0": "17",
                                    "1": "Welcome to Heartbreak",
                                    "2": "190",
                                    "3": "14"
                                },
                                {
                                    "0": "9",
                                    "1": "Scary Monsters",
                                    "2": "232",
                                    "3": "1"
                                }
                            ]
                        },
                        "text/html": "<table><tr><th>id</th><th>name</th><th>length</th><th>album</th></tr><tr><td>14</td><td>Бездельник №1</td><td>155</td><td>9</td></tr><tr><td>13</td><td>Who are you this time?</td><td>305</td><td>5</td></tr><tr><td>17</td><td>Welcome to Heartbreak</td><td>190</td><td>14</td></tr><tr><td>9</td><td>Scary Monsters</td><td>232</td><td>1</td></tr></table>"
                    },
                    "metadata": {}
                }
            ],
            "execution_count": 3
        },
        {
            "cell_type": "code",
            "source": [
                "select * from authors\n",
                "order by name + REVERSE(name)"
            ],
            "metadata": {
                "language": "sql",
                "azdata_cell_guid": "64fdd3a0-5a2b-4bc6-8640-a95bb7509acd"
            },
            "outputs": [
                {
                    "output_type": "display_data",
                    "data": {
                        "text/html": "(10 rows affected)"
                    },
                    "metadata": {}
                },
                {
                    "output_type": "display_data",
                    "data": {
                        "text/html": "Total execution time: 00:00:00.008"
                    },
                    "metadata": {}
                },
                {
                    "output_type": "execute_result",
                    "execution_count": 5,
                    "data": {
                        "application/vnd.dataresource+json": {
                            "schema": {
                                "fields": [
                                    {
                                        "name": "id"
                                    },
                                    {
                                        "name": "name"
                                    },
                                    {
                                        "name": "birthday"
                                    }
                                ]
                            },
                            "data": [
                                {
                                    "0": "2",
                                    "1": "David Bowie",
                                    "2": "1947-01-08"
                                },
                                {
                                    "0": "3",
                                    "1": "Iggy Pop",
                                    "2": "1947-04-21"
                                },
                                {
                                    "0": "10",
                                    "1": "Jim Morrison",
                                    "2": "1943-12-08"
                                },
                                {
                                    "0": "11",
                                    "1": "Kanye West",
                                    "2": "1977-06-08"
                                },
                                {
                                    "0": "4",
                                    "1": "Lou Reed",
                                    "2": "1942-03-02"
                                },
                                {
                                    "0": "6",
                                    "1": "Stromae",
                                    "2": "1985-03-12"
                                },
                                {
                                    "0": "5",
                                    "1": "Tom Waits",
                                    "2": "1949-12-07"
                                },
                                {
                                    "0": "8",
                                    "1": "Виктор Цой",
                                    "2": "1962-06-21"
                                },
                                {
                                    "0": "9",
                                    "1": "Земфира",
                                    "2": "1976-08-26"
                                },
                                {
                                    "0": "7",
                                    "1": "Скриптонит",
                                    "2": "1990-06-03"
                                }
                            ]
                        },
                        "text/html": "<table><tr><th>id</th><th>name</th><th>birthday</th></tr><tr><td>2</td><td>David Bowie</td><td>1947-01-08</td></tr><tr><td>3</td><td>Iggy Pop</td><td>1947-04-21</td></tr><tr><td>10</td><td>Jim Morrison</td><td>1943-12-08</td></tr><tr><td>11</td><td>Kanye West</td><td>1977-06-08</td></tr><tr><td>4</td><td>Lou Reed</td><td>1942-03-02</td></tr><tr><td>6</td><td>Stromae</td><td>1985-03-12</td></tr><tr><td>5</td><td>Tom Waits</td><td>1949-12-07</td></tr><tr><td>8</td><td>Виктор Цой</td><td>1962-06-21</td></tr><tr><td>9</td><td>Земфира</td><td>1976-08-26</td></tr><tr><td>7</td><td>Скриптонит</td><td>1990-06-03</td></tr></table>"
                    },
                    "metadata": {}
                }
            ],
            "execution_count": 5
        },
        {
            "cell_type": "code",
            "source": [
                "IF OBJECT_ID('dbo.albums_authors', 'U') IS NOT NULL\n",
                "    DROP TABLE albums_authors\n",
                "SELECT \n",
                "\talbums.id, \n",
                "\talbums.name, \n",
                "\talbums.release,\n",
                "\tauthors.name as [Author name],\n",
                "\tauthors.birthday [Author birthday]\n",
                "INTO albums_authors\n",
                "FROM albums, authors\n",
                "WHERE albums.author = authors.id\n",
                "\n",
                "SELECT * FROM albums_authors"
            ],
            "metadata": {
                "language": "sql",
                "azdata_cell_guid": "a52732db-0913-4ce6-9137-5e0091a23da8",
                "tags": []
            },
            "outputs": [
                {
                    "output_type": "display_data",
                    "data": {
                        "text/html": "(14 rows affected)"
                    },
                    "metadata": {}
                },
                {
                    "output_type": "display_data",
                    "data": {
                        "text/html": "(14 rows affected)"
                    },
                    "metadata": {}
                },
                {
                    "output_type": "display_data",
                    "data": {
                        "text/html": "Total execution time: 00:00:00.042"
                    },
                    "metadata": {}
                },
                {
                    "output_type": "execute_result",
                    "execution_count": 13,
                    "data": {
                        "application/vnd.dataresource+json": {
                            "schema": {
                                "fields": [
                                    {
                                        "name": "id"
                                    },
                                    {
                                        "name": "name"
                                    },
                                    {
                                        "name": "release"
                                    },
                                    {
                                        "name": "Author name"
                                    },
                                    {
                                        "name": "Author birthday"
                                    }
                                ]
                            },
                            "data": [
                                {
                                    "0": "1",
                                    "1": "Scary Monsters",
                                    "2": "1980-09-12",
                                    "3": "David Bowie",
                                    "4": "1947-01-08"
                                },
                                {
                                    "0": "2",
                                    "1": "Heroes",
                                    "2": "1977-10-14",
                                    "3": "David Bowie",
                                    "4": "1947-01-08"
                                },
                                {
                                    "0": "3",
                                    "1": "Transformer",
                                    "2": "1972-11-08",
                                    "3": "Lou Reed",
                                    "4": "1942-03-02"
                                },
                                {
                                    "0": "4",
                                    "1": "Lust For Life",
                                    "2": "1977-09-09",
                                    "3": "Iggy Pop",
                                    "4": "1947-04-21"
                                },
                                {
                                    "0": "5",
                                    "1": "Bone Machine",
                                    "2": "1992-09-08",
                                    "3": "Tom Waits",
                                    "4": "1949-12-07"
                                },
                                {
                                    "0": "6",
                                    "1": "Stromae",
                                    "2": "2022-03-04",
                                    "3": "Stromae",
                                    "4": "1985-03-12"
                                },
                                {
                                    "0": "7",
                                    "1": "2004",
                                    "2": "2019-12-24",
                                    "3": "Скриптонит",
                                    "4": "1990-06-03"
                                },
                                {
                                    "0": "8",
                                    "1": "Последний Герой",
                                    "2": "1984-01-01",
                                    "3": "Виктор Цой",
                                    "4": "1962-06-21"
                                },
                                {
                                    "0": "9",
                                    "1": "45",
                                    "2": "1982-07-22",
                                    "3": "Виктор Цой",
                                    "4": "1962-06-21"
                                },
                                {
                                    "0": "10",
                                    "1": "Прости меня моя любовь",
                                    "2": "2000-03-28",
                                    "3": "Земфира",
                                    "4": "1976-08-26"
                                },
                                {
                                    "0": "11",
                                    "1": "Земфира",
                                    "2": "1999-05-10",
                                    "3": "Земфира",
                                    "4": "1976-08-26"
                                },
                                {
                                    "0": "12",
                                    "1": "Вендетта",
                                    "2": "2005-03-01",
                                    "3": "Земфира",
                                    "4": "1976-08-26"
                                },
                                {
                                    "0": "13",
                                    "1": "The Life of Pablo",
                                    "2": "2016-02-14",
                                    "3": "Kanye West",
                                    "4": "1977-06-08"
                                },
                                {
                                    "0": "14",
                                    "1": "808s & Heartbreak",
                                    "2": "2008-11-24",
                                    "3": "Kanye West",
                                    "4": "1977-06-08"
                                }
                            ]
                        },
                        "text/html": "<table><tr><th>id</th><th>name</th><th>release</th><th>Author name</th><th>Author birthday</th></tr><tr><td>1</td><td>Scary Monsters</td><td>1980-09-12</td><td>David Bowie</td><td>1947-01-08</td></tr><tr><td>2</td><td>Heroes</td><td>1977-10-14</td><td>David Bowie</td><td>1947-01-08</td></tr><tr><td>3</td><td>Transformer</td><td>1972-11-08</td><td>Lou Reed</td><td>1942-03-02</td></tr><tr><td>4</td><td>Lust For Life</td><td>1977-09-09</td><td>Iggy Pop</td><td>1947-04-21</td></tr><tr><td>5</td><td>Bone Machine</td><td>1992-09-08</td><td>Tom Waits</td><td>1949-12-07</td></tr><tr><td>6</td><td>Stromae</td><td>2022-03-04</td><td>Stromae</td><td>1985-03-12</td></tr><tr><td>7</td><td>2004</td><td>2019-12-24</td><td>Скриптонит</td><td>1990-06-03</td></tr><tr><td>8</td><td>Последний Герой</td><td>1984-01-01</td><td>Виктор Цой</td><td>1962-06-21</td></tr><tr><td>9</td><td>45</td><td>1982-07-22</td><td>Виктор Цой</td><td>1962-06-21</td></tr><tr><td>10</td><td>Прости меня моя любовь</td><td>2000-03-28</td><td>Земфира</td><td>1976-08-26</td></tr><tr><td>11</td><td>Земфира</td><td>1999-05-10</td><td>Земфира</td><td>1976-08-26</td></tr><tr><td>12</td><td>Вендетта</td><td>2005-03-01</td><td>Земфира</td><td>1976-08-26</td></tr><tr><td>13</td><td>The Life of Pablo</td><td>2016-02-14</td><td>Kanye West</td><td>1977-06-08</td></tr><tr><td>14</td><td>808s &amp; Heartbreak</td><td>2008-11-24</td><td>Kanye West</td><td>1977-06-08</td></tr></table>"
                    },
                    "metadata": {}
                }
            ],
            "execution_count": 13
        },
        {
            "cell_type": "markdown",
            "source": [
                "## 4. С помощью языка T-SQL написать и выполнить 7 запросов на фильтрацию данных с использованием в запросах операторов сравнения, логических операторов"
            ],
            "metadata": {
                "language": "sql",
                "azdata_cell_guid": "4404e7e1-8b63-4c38-9c8d-492871726020"
            },
            "attachments": {}
        },
        {
            "cell_type": "code",
            "source": [
                "SELECT * FROM authors\n",
                "WHERE id = 3"
            ],
            "metadata": {
                "language": "sql",
                "azdata_cell_guid": "0484fb13-ce6e-4379-9594-803a418e62d2"
            },
            "outputs": [
                {
                    "output_type": "display_data",
                    "data": {
                        "text/html": "(1 row affected)"
                    },
                    "metadata": {}
                },
                {
                    "output_type": "display_data",
                    "data": {
                        "text/html": "Total execution time: 00:00:00.009"
                    },
                    "metadata": {}
                },
                {
                    "output_type": "execute_result",
                    "execution_count": 15,
                    "data": {
                        "application/vnd.dataresource+json": {
                            "schema": {
                                "fields": [
                                    {
                                        "name": "id"
                                    },
                                    {
                                        "name": "name"
                                    },
                                    {
                                        "name": "birthday"
                                    }
                                ]
                            },
                            "data": [
                                {
                                    "0": "3",
                                    "1": "Iggy Pop",
                                    "2": "1947-04-21"
                                }
                            ]
                        },
                        "text/html": "<table><tr><th>id</th><th>name</th><th>birthday</th></tr><tr><td>3</td><td>Iggy Pop</td><td>1947-04-21</td></tr></table>"
                    },
                    "metadata": {}
                }
            ],
            "execution_count": 15
        },
        {
            "cell_type": "code",
            "source": [
                "SELECT * FROM authors\n",
                "WHERE name LIKE 'K%'"
            ],
            "metadata": {
                "language": "sql",
                "azdata_cell_guid": "39d410c6-fd97-438f-96de-5feb37aab3e7"
            },
            "outputs": [
                {
                    "output_type": "display_data",
                    "data": {
                        "text/html": "(1 row affected)"
                    },
                    "metadata": {}
                },
                {
                    "output_type": "display_data",
                    "data": {
                        "text/html": "Total execution time: 00:00:00.010"
                    },
                    "metadata": {}
                },
                {
                    "output_type": "execute_result",
                    "execution_count": 17,
                    "data": {
                        "application/vnd.dataresource+json": {
                            "schema": {
                                "fields": [
                                    {
                                        "name": "id"
                                    },
                                    {
                                        "name": "name"
                                    },
                                    {
                                        "name": "birthday"
                                    }
                                ]
                            },
                            "data": [
                                {
                                    "0": "11",
                                    "1": "Kanye West",
                                    "2": "1977-06-08"
                                }
                            ]
                        },
                        "text/html": "<table><tr><th>id</th><th>name</th><th>birthday</th></tr><tr><td>11</td><td>Kanye West</td><td>1977-06-08</td></tr></table>"
                    },
                    "metadata": {}
                }
            ],
            "execution_count": 17
        },
        {
            "cell_type": "code",
            "source": [
                "SELECT * from albums\n",
                "WHERE release < '2000-01-01'"
            ],
            "metadata": {
                "language": "sql",
                "azdata_cell_guid": "c4f1280e-4b88-4bb7-99e0-e45731d814fd"
            },
            "outputs": [
                {
                    "output_type": "display_data",
                    "data": {
                        "text/html": "(8 rows affected)"
                    },
                    "metadata": {}
                },
                {
                    "output_type": "display_data",
                    "data": {
                        "text/html": "Total execution time: 00:00:00.024"
                    },
                    "metadata": {}
                },
                {
                    "output_type": "execute_result",
                    "execution_count": 18,
                    "data": {
                        "application/vnd.dataresource+json": {
                            "schema": {
                                "fields": [
                                    {
                                        "name": "id"
                                    },
                                    {
                                        "name": "name"
                                    },
                                    {
                                        "name": "author"
                                    },
                                    {
                                        "name": "release"
                                    }
                                ]
                            },
                            "data": [
                                {
                                    "0": "1",
                                    "1": "Scary Monsters",
                                    "2": "2",
                                    "3": "1980-09-12"
                                },
                                {
                                    "0": "2",
                                    "1": "Heroes",
                                    "2": "2",
                                    "3": "1977-10-14"
                                },
                                {
                                    "0": "3",
                                    "1": "Transformer",
                                    "2": "4",
                                    "3": "1972-11-08"
                                },
                                {
                                    "0": "4",
                                    "1": "Lust For Life",
                                    "2": "3",
                                    "3": "1977-09-09"
                                },
                                {
                                    "0": "5",
                                    "1": "Bone Machine",
                                    "2": "5",
                                    "3": "1992-09-08"
                                },
                                {
                                    "0": "8",
                                    "1": "Последний Герой",
                                    "2": "8",
                                    "3": "1984-01-01"
                                },
                                {
                                    "0": "9",
                                    "1": "45",
                                    "2": "8",
                                    "3": "1982-07-22"
                                },
                                {
                                    "0": "11",
                                    "1": "Земфира",
                                    "2": "9",
                                    "3": "1999-05-10"
                                }
                            ]
                        },
                        "text/html": "<table><tr><th>id</th><th>name</th><th>author</th><th>release</th></tr><tr><td>1</td><td>Scary Monsters</td><td>2</td><td>1980-09-12</td></tr><tr><td>2</td><td>Heroes</td><td>2</td><td>1977-10-14</td></tr><tr><td>3</td><td>Transformer</td><td>4</td><td>1972-11-08</td></tr><tr><td>4</td><td>Lust For Life</td><td>3</td><td>1977-09-09</td></tr><tr><td>5</td><td>Bone Machine</td><td>5</td><td>1992-09-08</td></tr><tr><td>8</td><td>Последний Герой</td><td>8</td><td>1984-01-01</td></tr><tr><td>9</td><td>45</td><td>8</td><td>1982-07-22</td></tr><tr><td>11</td><td>Земфира</td><td>9</td><td>1999-05-10</td></tr></table>"
                    },
                    "metadata": {}
                }
            ],
            "execution_count": 18
        },
        {
            "cell_type": "code",
            "source": [
                "SELECT * from tracks\n",
                "WHERE length > 180"
            ],
            "metadata": {
                "language": "sql",
                "azdata_cell_guid": "943b0bc7-0e58-4e59-a9db-bff2c06316ae"
            },
            "outputs": [
                {
                    "output_type": "display_data",
                    "data": {
                        "text/html": "(7 rows affected)"
                    },
                    "metadata": {}
                },
                {
                    "output_type": "display_data",
                    "data": {
                        "text/html": "Total execution time: 00:00:00.017"
                    },
                    "metadata": {}
                },
                {
                    "output_type": "execute_result",
                    "execution_count": 19,
                    "data": {
                        "application/vnd.dataresource+json": {
                            "schema": {
                                "fields": [
                                    {
                                        "name": "id"
                                    },
                                    {
                                        "name": "name"
                                    },
                                    {
                                        "name": "length"
                                    },
                                    {
                                        "name": "album"
                                    }
                                ]
                            },
                            "data": [
                                {
                                    "0": "9",
                                    "1": "Scary Monsters",
                                    "2": "232",
                                    "3": "1"
                                },
                                {
                                    "0": "11",
                                    "1": "Heroes",
                                    "2": "332",
                                    "3": "2"
                                },
                                {
                                    "0": "12",
                                    "1": "Passenger",
                                    "2": "245",
                                    "3": "4"
                                },
                                {
                                    "0": "13",
                                    "1": "Who are you this time?",
                                    "2": "305",
                                    "3": "5"
                                },
                                {
                                    "0": "16",
                                    "1": "Saint Pablo",
                                    "2": "344",
                                    "3": "13"
                                },
                                {
                                    "0": "17",
                                    "1": "Welcome to Heartbreak",
                                    "2": "190",
                                    "3": "14"
                                },
                                {
                                    "0": "18",
                                    "1": "Ромашки",
                                    "2": "190",
                                    "3": "11"
                                }
                            ]
                        },
                        "text/html": "<table><tr><th>id</th><th>name</th><th>length</th><th>album</th></tr><tr><td>9</td><td>Scary Monsters</td><td>232</td><td>1</td></tr><tr><td>11</td><td>Heroes</td><td>332</td><td>2</td></tr><tr><td>12</td><td>Passenger</td><td>245</td><td>4</td></tr><tr><td>13</td><td>Who are you this time?</td><td>305</td><td>5</td></tr><tr><td>16</td><td>Saint Pablo</td><td>344</td><td>13</td></tr><tr><td>17</td><td>Welcome to Heartbreak</td><td>190</td><td>14</td></tr><tr><td>18</td><td>Ромашки</td><td>190</td><td>11</td></tr></table>"
                    },
                    "metadata": {}
                }
            ],
            "execution_count": 19
        },
        {
            "cell_type": "code",
            "source": [
                "SELECT * FROM albums\n",
                "WHERE id not in(3,6,9,12)"
            ],
            "metadata": {
                "language": "sql",
                "azdata_cell_guid": "18a9c401-f748-44fb-b8b1-60837cfd9da9"
            },
            "outputs": [
                {
                    "output_type": "display_data",
                    "data": {
                        "text/html": "(10 rows affected)"
                    },
                    "metadata": {}
                },
                {
                    "output_type": "display_data",
                    "data": {
                        "text/html": "Total execution time: 00:00:00.010"
                    },
                    "metadata": {}
                },
                {
                    "output_type": "execute_result",
                    "execution_count": 20,
                    "data": {
                        "application/vnd.dataresource+json": {
                            "schema": {
                                "fields": [
                                    {
                                        "name": "id"
                                    },
                                    {
                                        "name": "name"
                                    },
                                    {
                                        "name": "author"
                                    },
                                    {
                                        "name": "release"
                                    }
                                ]
                            },
                            "data": [
                                {
                                    "0": "1",
                                    "1": "Scary Monsters",
                                    "2": "2",
                                    "3": "1980-09-12"
                                },
                                {
                                    "0": "2",
                                    "1": "Heroes",
                                    "2": "2",
                                    "3": "1977-10-14"
                                },
                                {
                                    "0": "4",
                                    "1": "Lust For Life",
                                    "2": "3",
                                    "3": "1977-09-09"
                                },
                                {
                                    "0": "5",
                                    "1": "Bone Machine",
                                    "2": "5",
                                    "3": "1992-09-08"
                                },
                                {
                                    "0": "7",
                                    "1": "2004",
                                    "2": "7",
                                    "3": "2019-12-24"
                                },
                                {
                                    "0": "8",
                                    "1": "Последний Герой",
                                    "2": "8",
                                    "3": "1984-01-01"
                                },
                                {
                                    "0": "10",
                                    "1": "Прости меня моя любовь",
                                    "2": "9",
                                    "3": "2000-03-28"
                                },
                                {
                                    "0": "11",
                                    "1": "Земфира",
                                    "2": "9",
                                    "3": "1999-05-10"
                                },
                                {
                                    "0": "13",
                                    "1": "The Life of Pablo",
                                    "2": "11",
                                    "3": "2016-02-14"
                                },
                                {
                                    "0": "14",
                                    "1": "808s & Heartbreak",
                                    "2": "11",
                                    "3": "2008-11-24"
                                }
                            ]
                        },
                        "text/html": "<table><tr><th>id</th><th>name</th><th>author</th><th>release</th></tr><tr><td>1</td><td>Scary Monsters</td><td>2</td><td>1980-09-12</td></tr><tr><td>2</td><td>Heroes</td><td>2</td><td>1977-10-14</td></tr><tr><td>4</td><td>Lust For Life</td><td>3</td><td>1977-09-09</td></tr><tr><td>5</td><td>Bone Machine</td><td>5</td><td>1992-09-08</td></tr><tr><td>7</td><td>2004</td><td>7</td><td>2019-12-24</td></tr><tr><td>8</td><td>Последний Герой</td><td>8</td><td>1984-01-01</td></tr><tr><td>10</td><td>Прости меня моя любовь</td><td>9</td><td>2000-03-28</td></tr><tr><td>11</td><td>Земфира</td><td>9</td><td>1999-05-10</td></tr><tr><td>13</td><td>The Life of Pablo</td><td>11</td><td>2016-02-14</td></tr><tr><td>14</td><td>808s &amp; Heartbreak</td><td>11</td><td>2008-11-24</td></tr></table>"
                    },
                    "metadata": {}
                }
            ],
            "execution_count": 20
        },
        {
            "cell_type": "code",
            "source": [
                "SELECT * from albums\n",
                "WHERE release BETWEEN '1990-01-01' AND '2000-01-01'"
            ],
            "metadata": {
                "language": "sql",
                "azdata_cell_guid": "827a4c67-9ed2-4d33-944f-cf9a25d96bda"
            },
            "outputs": [
                {
                    "output_type": "display_data",
                    "data": {
                        "text/html": "(2 rows affected)"
                    },
                    "metadata": {}
                },
                {
                    "output_type": "display_data",
                    "data": {
                        "text/html": "Total execution time: 00:00:00.010"
                    },
                    "metadata": {}
                },
                {
                    "output_type": "execute_result",
                    "execution_count": 21,
                    "data": {
                        "application/vnd.dataresource+json": {
                            "schema": {
                                "fields": [
                                    {
                                        "name": "id"
                                    },
                                    {
                                        "name": "name"
                                    },
                                    {
                                        "name": "author"
                                    },
                                    {
                                        "name": "release"
                                    }
                                ]
                            },
                            "data": [
                                {
                                    "0": "5",
                                    "1": "Bone Machine",
                                    "2": "5",
                                    "3": "1992-09-08"
                                },
                                {
                                    "0": "11",
                                    "1": "Земфира",
                                    "2": "9",
                                    "3": "1999-05-10"
                                }
                            ]
                        },
                        "text/html": "<table><tr><th>id</th><th>name</th><th>author</th><th>release</th></tr><tr><td>5</td><td>Bone Machine</td><td>5</td><td>1992-09-08</td></tr><tr><td>11</td><td>Земфира</td><td>9</td><td>1999-05-10</td></tr></table>"
                    },
                    "metadata": {}
                }
            ],
            "execution_count": 21
        },
        {
            "cell_type": "code",
            "source": [
                "SELECT COUNT(*) as [Vinyls number] from items\n",
                "where [type] = 'Vinyl'"
            ],
            "metadata": {
                "language": "sql",
                "azdata_cell_guid": "85a1bd69-61a3-4096-9f5c-4e202148ca32",
                "tags": []
            },
            "outputs": [
                {
                    "output_type": "display_data",
                    "data": {
                        "text/html": "(1 row affected)"
                    },
                    "metadata": {}
                },
                {
                    "output_type": "display_data",
                    "data": {
                        "text/html": "Total execution time: 00:00:00.009"
                    },
                    "metadata": {}
                },
                {
                    "output_type": "execute_result",
                    "execution_count": 23,
                    "data": {
                        "application/vnd.dataresource+json": {
                            "schema": {
                                "fields": [
                                    {
                                        "name": "Vinyls number"
                                    }
                                ]
                            },
                            "data": [
                                {
                                    "0": "6"
                                }
                            ]
                        },
                        "text/html": "<table><tr><th>Vinyls number</th></tr><tr><td>6</td></tr></table>"
                    },
                    "metadata": {}
                }
            ],
            "execution_count": 23
        },
        {
            "cell_type": "markdown",
            "source": [
                "## 5. Переименуйте одну из таблиц вашей БД"
            ],
            "metadata": {
                "language": "sql",
                "azdata_cell_guid": "9d831412-98dc-47fe-8e5d-4474bc0de2fe"
            },
            "attachments": {}
        },
        {
            "cell_type": "code",
            "source": [
                "exec sp_rename 'albums', 'records'\n",
                "GO"
            ],
            "metadata": {
                "language": "sql",
                "azdata_cell_guid": "9cfe9ff1-3562-4865-b61a-2e63a5a9f7a5"
            },
            "outputs": [],
            "execution_count": null
        },
        {
            "cell_type": "code",
            "source": [
                "exec sp_rename 'records', 'albums'\n",
                "GO"
            ],
            "metadata": {
                "language": "sql",
                "azdata_cell_guid": "4ecceb3d-1fa4-4cae-8ff4-e5255fb97ba4",
                "tags": [
                    "hide_input"
                ]
            },
            "outputs": [],
            "execution_count": null
        },
        {
            "cell_type": "markdown",
            "source": [
                "## 6. Добавьте по две записи в каждую из таблиц вашей БД"
            ],
            "metadata": {
                "language": "sql",
                "azdata_cell_guid": "fbe888ee-90b2-4839-876d-22db7f97e067"
            },
            "attachments": {}
        },
        {
            "cell_type": "code",
            "source": [
                "-- Insert authors\n",
                "INSERT INTO authors (name, birthday)\n",
                "VALUES \n",
                "    ('Freddie Mercury', '1946-09-05'),\n",
                "    ('Jimmy Page', '1944-01-09');\n",
                "\n",
                "-- Insert albums\n",
                "INSERT INTO albums (name, author, release)\n",
                "VALUES\n",
                "    ('A Night at the Opera', 12, '1975-11-21'),\n",
                "    ('Led Zeppelin IV', 13, '1971-11-08');\n",
                "\n",
                "-- Insert tracks\n",
                "INSERT INTO tracks (name, length, album)\n",
                "VALUES\n",
                "    ('Bohemian Rhapsody', 354, 15),\n",
                "    ('Stairway to Heaven', 482, 16);\n",
                "\n",
                "-- Insert collections\n",
                "INSERT INTO collections (started)\n",
                "VALUES ('2023-05-01'), ('2005-04-18');\n",
                "\n",
                "-- Insert items\n",
                "INSERT INTO items (album, collection, type, price)\n",
                "VALUES\n",
                "    (9, 1, 'CD', 15.99),\n",
                "    (7, 1, 'Vinyl', 24.99);\n",
                ""
            ],
            "metadata": {
                "language": "sql",
                "azdata_cell_guid": "ec1d9491-e3c4-4779-a6fd-1c911c7410df",
                "tags": []
            },
            "outputs": [],
            "execution_count": null
        },
        {
            "cell_type": "markdown",
            "source": [
                "## 7. Измените одну из таблиц вашей БД:\n",
                "\n",
                "* добавьте по смыслу один столбец\n",
                "* добавьте ограничение с именем на новый введенный вами столбец"
            ],
            "metadata": {
                "language": "sql",
                "azdata_cell_guid": "9293a84a-f1e2-474c-b2fc-72c03d3b1044"
            },
            "attachments": {}
        },
        {
            "cell_type": "code",
            "source": [
                "ALTER TABLE albums\n",
                "ADD rating INT"
            ],
            "metadata": {
                "language": "sql",
                "azdata_cell_guid": "44e1661e-6a55-4aac-8ede-70412a199bc8"
            },
            "outputs": [],
            "execution_count": null
        },
        {
            "cell_type": "code",
            "source": [
                "ALTER TABLE albums\n",
                "ADD CONSTRAINT CK_albums_rating CHECK (rating >= 1 AND rating <= 10);\n",
                ""
            ],
            "metadata": {
                "language": "sql",
                "azdata_cell_guid": "5e308ef9-9925-4b20-9ae7-6a57a1e8f267"
            },
            "outputs": [],
            "execution_count": null
        },
        {
            "cell_type": "code",
            "source": [
                "-- Remove the constraint\n",
                "ALTER TABLE albums\n",
                "DROP CONSTRAINT CK_albums_rating;\n",
                "\n",
                "-- Remove the column\n",
                "ALTER TABLE albums\n",
                "DROP COLUMN rating;"
            ],
            "metadata": {
                "language": "sql",
                "azdata_cell_guid": "c9dbc66c-7d02-407b-a498-b29db3ae7c84",
                "tags": []
            },
            "outputs": [],
            "execution_count": null
        },
        {
            "cell_type": "markdown",
            "source": [
                "## 8. Напишите 5 запросов, используя агрегатные функции (SUM, MAX, MIN, AVG, COUNT)"
            ],
            "metadata": {
                "language": "sql",
                "azdata_cell_guid": "3b469f78-4b5c-40c9-8fd7-8dcf22683a4f"
            },
            "attachments": {}
        },
        {
            "cell_type": "code",
            "source": [
                "SELECT SUM(length) as [Total length] from tracks"
            ],
            "metadata": {
                "language": "sql",
                "azdata_cell_guid": "e3b00137-93fb-4863-8fd0-fe1b6dd52f30"
            },
            "outputs": [],
            "execution_count": null
        },
        {
            "cell_type": "code",
            "source": [
                "SELECT name, MAX(length) as [Longest track] from tracks"
            ],
            "metadata": {
                "language": "sql",
                "azdata_cell_guid": "34325da1-fc11-41ce-8df4-6c1cc0b62827"
            },
            "outputs": [],
            "execution_count": null
        },
        {
            "cell_type": "code",
            "source": [
                "SELECT name, MIN(length) as [Shortest track] from tracks"
            ],
            "metadata": {
                "language": "sql",
                "azdata_cell_guid": "bd7b9874-897f-4e0b-8ecd-612a5973482f"
            },
            "outputs": [],
            "execution_count": null
        },
        {
            "cell_type": "code",
            "source": [
                "SELECT AVG(length) as [Average length] from tracks"
            ],
            "metadata": {
                "language": "sql",
                "azdata_cell_guid": "6f2cbd80-064d-4d9d-9632-c8777c54e552"
            },
            "outputs": [],
            "execution_count": null
        },
        {
            "cell_type": "code",
            "source": [
                "SELECT COUNT(name) as [Number of tracks] from tracks"
            ],
            "metadata": {
                "language": "sql",
                "azdata_cell_guid": "597066f2-c965-4abb-b938-ca8fe5c89a04"
            },
            "outputs": [],
            "execution_count": null
        },
        {
            "cell_type": "markdown",
            "source": [
                "## 9. Написать 2 запроса на группировку данных, используя оператор GROUP BY"
            ],
            "metadata": {
                "language": "sql",
                "azdata_cell_guid": "761dfbcd-773f-40c0-be47-54df5c5125d2"
            },
            "attachments": {}
        },
        {
            "cell_type": "code",
            "source": [
                "SELECT albums.name, SUM(items.price) as [Total albums selling], COUNT(items.price) as [Copies sold]\n",
                "FROM albums\n",
                "INNER JOIN items on items.album = albums.id\n",
                "GROUP BY albums.name"
            ],
            "metadata": {
                "language": "sql",
                "azdata_cell_guid": "5a147aa2-5271-486c-9355-b51678f371df"
            },
            "outputs": [
                {
                    "output_type": "display_data",
                    "data": {
                        "text/html": "(11 rows affected)"
                    },
                    "metadata": {}
                },
                {
                    "output_type": "display_data",
                    "data": {
                        "text/html": "Total execution time: 00:00:00.011"
                    },
                    "metadata": {}
                },
                {
                    "output_type": "execute_result",
                    "execution_count": 26,
                    "data": {
                        "application/vnd.dataresource+json": {
                            "schema": {
                                "fields": [
                                    {
                                        "name": "name"
                                    },
                                    {
                                        "name": "Total albums selling"
                                    },
                                    {
                                        "name": "Albums sold"
                                    }
                                ]
                            },
                            "data": [
                                {
                                    "0": "2004",
                                    "1": "2.00",
                                    "2": "1"
                                },
                                {
                                    "0": "45",
                                    "1": "35.50",
                                    "2": "2"
                                },
                                {
                                    "0": "808s & Heartbreak",
                                    "1": "80.00",
                                    "2": "1"
                                },
                                {
                                    "0": "Bone Machine",
                                    "1": "325.00",
                                    "2": "2"
                                },
                                {
                                    "0": "Heroes",
                                    "1": "35.00",
                                    "2": "1"
                                },
                                {
                                    "0": "Lust For Life",
                                    "1": "30.00",
                                    "2": "1"
                                },
                                {
                                    "0": "Scary Monsters",
                                    "1": "54.00",
                                    "2": "3"
                                },
                                {
                                    "0": "The Life of Pablo",
                                    "1": "100.00",
                                    "2": "1"
                                },
                                {
                                    "0": "Земфира",
                                    "1": "0.33",
                                    "2": "1"
                                },
                                {
                                    "0": "Последний Герой",
                                    "1": "15.00",
                                    "2": "1"
                                },
                                {
                                    "0": "Прости меня моя любовь",
                                    "1": "1.00",
                                    "2": "1"
                                }
                            ]
                        },
                        "text/html": "<table><tr><th>name</th><th>Total albums selling</th><th>Albums sold</th></tr><tr><td>2004</td><td>2.00</td><td>1</td></tr><tr><td>45</td><td>35.50</td><td>2</td></tr><tr><td>808s &amp; Heartbreak</td><td>80.00</td><td>1</td></tr><tr><td>Bone Machine</td><td>325.00</td><td>2</td></tr><tr><td>Heroes</td><td>35.00</td><td>1</td></tr><tr><td>Lust For Life</td><td>30.00</td><td>1</td></tr><tr><td>Scary Monsters</td><td>54.00</td><td>3</td></tr><tr><td>The Life of Pablo</td><td>100.00</td><td>1</td></tr><tr><td>Земфира</td><td>0.33</td><td>1</td></tr><tr><td>Последний Герой</td><td>15.00</td><td>1</td></tr><tr><td>Прости меня моя любовь</td><td>1.00</td><td>1</td></tr></table>"
                    },
                    "metadata": {}
                }
            ],
            "execution_count": 26
        },
        {
            "cell_type": "code",
            "source": [
                "SELECT authors.name, COUNT(albums.name) as [Albums released]\n",
                "FROM authors\n",
                "INNER JOIN albums on albums.author = authors.id\n",
                "GROUP BY authors.name"
            ],
            "metadata": {
                "language": "sql",
                "azdata_cell_guid": "cbbc9616-5b46-4de9-8645-2e77d205e4dc"
            },
            "outputs": [
                {
                    "output_type": "display_data",
                    "data": {
                        "text/html": "(9 rows affected)"
                    },
                    "metadata": {}
                },
                {
                    "output_type": "display_data",
                    "data": {
                        "text/html": "Total execution time: 00:00:00.011"
                    },
                    "metadata": {}
                },
                {
                    "output_type": "execute_result",
                    "execution_count": 27,
                    "data": {
                        "application/vnd.dataresource+json": {
                            "schema": {
                                "fields": [
                                    {
                                        "name": "name"
                                    },
                                    {
                                        "name": "Albums released"
                                    }
                                ]
                            },
                            "data": [
                                {
                                    "0": "David Bowie",
                                    "1": "2"
                                },
                                {
                                    "0": "Iggy Pop",
                                    "1": "1"
                                },
                                {
                                    "0": "Kanye West",
                                    "1": "2"
                                },
                                {
                                    "0": "Lou Reed",
                                    "1": "1"
                                },
                                {
                                    "0": "Stromae",
                                    "1": "1"
                                },
                                {
                                    "0": "Tom Waits",
                                    "1": "1"
                                },
                                {
                                    "0": "Виктор Цой",
                                    "1": "2"
                                },
                                {
                                    "0": "Земфира",
                                    "1": "3"
                                },
                                {
                                    "0": "Скриптонит",
                                    "1": "1"
                                }
                            ]
                        },
                        "text/html": "<table><tr><th>name</th><th>Albums released</th></tr><tr><td>David Bowie</td><td>2</td></tr><tr><td>Iggy Pop</td><td>1</td></tr><tr><td>Kanye West</td><td>2</td></tr><tr><td>Lou Reed</td><td>1</td></tr><tr><td>Stromae</td><td>1</td></tr><tr><td>Tom Waits</td><td>1</td></tr><tr><td>Виктор Цой</td><td>2</td></tr><tr><td>Земфира</td><td>3</td></tr><tr><td>Скриптонит</td><td>1</td></tr></table>"
                    },
                    "metadata": {}
                }
            ],
            "execution_count": 27
        },
        {
            "cell_type": "markdown",
            "source": [
                "## 10. Написать 2 запроса на фильтрацию групп, используя HAVING"
            ],
            "metadata": {
                "language": "sql",
                "azdata_cell_guid": "711ac772-0dc4-4d16-ba65-6a2f161d3f47"
            },
            "attachments": {}
        },
        {
            "cell_type": "code",
            "source": [
                "SELECT authors.name, COUNT(albums.name) as [Albums released]\n",
                "FROM authors\n",
                "INNER JOIN albums on albums.author = authors.id\n",
                "GROUP BY authors.name\n",
                "HAVING COUNT(albums.name) > 2"
            ],
            "metadata": {
                "language": "sql",
                "azdata_cell_guid": "ab0a10d4-9860-4080-bbe5-462a0a1fee4c"
            },
            "outputs": [
                {
                    "output_type": "display_data",
                    "data": {
                        "text/html": "(1 row affected)"
                    },
                    "metadata": {}
                },
                {
                    "output_type": "display_data",
                    "data": {
                        "text/html": "Total execution time: 00:00:00.115"
                    },
                    "metadata": {}
                },
                {
                    "output_type": "execute_result",
                    "metadata": {},
                    "execution_count": 1,
                    "data": {
                        "application/vnd.dataresource+json": {
                            "schema": {
                                "fields": [
                                    {
                                        "name": "name"
                                    },
                                    {
                                        "name": "Albums released"
                                    }
                                ]
                            },
                            "data": [
                                {
                                    "0": "Земфира",
                                    "1": "3"
                                }
                            ]
                        },
                        "text/html": [
                            "<table>",
                            "<tr><th>name</th><th>Albums released</th></tr>",
                            "<tr><td>Земфира</td><td>3</td></tr>",
                            "</table>"
                        ]
                    }
                }
            ],
            "execution_count": 1
        },
        {
            "cell_type": "code",
            "source": [
                "SELECT albums.name, SUM(items.price) as [Total albums selling], COUNT(items.price) as [Copies sold]\n",
                "FROM albums\n",
                "INNER JOIN items on items.album = albums.id\n",
                "GROUP BY albums.name\n",
                "HAVING SUM(items.price) >= 100"
            ],
            "metadata": {
                "language": "sql",
                "azdata_cell_guid": "238091ef-2b0f-448a-83c6-a1c4c224d5cb"
            },
            "outputs": [
                {
                    "output_type": "display_data",
                    "data": {
                        "text/html": "(2 rows affected)"
                    },
                    "metadata": {}
                },
                {
                    "output_type": "display_data",
                    "data": {
                        "text/html": "Total execution time: 00:00:00.009"
                    },
                    "metadata": {}
                },
                {
                    "output_type": "execute_result",
                    "metadata": {},
                    "execution_count": 3,
                    "data": {
                        "application/vnd.dataresource+json": {
                            "schema": {
                                "fields": [
                                    {
                                        "name": "name"
                                    },
                                    {
                                        "name": "Total albums selling"
                                    },
                                    {
                                        "name": "Albums sold"
                                    }
                                ]
                            },
                            "data": [
                                {
                                    "0": "Bone Machine",
                                    "1": "325.00",
                                    "2": "2"
                                },
                                {
                                    "0": "The Life of Pablo",
                                    "1": "100.00",
                                    "2": "1"
                                }
                            ]
                        },
                        "text/html": [
                            "<table>",
                            "<tr><th>name</th><th>Total albums selling</th><th>Albums sold</th></tr>",
                            "<tr><td>Bone Machine</td><td>325.00</td><td>2</td></tr>",
                            "<tr><td>The Life of Pablo</td><td>100.00</td><td>1</td></tr>",
                            "</table>"
                        ]
                    }
                }
            ],
            "execution_count": 3
        },
        {
            "cell_type": "markdown",
            "source": [
                "## 11. Написать запросы на расширения SQL Server для группировки (ROLLUP, CUBE, GROUPING SETS, OVER)"
            ],
            "metadata": {
                "language": "sql",
                "azdata_cell_guid": "8665f064-0f00-4986-a785-7ff1a63d7402"
            },
            "attachments": {}
        },
        {
            "cell_type": "code",
            "source": [
                "SELECT YEAR(release) as [Year], MONTH(release) as [Month], COUNT(release) as [Number of albums]\n",
                "from albums\n",
                "GROUP BY ROLLUP (YEAR(release), MONTH(release))"
            ],
            "metadata": {
                "language": "sql",
                "azdata_cell_guid": "5a438ba5-2f03-4bed-9ca2-b73238222744"
            },
            "outputs": [
                {
                    "output_type": "display_data",
                    "data": {
                        "text/html": "(28 rows affected)"
                    },
                    "metadata": {}
                },
                {
                    "output_type": "display_data",
                    "data": {
                        "text/html": "Total execution time: 00:00:00.016"
                    },
                    "metadata": {}
                },
                {
                    "output_type": "execute_result",
                    "metadata": {},
                    "execution_count": 5,
                    "data": {
                        "application/vnd.dataresource+json": {
                            "schema": {
                                "fields": [
                                    {
                                        "name": "Year"
                                    },
                                    {
                                        "name": "Month"
                                    },
                                    {
                                        "name": "Number of albums"
                                    }
                                ]
                            },
                            "data": [
                                {
                                    "0": "1972",
                                    "1": "11",
                                    "2": "1"
                                },
                                {
                                    "0": "1972",
                                    "1": "NULL",
                                    "2": "1"
                                },
                                {
                                    "0": "1977",
                                    "1": "9",
                                    "2": "1"
                                },
                                {
                                    "0": "1977",
                                    "1": "10",
                                    "2": "1"
                                },
                                {
                                    "0": "1977",
                                    "1": "NULL",
                                    "2": "2"
                                },
                                {
                                    "0": "1980",
                                    "1": "9",
                                    "2": "1"
                                },
                                {
                                    "0": "1980",
                                    "1": "NULL",
                                    "2": "1"
                                },
                                {
                                    "0": "1982",
                                    "1": "7",
                                    "2": "1"
                                },
                                {
                                    "0": "1982",
                                    "1": "NULL",
                                    "2": "1"
                                },
                                {
                                    "0": "1984",
                                    "1": "1",
                                    "2": "1"
                                },
                                {
                                    "0": "1984",
                                    "1": "NULL",
                                    "2": "1"
                                },
                                {
                                    "0": "1992",
                                    "1": "9",
                                    "2": "1"
                                },
                                {
                                    "0": "1992",
                                    "1": "NULL",
                                    "2": "1"
                                },
                                {
                                    "0": "1999",
                                    "1": "5",
                                    "2": "1"
                                },
                                {
                                    "0": "1999",
                                    "1": "NULL",
                                    "2": "1"
                                },
                                {
                                    "0": "2000",
                                    "1": "3",
                                    "2": "1"
                                },
                                {
                                    "0": "2000",
                                    "1": "NULL",
                                    "2": "1"
                                },
                                {
                                    "0": "2005",
                                    "1": "3",
                                    "2": "1"
                                },
                                {
                                    "0": "2005",
                                    "1": "NULL",
                                    "2": "1"
                                },
                                {
                                    "0": "2008",
                                    "1": "11",
                                    "2": "1"
                                },
                                {
                                    "0": "2008",
                                    "1": "NULL",
                                    "2": "1"
                                },
                                {
                                    "0": "2016",
                                    "1": "2",
                                    "2": "1"
                                },
                                {
                                    "0": "2016",
                                    "1": "NULL",
                                    "2": "1"
                                },
                                {
                                    "0": "2019",
                                    "1": "12",
                                    "2": "1"
                                },
                                {
                                    "0": "2019",
                                    "1": "NULL",
                                    "2": "1"
                                },
                                {
                                    "0": "2022",
                                    "1": "3",
                                    "2": "1"
                                },
                                {
                                    "0": "2022",
                                    "1": "NULL",
                                    "2": "1"
                                },
                                {
                                    "0": "NULL",
                                    "1": "NULL",
                                    "2": "14"
                                }
                            ]
                        },
                        "text/html": [
                            "<table>",
                            "<tr><th>Year</th><th>Month</th><th>Number of albums</th></tr>",
                            "<tr><td>1972</td><td>11</td><td>1</td></tr>",
                            "<tr><td>1972</td><td>NULL</td><td>1</td></tr>",
                            "<tr><td>1977</td><td>9</td><td>1</td></tr>",
                            "<tr><td>1977</td><td>10</td><td>1</td></tr>",
                            "<tr><td>1977</td><td>NULL</td><td>2</td></tr>",
                            "<tr><td>1980</td><td>9</td><td>1</td></tr>",
                            "<tr><td>1980</td><td>NULL</td><td>1</td></tr>",
                            "<tr><td>1982</td><td>7</td><td>1</td></tr>",
                            "<tr><td>1982</td><td>NULL</td><td>1</td></tr>",
                            "<tr><td>1984</td><td>1</td><td>1</td></tr>",
                            "<tr><td>1984</td><td>NULL</td><td>1</td></tr>",
                            "<tr><td>1992</td><td>9</td><td>1</td></tr>",
                            "<tr><td>1992</td><td>NULL</td><td>1</td></tr>",
                            "<tr><td>1999</td><td>5</td><td>1</td></tr>",
                            "<tr><td>1999</td><td>NULL</td><td>1</td></tr>",
                            "<tr><td>2000</td><td>3</td><td>1</td></tr>",
                            "<tr><td>2000</td><td>NULL</td><td>1</td></tr>",
                            "<tr><td>2005</td><td>3</td><td>1</td></tr>",
                            "<tr><td>2005</td><td>NULL</td><td>1</td></tr>",
                            "<tr><td>2008</td><td>11</td><td>1</td></tr>",
                            "<tr><td>2008</td><td>NULL</td><td>1</td></tr>",
                            "<tr><td>2016</td><td>2</td><td>1</td></tr>",
                            "<tr><td>2016</td><td>NULL</td><td>1</td></tr>",
                            "<tr><td>2019</td><td>12</td><td>1</td></tr>",
                            "<tr><td>2019</td><td>NULL</td><td>1</td></tr>",
                            "<tr><td>2022</td><td>3</td><td>1</td></tr>",
                            "<tr><td>2022</td><td>NULL</td><td>1</td></tr>",
                            "<tr><td>NULL</td><td>NULL</td><td>14</td></tr>",
                            "</table>"
                        ]
                    }
                }
            ],
            "execution_count": 5
        },
        {
            "cell_type": "code",
            "source": [
                "SELECT YEAR(release) as [Year], MONTH(release) as [Month], COUNT(release) as [Number of albums]\n",
                "from albums\n",
                "GROUP BY CUBE (YEAR(release), MONTH(release))"
            ],
            "metadata": {
                "language": "sql",
                "azdata_cell_guid": "2e24abb7-b7f6-4f0e-a6a7-2c3b6e430191"
            },
            "outputs": [
                {
                    "output_type": "display_data",
                    "data": {
                        "text/html": "(37 rows affected)"
                    },
                    "metadata": {}
                },
                {
                    "output_type": "display_data",
                    "data": {
                        "text/html": "Total execution time: 00:00:00.019"
                    },
                    "metadata": {}
                },
                {
                    "output_type": "execute_result",
                    "metadata": {},
                    "execution_count": 6,
                    "data": {
                        "application/vnd.dataresource+json": {
                            "schema": {
                                "fields": [
                                    {
                                        "name": "Year"
                                    },
                                    {
                                        "name": "Month"
                                    },
                                    {
                                        "name": "Number of albums"
                                    }
                                ]
                            },
                            "data": [
                                {
                                    "0": "1984",
                                    "1": "1",
                                    "2": "1"
                                },
                                {
                                    "0": "NULL",
                                    "1": "1",
                                    "2": "1"
                                },
                                {
                                    "0": "2016",
                                    "1": "2",
                                    "2": "1"
                                },
                                {
                                    "0": "NULL",
                                    "1": "2",
                                    "2": "1"
                                },
                                {
                                    "0": "2000",
                                    "1": "3",
                                    "2": "1"
                                },
                                {
                                    "0": "2005",
                                    "1": "3",
                                    "2": "1"
                                },
                                {
                                    "0": "2022",
                                    "1": "3",
                                    "2": "1"
                                },
                                {
                                    "0": "NULL",
                                    "1": "3",
                                    "2": "3"
                                },
                                {
                                    "0": "1999",
                                    "1": "5",
                                    "2": "1"
                                },
                                {
                                    "0": "NULL",
                                    "1": "5",
                                    "2": "1"
                                },
                                {
                                    "0": "1982",
                                    "1": "7",
                                    "2": "1"
                                },
                                {
                                    "0": "NULL",
                                    "1": "7",
                                    "2": "1"
                                },
                                {
                                    "0": "1977",
                                    "1": "9",
                                    "2": "1"
                                },
                                {
                                    "0": "1980",
                                    "1": "9",
                                    "2": "1"
                                },
                                {
                                    "0": "1992",
                                    "1": "9",
                                    "2": "1"
                                },
                                {
                                    "0": "NULL",
                                    "1": "9",
                                    "2": "3"
                                },
                                {
                                    "0": "1977",
                                    "1": "10",
                                    "2": "1"
                                },
                                {
                                    "0": "NULL",
                                    "1": "10",
                                    "2": "1"
                                },
                                {
                                    "0": "1972",
                                    "1": "11",
                                    "2": "1"
                                },
                                {
                                    "0": "2008",
                                    "1": "11",
                                    "2": "1"
                                },
                                {
                                    "0": "NULL",
                                    "1": "11",
                                    "2": "2"
                                },
                                {
                                    "0": "2019",
                                    "1": "12",
                                    "2": "1"
                                },
                                {
                                    "0": "NULL",
                                    "1": "12",
                                    "2": "1"
                                },
                                {
                                    "0": "NULL",
                                    "1": "NULL",
                                    "2": "14"
                                },
                                {
                                    "0": "1972",
                                    "1": "NULL",
                                    "2": "1"
                                },
                                {
                                    "0": "1977",
                                    "1": "NULL",
                                    "2": "2"
                                },
                                {
                                    "0": "1980",
                                    "1": "NULL",
                                    "2": "1"
                                },
                                {
                                    "0": "1982",
                                    "1": "NULL",
                                    "2": "1"
                                },
                                {
                                    "0": "1984",
                                    "1": "NULL",
                                    "2": "1"
                                },
                                {
                                    "0": "1992",
                                    "1": "NULL",
                                    "2": "1"
                                },
                                {
                                    "0": "1999",
                                    "1": "NULL",
                                    "2": "1"
                                },
                                {
                                    "0": "2000",
                                    "1": "NULL",
                                    "2": "1"
                                },
                                {
                                    "0": "2005",
                                    "1": "NULL",
                                    "2": "1"
                                },
                                {
                                    "0": "2008",
                                    "1": "NULL",
                                    "2": "1"
                                },
                                {
                                    "0": "2016",
                                    "1": "NULL",
                                    "2": "1"
                                },
                                {
                                    "0": "2019",
                                    "1": "NULL",
                                    "2": "1"
                                },
                                {
                                    "0": "2022",
                                    "1": "NULL",
                                    "2": "1"
                                }
                            ]
                        },
                        "text/html": [
                            "<table>",
                            "<tr><th>Year</th><th>Month</th><th>Number of albums</th></tr>",
                            "<tr><td>1984</td><td>1</td><td>1</td></tr>",
                            "<tr><td>NULL</td><td>1</td><td>1</td></tr>",
                            "<tr><td>2016</td><td>2</td><td>1</td></tr>",
                            "<tr><td>NULL</td><td>2</td><td>1</td></tr>",
                            "<tr><td>2000</td><td>3</td><td>1</td></tr>",
                            "<tr><td>2005</td><td>3</td><td>1</td></tr>",
                            "<tr><td>2022</td><td>3</td><td>1</td></tr>",
                            "<tr><td>NULL</td><td>3</td><td>3</td></tr>",
                            "<tr><td>1999</td><td>5</td><td>1</td></tr>",
                            "<tr><td>NULL</td><td>5</td><td>1</td></tr>",
                            "<tr><td>1982</td><td>7</td><td>1</td></tr>",
                            "<tr><td>NULL</td><td>7</td><td>1</td></tr>",
                            "<tr><td>1977</td><td>9</td><td>1</td></tr>",
                            "<tr><td>1980</td><td>9</td><td>1</td></tr>",
                            "<tr><td>1992</td><td>9</td><td>1</td></tr>",
                            "<tr><td>NULL</td><td>9</td><td>3</td></tr>",
                            "<tr><td>1977</td><td>10</td><td>1</td></tr>",
                            "<tr><td>NULL</td><td>10</td><td>1</td></tr>",
                            "<tr><td>1972</td><td>11</td><td>1</td></tr>",
                            "<tr><td>2008</td><td>11</td><td>1</td></tr>",
                            "<tr><td>NULL</td><td>11</td><td>2</td></tr>",
                            "<tr><td>2019</td><td>12</td><td>1</td></tr>",
                            "<tr><td>NULL</td><td>12</td><td>1</td></tr>",
                            "<tr><td>NULL</td><td>NULL</td><td>14</td></tr>",
                            "<tr><td>1972</td><td>NULL</td><td>1</td></tr>",
                            "<tr><td>1977</td><td>NULL</td><td>2</td></tr>",
                            "<tr><td>1980</td><td>NULL</td><td>1</td></tr>",
                            "<tr><td>1982</td><td>NULL</td><td>1</td></tr>",
                            "<tr><td>1984</td><td>NULL</td><td>1</td></tr>",
                            "<tr><td>1992</td><td>NULL</td><td>1</td></tr>",
                            "<tr><td>1999</td><td>NULL</td><td>1</td></tr>",
                            "<tr><td>2000</td><td>NULL</td><td>1</td></tr>",
                            "<tr><td>2005</td><td>NULL</td><td>1</td></tr>",
                            "<tr><td>2008</td><td>NULL</td><td>1</td></tr>",
                            "<tr><td>2016</td><td>NULL</td><td>1</td></tr>",
                            "<tr><td>2019</td><td>NULL</td><td>1</td></tr>",
                            "<tr><td>2022</td><td>NULL</td><td>1</td></tr>",
                            "</table>"
                        ]
                    }
                }
            ],
            "execution_count": 6
        },
        {
            "cell_type": "code",
            "source": [
                "SELECT YEAR(release) as [Year], MONTH(release) as [Month], COUNT(release) as [Number of albums]\n",
                "from albums\n",
                "GROUP BY GROUPING SETS (YEAR(release), MONTH(release))"
            ],
            "metadata": {
                "language": "sql",
                "azdata_cell_guid": "18854bb3-dbde-4351-953c-70bc28667897"
            },
            "outputs": [
                {
                    "output_type": "display_data",
                    "data": {
                        "text/html": "(22 rows affected)"
                    },
                    "metadata": {}
                },
                {
                    "output_type": "display_data",
                    "data": {
                        "text/html": "Total execution time: 00:00:00.016"
                    },
                    "metadata": {}
                },
                {
                    "output_type": "execute_result",
                    "metadata": {},
                    "execution_count": 7,
                    "data": {
                        "application/vnd.dataresource+json": {
                            "schema": {
                                "fields": [
                                    {
                                        "name": "Year"
                                    },
                                    {
                                        "name": "Month"
                                    },
                                    {
                                        "name": "Number of albums"
                                    }
                                ]
                            },
                            "data": [
                                {
                                    "0": "NULL",
                                    "1": "1",
                                    "2": "1"
                                },
                                {
                                    "0": "NULL",
                                    "1": "2",
                                    "2": "1"
                                },
                                {
                                    "0": "NULL",
                                    "1": "3",
                                    "2": "3"
                                },
                                {
                                    "0": "NULL",
                                    "1": "5",
                                    "2": "1"
                                },
                                {
                                    "0": "NULL",
                                    "1": "7",
                                    "2": "1"
                                },
                                {
                                    "0": "NULL",
                                    "1": "9",
                                    "2": "3"
                                },
                                {
                                    "0": "NULL",
                                    "1": "10",
                                    "2": "1"
                                },
                                {
                                    "0": "NULL",
                                    "1": "11",
                                    "2": "2"
                                },
                                {
                                    "0": "NULL",
                                    "1": "12",
                                    "2": "1"
                                },
                                {
                                    "0": "1972",
                                    "1": "NULL",
                                    "2": "1"
                                },
                                {
                                    "0": "1977",
                                    "1": "NULL",
                                    "2": "2"
                                },
                                {
                                    "0": "1980",
                                    "1": "NULL",
                                    "2": "1"
                                },
                                {
                                    "0": "1982",
                                    "1": "NULL",
                                    "2": "1"
                                },
                                {
                                    "0": "1984",
                                    "1": "NULL",
                                    "2": "1"
                                },
                                {
                                    "0": "1992",
                                    "1": "NULL",
                                    "2": "1"
                                },
                                {
                                    "0": "1999",
                                    "1": "NULL",
                                    "2": "1"
                                },
                                {
                                    "0": "2000",
                                    "1": "NULL",
                                    "2": "1"
                                },
                                {
                                    "0": "2005",
                                    "1": "NULL",
                                    "2": "1"
                                },
                                {
                                    "0": "2008",
                                    "1": "NULL",
                                    "2": "1"
                                },
                                {
                                    "0": "2016",
                                    "1": "NULL",
                                    "2": "1"
                                },
                                {
                                    "0": "2019",
                                    "1": "NULL",
                                    "2": "1"
                                },
                                {
                                    "0": "2022",
                                    "1": "NULL",
                                    "2": "1"
                                }
                            ]
                        },
                        "text/html": [
                            "<table>",
                            "<tr><th>Year</th><th>Month</th><th>Number of albums</th></tr>",
                            "<tr><td>NULL</td><td>1</td><td>1</td></tr>",
                            "<tr><td>NULL</td><td>2</td><td>1</td></tr>",
                            "<tr><td>NULL</td><td>3</td><td>3</td></tr>",
                            "<tr><td>NULL</td><td>5</td><td>1</td></tr>",
                            "<tr><td>NULL</td><td>7</td><td>1</td></tr>",
                            "<tr><td>NULL</td><td>9</td><td>3</td></tr>",
                            "<tr><td>NULL</td><td>10</td><td>1</td></tr>",
                            "<tr><td>NULL</td><td>11</td><td>2</td></tr>",
                            "<tr><td>NULL</td><td>12</td><td>1</td></tr>",
                            "<tr><td>1972</td><td>NULL</td><td>1</td></tr>",
                            "<tr><td>1977</td><td>NULL</td><td>2</td></tr>",
                            "<tr><td>1980</td><td>NULL</td><td>1</td></tr>",
                            "<tr><td>1982</td><td>NULL</td><td>1</td></tr>",
                            "<tr><td>1984</td><td>NULL</td><td>1</td></tr>",
                            "<tr><td>1992</td><td>NULL</td><td>1</td></tr>",
                            "<tr><td>1999</td><td>NULL</td><td>1</td></tr>",
                            "<tr><td>2000</td><td>NULL</td><td>1</td></tr>",
                            "<tr><td>2005</td><td>NULL</td><td>1</td></tr>",
                            "<tr><td>2008</td><td>NULL</td><td>1</td></tr>",
                            "<tr><td>2016</td><td>NULL</td><td>1</td></tr>",
                            "<tr><td>2019</td><td>NULL</td><td>1</td></tr>",
                            "<tr><td>2022</td><td>NULL</td><td>1</td></tr>",
                            "</table>"
                        ]
                    }
                }
            ],
            "execution_count": 7
        },
        {
            "cell_type": "code",
            "source": [
                "SELECT name, SUM(length) OVER(PARTITION BY LEN(name)) AS [Total length]\n",
                "FROM tracks\n",
                "ORDER BY name"
            ],
            "metadata": {
                "language": "sql",
                "azdata_cell_guid": "b18f5a28-1e88-4921-a61e-fbb2444df2fa",
                "tags": [
                    "hide_input"
                ]
            },
            "outputs": [
                {
                    "output_type": "display_data",
                    "data": {
                        "text/html": "(11 rows affected)"
                    },
                    "metadata": {}
                },
                {
                    "output_type": "display_data",
                    "data": {
                        "text/html": "Total execution time: 00:00:00.014"
                    },
                    "metadata": {}
                },
                {
                    "output_type": "execute_result",
                    "metadata": {},
                    "execution_count": 11,
                    "data": {
                        "application/vnd.dataresource+json": {
                            "schema": {
                                "fields": [
                                    {
                                        "name": "name"
                                    },
                                    {
                                        "name": "Total length"
                                    }
                                ]
                            },
                            "data": [
                                {
                                    "0": "Ashes to Ashes",
                                    "1": "365"
                                },
                                {
                                    "0": "Heroes",
                                    "1": "332"
                                },
                                {
                                    "0": "Passenger",
                                    "1": "245"
                                },
                                {
                                    "0": "Saint Pablo",
                                    "1": "344"
                                },
                                {
                                    "0": "Scary Monsters",
                                    "1": "365"
                                },
                                {
                                    "0": "Welcome to Heartbreak",
                                    "1": "190"
                                },
                                {
                                    "0": "Who are you this time?",
                                    "1": "305"
                                },
                                {
                                    "0": "Бездельник №1",
                                    "1": "332"
                                },
                                {
                                    "0": "Бездельник №2",
                                    "1": "332"
                                },
                                {
                                    "0": "Ромашки",
                                    "1": "190"
                                },
                                {
                                    "0": "Сердца из железа",
                                    "1": "119"
                                }
                            ]
                        },
                        "text/html": [
                            "<table>",
                            "<tr><th>name</th><th>Total length</th></tr>",
                            "<tr><td>Ashes to Ashes</td><td>365</td></tr>",
                            "<tr><td>Heroes</td><td>332</td></tr>",
                            "<tr><td>Passenger</td><td>245</td></tr>",
                            "<tr><td>Saint Pablo</td><td>344</td></tr>",
                            "<tr><td>Scary Monsters</td><td>365</td></tr>",
                            "<tr><td>Welcome to Heartbreak</td><td>190</td></tr>",
                            "<tr><td>Who are you this time?</td><td>305</td></tr>",
                            "<tr><td>Бездельник №1</td><td>332</td></tr>",
                            "<tr><td>Бездельник №2</td><td>332</td></tr>",
                            "<tr><td>Ромашки</td><td>190</td></tr>",
                            "<tr><td>Сердца из железа</td><td>119</td></tr>",
                            "</table>"
                        ]
                    }
                }
            ],
            "execution_count": 11
        },
        {
            "cell_type": "markdown",
            "source": [
                "## 12. Написать запрос на разворачивание данных (PIVOT), отмена разворачивания (UNPIVOT)"
            ],
            "metadata": {
                "language": "sql",
                "azdata_cell_guid": "58e4569a-b506-4a9c-92d7-e39b144fe615"
            },
            "attachments": {}
        },
        {
            "cell_type": "code",
            "source": [
                "SELECT *\n",
                "FROM (\n",
                "    SELECT a.name AS author_name, b.name AS album_name\n",
                "    FROM authors a\n",
                "    JOIN albums b ON a.id = b.author\n",
                ") AS src\n",
                "PIVOT (\n",
                "    COUNT(album_name)\n",
                "    FOR author_name IN ([David Bowie], [Kanye West])\n",
                ") AS pivoted_data;"
            ],
            "metadata": {
                "language": "sql",
                "azdata_cell_guid": "2d5735cb-d0a8-4db2-b049-568b4f111665"
            },
            "outputs": [
                {
                    "output_type": "display_data",
                    "data": {
                        "text/html": "(1 row affected)"
                    },
                    "metadata": {}
                },
                {
                    "output_type": "display_data",
                    "data": {
                        "text/html": "Total execution time: 00:00:00.006"
                    },
                    "metadata": {}
                },
                {
                    "output_type": "execute_result",
                    "metadata": {},
                    "execution_count": 14,
                    "data": {
                        "application/vnd.dataresource+json": {
                            "schema": {
                                "fields": [
                                    {
                                        "name": "David Bowie"
                                    },
                                    {
                                        "name": "Kanye West"
                                    }
                                ]
                            },
                            "data": [
                                {
                                    "0": "2",
                                    "1": "2"
                                }
                            ]
                        },
                        "text/html": [
                            "<table>",
                            "<tr><th>David Bowie</th><th>Kanye West</th></tr>",
                            "<tr><td>2</td><td>2</td></tr>",
                            "</table>"
                        ]
                    }
                }
            ],
            "execution_count": 14
        },
        {
            "cell_type": "code",
            "source": [
                "SELECT *\n",
                "FROM (\n",
                "    SELECT *\n",
                "    FROM (\n",
                "        SELECT a.name AS author_name, b.name AS album_name\n",
                "        FROM authors a\n",
                "        JOIN albums b ON a.id = b.author\n",
                "    ) AS src\n",
                "    PIVOT (\n",
                "        COUNT(album_name)\n",
                "        FOR author_name IN ([David Bowie], [Kanye West])\n",
                "    ) AS pivoted_data\n",
                ") AS unpivoted_data\n",
                "UNPIVOT (\n",
                "    album_count FOR metric IN ([David Bowie], [Kanye West])\n",
                ") AS final_data;\n",
                ""
            ],
            "metadata": {
                "language": "sql",
                "azdata_cell_guid": "f8a87f16-1d18-402d-bc64-913006b5353a"
            },
            "outputs": [
                {
                    "output_type": "display_data",
                    "data": {
                        "text/html": "(2 rows affected)"
                    },
                    "metadata": {}
                },
                {
                    "output_type": "display_data",
                    "data": {
                        "text/html": "Total execution time: 00:00:00.005"
                    },
                    "metadata": {}
                },
                {
                    "output_type": "execute_result",
                    "metadata": {},
                    "execution_count": 17,
                    "data": {
                        "application/vnd.dataresource+json": {
                            "schema": {
                                "fields": [
                                    {
                                        "name": "album_count"
                                    },
                                    {
                                        "name": "metric"
                                    }
                                ]
                            },
                            "data": [
                                {
                                    "0": "2",
                                    "1": "David Bowie"
                                },
                                {
                                    "0": "2",
                                    "1": "Kanye West"
                                }
                            ]
                        },
                        "text/html": [
                            "<table>",
                            "<tr><th>album_count</th><th>metric</th></tr>",
                            "<tr><td>2</td><td>David Bowie</td></tr>",
                            "<tr><td>2</td><td>Kanye West</td></tr>",
                            "</table>"
                        ]
                    }
                }
            ],
            "execution_count": 17
        },
        {
            "cell_type": "markdown",
            "source": [
                "## 13. Написать по два запроса на каждое соединение таблиц: внутреннее, внешнее левое, внешнее правое, полное внешнее соединение. "
            ],
            "metadata": {
                "language": "sql",
                "azdata_cell_guid": "3c66bf18-6656-400f-9d32-a966f0ec274c"
            },
            "attachments": {}
        },
        {
            "cell_type": "code",
            "source": [
                "-- Query 1: Inner Join\n",
                "SELECT a.name AS author_name, b.name AS album_name\n",
                "FROM authors a\n",
                "INNER JOIN albums b ON a.id = b.author;"
            ],
            "metadata": {
                "language": "sql",
                "azdata_cell_guid": "9c35b5f5-f101-4c06-a2d7-a14127ba53ef",
                "tags": []
            },
            "outputs": [
                {
                    "output_type": "display_data",
                    "data": {
                        "text/html": "(14 rows affected)"
                    },
                    "metadata": {}
                },
                {
                    "output_type": "display_data",
                    "data": {
                        "text/html": "Total execution time: 00:00:00.013"
                    },
                    "metadata": {}
                },
                {
                    "output_type": "execute_result",
                    "metadata": {},
                    "execution_count": 18,
                    "data": {
                        "application/vnd.dataresource+json": {
                            "schema": {
                                "fields": [
                                    {
                                        "name": "author_name"
                                    },
                                    {
                                        "name": "album_name"
                                    }
                                ]
                            },
                            "data": [
                                {
                                    "0": "David Bowie",
                                    "1": "Scary Monsters"
                                },
                                {
                                    "0": "David Bowie",
                                    "1": "Heroes"
                                },
                                {
                                    "0": "Lou Reed",
                                    "1": "Transformer"
                                },
                                {
                                    "0": "Iggy Pop",
                                    "1": "Lust For Life"
                                },
                                {
                                    "0": "Tom Waits",
                                    "1": "Bone Machine"
                                },
                                {
                                    "0": "Stromae",
                                    "1": "Stromae"
                                },
                                {
                                    "0": "Скриптонит",
                                    "1": "2004"
                                },
                                {
                                    "0": "Виктор Цой",
                                    "1": "Последний Герой"
                                },
                                {
                                    "0": "Виктор Цой",
                                    "1": "45"
                                },
                                {
                                    "0": "Земфира",
                                    "1": "Прости меня моя любовь"
                                },
                                {
                                    "0": "Земфира",
                                    "1": "Земфира"
                                },
                                {
                                    "0": "Земфира",
                                    "1": "Вендетта"
                                },
                                {
                                    "0": "Kanye West",
                                    "1": "The Life of Pablo"
                                },
                                {
                                    "0": "Kanye West",
                                    "1": "808s & Heartbreak"
                                }
                            ]
                        },
                        "text/html": [
                            "<table>",
                            "<tr><th>author_name</th><th>album_name</th></tr>",
                            "<tr><td>David Bowie</td><td>Scary Monsters</td></tr>",
                            "<tr><td>David Bowie</td><td>Heroes</td></tr>",
                            "<tr><td>Lou Reed</td><td>Transformer</td></tr>",
                            "<tr><td>Iggy Pop</td><td>Lust For Life</td></tr>",
                            "<tr><td>Tom Waits</td><td>Bone Machine</td></tr>",
                            "<tr><td>Stromae</td><td>Stromae</td></tr>",
                            "<tr><td>Скриптонит</td><td>2004</td></tr>",
                            "<tr><td>Виктор Цой</td><td>Последний Герой</td></tr>",
                            "<tr><td>Виктор Цой</td><td>45</td></tr>",
                            "<tr><td>Земфира</td><td>Прости меня моя любовь</td></tr>",
                            "<tr><td>Земфира</td><td>Земфира</td></tr>",
                            "<tr><td>Земфира</td><td>Вендетта</td></tr>",
                            "<tr><td>Kanye West</td><td>The Life of Pablo</td></tr>",
                            "<tr><td>Kanye West</td><td>808s &amp; Heartbreak</td></tr>",
                            "</table>"
                        ]
                    }
                }
            ],
            "execution_count": 18
        },
        {
            "cell_type": "code",
            "source": [
                "SELECT a.id, a.name as [album name], a.release, t.id, t.name as [track name], t.length, t.album\n",
                "FROM albums a\n",
                "INNER JOIN tracks t ON a.id = t.album;\n",
                ""
            ],
            "metadata": {
                "language": "sql",
                "azdata_cell_guid": "4ff2450d-0580-4620-b8ac-12b34e416299"
            },
            "outputs": [
                {
                    "output_type": "display_data",
                    "data": {
                        "text/html": "(11 rows affected)"
                    },
                    "metadata": {}
                },
                {
                    "output_type": "display_data",
                    "data": {
                        "text/html": "Total execution time: 00:00:00.006"
                    },
                    "metadata": {}
                },
                {
                    "output_type": "execute_result",
                    "metadata": {},
                    "execution_count": 23,
                    "data": {
                        "application/vnd.dataresource+json": {
                            "schema": {
                                "fields": [
                                    {
                                        "name": "id"
                                    },
                                    {
                                        "name": "album name"
                                    },
                                    {
                                        "name": "release"
                                    },
                                    {
                                        "name": "id"
                                    },
                                    {
                                        "name": "trakc name"
                                    },
                                    {
                                        "name": "length"
                                    },
                                    {
                                        "name": "album"
                                    }
                                ]
                            },
                            "data": [
                                {
                                    "0": "1",
                                    "1": "Scary Monsters",
                                    "2": "1980-09-12",
                                    "3": "9",
                                    "4": "Scary Monsters",
                                    "5": "232",
                                    "6": "1"
                                },
                                {
                                    "0": "1",
                                    "1": "Scary Monsters",
                                    "2": "1980-09-12",
                                    "3": "10",
                                    "4": "Ashes to Ashes",
                                    "5": "133",
                                    "6": "1"
                                },
                                {
                                    "0": "2",
                                    "1": "Heroes",
                                    "2": "1977-10-14",
                                    "3": "11",
                                    "4": "Heroes",
                                    "5": "332",
                                    "6": "2"
                                },
                                {
                                    "0": "4",
                                    "1": "Lust For Life",
                                    "2": "1977-09-09",
                                    "3": "12",
                                    "4": "Passenger",
                                    "5": "245",
                                    "6": "4"
                                },
                                {
                                    "0": "5",
                                    "1": "Bone Machine",
                                    "2": "1992-09-08",
                                    "3": "13",
                                    "4": "Who are you this time?",
                                    "5": "305",
                                    "6": "5"
                                },
                                {
                                    "0": "9",
                                    "1": "45",
                                    "2": "1982-07-22",
                                    "3": "14",
                                    "4": "Бездельник №1",
                                    "5": "155",
                                    "6": "9"
                                },
                                {
                                    "0": "9",
                                    "1": "45",
                                    "2": "1982-07-22",
                                    "3": "15",
                                    "4": "Бездельник №2",
                                    "5": "177",
                                    "6": "9"
                                },
                                {
                                    "0": "13",
                                    "1": "The Life of Pablo",
                                    "2": "2016-02-14",
                                    "3": "16",
                                    "4": "Saint Pablo",
                                    "5": "344",
                                    "6": "13"
                                },
                                {
                                    "0": "14",
                                    "1": "808s & Heartbreak",
                                    "2": "2008-11-24",
                                    "3": "17",
                                    "4": "Welcome to Heartbreak",
                                    "5": "190",
                                    "6": "14"
                                },
                                {
                                    "0": "11",
                                    "1": "Земфира",
                                    "2": "1999-05-10",
                                    "3": "18",
                                    "4": "Ромашки",
                                    "5": "190",
                                    "6": "11"
                                },
                                {
                                    "0": "7",
                                    "1": "2004",
                                    "2": "2019-12-24",
                                    "3": "19",
                                    "4": "Сердца из железа",
                                    "5": "119",
                                    "6": "7"
                                }
                            ]
                        },
                        "text/html": [
                            "<table>",
                            "<tr><th>id</th><th>album name</th><th>release</th><th>id</th><th>trakc name</th><th>length</th><th>album</th></tr>",
                            "<tr><td>1</td><td>Scary Monsters</td><td>1980-09-12</td><td>9</td><td>Scary Monsters</td><td>232</td><td>1</td></tr>",
                            "<tr><td>1</td><td>Scary Monsters</td><td>1980-09-12</td><td>10</td><td>Ashes to Ashes</td><td>133</td><td>1</td></tr>",
                            "<tr><td>2</td><td>Heroes</td><td>1977-10-14</td><td>11</td><td>Heroes</td><td>332</td><td>2</td></tr>",
                            "<tr><td>4</td><td>Lust For Life</td><td>1977-09-09</td><td>12</td><td>Passenger</td><td>245</td><td>4</td></tr>",
                            "<tr><td>5</td><td>Bone Machine</td><td>1992-09-08</td><td>13</td><td>Who are you this time?</td><td>305</td><td>5</td></tr>",
                            "<tr><td>9</td><td>45</td><td>1982-07-22</td><td>14</td><td>Бездельник №1</td><td>155</td><td>9</td></tr>",
                            "<tr><td>9</td><td>45</td><td>1982-07-22</td><td>15</td><td>Бездельник №2</td><td>177</td><td>9</td></tr>",
                            "<tr><td>13</td><td>The Life of Pablo</td><td>2016-02-14</td><td>16</td><td>Saint Pablo</td><td>344</td><td>13</td></tr>",
                            "<tr><td>14</td><td>808s &amp; Heartbreak</td><td>2008-11-24</td><td>17</td><td>Welcome to Heartbreak</td><td>190</td><td>14</td></tr>",
                            "<tr><td>11</td><td>Земфира</td><td>1999-05-10</td><td>18</td><td>Ромашки</td><td>190</td><td>11</td></tr>",
                            "<tr><td>7</td><td>2004</td><td>2019-12-24</td><td>19</td><td>Сердца из железа</td><td>119</td><td>7</td></tr>",
                            "</table>"
                        ]
                    }
                }
            ],
            "execution_count": 23
        },
        {
            "cell_type": "code",
            "source": [
                "-- Query 2: Left Outer Join\n",
                "SELECT a.name AS author_name, b.name AS album_name\n",
                "FROM authors a\n",
                "LEFT JOIN albums b ON a.id = b.author;\n",
                ""
            ],
            "metadata": {
                "language": "sql",
                "azdata_cell_guid": "444188ba-7313-4571-974b-e3442a9a005c"
            },
            "outputs": [
                {
                    "output_type": "display_data",
                    "data": {
                        "text/html": "(15 rows affected)"
                    },
                    "metadata": {}
                },
                {
                    "output_type": "display_data",
                    "data": {
                        "text/html": "Total execution time: 00:00:00.006"
                    },
                    "metadata": {}
                },
                {
                    "output_type": "execute_result",
                    "metadata": {},
                    "execution_count": 19,
                    "data": {
                        "application/vnd.dataresource+json": {
                            "schema": {
                                "fields": [
                                    {
                                        "name": "author_name"
                                    },
                                    {
                                        "name": "album_name"
                                    }
                                ]
                            },
                            "data": [
                                {
                                    "0": "David Bowie",
                                    "1": "Scary Monsters"
                                },
                                {
                                    "0": "David Bowie",
                                    "1": "Heroes"
                                },
                                {
                                    "0": "Iggy Pop",
                                    "1": "Lust For Life"
                                },
                                {
                                    "0": "Lou Reed",
                                    "1": "Transformer"
                                },
                                {
                                    "0": "Tom Waits",
                                    "1": "Bone Machine"
                                },
                                {
                                    "0": "Stromae",
                                    "1": "Stromae"
                                },
                                {
                                    "0": "Скриптонит",
                                    "1": "2004"
                                },
                                {
                                    "0": "Виктор Цой",
                                    "1": "Последний Герой"
                                },
                                {
                                    "0": "Виктор Цой",
                                    "1": "45"
                                },
                                {
                                    "0": "Земфира",
                                    "1": "Прости меня моя любовь"
                                },
                                {
                                    "0": "Земфира",
                                    "1": "Земфира"
                                },
                                {
                                    "0": "Земфира",
                                    "1": "Вендетта"
                                },
                                {
                                    "0": "Jim Morrison",
                                    "1": "NULL"
                                },
                                {
                                    "0": "Kanye West",
                                    "1": "The Life of Pablo"
                                },
                                {
                                    "0": "Kanye West",
                                    "1": "808s & Heartbreak"
                                }
                            ]
                        },
                        "text/html": [
                            "<table>",
                            "<tr><th>author_name</th><th>album_name</th></tr>",
                            "<tr><td>David Bowie</td><td>Scary Monsters</td></tr>",
                            "<tr><td>David Bowie</td><td>Heroes</td></tr>",
                            "<tr><td>Iggy Pop</td><td>Lust For Life</td></tr>",
                            "<tr><td>Lou Reed</td><td>Transformer</td></tr>",
                            "<tr><td>Tom Waits</td><td>Bone Machine</td></tr>",
                            "<tr><td>Stromae</td><td>Stromae</td></tr>",
                            "<tr><td>Скриптонит</td><td>2004</td></tr>",
                            "<tr><td>Виктор Цой</td><td>Последний Герой</td></tr>",
                            "<tr><td>Виктор Цой</td><td>45</td></tr>",
                            "<tr><td>Земфира</td><td>Прости меня моя любовь</td></tr>",
                            "<tr><td>Земфира</td><td>Земфира</td></tr>",
                            "<tr><td>Земфира</td><td>Вендетта</td></tr>",
                            "<tr><td>Jim Morrison</td><td>NULL</td></tr>",
                            "<tr><td>Kanye West</td><td>The Life of Pablo</td></tr>",
                            "<tr><td>Kanye West</td><td>808s &amp; Heartbreak</td></tr>",
                            "</table>"
                        ]
                    }
                }
            ],
            "execution_count": 19
        },
        {
            "cell_type": "code",
            "source": [
                "SELECT a.id, a.name as [author name], b.id, b.name as [album name], b.author\n",
                "FROM authors a\n",
                "LEFT JOIN albums b ON a.id = b.author;"
            ],
            "metadata": {
                "language": "sql",
                "azdata_cell_guid": "d8436629-e0a4-4139-9e79-a06190142c65"
            },
            "outputs": [
                {
                    "output_type": "display_data",
                    "data": {
                        "text/html": "(15 rows affected)"
                    },
                    "metadata": {}
                },
                {
                    "output_type": "display_data",
                    "data": {
                        "text/html": "Total execution time: 00:00:00.007"
                    },
                    "metadata": {}
                },
                {
                    "output_type": "execute_result",
                    "metadata": {},
                    "execution_count": 25,
                    "data": {
                        "application/vnd.dataresource+json": {
                            "schema": {
                                "fields": [
                                    {
                                        "name": "id"
                                    },
                                    {
                                        "name": "author name"
                                    },
                                    {
                                        "name": "id"
                                    },
                                    {
                                        "name": "album name"
                                    },
                                    {
                                        "name": "author"
                                    }
                                ]
                            },
                            "data": [
                                {
                                    "0": "2",
                                    "1": "David Bowie",
                                    "2": "1",
                                    "3": "Scary Monsters",
                                    "4": "2"
                                },
                                {
                                    "0": "2",
                                    "1": "David Bowie",
                                    "2": "2",
                                    "3": "Heroes",
                                    "4": "2"
                                },
                                {
                                    "0": "3",
                                    "1": "Iggy Pop",
                                    "2": "4",
                                    "3": "Lust For Life",
                                    "4": "3"
                                },
                                {
                                    "0": "4",
                                    "1": "Lou Reed",
                                    "2": "3",
                                    "3": "Transformer",
                                    "4": "4"
                                },
                                {
                                    "0": "5",
                                    "1": "Tom Waits",
                                    "2": "5",
                                    "3": "Bone Machine",
                                    "4": "5"
                                },
                                {
                                    "0": "6",
                                    "1": "Stromae",
                                    "2": "6",
                                    "3": "Stromae",
                                    "4": "6"
                                },
                                {
                                    "0": "7",
                                    "1": "Скриптонит",
                                    "2": "7",
                                    "3": "2004",
                                    "4": "7"
                                },
                                {
                                    "0": "8",
                                    "1": "Виктор Цой",
                                    "2": "8",
                                    "3": "Последний Герой",
                                    "4": "8"
                                },
                                {
                                    "0": "8",
                                    "1": "Виктор Цой",
                                    "2": "9",
                                    "3": "45",
                                    "4": "8"
                                },
                                {
                                    "0": "9",
                                    "1": "Земфира",
                                    "2": "10",
                                    "3": "Прости меня моя любовь",
                                    "4": "9"
                                },
                                {
                                    "0": "9",
                                    "1": "Земфира",
                                    "2": "11",
                                    "3": "Земфира",
                                    "4": "9"
                                },
                                {
                                    "0": "9",
                                    "1": "Земфира",
                                    "2": "12",
                                    "3": "Вендетта",
                                    "4": "9"
                                },
                                {
                                    "0": "10",
                                    "1": "Jim Morrison",
                                    "2": "NULL",
                                    "3": "NULL",
                                    "4": "NULL"
                                },
                                {
                                    "0": "11",
                                    "1": "Kanye West",
                                    "2": "13",
                                    "3": "The Life of Pablo",
                                    "4": "11"
                                },
                                {
                                    "0": "11",
                                    "1": "Kanye West",
                                    "2": "14",
                                    "3": "808s & Heartbreak",
                                    "4": "11"
                                }
                            ]
                        },
                        "text/html": [
                            "<table>",
                            "<tr><th>id</th><th>author name</th><th>id</th><th>album name</th><th>author</th></tr>",
                            "<tr><td>2</td><td>David Bowie</td><td>1</td><td>Scary Monsters</td><td>2</td></tr>",
                            "<tr><td>2</td><td>David Bowie</td><td>2</td><td>Heroes</td><td>2</td></tr>",
                            "<tr><td>3</td><td>Iggy Pop</td><td>4</td><td>Lust For Life</td><td>3</td></tr>",
                            "<tr><td>4</td><td>Lou Reed</td><td>3</td><td>Transformer</td><td>4</td></tr>",
                            "<tr><td>5</td><td>Tom Waits</td><td>5</td><td>Bone Machine</td><td>5</td></tr>",
                            "<tr><td>6</td><td>Stromae</td><td>6</td><td>Stromae</td><td>6</td></tr>",
                            "<tr><td>7</td><td>Скриптонит</td><td>7</td><td>2004</td><td>7</td></tr>",
                            "<tr><td>8</td><td>Виктор Цой</td><td>8</td><td>Последний Герой</td><td>8</td></tr>",
                            "<tr><td>8</td><td>Виктор Цой</td><td>9</td><td>45</td><td>8</td></tr>",
                            "<tr><td>9</td><td>Земфира</td><td>10</td><td>Прости меня моя любовь</td><td>9</td></tr>",
                            "<tr><td>9</td><td>Земфира</td><td>11</td><td>Земфира</td><td>9</td></tr>",
                            "<tr><td>9</td><td>Земфира</td><td>12</td><td>Вендетта</td><td>9</td></tr>",
                            "<tr><td>10</td><td>Jim Morrison</td><td>NULL</td><td>NULL</td><td>NULL</td></tr>",
                            "<tr><td>11</td><td>Kanye West</td><td>13</td><td>The Life of Pablo</td><td>11</td></tr>",
                            "<tr><td>11</td><td>Kanye West</td><td>14</td><td>808s &amp; Heartbreak</td><td>11</td></tr>",
                            "</table>"
                        ]
                    }
                }
            ],
            "execution_count": 25
        },
        {
            "cell_type": "code",
            "source": [
                "-- Query 3: Right Outer Join\n",
                "SELECT a.name AS author_name, b.name AS album_name\n",
                "FROM authors a\n",
                "RIGHT JOIN albums b ON a.id = b.author;\n",
                ""
            ],
            "metadata": {
                "language": "sql",
                "azdata_cell_guid": "6ceaa48a-3561-4b03-bcc7-5b26f47ea496"
            },
            "outputs": [
                {
                    "output_type": "display_data",
                    "data": {
                        "text/html": "(14 rows affected)"
                    },
                    "metadata": {}
                },
                {
                    "output_type": "display_data",
                    "data": {
                        "text/html": "Total execution time: 00:00:00.013"
                    },
                    "metadata": {}
                },
                {
                    "output_type": "execute_result",
                    "metadata": {},
                    "execution_count": 20,
                    "data": {
                        "application/vnd.dataresource+json": {
                            "schema": {
                                "fields": [
                                    {
                                        "name": "author_name"
                                    },
                                    {
                                        "name": "album_name"
                                    }
                                ]
                            },
                            "data": [
                                {
                                    "0": "David Bowie",
                                    "1": "Scary Monsters"
                                },
                                {
                                    "0": "David Bowie",
                                    "1": "Heroes"
                                },
                                {
                                    "0": "Lou Reed",
                                    "1": "Transformer"
                                },
                                {
                                    "0": "Iggy Pop",
                                    "1": "Lust For Life"
                                },
                                {
                                    "0": "Tom Waits",
                                    "1": "Bone Machine"
                                },
                                {
                                    "0": "Stromae",
                                    "1": "Stromae"
                                },
                                {
                                    "0": "Скриптонит",
                                    "1": "2004"
                                },
                                {
                                    "0": "Виктор Цой",
                                    "1": "Последний Герой"
                                },
                                {
                                    "0": "Виктор Цой",
                                    "1": "45"
                                },
                                {
                                    "0": "Земфира",
                                    "1": "Прости меня моя любовь"
                                },
                                {
                                    "0": "Земфира",
                                    "1": "Земфира"
                                },
                                {
                                    "0": "Земфира",
                                    "1": "Вендетта"
                                },
                                {
                                    "0": "Kanye West",
                                    "1": "The Life of Pablo"
                                },
                                {
                                    "0": "Kanye West",
                                    "1": "808s & Heartbreak"
                                }
                            ]
                        },
                        "text/html": [
                            "<table>",
                            "<tr><th>author_name</th><th>album_name</th></tr>",
                            "<tr><td>David Bowie</td><td>Scary Monsters</td></tr>",
                            "<tr><td>David Bowie</td><td>Heroes</td></tr>",
                            "<tr><td>Lou Reed</td><td>Transformer</td></tr>",
                            "<tr><td>Iggy Pop</td><td>Lust For Life</td></tr>",
                            "<tr><td>Tom Waits</td><td>Bone Machine</td></tr>",
                            "<tr><td>Stromae</td><td>Stromae</td></tr>",
                            "<tr><td>Скриптонит</td><td>2004</td></tr>",
                            "<tr><td>Виктор Цой</td><td>Последний Герой</td></tr>",
                            "<tr><td>Виктор Цой</td><td>45</td></tr>",
                            "<tr><td>Земфира</td><td>Прости меня моя любовь</td></tr>",
                            "<tr><td>Земфира</td><td>Земфира</td></tr>",
                            "<tr><td>Земфира</td><td>Вендетта</td></tr>",
                            "<tr><td>Kanye West</td><td>The Life of Pablo</td></tr>",
                            "<tr><td>Kanye West</td><td>808s &amp; Heartbreak</td></tr>",
                            "</table>"
                        ]
                    }
                }
            ],
            "execution_count": 20
        },
        {
            "cell_type": "code",
            "source": [
                "SELECT a.id, a.name as [album name], a.release, t.id, t.name as [track name], t.length, t.album\n",
                "FROM albums a\n",
                "RIGHT JOIN tracks t ON a.id = t.album;\n",
                ""
            ],
            "metadata": {
                "language": "sql",
                "azdata_cell_guid": "9276b786-5099-477f-9c9c-797d7f93d972"
            },
            "outputs": [
                {
                    "output_type": "display_data",
                    "data": {
                        "text/html": "(11 rows affected)"
                    },
                    "metadata": {}
                },
                {
                    "output_type": "display_data",
                    "data": {
                        "text/html": "Total execution time: 00:00:00.007"
                    },
                    "metadata": {}
                },
                {
                    "output_type": "execute_result",
                    "metadata": {},
                    "execution_count": 26,
                    "data": {
                        "application/vnd.dataresource+json": {
                            "schema": {
                                "fields": [
                                    {
                                        "name": "id"
                                    },
                                    {
                                        "name": "album name"
                                    },
                                    {
                                        "name": "release"
                                    },
                                    {
                                        "name": "id"
                                    },
                                    {
                                        "name": "track name"
                                    },
                                    {
                                        "name": "length"
                                    },
                                    {
                                        "name": "album"
                                    }
                                ]
                            },
                            "data": [
                                {
                                    "0": "1",
                                    "1": "Scary Monsters",
                                    "2": "1980-09-12",
                                    "3": "9",
                                    "4": "Scary Monsters",
                                    "5": "232",
                                    "6": "1"
                                },
                                {
                                    "0": "1",
                                    "1": "Scary Monsters",
                                    "2": "1980-09-12",
                                    "3": "10",
                                    "4": "Ashes to Ashes",
                                    "5": "133",
                                    "6": "1"
                                },
                                {
                                    "0": "2",
                                    "1": "Heroes",
                                    "2": "1977-10-14",
                                    "3": "11",
                                    "4": "Heroes",
                                    "5": "332",
                                    "6": "2"
                                },
                                {
                                    "0": "4",
                                    "1": "Lust For Life",
                                    "2": "1977-09-09",
                                    "3": "12",
                                    "4": "Passenger",
                                    "5": "245",
                                    "6": "4"
                                },
                                {
                                    "0": "5",
                                    "1": "Bone Machine",
                                    "2": "1992-09-08",
                                    "3": "13",
                                    "4": "Who are you this time?",
                                    "5": "305",
                                    "6": "5"
                                },
                                {
                                    "0": "9",
                                    "1": "45",
                                    "2": "1982-07-22",
                                    "3": "14",
                                    "4": "Бездельник №1",
                                    "5": "155",
                                    "6": "9"
                                },
                                {
                                    "0": "9",
                                    "1": "45",
                                    "2": "1982-07-22",
                                    "3": "15",
                                    "4": "Бездельник №2",
                                    "5": "177",
                                    "6": "9"
                                },
                                {
                                    "0": "13",
                                    "1": "The Life of Pablo",
                                    "2": "2016-02-14",
                                    "3": "16",
                                    "4": "Saint Pablo",
                                    "5": "344",
                                    "6": "13"
                                },
                                {
                                    "0": "14",
                                    "1": "808s & Heartbreak",
                                    "2": "2008-11-24",
                                    "3": "17",
                                    "4": "Welcome to Heartbreak",
                                    "5": "190",
                                    "6": "14"
                                },
                                {
                                    "0": "11",
                                    "1": "Земфира",
                                    "2": "1999-05-10",
                                    "3": "18",
                                    "4": "Ромашки",
                                    "5": "190",
                                    "6": "11"
                                },
                                {
                                    "0": "7",
                                    "1": "2004",
                                    "2": "2019-12-24",
                                    "3": "19",
                                    "4": "Сердца из железа",
                                    "5": "119",
                                    "6": "7"
                                }
                            ]
                        },
                        "text/html": [
                            "<table>",
                            "<tr><th>id</th><th>album name</th><th>release</th><th>id</th><th>track name</th><th>length</th><th>album</th></tr>",
                            "<tr><td>1</td><td>Scary Monsters</td><td>1980-09-12</td><td>9</td><td>Scary Monsters</td><td>232</td><td>1</td></tr>",
                            "<tr><td>1</td><td>Scary Monsters</td><td>1980-09-12</td><td>10</td><td>Ashes to Ashes</td><td>133</td><td>1</td></tr>",
                            "<tr><td>2</td><td>Heroes</td><td>1977-10-14</td><td>11</td><td>Heroes</td><td>332</td><td>2</td></tr>",
                            "<tr><td>4</td><td>Lust For Life</td><td>1977-09-09</td><td>12</td><td>Passenger</td><td>245</td><td>4</td></tr>",
                            "<tr><td>5</td><td>Bone Machine</td><td>1992-09-08</td><td>13</td><td>Who are you this time?</td><td>305</td><td>5</td></tr>",
                            "<tr><td>9</td><td>45</td><td>1982-07-22</td><td>14</td><td>Бездельник №1</td><td>155</td><td>9</td></tr>",
                            "<tr><td>9</td><td>45</td><td>1982-07-22</td><td>15</td><td>Бездельник №2</td><td>177</td><td>9</td></tr>",
                            "<tr><td>13</td><td>The Life of Pablo</td><td>2016-02-14</td><td>16</td><td>Saint Pablo</td><td>344</td><td>13</td></tr>",
                            "<tr><td>14</td><td>808s &amp; Heartbreak</td><td>2008-11-24</td><td>17</td><td>Welcome to Heartbreak</td><td>190</td><td>14</td></tr>",
                            "<tr><td>11</td><td>Земфира</td><td>1999-05-10</td><td>18</td><td>Ромашки</td><td>190</td><td>11</td></tr>",
                            "<tr><td>7</td><td>2004</td><td>2019-12-24</td><td>19</td><td>Сердца из железа</td><td>119</td><td>7</td></tr>",
                            "</table>"
                        ]
                    }
                }
            ],
            "execution_count": 26
        },
        {
            "cell_type": "code",
            "source": [
                "-- Query 4: Full Outer Join\n",
                "SELECT a.name AS author_name, b.name AS album_name\n",
                "FROM authors a\n",
                "FULL JOIN albums b ON a.id = b.author;\n",
                ""
            ],
            "metadata": {
                "language": "sql",
                "azdata_cell_guid": "e26373c4-b7e1-49f8-8b94-879c7f41aeb5"
            },
            "outputs": [
                {
                    "output_type": "display_data",
                    "data": {
                        "text/html": "(15 rows affected)"
                    },
                    "metadata": {}
                },
                {
                    "output_type": "display_data",
                    "data": {
                        "text/html": "Total execution time: 00:00:00.007"
                    },
                    "metadata": {}
                },
                {
                    "output_type": "execute_result",
                    "metadata": {},
                    "execution_count": 21,
                    "data": {
                        "application/vnd.dataresource+json": {
                            "schema": {
                                "fields": [
                                    {
                                        "name": "author_name"
                                    },
                                    {
                                        "name": "album_name"
                                    }
                                ]
                            },
                            "data": [
                                {
                                    "0": "David Bowie",
                                    "1": "Scary Monsters"
                                },
                                {
                                    "0": "David Bowie",
                                    "1": "Heroes"
                                },
                                {
                                    "0": "Iggy Pop",
                                    "1": "Lust For Life"
                                },
                                {
                                    "0": "Lou Reed",
                                    "1": "Transformer"
                                },
                                {
                                    "0": "Tom Waits",
                                    "1": "Bone Machine"
                                },
                                {
                                    "0": "Stromae",
                                    "1": "Stromae"
                                },
                                {
                                    "0": "Скриптонит",
                                    "1": "2004"
                                },
                                {
                                    "0": "Виктор Цой",
                                    "1": "Последний Герой"
                                },
                                {
                                    "0": "Виктор Цой",
                                    "1": "45"
                                },
                                {
                                    "0": "Земфира",
                                    "1": "Прости меня моя любовь"
                                },
                                {
                                    "0": "Земфира",
                                    "1": "Земфира"
                                },
                                {
                                    "0": "Земфира",
                                    "1": "Вендетта"
                                },
                                {
                                    "0": "Jim Morrison",
                                    "1": "NULL"
                                },
                                {
                                    "0": "Kanye West",
                                    "1": "The Life of Pablo"
                                },
                                {
                                    "0": "Kanye West",
                                    "1": "808s & Heartbreak"
                                }
                            ]
                        },
                        "text/html": [
                            "<table>",
                            "<tr><th>author_name</th><th>album_name</th></tr>",
                            "<tr><td>David Bowie</td><td>Scary Monsters</td></tr>",
                            "<tr><td>David Bowie</td><td>Heroes</td></tr>",
                            "<tr><td>Iggy Pop</td><td>Lust For Life</td></tr>",
                            "<tr><td>Lou Reed</td><td>Transformer</td></tr>",
                            "<tr><td>Tom Waits</td><td>Bone Machine</td></tr>",
                            "<tr><td>Stromae</td><td>Stromae</td></tr>",
                            "<tr><td>Скриптонит</td><td>2004</td></tr>",
                            "<tr><td>Виктор Цой</td><td>Последний Герой</td></tr>",
                            "<tr><td>Виктор Цой</td><td>45</td></tr>",
                            "<tr><td>Земфира</td><td>Прости меня моя любовь</td></tr>",
                            "<tr><td>Земфира</td><td>Земфира</td></tr>",
                            "<tr><td>Земфира</td><td>Вендетта</td></tr>",
                            "<tr><td>Jim Morrison</td><td>NULL</td></tr>",
                            "<tr><td>Kanye West</td><td>The Life of Pablo</td></tr>",
                            "<tr><td>Kanye West</td><td>808s &amp; Heartbreak</td></tr>",
                            "</table>"
                        ]
                    }
                }
            ],
            "execution_count": 21
        },
        {
            "cell_type": "code",
            "source": [
                "SELECT *\n",
                "FROM albums a\n",
                "FULL JOIN tracks t ON a.id = t.album;\n",
                ""
            ],
            "metadata": {
                "language": "sql",
                "azdata_cell_guid": "8b8c589a-5863-4775-8eae-eaa686914082"
            },
            "outputs": [
                {
                    "output_type": "display_data",
                    "data": {
                        "text/html": "(16 rows affected)"
                    },
                    "metadata": {}
                },
                {
                    "output_type": "display_data",
                    "data": {
                        "text/html": "Total execution time: 00:00:00.013"
                    },
                    "metadata": {}
                },
                {
                    "output_type": "execute_result",
                    "metadata": {},
                    "execution_count": 27,
                    "data": {
                        "application/vnd.dataresource+json": {
                            "schema": {
                                "fields": [
                                    {
                                        "name": "id"
                                    },
                                    {
                                        "name": "name"
                                    },
                                    {
                                        "name": "author"
                                    },
                                    {
                                        "name": "release"
                                    },
                                    {
                                        "name": "id"
                                    },
                                    {
                                        "name": "name"
                                    },
                                    {
                                        "name": "length"
                                    },
                                    {
                                        "name": "album"
                                    }
                                ]
                            },
                            "data": [
                                {
                                    "0": "1",
                                    "1": "Scary Monsters",
                                    "2": "2",
                                    "3": "1980-09-12",
                                    "4": "9",
                                    "5": "Scary Monsters",
                                    "6": "232",
                                    "7": "1"
                                },
                                {
                                    "0": "1",
                                    "1": "Scary Monsters",
                                    "2": "2",
                                    "3": "1980-09-12",
                                    "4": "10",
                                    "5": "Ashes to Ashes",
                                    "6": "133",
                                    "7": "1"
                                },
                                {
                                    "0": "2",
                                    "1": "Heroes",
                                    "2": "2",
                                    "3": "1977-10-14",
                                    "4": "11",
                                    "5": "Heroes",
                                    "6": "332",
                                    "7": "2"
                                },
                                {
                                    "0": "3",
                                    "1": "Transformer",
                                    "2": "4",
                                    "3": "1972-11-08",
                                    "4": "NULL",
                                    "5": "NULL",
                                    "6": "NULL",
                                    "7": "NULL"
                                },
                                {
                                    "0": "4",
                                    "1": "Lust For Life",
                                    "2": "3",
                                    "3": "1977-09-09",
                                    "4": "12",
                                    "5": "Passenger",
                                    "6": "245",
                                    "7": "4"
                                },
                                {
                                    "0": "5",
                                    "1": "Bone Machine",
                                    "2": "5",
                                    "3": "1992-09-08",
                                    "4": "13",
                                    "5": "Who are you this time?",
                                    "6": "305",
                                    "7": "5"
                                },
                                {
                                    "0": "6",
                                    "1": "Stromae",
                                    "2": "6",
                                    "3": "2022-03-04",
                                    "4": "NULL",
                                    "5": "NULL",
                                    "6": "NULL",
                                    "7": "NULL"
                                },
                                {
                                    "0": "7",
                                    "1": "2004",
                                    "2": "7",
                                    "3": "2019-12-24",
                                    "4": "19",
                                    "5": "Сердца из железа",
                                    "6": "119",
                                    "7": "7"
                                },
                                {
                                    "0": "8",
                                    "1": "Последний Герой",
                                    "2": "8",
                                    "3": "1984-01-01",
                                    "4": "NULL",
                                    "5": "NULL",
                                    "6": "NULL",
                                    "7": "NULL"
                                },
                                {
                                    "0": "9",
                                    "1": "45",
                                    "2": "8",
                                    "3": "1982-07-22",
                                    "4": "14",
                                    "5": "Бездельник №1",
                                    "6": "155",
                                    "7": "9"
                                },
                                {
                                    "0": "9",
                                    "1": "45",
                                    "2": "8",
                                    "3": "1982-07-22",
                                    "4": "15",
                                    "5": "Бездельник №2",
                                    "6": "177",
                                    "7": "9"
                                },
                                {
                                    "0": "10",
                                    "1": "Прости меня моя любовь",
                                    "2": "9",
                                    "3": "2000-03-28",
                                    "4": "NULL",
                                    "5": "NULL",
                                    "6": "NULL",
                                    "7": "NULL"
                                },
                                {
                                    "0": "11",
                                    "1": "Земфира",
                                    "2": "9",
                                    "3": "1999-05-10",
                                    "4": "18",
                                    "5": "Ромашки",
                                    "6": "190",
                                    "7": "11"
                                },
                                {
                                    "0": "12",
                                    "1": "Вендетта",
                                    "2": "9",
                                    "3": "2005-03-01",
                                    "4": "NULL",
                                    "5": "NULL",
                                    "6": "NULL",
                                    "7": "NULL"
                                },
                                {
                                    "0": "13",
                                    "1": "The Life of Pablo",
                                    "2": "11",
                                    "3": "2016-02-14",
                                    "4": "16",
                                    "5": "Saint Pablo",
                                    "6": "344",
                                    "7": "13"
                                },
                                {
                                    "0": "14",
                                    "1": "808s & Heartbreak",
                                    "2": "11",
                                    "3": "2008-11-24",
                                    "4": "17",
                                    "5": "Welcome to Heartbreak",
                                    "6": "190",
                                    "7": "14"
                                }
                            ]
                        },
                        "text/html": [
                            "<table>",
                            "<tr><th>id</th><th>name</th><th>author</th><th>release</th><th>id</th><th>name</th><th>length</th><th>album</th></tr>",
                            "<tr><td>1</td><td>Scary Monsters</td><td>2</td><td>1980-09-12</td><td>9</td><td>Scary Monsters</td><td>232</td><td>1</td></tr>",
                            "<tr><td>1</td><td>Scary Monsters</td><td>2</td><td>1980-09-12</td><td>10</td><td>Ashes to Ashes</td><td>133</td><td>1</td></tr>",
                            "<tr><td>2</td><td>Heroes</td><td>2</td><td>1977-10-14</td><td>11</td><td>Heroes</td><td>332</td><td>2</td></tr>",
                            "<tr><td>3</td><td>Transformer</td><td>4</td><td>1972-11-08</td><td>NULL</td><td>NULL</td><td>NULL</td><td>NULL</td></tr>",
                            "<tr><td>4</td><td>Lust For Life</td><td>3</td><td>1977-09-09</td><td>12</td><td>Passenger</td><td>245</td><td>4</td></tr>",
                            "<tr><td>5</td><td>Bone Machine</td><td>5</td><td>1992-09-08</td><td>13</td><td>Who are you this time?</td><td>305</td><td>5</td></tr>",
                            "<tr><td>6</td><td>Stromae</td><td>6</td><td>2022-03-04</td><td>NULL</td><td>NULL</td><td>NULL</td><td>NULL</td></tr>",
                            "<tr><td>7</td><td>2004</td><td>7</td><td>2019-12-24</td><td>19</td><td>Сердца из железа</td><td>119</td><td>7</td></tr>",
                            "<tr><td>8</td><td>Последний Герой</td><td>8</td><td>1984-01-01</td><td>NULL</td><td>NULL</td><td>NULL</td><td>NULL</td></tr>",
                            "<tr><td>9</td><td>45</td><td>8</td><td>1982-07-22</td><td>14</td><td>Бездельник №1</td><td>155</td><td>9</td></tr>",
                            "<tr><td>9</td><td>45</td><td>8</td><td>1982-07-22</td><td>15</td><td>Бездельник №2</td><td>177</td><td>9</td></tr>",
                            "<tr><td>10</td><td>Прости меня моя любовь</td><td>9</td><td>2000-03-28</td><td>NULL</td><td>NULL</td><td>NULL</td><td>NULL</td></tr>",
                            "<tr><td>11</td><td>Земфира</td><td>9</td><td>1999-05-10</td><td>18</td><td>Ромашки</td><td>190</td><td>11</td></tr>",
                            "<tr><td>12</td><td>Вендетта</td><td>9</td><td>2005-03-01</td><td>NULL</td><td>NULL</td><td>NULL</td><td>NULL</td></tr>",
                            "<tr><td>13</td><td>The Life of Pablo</td><td>11</td><td>2016-02-14</td><td>16</td><td>Saint Pablo</td><td>344</td><td>13</td></tr>",
                            "<tr><td>14</td><td>808s &amp; Heartbreak</td><td>11</td><td>2008-11-24</td><td>17</td><td>Welcome to Heartbreak</td><td>190</td><td>14</td></tr>",
                            "</table>"
                        ]
                    }
                }
            ],
            "execution_count": 27
        },
        {
            "cell_type": "markdown",
            "source": [
                "## 14. Написать по два запроса на пересечение, разность, объединение таблиц"
            ],
            "metadata": {
                "language": "sql",
                "azdata_cell_guid": "f136690f-89b2-47f5-99ce-d4ca5c94e784"
            },
            "attachments": {}
        },
        {
            "cell_type": "code",
            "source": [
                "-- Query 1: Intersection\n",
                "SELECT name\n",
                "FROM albums\n",
                "INTERSECT\n",
                "SELECT name\n",
                "FROM tracks;\n",
                "\n",
                "-- Query 2: Intersection\n",
                "SELECT collections.id\n",
                "FROM collections\n",
                "INTERSECT\n",
                "SELECT id\n",
                "FROM items;"
            ],
            "metadata": {
                "language": "sql",
                "azdata_cell_guid": "99198cbe-385d-4c9e-a12a-b6808757937f"
            },
            "outputs": [
                {
                    "output_type": "display_data",
                    "data": {
                        "text/html": "(2 rows affected)"
                    },
                    "metadata": {}
                },
                {
                    "output_type": "display_data",
                    "data": {
                        "text/html": "(10 rows affected)"
                    },
                    "metadata": {}
                },
                {
                    "output_type": "display_data",
                    "data": {
                        "text/html": "Total execution time: 00:00:00.025"
                    },
                    "metadata": {}
                },
                {
                    "output_type": "execute_result",
                    "metadata": {},
                    "execution_count": 29,
                    "data": {
                        "application/vnd.dataresource+json": {
                            "schema": {
                                "fields": [
                                    {
                                        "name": "name"
                                    }
                                ]
                            },
                            "data": [
                                {
                                    "0": "Heroes"
                                },
                                {
                                    "0": "Scary Monsters"
                                }
                            ]
                        },
                        "text/html": [
                            "<table>",
                            "<tr><th>name</th></tr>",
                            "<tr><td>Heroes</td></tr>",
                            "<tr><td>Scary Monsters</td></tr>",
                            "</table>"
                        ]
                    }
                },
                {
                    "output_type": "execute_result",
                    "metadata": {},
                    "execution_count": 29,
                    "data": {
                        "application/vnd.dataresource+json": {
                            "schema": {
                                "fields": [
                                    {
                                        "name": "id"
                                    }
                                ]
                            },
                            "data": [
                                {
                                    "0": "1"
                                },
                                {
                                    "0": "2"
                                },
                                {
                                    "0": "3"
                                },
                                {
                                    "0": "4"
                                },
                                {
                                    "0": "5"
                                },
                                {
                                    "0": "6"
                                },
                                {
                                    "0": "7"
                                },
                                {
                                    "0": "8"
                                },
                                {
                                    "0": "9"
                                },
                                {
                                    "0": "10"
                                }
                            ]
                        },
                        "text/html": [
                            "<table>",
                            "<tr><th>id</th></tr>",
                            "<tr><td>1</td></tr>",
                            "<tr><td>2</td></tr>",
                            "<tr><td>3</td></tr>",
                            "<tr><td>4</td></tr>",
                            "<tr><td>5</td></tr>",
                            "<tr><td>6</td></tr>",
                            "<tr><td>7</td></tr>",
                            "<tr><td>8</td></tr>",
                            "<tr><td>9</td></tr>",
                            "<tr><td>10</td></tr>",
                            "</table>"
                        ]
                    }
                }
            ],
            "execution_count": 29
        },
        {
            "cell_type": "code",
            "source": [
                "-- Query 3: Difference\n",
                "SELECT name\n",
                "FROM albums\n",
                "EXCEPT\n",
                "SELECT name\n",
                "FROM tracks;\n",
                "\n",
                "-- Query 4: Difference\n",
                "SELECT id\n",
                "FROM collections\n",
                "EXCEPT\n",
                "SELECT id\n",
                "FROM authors;"
            ],
            "metadata": {
                "language": "sql",
                "azdata_cell_guid": "a8bfebca-ad87-44e0-8c2c-c7de54e37898"
            },
            "outputs": [
                {
                    "output_type": "display_data",
                    "data": {
                        "text/html": "(12 rows affected)"
                    },
                    "metadata": {}
                },
                {
                    "output_type": "display_data",
                    "data": {
                        "text/html": "(1 row affected)"
                    },
                    "metadata": {}
                },
                {
                    "output_type": "display_data",
                    "data": {
                        "text/html": "Total execution time: 00:00:00.009"
                    },
                    "metadata": {}
                },
                {
                    "output_type": "execute_result",
                    "metadata": {},
                    "execution_count": 31,
                    "data": {
                        "application/vnd.dataresource+json": {
                            "schema": {
                                "fields": [
                                    {
                                        "name": "name"
                                    }
                                ]
                            },
                            "data": [
                                {
                                    "0": "2004"
                                },
                                {
                                    "0": "45"
                                },
                                {
                                    "0": "808s & Heartbreak"
                                },
                                {
                                    "0": "Bone Machine"
                                },
                                {
                                    "0": "Lust For Life"
                                },
                                {
                                    "0": "Stromae"
                                },
                                {
                                    "0": "The Life of Pablo"
                                },
                                {
                                    "0": "Transformer"
                                },
                                {
                                    "0": "Вендетта"
                                },
                                {
                                    "0": "Земфира"
                                },
                                {
                                    "0": "Последний Герой"
                                },
                                {
                                    "0": "Прости меня моя любовь"
                                }
                            ]
                        },
                        "text/html": [
                            "<table>",
                            "<tr><th>name</th></tr>",
                            "<tr><td>2004</td></tr>",
                            "<tr><td>45</td></tr>",
                            "<tr><td>808s &amp; Heartbreak</td></tr>",
                            "<tr><td>Bone Machine</td></tr>",
                            "<tr><td>Lust For Life</td></tr>",
                            "<tr><td>Stromae</td></tr>",
                            "<tr><td>The Life of Pablo</td></tr>",
                            "<tr><td>Transformer</td></tr>",
                            "<tr><td>Вендетта</td></tr>",
                            "<tr><td>Земфира</td></tr>",
                            "<tr><td>Последний Герой</td></tr>",
                            "<tr><td>Прости меня моя любовь</td></tr>",
                            "</table>"
                        ]
                    }
                },
                {
                    "output_type": "execute_result",
                    "metadata": {},
                    "execution_count": 31,
                    "data": {
                        "application/vnd.dataresource+json": {
                            "schema": {
                                "fields": [
                                    {
                                        "name": "id"
                                    }
                                ]
                            },
                            "data": [
                                {
                                    "0": "1"
                                }
                            ]
                        },
                        "text/html": [
                            "<table>",
                            "<tr><th>id</th></tr>",
                            "<tr><td>1</td></tr>",
                            "</table>"
                        ]
                    }
                }
            ],
            "execution_count": 31
        },
        {
            "cell_type": "code",
            "source": [
                "-- Query 5: Union\n",
                "SELECT name\n",
                "FROM albums\n",
                "UNION\n",
                "SELECT name\n",
                "FROM tracks;\n",
                "\n",
                "-- Query 6: Union\n",
                "SELECT name\n",
                "FROM albums\n",
                "UNION ALL\n",
                "SELECT name\n",
                "FROM tracks;\n",
                ""
            ],
            "metadata": {
                "language": "sql",
                "azdata_cell_guid": "ab9b2664-8725-47d8-80b5-c412a4324948"
            },
            "outputs": [
                {
                    "output_type": "display_data",
                    "data": {
                        "text/html": "(23 rows affected)"
                    },
                    "metadata": {}
                },
                {
                    "output_type": "display_data",
                    "data": {
                        "text/html": "(25 rows affected)"
                    },
                    "metadata": {}
                },
                {
                    "output_type": "display_data",
                    "data": {
                        "text/html": "Total execution time: 00:00:00.009"
                    },
                    "metadata": {}
                },
                {
                    "output_type": "execute_result",
                    "metadata": {},
                    "execution_count": 32,
                    "data": {
                        "application/vnd.dataresource+json": {
                            "schema": {
                                "fields": [
                                    {
                                        "name": "name"
                                    }
                                ]
                            },
                            "data": [
                                {
                                    "0": "2004"
                                },
                                {
                                    "0": "45"
                                },
                                {
                                    "0": "808s & Heartbreak"
                                },
                                {
                                    "0": "Ashes to Ashes"
                                },
                                {
                                    "0": "Bone Machine"
                                },
                                {
                                    "0": "Heroes"
                                },
                                {
                                    "0": "Lust For Life"
                                },
                                {
                                    "0": "Passenger"
                                },
                                {
                                    "0": "Saint Pablo"
                                },
                                {
                                    "0": "Scary Monsters"
                                },
                                {
                                    "0": "Stromae"
                                },
                                {
                                    "0": "The Life of Pablo"
                                },
                                {
                                    "0": "Transformer"
                                },
                                {
                                    "0": "Welcome to Heartbreak"
                                },
                                {
                                    "0": "Who are you this time?"
                                },
                                {
                                    "0": "Бездельник №1"
                                },
                                {
                                    "0": "Бездельник №2"
                                },
                                {
                                    "0": "Вендетта"
                                },
                                {
                                    "0": "Земфира"
                                },
                                {
                                    "0": "Последний Герой"
                                },
                                {
                                    "0": "Прости меня моя любовь"
                                },
                                {
                                    "0": "Ромашки"
                                },
                                {
                                    "0": "Сердца из железа"
                                }
                            ]
                        },
                        "text/html": [
                            "<table>",
                            "<tr><th>name</th></tr>",
                            "<tr><td>2004</td></tr>",
                            "<tr><td>45</td></tr>",
                            "<tr><td>808s &amp; Heartbreak</td></tr>",
                            "<tr><td>Ashes to Ashes</td></tr>",
                            "<tr><td>Bone Machine</td></tr>",
                            "<tr><td>Heroes</td></tr>",
                            "<tr><td>Lust For Life</td></tr>",
                            "<tr><td>Passenger</td></tr>",
                            "<tr><td>Saint Pablo</td></tr>",
                            "<tr><td>Scary Monsters</td></tr>",
                            "<tr><td>Stromae</td></tr>",
                            "<tr><td>The Life of Pablo</td></tr>",
                            "<tr><td>Transformer</td></tr>",
                            "<tr><td>Welcome to Heartbreak</td></tr>",
                            "<tr><td>Who are you this time?</td></tr>",
                            "<tr><td>Бездельник №1</td></tr>",
                            "<tr><td>Бездельник №2</td></tr>",
                            "<tr><td>Вендетта</td></tr>",
                            "<tr><td>Земфира</td></tr>",
                            "<tr><td>Последний Герой</td></tr>",
                            "<tr><td>Прости меня моя любовь</td></tr>",
                            "<tr><td>Ромашки</td></tr>",
                            "<tr><td>Сердца из железа</td></tr>",
                            "</table>"
                        ]
                    }
                },
                {
                    "output_type": "execute_result",
                    "metadata": {},
                    "execution_count": 32,
                    "data": {
                        "application/vnd.dataresource+json": {
                            "schema": {
                                "fields": [
                                    {
                                        "name": "name"
                                    }
                                ]
                            },
                            "data": [
                                {
                                    "0": "2004"
                                },
                                {
                                    "0": "45"
                                },
                                {
                                    "0": "808s & Heartbreak"
                                },
                                {
                                    "0": "Bone Machine"
                                },
                                {
                                    "0": "Heroes"
                                },
                                {
                                    "0": "Lust For Life"
                                },
                                {
                                    "0": "Scary Monsters"
                                },
                                {
                                    "0": "Stromae"
                                },
                                {
                                    "0": "The Life of Pablo"
                                },
                                {
                                    "0": "Transformer"
                                },
                                {
                                    "0": "Вендетта"
                                },
                                {
                                    "0": "Земфира"
                                },
                                {
                                    "0": "Последний Герой"
                                },
                                {
                                    "0": "Прости меня моя любовь"
                                },
                                {
                                    "0": "Scary Monsters"
                                },
                                {
                                    "0": "Ashes to Ashes"
                                },
                                {
                                    "0": "Heroes"
                                },
                                {
                                    "0": "Passenger"
                                },
                                {
                                    "0": "Who are you this time?"
                                },
                                {
                                    "0": "Бездельник №1"
                                },
                                {
                                    "0": "Бездельник №2"
                                },
                                {
                                    "0": "Saint Pablo"
                                },
                                {
                                    "0": "Welcome to Heartbreak"
                                },
                                {
                                    "0": "Ромашки"
                                },
                                {
                                    "0": "Сердца из железа"
                                }
                            ]
                        },
                        "text/html": [
                            "<table>",
                            "<tr><th>name</th></tr>",
                            "<tr><td>2004</td></tr>",
                            "<tr><td>45</td></tr>",
                            "<tr><td>808s &amp; Heartbreak</td></tr>",
                            "<tr><td>Bone Machine</td></tr>",
                            "<tr><td>Heroes</td></tr>",
                            "<tr><td>Lust For Life</td></tr>",
                            "<tr><td>Scary Monsters</td></tr>",
                            "<tr><td>Stromae</td></tr>",
                            "<tr><td>The Life of Pablo</td></tr>",
                            "<tr><td>Transformer</td></tr>",
                            "<tr><td>Вендетта</td></tr>",
                            "<tr><td>Земфира</td></tr>",
                            "<tr><td>Последний Герой</td></tr>",
                            "<tr><td>Прости меня моя любовь</td></tr>",
                            "<tr><td>Scary Monsters</td></tr>",
                            "<tr><td>Ashes to Ashes</td></tr>",
                            "<tr><td>Heroes</td></tr>",
                            "<tr><td>Passenger</td></tr>",
                            "<tr><td>Who are you this time?</td></tr>",
                            "<tr><td>Бездельник №1</td></tr>",
                            "<tr><td>Бездельник №2</td></tr>",
                            "<tr><td>Saint Pablo</td></tr>",
                            "<tr><td>Welcome to Heartbreak</td></tr>",
                            "<tr><td>Ромашки</td></tr>",
                            "<tr><td>Сердца из железа</td></tr>",
                            "</table>"
                        ]
                    }
                }
            ],
            "execution_count": 32
        },
        {
            "cell_type": "markdown",
            "source": [
                "## 15. Написать 4 запроса с использованием подзапросов, используя операторы сравнения, операторы IN, ANY|SOME и ALL, предикат EXISTS"
            ],
            "metadata": {
                "language": "sql",
                "azdata_cell_guid": "af9f43c4-677e-49a7-8d0a-5797582ddb10"
            },
            "attachments": {}
        },
        {
            "cell_type": "code",
            "source": [
                "-- Query 1: Using IN operator\n",
                "SELECT *\n",
                "FROM albums\n",
                "WHERE author IN (SELECT id FROM authors WHERE birthday < '1990-01-01');"
            ],
            "metadata": {
                "language": "sql",
                "azdata_cell_guid": "540dda94-68bb-4ee9-98ba-1df3f931c249"
            },
            "outputs": [
                {
                    "output_type": "display_data",
                    "data": {
                        "text/html": "(13 rows affected)"
                    },
                    "metadata": {}
                },
                {
                    "output_type": "display_data",
                    "data": {
                        "text/html": "Total execution time: 00:00:00.021"
                    },
                    "metadata": {}
                },
                {
                    "output_type": "execute_result",
                    "metadata": {},
                    "execution_count": 33,
                    "data": {
                        "application/vnd.dataresource+json": {
                            "schema": {
                                "fields": [
                                    {
                                        "name": "id"
                                    },
                                    {
                                        "name": "name"
                                    },
                                    {
                                        "name": "author"
                                    },
                                    {
                                        "name": "release"
                                    }
                                ]
                            },
                            "data": [
                                {
                                    "0": "1",
                                    "1": "Scary Monsters",
                                    "2": "2",
                                    "3": "1980-09-12"
                                },
                                {
                                    "0": "2",
                                    "1": "Heroes",
                                    "2": "2",
                                    "3": "1977-10-14"
                                },
                                {
                                    "0": "3",
                                    "1": "Transformer",
                                    "2": "4",
                                    "3": "1972-11-08"
                                },
                                {
                                    "0": "4",
                                    "1": "Lust For Life",
                                    "2": "3",
                                    "3": "1977-09-09"
                                },
                                {
                                    "0": "5",
                                    "1": "Bone Machine",
                                    "2": "5",
                                    "3": "1992-09-08"
                                },
                                {
                                    "0": "6",
                                    "1": "Stromae",
                                    "2": "6",
                                    "3": "2022-03-04"
                                },
                                {
                                    "0": "8",
                                    "1": "Последний Герой",
                                    "2": "8",
                                    "3": "1984-01-01"
                                },
                                {
                                    "0": "9",
                                    "1": "45",
                                    "2": "8",
                                    "3": "1982-07-22"
                                },
                                {
                                    "0": "10",
                                    "1": "Прости меня моя любовь",
                                    "2": "9",
                                    "3": "2000-03-28"
                                },
                                {
                                    "0": "11",
                                    "1": "Земфира",
                                    "2": "9",
                                    "3": "1999-05-10"
                                },
                                {
                                    "0": "12",
                                    "1": "Вендетта",
                                    "2": "9",
                                    "3": "2005-03-01"
                                },
                                {
                                    "0": "13",
                                    "1": "The Life of Pablo",
                                    "2": "11",
                                    "3": "2016-02-14"
                                },
                                {
                                    "0": "14",
                                    "1": "808s & Heartbreak",
                                    "2": "11",
                                    "3": "2008-11-24"
                                }
                            ]
                        },
                        "text/html": [
                            "<table>",
                            "<tr><th>id</th><th>name</th><th>author</th><th>release</th></tr>",
                            "<tr><td>1</td><td>Scary Monsters</td><td>2</td><td>1980-09-12</td></tr>",
                            "<tr><td>2</td><td>Heroes</td><td>2</td><td>1977-10-14</td></tr>",
                            "<tr><td>3</td><td>Transformer</td><td>4</td><td>1972-11-08</td></tr>",
                            "<tr><td>4</td><td>Lust For Life</td><td>3</td><td>1977-09-09</td></tr>",
                            "<tr><td>5</td><td>Bone Machine</td><td>5</td><td>1992-09-08</td></tr>",
                            "<tr><td>6</td><td>Stromae</td><td>6</td><td>2022-03-04</td></tr>",
                            "<tr><td>8</td><td>Последний Герой</td><td>8</td><td>1984-01-01</td></tr>",
                            "<tr><td>9</td><td>45</td><td>8</td><td>1982-07-22</td></tr>",
                            "<tr><td>10</td><td>Прости меня моя любовь</td><td>9</td><td>2000-03-28</td></tr>",
                            "<tr><td>11</td><td>Земфира</td><td>9</td><td>1999-05-10</td></tr>",
                            "<tr><td>12</td><td>Вендетта</td><td>9</td><td>2005-03-01</td></tr>",
                            "<tr><td>13</td><td>The Life of Pablo</td><td>11</td><td>2016-02-14</td></tr>",
                            "<tr><td>14</td><td>808s &amp; Heartbreak</td><td>11</td><td>2008-11-24</td></tr>",
                            "</table>"
                        ]
                    }
                }
            ],
            "execution_count": 33
        },
        {
            "cell_type": "code",
            "source": [
                "-- Query 2: Using ANY|SOME operator\n",
                "SELECT *\n",
                "FROM albums\n",
                "WHERE release < ANY (SELECT birthday FROM authors);"
            ],
            "metadata": {
                "language": "sql",
                "azdata_cell_guid": "e9468a2d-2e80-4995-bbc3-90afb523b816"
            },
            "outputs": [
                {
                    "output_type": "display_data",
                    "data": {
                        "text/html": "(6 rows affected)"
                    },
                    "metadata": {}
                },
                {
                    "output_type": "display_data",
                    "data": {
                        "text/html": "Total execution time: 00:00:00.009"
                    },
                    "metadata": {}
                },
                {
                    "output_type": "execute_result",
                    "metadata": {},
                    "execution_count": 38,
                    "data": {
                        "application/vnd.dataresource+json": {
                            "schema": {
                                "fields": [
                                    {
                                        "name": "id"
                                    },
                                    {
                                        "name": "name"
                                    },
                                    {
                                        "name": "author"
                                    },
                                    {
                                        "name": "release"
                                    }
                                ]
                            },
                            "data": [
                                {
                                    "0": "1",
                                    "1": "Scary Monsters",
                                    "2": "2",
                                    "3": "1980-09-12"
                                },
                                {
                                    "0": "2",
                                    "1": "Heroes",
                                    "2": "2",
                                    "3": "1977-10-14"
                                },
                                {
                                    "0": "3",
                                    "1": "Transformer",
                                    "2": "4",
                                    "3": "1972-11-08"
                                },
                                {
                                    "0": "4",
                                    "1": "Lust For Life",
                                    "2": "3",
                                    "3": "1977-09-09"
                                },
                                {
                                    "0": "8",
                                    "1": "Последний Герой",
                                    "2": "8",
                                    "3": "1984-01-01"
                                },
                                {
                                    "0": "9",
                                    "1": "45",
                                    "2": "8",
                                    "3": "1982-07-22"
                                }
                            ]
                        },
                        "text/html": [
                            "<table>",
                            "<tr><th>id</th><th>name</th><th>author</th><th>release</th></tr>",
                            "<tr><td>1</td><td>Scary Monsters</td><td>2</td><td>1980-09-12</td></tr>",
                            "<tr><td>2</td><td>Heroes</td><td>2</td><td>1977-10-14</td></tr>",
                            "<tr><td>3</td><td>Transformer</td><td>4</td><td>1972-11-08</td></tr>",
                            "<tr><td>4</td><td>Lust For Life</td><td>3</td><td>1977-09-09</td></tr>",
                            "<tr><td>8</td><td>Последний Герой</td><td>8</td><td>1984-01-01</td></tr>",
                            "<tr><td>9</td><td>45</td><td>8</td><td>1982-07-22</td></tr>",
                            "</table>"
                        ]
                    }
                }
            ],
            "execution_count": 38
        },
        {
            "cell_type": "code",
            "source": [
                "-- Query 3: Using ALL operator\n",
                "SELECT *\n",
                "FROM items\n",
                "WHERE price > ALL (SELECT price from items WHERE price % 2 = 1);"
            ],
            "metadata": {
                "language": "sql",
                "azdata_cell_guid": "0784f32a-f415-492d-a2d1-e889dc39e202",
                "tags": []
            },
            "outputs": [
                {
                    "output_type": "display_data",
                    "data": {
                        "text/html": "(3 rows affected)"
                    },
                    "metadata": {}
                },
                {
                    "output_type": "display_data",
                    "data": {
                        "text/html": "Total execution time: 00:00:00.009"
                    },
                    "metadata": {}
                },
                {
                    "output_type": "execute_result",
                    "metadata": {},
                    "execution_count": 46,
                    "data": {
                        "application/vnd.dataresource+json": {
                            "schema": {
                                "fields": [
                                    {
                                        "name": "id"
                                    },
                                    {
                                        "name": "album"
                                    },
                                    {
                                        "name": "collection"
                                    },
                                    {
                                        "name": "type"
                                    },
                                    {
                                        "name": "price"
                                    }
                                ]
                            },
                            "data": [
                                {
                                    "0": "12",
                                    "1": "13",
                                    "2": "6",
                                    "3": "Vinyl",
                                    "4": "100.00"
                                },
                                {
                                    "0": "13",
                                    "1": "14",
                                    "2": "6",
                                    "3": "Vinyl",
                                    "4": "80.00"
                                },
                                {
                                    "0": "14",
                                    "1": "5",
                                    "2": "6",
                                    "3": "Vinyl",
                                    "4": "300.00"
                                }
                            ]
                        },
                        "text/html": [
                            "<table>",
                            "<tr><th>id</th><th>album</th><th>collection</th><th>type</th><th>price</th></tr>",
                            "<tr><td>12</td><td>13</td><td>6</td><td>Vinyl</td><td>100.00</td></tr>",
                            "<tr><td>13</td><td>14</td><td>6</td><td>Vinyl</td><td>80.00</td></tr>",
                            "<tr><td>14</td><td>5</td><td>6</td><td>Vinyl</td><td>300.00</td></tr>",
                            "</table>"
                        ]
                    }
                }
            ],
            "execution_count": 46
        },
        {
            "cell_type": "code",
            "source": [
                "-- Query 4: Using EXISTS predicate\n",
                "SELECT *\n",
                "FROM albums a\n",
                "WHERE EXISTS (SELECT 1 FROM items i WHERE i.album = a.id AND i.[type] = 'Vinyl');"
            ],
            "metadata": {
                "language": "sql",
                "azdata_cell_guid": "2ad20e31-a867-41eb-9cec-b56ab7888513"
            },
            "outputs": [
                {
                    "output_type": "display_data",
                    "data": {
                        "text/html": "(6 rows affected)"
                    },
                    "metadata": {}
                },
                {
                    "output_type": "display_data",
                    "data": {
                        "text/html": "Total execution time: 00:00:00.008"
                    },
                    "metadata": {}
                },
                {
                    "output_type": "execute_result",
                    "metadata": {},
                    "execution_count": 48,
                    "data": {
                        "application/vnd.dataresource+json": {
                            "schema": {
                                "fields": [
                                    {
                                        "name": "id"
                                    },
                                    {
                                        "name": "name"
                                    },
                                    {
                                        "name": "author"
                                    },
                                    {
                                        "name": "release"
                                    }
                                ]
                            },
                            "data": [
                                {
                                    "0": "1",
                                    "1": "Scary Monsters",
                                    "2": "2",
                                    "3": "1980-09-12"
                                },
                                {
                                    "0": "2",
                                    "1": "Heroes",
                                    "2": "2",
                                    "3": "1977-10-14"
                                },
                                {
                                    "0": "4",
                                    "1": "Lust For Life",
                                    "2": "3",
                                    "3": "1977-09-09"
                                },
                                {
                                    "0": "5",
                                    "1": "Bone Machine",
                                    "2": "5",
                                    "3": "1992-09-08"
                                },
                                {
                                    "0": "13",
                                    "1": "The Life of Pablo",
                                    "2": "11",
                                    "3": "2016-02-14"
                                },
                                {
                                    "0": "14",
                                    "1": "808s & Heartbreak",
                                    "2": "11",
                                    "3": "2008-11-24"
                                }
                            ]
                        },
                        "text/html": [
                            "<table>",
                            "<tr><th>id</th><th>name</th><th>author</th><th>release</th></tr>",
                            "<tr><td>1</td><td>Scary Monsters</td><td>2</td><td>1980-09-12</td></tr>",
                            "<tr><td>2</td><td>Heroes</td><td>2</td><td>1977-10-14</td></tr>",
                            "<tr><td>4</td><td>Lust For Life</td><td>3</td><td>1977-09-09</td></tr>",
                            "<tr><td>5</td><td>Bone Machine</td><td>5</td><td>1992-09-08</td></tr>",
                            "<tr><td>13</td><td>The Life of Pablo</td><td>11</td><td>2016-02-14</td></tr>",
                            "<tr><td>14</td><td>808s &amp; Heartbreak</td><td>11</td><td>2008-11-24</td></tr>",
                            "</table>"
                        ]
                    }
                }
            ],
            "execution_count": 48
        },
        {
            "cell_type": "markdown",
            "source": [
                "## 16. Написать 4 запроса по строковым функциям"
            ],
            "metadata": {
                "language": "sql",
                "azdata_cell_guid": "42d43b22-5aa9-4135-9da4-fd2dbc35aa04"
            },
            "attachments": {}
        },
        {
            "cell_type": "code",
            "source": [
                "-- Query 1: Using CONCAT function\n",
                "SELECT CONCAT(name, ' - ', author) AS [Album info]\n",
                "FROM albums;"
            ],
            "metadata": {
                "language": "sql",
                "azdata_cell_guid": "06282161-8ca2-4603-a6f0-8dabd46aeea3"
            },
            "outputs": [
                {
                    "output_type": "display_data",
                    "data": {
                        "text/html": "(14 rows affected)"
                    },
                    "metadata": {}
                },
                {
                    "output_type": "display_data",
                    "data": {
                        "text/html": "Total execution time: 00:00:00.005"
                    },
                    "metadata": {}
                },
                {
                    "output_type": "execute_result",
                    "metadata": {},
                    "execution_count": 49,
                    "data": {
                        "application/vnd.dataresource+json": {
                            "schema": {
                                "fields": [
                                    {
                                        "name": "Album info"
                                    }
                                ]
                            },
                            "data": [
                                {
                                    "0": "Scary Monsters - 2"
                                },
                                {
                                    "0": "Heroes - 2"
                                },
                                {
                                    "0": "Transformer - 4"
                                },
                                {
                                    "0": "Lust For Life - 3"
                                },
                                {
                                    "0": "Bone Machine - 5"
                                },
                                {
                                    "0": "Stromae - 6"
                                },
                                {
                                    "0": "2004 - 7"
                                },
                                {
                                    "0": "Последний Герой - 8"
                                },
                                {
                                    "0": "45 - 8"
                                },
                                {
                                    "0": "Прости меня моя любовь - 9"
                                },
                                {
                                    "0": "Земфира - 9"
                                },
                                {
                                    "0": "Вендетта - 9"
                                },
                                {
                                    "0": "The Life of Pablo - 11"
                                },
                                {
                                    "0": "808s & Heartbreak - 11"
                                }
                            ]
                        },
                        "text/html": [
                            "<table>",
                            "<tr><th>Album info</th></tr>",
                            "<tr><td>Scary Monsters - 2</td></tr>",
                            "<tr><td>Heroes - 2</td></tr>",
                            "<tr><td>Transformer - 4</td></tr>",
                            "<tr><td>Lust For Life - 3</td></tr>",
                            "<tr><td>Bone Machine - 5</td></tr>",
                            "<tr><td>Stromae - 6</td></tr>",
                            "<tr><td>2004 - 7</td></tr>",
                            "<tr><td>Последний Герой - 8</td></tr>",
                            "<tr><td>45 - 8</td></tr>",
                            "<tr><td>Прости меня моя любовь - 9</td></tr>",
                            "<tr><td>Земфира - 9</td></tr>",
                            "<tr><td>Вендетта - 9</td></tr>",
                            "<tr><td>The Life of Pablo - 11</td></tr>",
                            "<tr><td>808s &amp; Heartbreak - 11</td></tr>",
                            "</table>"
                        ]
                    }
                }
            ],
            "execution_count": 49
        },
        {
            "cell_type": "code",
            "source": [
                "-- Query 2: Using LEFT function\n",
                "SELECT name, LEFT(name, 3) AS [First three characters]\n",
                "FROM authors;\n",
                ""
            ],
            "metadata": {
                "language": "sql",
                "azdata_cell_guid": "1d926d11-1cf4-4005-9360-0551f3c262ce"
            },
            "outputs": [
                {
                    "output_type": "display_data",
                    "data": {
                        "text/html": "(14 rows affected)"
                    },
                    "metadata": {}
                },
                {
                    "output_type": "display_data",
                    "data": {
                        "text/html": "Total execution time: 00:00:00.005"
                    },
                    "metadata": {}
                },
                {
                    "output_type": "execute_result",
                    "metadata": {},
                    "execution_count": 50,
                    "data": {
                        "application/vnd.dataresource+json": {
                            "schema": {
                                "fields": [
                                    {
                                        "name": "name"
                                    },
                                    {
                                        "name": "First three characters"
                                    }
                                ]
                            },
                            "data": [
                                {
                                    "0": "2004",
                                    "1": "200"
                                },
                                {
                                    "0": "45",
                                    "1": "45"
                                },
                                {
                                    "0": "808s & Heartbreak",
                                    "1": "808"
                                },
                                {
                                    "0": "Bone Machine",
                                    "1": "Bon"
                                },
                                {
                                    "0": "Heroes",
                                    "1": "Her"
                                },
                                {
                                    "0": "Lust For Life",
                                    "1": "Lus"
                                },
                                {
                                    "0": "Scary Monsters",
                                    "1": "Sca"
                                },
                                {
                                    "0": "Stromae",
                                    "1": "Str"
                                },
                                {
                                    "0": "The Life of Pablo",
                                    "1": "The"
                                },
                                {
                                    "0": "Transformer",
                                    "1": "Tra"
                                },
                                {
                                    "0": "Вендетта",
                                    "1": "Вен"
                                },
                                {
                                    "0": "Земфира",
                                    "1": "Зем"
                                },
                                {
                                    "0": "Последний Герой",
                                    "1": "Пос"
                                },
                                {
                                    "0": "Прости меня моя любовь",
                                    "1": "Про"
                                }
                            ]
                        },
                        "text/html": [
                            "<table>",
                            "<tr><th>name</th><th>First three characters</th></tr>",
                            "<tr><td>2004</td><td>200</td></tr>",
                            "<tr><td>45</td><td>45</td></tr>",
                            "<tr><td>808s &amp; Heartbreak</td><td>808</td></tr>",
                            "<tr><td>Bone Machine</td><td>Bon</td></tr>",
                            "<tr><td>Heroes</td><td>Her</td></tr>",
                            "<tr><td>Lust For Life</td><td>Lus</td></tr>",
                            "<tr><td>Scary Monsters</td><td>Sca</td></tr>",
                            "<tr><td>Stromae</td><td>Str</td></tr>",
                            "<tr><td>The Life of Pablo</td><td>The</td></tr>",
                            "<tr><td>Transformer</td><td>Tra</td></tr>",
                            "<tr><td>Вендетта</td><td>Вен</td></tr>",
                            "<tr><td>Земфира</td><td>Зем</td></tr>",
                            "<tr><td>Последний Герой</td><td>Пос</td></tr>",
                            "<tr><td>Прости меня моя любовь</td><td>Про</td></tr>",
                            "</table>"
                        ]
                    }
                }
            ],
            "execution_count": 50
        },
        {
            "cell_type": "code",
            "source": [
                "-- Query 3: Using LEN function\n",
                "SELECT name, LEN(name) AS [Name length]\n",
                "FROM albums;\n",
                ""
            ],
            "metadata": {
                "language": "sql",
                "azdata_cell_guid": "e75ae28e-710f-450a-b6b3-2c04717fff1f"
            },
            "outputs": [
                {
                    "output_type": "display_data",
                    "data": {
                        "text/html": "(14 rows affected)"
                    },
                    "metadata": {}
                },
                {
                    "output_type": "display_data",
                    "data": {
                        "text/html": "Total execution time: 00:00:00.003"
                    },
                    "metadata": {}
                },
                {
                    "output_type": "execute_result",
                    "metadata": {},
                    "execution_count": 52,
                    "data": {
                        "application/vnd.dataresource+json": {
                            "schema": {
                                "fields": [
                                    {
                                        "name": "name"
                                    },
                                    {
                                        "name": "Name length"
                                    }
                                ]
                            },
                            "data": [
                                {
                                    "0": "2004",
                                    "1": "4"
                                },
                                {
                                    "0": "45",
                                    "1": "2"
                                },
                                {
                                    "0": "808s & Heartbreak",
                                    "1": "17"
                                },
                                {
                                    "0": "Bone Machine",
                                    "1": "12"
                                },
                                {
                                    "0": "Heroes",
                                    "1": "6"
                                },
                                {
                                    "0": "Lust For Life",
                                    "1": "13"
                                },
                                {
                                    "0": "Scary Monsters",
                                    "1": "14"
                                },
                                {
                                    "0": "Stromae",
                                    "1": "7"
                                },
                                {
                                    "0": "The Life of Pablo",
                                    "1": "17"
                                },
                                {
                                    "0": "Transformer",
                                    "1": "11"
                                },
                                {
                                    "0": "Вендетта",
                                    "1": "8"
                                },
                                {
                                    "0": "Земфира",
                                    "1": "7"
                                },
                                {
                                    "0": "Последний Герой",
                                    "1": "15"
                                },
                                {
                                    "0": "Прости меня моя любовь",
                                    "1": "22"
                                }
                            ]
                        },
                        "text/html": [
                            "<table>",
                            "<tr><th>name</th><th>Name length</th></tr>",
                            "<tr><td>2004</td><td>4</td></tr>",
                            "<tr><td>45</td><td>2</td></tr>",
                            "<tr><td>808s &amp; Heartbreak</td><td>17</td></tr>",
                            "<tr><td>Bone Machine</td><td>12</td></tr>",
                            "<tr><td>Heroes</td><td>6</td></tr>",
                            "<tr><td>Lust For Life</td><td>13</td></tr>",
                            "<tr><td>Scary Monsters</td><td>14</td></tr>",
                            "<tr><td>Stromae</td><td>7</td></tr>",
                            "<tr><td>The Life of Pablo</td><td>17</td></tr>",
                            "<tr><td>Transformer</td><td>11</td></tr>",
                            "<tr><td>Вендетта</td><td>8</td></tr>",
                            "<tr><td>Земфира</td><td>7</td></tr>",
                            "<tr><td>Последний Герой</td><td>15</td></tr>",
                            "<tr><td>Прости меня моя любовь</td><td>22</td></tr>",
                            "</table>"
                        ]
                    }
                }
            ],
            "execution_count": 52
        },
        {
            "cell_type": "code",
            "source": [
                "-- Query 4: Using REPLACE function\n",
                "SELECT name, REPLACE(name, ' ', '-') AS [Name without spaces]\n",
                "FROM albums;\n",
                ""
            ],
            "metadata": {
                "language": "sql",
                "azdata_cell_guid": "cd32f81c-aba8-4248-b3ca-281f344d615c"
            },
            "outputs": [
                {
                    "output_type": "display_data",
                    "data": {
                        "text/html": "(14 rows affected)"
                    },
                    "metadata": {}
                },
                {
                    "output_type": "display_data",
                    "data": {
                        "text/html": "Total execution time: 00:00:00.004"
                    },
                    "metadata": {}
                },
                {
                    "output_type": "execute_result",
                    "metadata": {},
                    "execution_count": 53,
                    "data": {
                        "application/vnd.dataresource+json": {
                            "schema": {
                                "fields": [
                                    {
                                        "name": "name"
                                    },
                                    {
                                        "name": "Name without spaces"
                                    }
                                ]
                            },
                            "data": [
                                {
                                    "0": "2004",
                                    "1": "2004"
                                },
                                {
                                    "0": "45",
                                    "1": "45"
                                },
                                {
                                    "0": "808s & Heartbreak",
                                    "1": "808s-&-Heartbreak"
                                },
                                {
                                    "0": "Bone Machine",
                                    "1": "Bone-Machine"
                                },
                                {
                                    "0": "Heroes",
                                    "1": "Heroes"
                                },
                                {
                                    "0": "Lust For Life",
                                    "1": "Lust-For-Life"
                                },
                                {
                                    "0": "Scary Monsters",
                                    "1": "Scary-Monsters"
                                },
                                {
                                    "0": "Stromae",
                                    "1": "Stromae"
                                },
                                {
                                    "0": "The Life of Pablo",
                                    "1": "The-Life-of-Pablo"
                                },
                                {
                                    "0": "Transformer",
                                    "1": "Transformer"
                                },
                                {
                                    "0": "Вендетта",
                                    "1": "Вендетта"
                                },
                                {
                                    "0": "Земфира",
                                    "1": "Земфира"
                                },
                                {
                                    "0": "Последний Герой",
                                    "1": "Последний-Герой"
                                },
                                {
                                    "0": "Прости меня моя любовь",
                                    "1": "Прости-меня-моя-любовь"
                                }
                            ]
                        },
                        "text/html": [
                            "<table>",
                            "<tr><th>name</th><th>Name without spaces</th></tr>",
                            "<tr><td>2004</td><td>2004</td></tr>",
                            "<tr><td>45</td><td>45</td></tr>",
                            "<tr><td>808s &amp; Heartbreak</td><td>808s-&amp;-Heartbreak</td></tr>",
                            "<tr><td>Bone Machine</td><td>Bone-Machine</td></tr>",
                            "<tr><td>Heroes</td><td>Heroes</td></tr>",
                            "<tr><td>Lust For Life</td><td>Lust-For-Life</td></tr>",
                            "<tr><td>Scary Monsters</td><td>Scary-Monsters</td></tr>",
                            "<tr><td>Stromae</td><td>Stromae</td></tr>",
                            "<tr><td>The Life of Pablo</td><td>The-Life-of-Pablo</td></tr>",
                            "<tr><td>Transformer</td><td>Transformer</td></tr>",
                            "<tr><td>Вендетта</td><td>Вендетта</td></tr>",
                            "<tr><td>Земфира</td><td>Земфира</td></tr>",
                            "<tr><td>Последний Герой</td><td>Последний-Герой</td></tr>",
                            "<tr><td>Прости меня моя любовь</td><td>Прости-меня-моя-любовь</td></tr>",
                            "</table>"
                        ]
                    }
                }
            ],
            "execution_count": 53
        },
        {
            "cell_type": "markdown",
            "source": [
                "## 17. Написать 4 запроса по числовым функциям"
            ],
            "metadata": {
                "language": "sql",
                "azdata_cell_guid": "c77371ec-773f-4007-a836-e096f61ad33e"
            },
            "attachments": {}
        },
        {
            "cell_type": "code",
            "source": [
                "-- Query 1: Using NEWID function\n",
                "SELECT *\n",
                "FROM albums\n",
                "ORDER BY NEWID()\n",
                ""
            ],
            "metadata": {
                "language": "sql",
                "azdata_cell_guid": "39d5dabd-2e88-4fb7-bd84-96f8cf1e0b2f"
            },
            "outputs": [
                {
                    "output_type": "display_data",
                    "data": {
                        "text/html": "(14 rows affected)"
                    },
                    "metadata": {}
                },
                {
                    "output_type": "display_data",
                    "data": {
                        "text/html": "Total execution time: 00:00:00.007"
                    },
                    "metadata": {}
                },
                {
                    "output_type": "execute_result",
                    "metadata": {},
                    "execution_count": 55,
                    "data": {
                        "application/vnd.dataresource+json": {
                            "schema": {
                                "fields": [
                                    {
                                        "name": "id"
                                    },
                                    {
                                        "name": "name"
                                    },
                                    {
                                        "name": "author"
                                    },
                                    {
                                        "name": "release"
                                    }
                                ]
                            },
                            "data": [
                                {
                                    "0": "13",
                                    "1": "The Life of Pablo",
                                    "2": "11",
                                    "3": "2016-02-14"
                                },
                                {
                                    "0": "6",
                                    "1": "Stromae",
                                    "2": "6",
                                    "3": "2022-03-04"
                                },
                                {
                                    "0": "12",
                                    "1": "Вендетта",
                                    "2": "9",
                                    "3": "2005-03-01"
                                },
                                {
                                    "0": "4",
                                    "1": "Lust For Life",
                                    "2": "3",
                                    "3": "1977-09-09"
                                },
                                {
                                    "0": "7",
                                    "1": "2004",
                                    "2": "7",
                                    "3": "2019-12-24"
                                },
                                {
                                    "0": "3",
                                    "1": "Transformer",
                                    "2": "4",
                                    "3": "1972-11-08"
                                },
                                {
                                    "0": "11",
                                    "1": "Земфира",
                                    "2": "9",
                                    "3": "1999-05-10"
                                },
                                {
                                    "0": "9",
                                    "1": "45",
                                    "2": "8",
                                    "3": "1982-07-22"
                                },
                                {
                                    "0": "8",
                                    "1": "Последний Герой",
                                    "2": "8",
                                    "3": "1984-01-01"
                                },
                                {
                                    "0": "1",
                                    "1": "Scary Monsters",
                                    "2": "2",
                                    "3": "1980-09-12"
                                },
                                {
                                    "0": "14",
                                    "1": "808s & Heartbreak",
                                    "2": "11",
                                    "3": "2008-11-24"
                                },
                                {
                                    "0": "5",
                                    "1": "Bone Machine",
                                    "2": "5",
                                    "3": "1992-09-08"
                                },
                                {
                                    "0": "2",
                                    "1": "Heroes",
                                    "2": "2",
                                    "3": "1977-10-14"
                                },
                                {
                                    "0": "10",
                                    "1": "Прости меня моя любовь",
                                    "2": "9",
                                    "3": "2000-03-28"
                                }
                            ]
                        },
                        "text/html": [
                            "<table>",
                            "<tr><th>id</th><th>name</th><th>author</th><th>release</th></tr>",
                            "<tr><td>13</td><td>The Life of Pablo</td><td>11</td><td>2016-02-14</td></tr>",
                            "<tr><td>6</td><td>Stromae</td><td>6</td><td>2022-03-04</td></tr>",
                            "<tr><td>12</td><td>Вендетта</td><td>9</td><td>2005-03-01</td></tr>",
                            "<tr><td>4</td><td>Lust For Life</td><td>3</td><td>1977-09-09</td></tr>",
                            "<tr><td>7</td><td>2004</td><td>7</td><td>2019-12-24</td></tr>",
                            "<tr><td>3</td><td>Transformer</td><td>4</td><td>1972-11-08</td></tr>",
                            "<tr><td>11</td><td>Земфира</td><td>9</td><td>1999-05-10</td></tr>",
                            "<tr><td>9</td><td>45</td><td>8</td><td>1982-07-22</td></tr>",
                            "<tr><td>8</td><td>Последний Герой</td><td>8</td><td>1984-01-01</td></tr>",
                            "<tr><td>1</td><td>Scary Monsters</td><td>2</td><td>1980-09-12</td></tr>",
                            "<tr><td>14</td><td>808s &amp; Heartbreak</td><td>11</td><td>2008-11-24</td></tr>",
                            "<tr><td>5</td><td>Bone Machine</td><td>5</td><td>1992-09-08</td></tr>",
                            "<tr><td>2</td><td>Heroes</td><td>2</td><td>1977-10-14</td></tr>",
                            "<tr><td>10</td><td>Прости меня моя любовь</td><td>9</td><td>2000-03-28</td></tr>",
                            "</table>"
                        ]
                    }
                }
            ],
            "execution_count": 55
        },
        {
            "cell_type": "code",
            "source": [
                "-- Query 2: Using CEILING function\n",
                "SELECT price, CEILING(price) AS [Ceiled price], FLOOR(price) as [Floored price]\n",
                "FROM items;\n",
                ""
            ],
            "metadata": {
                "language": "sql",
                "azdata_cell_guid": "761621d9-cb2b-469b-9f85-dc0394a2064d"
            },
            "outputs": [
                {
                    "output_type": "display_data",
                    "data": {
                        "text/html": "(15 rows affected)"
                    },
                    "metadata": {}
                },
                {
                    "output_type": "display_data",
                    "data": {
                        "text/html": "Total execution time: 00:00:00.005"
                    },
                    "metadata": {}
                },
                {
                    "output_type": "execute_result",
                    "metadata": {},
                    "execution_count": 57,
                    "data": {
                        "application/vnd.dataresource+json": {
                            "schema": {
                                "fields": [
                                    {
                                        "name": "price"
                                    },
                                    {
                                        "name": "Ceiled price"
                                    },
                                    {
                                        "name": "Floored price"
                                    }
                                ]
                            },
                            "data": [
                                {
                                    "0": "30.00",
                                    "1": "30.00",
                                    "2": "30.00"
                                },
                                {
                                    "0": "20.00",
                                    "1": "20.00",
                                    "2": "20.00"
                                },
                                {
                                    "0": "4.00",
                                    "1": "4.00",
                                    "2": "4.00"
                                },
                                {
                                    "0": "35.00",
                                    "1": "35.00",
                                    "2": "35.00"
                                },
                                {
                                    "0": "25.00",
                                    "1": "25.00",
                                    "2": "25.00"
                                },
                                {
                                    "0": "23.00",
                                    "1": "23.00",
                                    "2": "23.00"
                                },
                                {
                                    "0": "2.00",
                                    "1": "2.00",
                                    "2": "2.00"
                                },
                                {
                                    "0": "1.00",
                                    "1": "1.00",
                                    "2": "1.00"
                                },
                                {
                                    "0": "0.33",
                                    "1": "1.00",
                                    "2": "0.00"
                                },
                                {
                                    "0": "15.00",
                                    "1": "15.00",
                                    "2": "15.00"
                                },
                                {
                                    "0": "12.50",
                                    "1": "13.00",
                                    "2": "12.00"
                                },
                                {
                                    "0": "100.00",
                                    "1": "100.00",
                                    "2": "100.00"
                                },
                                {
                                    "0": "80.00",
                                    "1": "80.00",
                                    "2": "80.00"
                                },
                                {
                                    "0": "300.00",
                                    "1": "300.00",
                                    "2": "300.00"
                                },
                                {
                                    "0": "30.00",
                                    "1": "30.00",
                                    "2": "30.00"
                                }
                            ]
                        },
                        "text/html": [
                            "<table>",
                            "<tr><th>price</th><th>Ceiled price</th><th>Floored price</th></tr>",
                            "<tr><td>30.00</td><td>30.00</td><td>30.00</td></tr>",
                            "<tr><td>20.00</td><td>20.00</td><td>20.00</td></tr>",
                            "<tr><td>4.00</td><td>4.00</td><td>4.00</td></tr>",
                            "<tr><td>35.00</td><td>35.00</td><td>35.00</td></tr>",
                            "<tr><td>25.00</td><td>25.00</td><td>25.00</td></tr>",
                            "<tr><td>23.00</td><td>23.00</td><td>23.00</td></tr>",
                            "<tr><td>2.00</td><td>2.00</td><td>2.00</td></tr>",
                            "<tr><td>1.00</td><td>1.00</td><td>1.00</td></tr>",
                            "<tr><td>0.33</td><td>1.00</td><td>0.00</td></tr>",
                            "<tr><td>15.00</td><td>15.00</td><td>15.00</td></tr>",
                            "<tr><td>12.50</td><td>13.00</td><td>12.00</td></tr>",
                            "<tr><td>100.00</td><td>100.00</td><td>100.00</td></tr>",
                            "<tr><td>80.00</td><td>80.00</td><td>80.00</td></tr>",
                            "<tr><td>300.00</td><td>300.00</td><td>300.00</td></tr>",
                            "<tr><td>30.00</td><td>30.00</td><td>30.00</td></tr>",
                            "</table>"
                        ]
                    }
                }
            ],
            "execution_count": 57
        },
        {
            "cell_type": "code",
            "source": [
                "SELECT ROUND(AVG(length) / 60, 1) as [Average track length in minutes] from tracks"
            ],
            "metadata": {
                "language": "sql",
                "azdata_cell_guid": "dd7e9e3d-485d-4371-b982-47fc72e07da5"
            },
            "outputs": [
                {
                    "output_type": "display_data",
                    "data": {
                        "text/html": "(1 row affected)"
                    },
                    "metadata": {}
                },
                {
                    "output_type": "display_data",
                    "data": {
                        "text/html": "Total execution time: 00:00:00.005"
                    },
                    "metadata": {}
                },
                {
                    "output_type": "execute_result",
                    "metadata": {},
                    "execution_count": 58,
                    "data": {
                        "application/vnd.dataresource+json": {
                            "schema": {
                                "fields": [
                                    {
                                        "name": "Average track length in minutes"
                                    }
                                ]
                            },
                            "data": [
                                {
                                    "0": "3"
                                }
                            ]
                        },
                        "text/html": [
                            "<table>",
                            "<tr><th>Average track length in minutes</th></tr>",
                            "<tr><td>3</td></tr>",
                            "</table>"
                        ]
                    }
                }
            ],
            "execution_count": 58
        },
        {
            "cell_type": "code",
            "source": [
                "SELECT SQUARE(SUM(length)) as [Squared total tracks length (Why not?)] from tracks"
            ],
            "metadata": {
                "language": "sql",
                "azdata_cell_guid": "3741cb7f-794b-4a03-9e4a-d56c0ae3880a"
            },
            "outputs": [
                {
                    "output_type": "display_data",
                    "data": {
                        "text/html": "(1 row affected)"
                    },
                    "metadata": {}
                },
                {
                    "output_type": "display_data",
                    "data": {
                        "text/html": "Total execution time: 00:00:00.005"
                    },
                    "metadata": {}
                },
                {
                    "output_type": "execute_result",
                    "metadata": {},
                    "execution_count": 60,
                    "data": {
                        "application/vnd.dataresource+json": {
                            "schema": {
                                "fields": [
                                    {
                                        "name": "Squared total tracks length (Why not?)"
                                    }
                                ]
                            },
                            "data": [
                                {
                                    "0": "5866084"
                                }
                            ]
                        },
                        "text/html": [
                            "<table>",
                            "<tr><th>Squared total tracks length (Why not?)</th></tr>",
                            "<tr><td>5866084</td></tr>",
                            "</table>"
                        ]
                    }
                }
            ],
            "execution_count": 60
        },
        {
            "cell_type": "markdown",
            "source": [
                "## 18. Создайте 5 представлений по своей БД"
            ],
            "metadata": {
                "language": "sql",
                "azdata_cell_guid": "611659a6-51b5-47d5-820a-db63b55de719"
            },
            "attachments": {}
        },
        {
            "cell_type": "code",
            "source": [
                "CREATE OR ALTER VIEW vw_album_details AS\n",
                "SELECT a.id AS album_id, a.name AS album_name, a.release, au.name AS author_name\n",
                "FROM albums a\n",
                "INNER JOIN authors au ON a.author = au.id;"
            ],
            "metadata": {
                "language": "sql",
                "azdata_cell_guid": "5bab86ea-c8d0-4a9a-bf73-a939ab886ddd"
            },
            "outputs": [
                {
                    "output_type": "error",
                    "evalue": "Msg 2714, Level 16, State 3, Procedure vw_album_details, Line 1\nThere is already an object named 'vw_album_details' in the database.",
                    "ename": "",
                    "traceback": []
                },
                {
                    "output_type": "display_data",
                    "data": {
                        "text/html": "Total execution time: 00:00:00.014"
                    },
                    "metadata": {}
                }
            ],
            "execution_count": 63
        },
        {
            "cell_type": "code",
            "source": [
                "SELECT * from vw_album_details;"
            ],
            "metadata": {
                "language": "sql",
                "azdata_cell_guid": "4a78b18e-9a57-43ac-8e16-e622f89e4648"
            },
            "outputs": [
                {
                    "output_type": "display_data",
                    "data": {
                        "text/html": "(14 rows affected)"
                    },
                    "metadata": {}
                },
                {
                    "output_type": "display_data",
                    "data": {
                        "text/html": "Total execution time: 00:00:00.006"
                    },
                    "metadata": {}
                },
                {
                    "output_type": "execute_result",
                    "metadata": {},
                    "execution_count": 64,
                    "data": {
                        "application/vnd.dataresource+json": {
                            "schema": {
                                "fields": [
                                    {
                                        "name": "album_id"
                                    },
                                    {
                                        "name": "album_name"
                                    },
                                    {
                                        "name": "release"
                                    },
                                    {
                                        "name": "author_name"
                                    }
                                ]
                            },
                            "data": [
                                {
                                    "0": "1",
                                    "1": "Scary Monsters",
                                    "2": "1980-09-12",
                                    "3": "David Bowie"
                                },
                                {
                                    "0": "2",
                                    "1": "Heroes",
                                    "2": "1977-10-14",
                                    "3": "David Bowie"
                                },
                                {
                                    "0": "3",
                                    "1": "Transformer",
                                    "2": "1972-11-08",
                                    "3": "Lou Reed"
                                },
                                {
                                    "0": "4",
                                    "1": "Lust For Life",
                                    "2": "1977-09-09",
                                    "3": "Iggy Pop"
                                },
                                {
                                    "0": "5",
                                    "1": "Bone Machine",
                                    "2": "1992-09-08",
                                    "3": "Tom Waits"
                                },
                                {
                                    "0": "6",
                                    "1": "Stromae",
                                    "2": "2022-03-04",
                                    "3": "Stromae"
                                },
                                {
                                    "0": "7",
                                    "1": "2004",
                                    "2": "2019-12-24",
                                    "3": "Скриптонит"
                                },
                                {
                                    "0": "8",
                                    "1": "Последний Герой",
                                    "2": "1984-01-01",
                                    "3": "Виктор Цой"
                                },
                                {
                                    "0": "9",
                                    "1": "45",
                                    "2": "1982-07-22",
                                    "3": "Виктор Цой"
                                },
                                {
                                    "0": "10",
                                    "1": "Прости меня моя любовь",
                                    "2": "2000-03-28",
                                    "3": "Земфира"
                                },
                                {
                                    "0": "11",
                                    "1": "Земфира",
                                    "2": "1999-05-10",
                                    "3": "Земфира"
                                },
                                {
                                    "0": "12",
                                    "1": "Вендетта",
                                    "2": "2005-03-01",
                                    "3": "Земфира"
                                },
                                {
                                    "0": "13",
                                    "1": "The Life of Pablo",
                                    "2": "2016-02-14",
                                    "3": "Kanye West"
                                },
                                {
                                    "0": "14",
                                    "1": "808s & Heartbreak",
                                    "2": "2008-11-24",
                                    "3": "Kanye West"
                                }
                            ]
                        },
                        "text/html": [
                            "<table>",
                            "<tr><th>album_id</th><th>album_name</th><th>release</th><th>author_name</th></tr>",
                            "<tr><td>1</td><td>Scary Monsters</td><td>1980-09-12</td><td>David Bowie</td></tr>",
                            "<tr><td>2</td><td>Heroes</td><td>1977-10-14</td><td>David Bowie</td></tr>",
                            "<tr><td>3</td><td>Transformer</td><td>1972-11-08</td><td>Lou Reed</td></tr>",
                            "<tr><td>4</td><td>Lust For Life</td><td>1977-09-09</td><td>Iggy Pop</td></tr>",
                            "<tr><td>5</td><td>Bone Machine</td><td>1992-09-08</td><td>Tom Waits</td></tr>",
                            "<tr><td>6</td><td>Stromae</td><td>2022-03-04</td><td>Stromae</td></tr>",
                            "<tr><td>7</td><td>2004</td><td>2019-12-24</td><td>Скриптонит</td></tr>",
                            "<tr><td>8</td><td>Последний Герой</td><td>1984-01-01</td><td>Виктор Цой</td></tr>",
                            "<tr><td>9</td><td>45</td><td>1982-07-22</td><td>Виктор Цой</td></tr>",
                            "<tr><td>10</td><td>Прости меня моя любовь</td><td>2000-03-28</td><td>Земфира</td></tr>",
                            "<tr><td>11</td><td>Земфира</td><td>1999-05-10</td><td>Земфира</td></tr>",
                            "<tr><td>12</td><td>Вендетта</td><td>2005-03-01</td><td>Земфира</td></tr>",
                            "<tr><td>13</td><td>The Life of Pablo</td><td>2016-02-14</td><td>Kanye West</td></tr>",
                            "<tr><td>14</td><td>808s &amp; Heartbreak</td><td>2008-11-24</td><td>Kanye West</td></tr>",
                            "</table>"
                        ]
                    }
                }
            ],
            "execution_count": 64
        },
        {
            "cell_type": "code",
            "source": [
                "CREATE OR ALTER VIEW vw_collection_prices AS\n",
                "SELECT c.id AS collection_id, SUM(i.price) AS total_price\n",
                "FROM collections c\n",
                "LEFT JOIN items i ON c.id = i.collection\n",
                "GROUP BY c.id;\n",
                ""
            ],
            "metadata": {
                "language": "sql",
                "azdata_cell_guid": "fdc90964-f9b4-43da-93e5-3b34c24c70a2"
            },
            "outputs": [
                {
                    "output_type": "display_data",
                    "data": {
                        "text/html": "Commands completed successfully."
                    },
                    "metadata": {}
                },
                {
                    "output_type": "display_data",
                    "data": {
                        "text/html": "Total execution time: 00:00:00.016"
                    },
                    "metadata": {}
                }
            ],
            "execution_count": 67
        },
        {
            "cell_type": "code",
            "source": [
                "SELECT * from vw_collection_prices"
            ],
            "metadata": {
                "language": "sql",
                "azdata_cell_guid": "6f66d1db-48da-43d7-9abc-85cd7543bb5b"
            },
            "outputs": [
                {
                    "output_type": "display_data",
                    "data": {
                        "text/html": "(10 rows affected)"
                    },
                    "metadata": {}
                },
                {
                    "output_type": "display_data",
                    "data": {
                        "text/html": "Total execution time: 00:00:00.021"
                    },
                    "metadata": {}
                },
                {
                    "output_type": "execute_result",
                    "metadata": {},
                    "execution_count": 66,
                    "data": {
                        "application/vnd.dataresource+json": {
                            "schema": {
                                "fields": [
                                    {
                                        "name": "collection_id"
                                    },
                                    {
                                        "name": "total_price"
                                    }
                                ]
                            },
                            "data": [
                                {
                                    "0": "1",
                                    "1": "35.00"
                                },
                                {
                                    "0": "2",
                                    "1": "3.33"
                                },
                                {
                                    "0": "3",
                                    "1": "54.00"
                                },
                                {
                                    "0": "4",
                                    "1": "NULL"
                                },
                                {
                                    "0": "5",
                                    "1": "27.50"
                                },
                                {
                                    "0": "6",
                                    "1": "510.00"
                                },
                                {
                                    "0": "7",
                                    "1": "25.00"
                                },
                                {
                                    "0": "8",
                                    "1": "NULL"
                                },
                                {
                                    "0": "9",
                                    "1": "23.00"
                                },
                                {
                                    "0": "10",
                                    "1": "NULL"
                                }
                            ]
                        },
                        "text/html": [
                            "<table>",
                            "<tr><th>collection_id</th><th>total_price</th></tr>",
                            "<tr><td>1</td><td>35.00</td></tr>",
                            "<tr><td>2</td><td>3.33</td></tr>",
                            "<tr><td>3</td><td>54.00</td></tr>",
                            "<tr><td>4</td><td>NULL</td></tr>",
                            "<tr><td>5</td><td>27.50</td></tr>",
                            "<tr><td>6</td><td>510.00</td></tr>",
                            "<tr><td>7</td><td>25.00</td></tr>",
                            "<tr><td>8</td><td>NULL</td></tr>",
                            "<tr><td>9</td><td>23.00</td></tr>",
                            "<tr><td>10</td><td>NULL</td></tr>",
                            "</table>"
                        ]
                    }
                }
            ],
            "execution_count": 66
        },
        {
            "cell_type": "code",
            "source": [
                "CREATE OR ALTER VIEW vw_album_tracks AS\n",
                "SELECT al.name AS album_name, t.name AS track_name, t.length\n",
                "FROM albums al\n",
                "INNER JOIN tracks t ON al.id = t.album;\n",
                ""
            ],
            "metadata": {
                "language": "sql",
                "azdata_cell_guid": "21a1325e-3565-4ff8-812d-33ccbb9449e4"
            },
            "outputs": [
                {
                    "output_type": "display_data",
                    "data": {
                        "text/html": "Commands completed successfully."
                    },
                    "metadata": {}
                },
                {
                    "output_type": "display_data",
                    "data": {
                        "text/html": "Total execution time: 00:00:00.016"
                    },
                    "metadata": {}
                }
            ],
            "execution_count": 68
        },
        {
            "cell_type": "code",
            "source": [
                "select * from vw_album_tracks"
            ],
            "metadata": {
                "language": "sql",
                "azdata_cell_guid": "e791a1f1-1a3e-404f-8f0a-2027cd57f52d"
            },
            "outputs": [
                {
                    "output_type": "display_data",
                    "data": {
                        "text/html": "(11 rows affected)"
                    },
                    "metadata": {}
                },
                {
                    "output_type": "display_data",
                    "data": {
                        "text/html": "Total execution time: 00:00:00.006"
                    },
                    "metadata": {}
                },
                {
                    "output_type": "execute_result",
                    "metadata": {},
                    "execution_count": 69,
                    "data": {
                        "application/vnd.dataresource+json": {
                            "schema": {
                                "fields": [
                                    {
                                        "name": "album_name"
                                    },
                                    {
                                        "name": "track_name"
                                    },
                                    {
                                        "name": "length"
                                    }
                                ]
                            },
                            "data": [
                                {
                                    "0": "Scary Monsters",
                                    "1": "Scary Monsters",
                                    "2": "232"
                                },
                                {
                                    "0": "Scary Monsters",
                                    "1": "Ashes to Ashes",
                                    "2": "133"
                                },
                                {
                                    "0": "Heroes",
                                    "1": "Heroes",
                                    "2": "332"
                                },
                                {
                                    "0": "Lust For Life",
                                    "1": "Passenger",
                                    "2": "245"
                                },
                                {
                                    "0": "Bone Machine",
                                    "1": "Who are you this time?",
                                    "2": "305"
                                },
                                {
                                    "0": "45",
                                    "1": "Бездельник №1",
                                    "2": "155"
                                },
                                {
                                    "0": "45",
                                    "1": "Бездельник №2",
                                    "2": "177"
                                },
                                {
                                    "0": "The Life of Pablo",
                                    "1": "Saint Pablo",
                                    "2": "344"
                                },
                                {
                                    "0": "808s & Heartbreak",
                                    "1": "Welcome to Heartbreak",
                                    "2": "190"
                                },
                                {
                                    "0": "Земфира",
                                    "1": "Ромашки",
                                    "2": "190"
                                },
                                {
                                    "0": "2004",
                                    "1": "Сердца из железа",
                                    "2": "119"
                                }
                            ]
                        },
                        "text/html": [
                            "<table>",
                            "<tr><th>album_name</th><th>track_name</th><th>length</th></tr>",
                            "<tr><td>Scary Monsters</td><td>Scary Monsters</td><td>232</td></tr>",
                            "<tr><td>Scary Monsters</td><td>Ashes to Ashes</td><td>133</td></tr>",
                            "<tr><td>Heroes</td><td>Heroes</td><td>332</td></tr>",
                            "<tr><td>Lust For Life</td><td>Passenger</td><td>245</td></tr>",
                            "<tr><td>Bone Machine</td><td>Who are you this time?</td><td>305</td></tr>",
                            "<tr><td>45</td><td>Бездельник №1</td><td>155</td></tr>",
                            "<tr><td>45</td><td>Бездельник №2</td><td>177</td></tr>",
                            "<tr><td>The Life of Pablo</td><td>Saint Pablo</td><td>344</td></tr>",
                            "<tr><td>808s &amp; Heartbreak</td><td>Welcome to Heartbreak</td><td>190</td></tr>",
                            "<tr><td>Земфира</td><td>Ромашки</td><td>190</td></tr>",
                            "<tr><td>2004</td><td>Сердца из железа</td><td>119</td></tr>",
                            "</table>"
                        ]
                    }
                }
            ],
            "execution_count": 69
        },
        {
            "cell_type": "code",
            "source": [
                "CREATE OR ALTER VIEW vw_avg_track_length AS\n",
                "SELECT al.name AS album_name, AVG(t.length) AS avg_length\n",
                "FROM albums al\n",
                "INNER JOIN tracks t ON al.id = t.album\n",
                "GROUP BY al.name;\n",
                ""
            ],
            "metadata": {
                "language": "sql",
                "azdata_cell_guid": "2689b844-9975-4e60-99de-b268fbbc3da8"
            },
            "outputs": [
                {
                    "output_type": "display_data",
                    "data": {
                        "text/html": "Commands completed successfully."
                    },
                    "metadata": {}
                },
                {
                    "output_type": "display_data",
                    "data": {
                        "text/html": "Total execution time: 00:00:00.015"
                    },
                    "metadata": {}
                }
            ],
            "execution_count": 70
        },
        {
            "cell_type": "code",
            "source": [
                "select * from vw_avg_track_length"
            ],
            "metadata": {
                "language": "sql",
                "azdata_cell_guid": "56acde48-c35a-4fd7-8821-180654d4e955"
            },
            "outputs": [
                {
                    "output_type": "display_data",
                    "data": {
                        "text/html": "(9 rows affected)"
                    },
                    "metadata": {}
                },
                {
                    "output_type": "display_data",
                    "data": {
                        "text/html": "Total execution time: 00:00:00.008"
                    },
                    "metadata": {}
                },
                {
                    "output_type": "execute_result",
                    "metadata": {},
                    "execution_count": 71,
                    "data": {
                        "application/vnd.dataresource+json": {
                            "schema": {
                                "fields": [
                                    {
                                        "name": "album_name"
                                    },
                                    {
                                        "name": "avg_length"
                                    }
                                ]
                            },
                            "data": [
                                {
                                    "0": "2004",
                                    "1": "119"
                                },
                                {
                                    "0": "45",
                                    "1": "166"
                                },
                                {
                                    "0": "808s & Heartbreak",
                                    "1": "190"
                                },
                                {
                                    "0": "Bone Machine",
                                    "1": "305"
                                },
                                {
                                    "0": "Heroes",
                                    "1": "332"
                                },
                                {
                                    "0": "Lust For Life",
                                    "1": "245"
                                },
                                {
                                    "0": "Scary Monsters",
                                    "1": "182"
                                },
                                {
                                    "0": "The Life of Pablo",
                                    "1": "344"
                                },
                                {
                                    "0": "Земфира",
                                    "1": "190"
                                }
                            ]
                        },
                        "text/html": [
                            "<table>",
                            "<tr><th>album_name</th><th>avg_length</th></tr>",
                            "<tr><td>2004</td><td>119</td></tr>",
                            "<tr><td>45</td><td>166</td></tr>",
                            "<tr><td>808s &amp; Heartbreak</td><td>190</td></tr>",
                            "<tr><td>Bone Machine</td><td>305</td></tr>",
                            "<tr><td>Heroes</td><td>332</td></tr>",
                            "<tr><td>Lust For Life</td><td>245</td></tr>",
                            "<tr><td>Scary Monsters</td><td>182</td></tr>",
                            "<tr><td>The Life of Pablo</td><td>344</td></tr>",
                            "<tr><td>Земфира</td><td>190</td></tr>",
                            "</table>"
                        ]
                    }
                }
            ],
            "execution_count": 71
        },
        {
            "cell_type": "code",
            "source": [
                "CREATE OR ALTER VIEW vw_album_items AS\n",
                "SELECT al.name AS album_name, i.type, i.price\n",
                "FROM albums al\n",
                "LEFT JOIN items i ON al.id = i.album;\n",
                ""
            ],
            "metadata": {
                "language": "sql",
                "azdata_cell_guid": "aa8e1b8f-b740-4a98-a075-3b2ccd59f12b"
            },
            "outputs": [
                {
                    "output_type": "display_data",
                    "data": {
                        "text/html": "Commands completed successfully."
                    },
                    "metadata": {}
                },
                {
                    "output_type": "display_data",
                    "data": {
                        "text/html": "Total execution time: 00:00:00.016"
                    },
                    "metadata": {}
                }
            ],
            "execution_count": 73
        },
        {
            "cell_type": "code",
            "source": [
                "select * from vw_album_items"
            ],
            "metadata": {
                "language": "sql",
                "azdata_cell_guid": "714defd3-61da-4b5c-be9f-873e24bd060c"
            },
            "outputs": [
                {
                    "output_type": "display_data",
                    "data": {
                        "text/html": "(18 rows affected)"
                    },
                    "metadata": {}
                },
                {
                    "output_type": "display_data",
                    "data": {
                        "text/html": "Total execution time: 00:00:00.007"
                    },
                    "metadata": {}
                },
                {
                    "output_type": "execute_result",
                    "metadata": {},
                    "execution_count": 74,
                    "data": {
                        "application/vnd.dataresource+json": {
                            "schema": {
                                "fields": [
                                    {
                                        "name": "album_name"
                                    },
                                    {
                                        "name": "type"
                                    },
                                    {
                                        "name": "price"
                                    }
                                ]
                            },
                            "data": [
                                {
                                    "0": "Scary Monsters",
                                    "1": "Vinyl",
                                    "2": "30.00"
                                },
                                {
                                    "0": "Scary Monsters",
                                    "1": "Tape",
                                    "2": "20.00"
                                },
                                {
                                    "0": "Scary Monsters",
                                    "1": "Digital",
                                    "2": "4.00"
                                },
                                {
                                    "0": "Heroes",
                                    "1": "Vinyl",
                                    "2": "35.00"
                                },
                                {
                                    "0": "Transformer",
                                    "1": "NULL",
                                    "2": "NULL"
                                },
                                {
                                    "0": "Lust For Life",
                                    "1": "Vinyl",
                                    "2": "30.00"
                                },
                                {
                                    "0": "Bone Machine",
                                    "1": "CD",
                                    "2": "25.00"
                                },
                                {
                                    "0": "Bone Machine",
                                    "1": "Vinyl",
                                    "2": "300.00"
                                },
                                {
                                    "0": "Stromae",
                                    "1": "NULL",
                                    "2": "NULL"
                                },
                                {
                                    "0": "2004",
                                    "1": "Digital",
                                    "2": "2.00"
                                },
                                {
                                    "0": "Последний Герой",
                                    "1": "Tape",
                                    "2": "15.00"
                                },
                                {
                                    "0": "45",
                                    "1": "CD",
                                    "2": "23.00"
                                },
                                {
                                    "0": "45",
                                    "1": "Tape",
                                    "2": "12.50"
                                },
                                {
                                    "0": "Прости меня моя любовь",
                                    "1": "Digital",
                                    "2": "1.00"
                                },
                                {
                                    "0": "Земфира",
                                    "1": "Digital",
                                    "2": "0.33"
                                },
                                {
                                    "0": "Вендетта",
                                    "1": "NULL",
                                    "2": "NULL"
                                },
                                {
                                    "0": "The Life of Pablo",
                                    "1": "Vinyl",
                                    "2": "100.00"
                                },
                                {
                                    "0": "808s & Heartbreak",
                                    "1": "Vinyl",
                                    "2": "80.00"
                                }
                            ]
                        },
                        "text/html": [
                            "<table>",
                            "<tr><th>album_name</th><th>type</th><th>price</th></tr>",
                            "<tr><td>Scary Monsters</td><td>Vinyl</td><td>30.00</td></tr>",
                            "<tr><td>Scary Monsters</td><td>Tape</td><td>20.00</td></tr>",
                            "<tr><td>Scary Monsters</td><td>Digital</td><td>4.00</td></tr>",
                            "<tr><td>Heroes</td><td>Vinyl</td><td>35.00</td></tr>",
                            "<tr><td>Transformer</td><td>NULL</td><td>NULL</td></tr>",
                            "<tr><td>Lust For Life</td><td>Vinyl</td><td>30.00</td></tr>",
                            "<tr><td>Bone Machine</td><td>CD</td><td>25.00</td></tr>",
                            "<tr><td>Bone Machine</td><td>Vinyl</td><td>300.00</td></tr>",
                            "<tr><td>Stromae</td><td>NULL</td><td>NULL</td></tr>",
                            "<tr><td>2004</td><td>Digital</td><td>2.00</td></tr>",
                            "<tr><td>Последний Герой</td><td>Tape</td><td>15.00</td></tr>",
                            "<tr><td>45</td><td>CD</td><td>23.00</td></tr>",
                            "<tr><td>45</td><td>Tape</td><td>12.50</td></tr>",
                            "<tr><td>Прости меня моя любовь</td><td>Digital</td><td>1.00</td></tr>",
                            "<tr><td>Земфира</td><td>Digital</td><td>0.33</td></tr>",
                            "<tr><td>Вендетта</td><td>NULL</td><td>NULL</td></tr>",
                            "<tr><td>The Life of Pablo</td><td>Vinyl</td><td>100.00</td></tr>",
                            "<tr><td>808s &amp; Heartbreak</td><td>Vinyl</td><td>80.00</td></tr>",
                            "</table>"
                        ]
                    }
                }
            ],
            "execution_count": 74
        },
        {
            "cell_type": "markdown",
            "source": [
                "## 19. Покажите применение табличных переменных, временные локальных и глобальных таблиц, а так же обобщенных табличных выражений."
            ],
            "metadata": {
                "language": "sql",
                "azdata_cell_guid": "7481587b-0333-4ec2-b4df-d73ec6bc98bc"
            },
            "attachments": {}
        },
        {
            "cell_type": "code",
            "source": [
                "DECLARE @myTableVariable TABLE (\n",
                "    id int,\n",
                "    name nvarchar(50)\n",
                ");\n",
                "\n",
                "INSERT INTO @myTableVariable (id, name)\n",
                "VALUES (1, 'John'), (2, 'Jane');\n",
                "\n",
                "SELECT * FROM @myTableVariable;\n",
                ""
            ],
            "metadata": {
                "language": "sql",
                "azdata_cell_guid": "21bf1677-c5b8-4bee-8044-12d86a5cebe6"
            },
            "outputs": [
                {
                    "output_type": "error",
                    "evalue": "Msg 102, Level 15, State 1, Line 11\nIncorrect syntax near '@myTableVariable'.",
                    "ename": "",
                    "traceback": []
                },
                {
                    "output_type": "display_data",
                    "data": {
                        "text/html": "Total execution time: 00:00:00.003"
                    },
                    "metadata": {}
                }
            ],
            "execution_count": 81
        },
        {
            "cell_type": "code",
            "source": [
                "CREATE TABLE #tempTable (\n",
                "    id int,\n",
                "    name nvarchar(50)\n",
                ");\n",
                "\n",
                "INSERT INTO #tempTable (id, name)\n",
                "VALUES (1, 'John'), (2, 'Jane');\n",
                "\n",
                "SELECT * FROM #tempTable;\n",
                "DROP TABLE #tempTable;"
            ],
            "metadata": {
                "language": "sql",
                "azdata_cell_guid": "3369ce33-a7b4-42b7-9b69-9ba12208b167"
            },
            "outputs": [
                {
                    "output_type": "error",
                    "evalue": "Msg 2714, Level 16, State 6, Line 1\nThere is already an object named '#tempTable' in the database.",
                    "ename": "",
                    "traceback": []
                },
                {
                    "output_type": "display_data",
                    "data": {
                        "text/html": "Total execution time: 00:00:00.007"
                    },
                    "metadata": {}
                }
            ],
            "execution_count": 82
        },
        {
            "cell_type": "code",
            "source": [
                "CREATE TABLE ##globalTempTable (\n",
                "    id int,\n",
                "    name nvarchar(50)\n",
                ");\n",
                "\n",
                "INSERT INTO ##globalTempTable (id, name)\n",
                "VALUES (1, 'John'), (2, 'Jane');\n",
                "\n",
                "SELECT * FROM ##globalTempTable;\n",
                "DROP TABLE ##globalTempTable;\n",
                ""
            ],
            "metadata": {
                "language": "sql",
                "azdata_cell_guid": "351370f5-068b-4229-b1a8-50c100da25c1"
            },
            "outputs": [
                {
                    "output_type": "error",
                    "evalue": "Msg 2714, Level 16, State 6, Line 1\nThere is already an object named '##globalTempTable' in the database.",
                    "ename": "",
                    "traceback": []
                },
                {
                    "output_type": "display_data",
                    "data": {
                        "text/html": "Total execution time: 00:00:00.003"
                    },
                    "metadata": {}
                }
            ],
            "execution_count": 83
        },
        {
            "cell_type": "code",
            "source": [
                "WITH cte_tracks AS (\n",
                "    SELECT id, name, length\n",
                "    FROM tracks\n",
                "    WHERE length > 240\n",
                ")\n",
                "SELECT *\n",
                "FROM cte_tracks;\n",
                ""
            ],
            "metadata": {
                "language": "sql",
                "azdata_cell_guid": "63556085-32f5-44be-a475-6d03ef508b11"
            },
            "outputs": [
                {
                    "output_type": "display_data",
                    "data": {
                        "text/html": "(4 rows affected)"
                    },
                    "metadata": {}
                },
                {
                    "output_type": "display_data",
                    "data": {
                        "text/html": "Total execution time: 00:00:00.005"
                    },
                    "metadata": {}
                },
                {
                    "output_type": "execute_result",
                    "metadata": {},
                    "execution_count": 84,
                    "data": {
                        "application/vnd.dataresource+json": {
                            "schema": {
                                "fields": [
                                    {
                                        "name": "id"
                                    },
                                    {
                                        "name": "name"
                                    },
                                    {
                                        "name": "length"
                                    }
                                ]
                            },
                            "data": [
                                {
                                    "0": "11",
                                    "1": "Heroes",
                                    "2": "332"
                                },
                                {
                                    "0": "12",
                                    "1": "Passenger",
                                    "2": "245"
                                },
                                {
                                    "0": "13",
                                    "1": "Who are you this time?",
                                    "2": "305"
                                },
                                {
                                    "0": "16",
                                    "1": "Saint Pablo",
                                    "2": "344"
                                }
                            ]
                        },
                        "text/html": [
                            "<table>",
                            "<tr><th>id</th><th>name</th><th>length</th></tr>",
                            "<tr><td>11</td><td>Heroes</td><td>332</td></tr>",
                            "<tr><td>12</td><td>Passenger</td><td>245</td></tr>",
                            "<tr><td>13</td><td>Who are you this time?</td><td>305</td></tr>",
                            "<tr><td>16</td><td>Saint Pablo</td><td>344</td></tr>",
                            "</table>"
                        ]
                    }
                }
            ],
            "execution_count": 84
        }
    ]
}