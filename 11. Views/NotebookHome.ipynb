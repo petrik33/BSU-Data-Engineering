{
    "metadata": {
        "kernelspec": {
            "name": "SQL",
            "display_name": "SQL",
            "language": "sql"
        },
        "language_info": {
            "name": "sql",
            "version": ""
        }
    },
    "nbformat_minor": 2,
    "nbformat": 4,
    "cells": [
        {
            "cell_type": "markdown",
            "source": [
                "## SQLQuery2_1.sql"
            ],
            "metadata": {
                "azdata_cell_guid": "701e0b91-d3ab-4b43-b57d-66696349684f"
            }
        },
        {
            "cell_type": "code",
            "source": [
                "use TestDB1;\n",
                "\n",
                "go\n",
                "create view PR10\n",
                "as \n",
                "select\n",
                "    name,\n",
                "\tcapital,\n",
                "\tsquare,\n",
                "\tpopulation,\n",
                "\tcontinent\n",
                "from Countries\n",
                "where \n",
                "\tpopulation>10000000\n",
                "\tand\n",
                "\tsquare>500000\n",
                "\tand \n",
                "\tcontinent=N'Африка'\n",
                "go \n",
                "select\n",
                "\t*\n",
                "from PR10\n"
            ],
            "metadata": {
                "azdata_cell_guid": "26e536d4-0c96-49fd-a784-29c39e62cf00",
                "language": "sql"
            },
            "outputs": [
                {
                    "output_type": "display_data",
                    "data": {
                        "text/html": "Commands completed successfully."
                    },
                    "metadata": {}
                },
                {
                    "output_type": "display_data",
                    "data": {
                        "text/html": "Commands completed successfully."
                    },
                    "metadata": {}
                },
                {
                    "output_type": "display_data",
                    "data": {
                        "text/html": "(2 rows affected)"
                    },
                    "metadata": {}
                },
                {
                    "output_type": "display_data",
                    "data": {
                        "text/html": "Total execution time: 00:00:00.026"
                    },
                    "metadata": {}
                },
                {
                    "output_type": "execute_result",
                    "execution_count": 3,
                    "data": {
                        "application/vnd.dataresource+json": {
                            "schema": {
                                "fields": [
                                    {
                                        "name": "name"
                                    },
                                    {
                                        "name": "capital"
                                    },
                                    {
                                        "name": "square"
                                    },
                                    {
                                        "name": "population"
                                    },
                                    {
                                        "name": "continent"
                                    }
                                ]
                            },
                            "data": [
                                {
                                    "0": "Алжир",
                                    "1": "Алжир",
                                    "2": "2381740",
                                    "3": "39813722",
                                    "4": "Африка"
                                },
                                {
                                    "0": "Ангола",
                                    "1": "Луанда",
                                    "2": "1246700",
                                    "3": "25831000",
                                    "4": "Африка"
                                }
                            ]
                        },
                        "text/html": "<table><tr><th>name</th><th>capital</th><th>square</th><th>population</th><th>continent</th></tr><tr><td>Алжир</td><td>Алжир</td><td>2381740</td><td>39813722</td><td>Африка</td></tr><tr><td>Ангола</td><td>Луанда</td><td>1246700</td><td>25831000</td><td>Африка</td></tr></table>"
                    },
                    "metadata": {}
                }
            ],
            "execution_count": 3
        },
        {
            "cell_type": "markdown",
            "source": [
                "## SQLQuery2_2.sql"
            ],
            "metadata": {
                "azdata_cell_guid": "cc95f652-c0a5-42dc-887d-c6950d89e0ab"
            }
        },
        {
            "cell_type": "code",
            "source": [
                "use TestDB1;\n",
                "\n",
                "go\n",
                "create view PR20\n",
                "(\n",
                "   Kontinent,\n",
                "\tSr_PL,\n",
                "\tSr_KolNas\n",
                ")\n",
                "as\n",
                "select\n",
                "    continent,\n",
                "    avg(square) as Sr_PL,\n",
                "\tround(avg(cast(population as float) / square), 0) as Sr_KolNas\n",
                "from Countries\n",
                "group by\n",
                "   continent\n",
                "go \n",
                "select\n",
                "   *\n",
                "from PR20"
            ],
            "metadata": {
                "azdata_cell_guid": "8d8a4316-0e15-4d9e-a88b-49e3fe634c14",
                "language": "sql"
            },
            "outputs": [
                {
                    "output_type": "display_data",
                    "data": {
                        "text/html": "Commands completed successfully."
                    },
                    "metadata": {}
                },
                {
                    "output_type": "display_data",
                    "data": {
                        "text/html": "Commands completed successfully."
                    },
                    "metadata": {}
                },
                {
                    "output_type": "display_data",
                    "data": {
                        "text/html": "(5 rows affected)"
                    },
                    "metadata": {}
                },
                {
                    "output_type": "display_data",
                    "data": {
                        "text/html": "Total execution time: 00:00:00.031"
                    },
                    "metadata": {}
                },
                {
                    "output_type": "execute_result",
                    "execution_count": 4,
                    "data": {
                        "application/vnd.dataresource+json": {
                            "schema": {
                                "fields": [
                                    {
                                        "name": "Kontinent"
                                    },
                                    {
                                        "name": "Sr_PL"
                                    },
                                    {
                                        "name": "Sr_KolNas"
                                    }
                                ]
                            },
                            "data": [
                                {
                                    "0": "Азия",
                                    "1": "181462",
                                    "2": "520"
                                },
                                {
                                    "0": "Африка",
                                    "1": "923126",
                                    "2": "42"
                                },
                                {
                                    "0": "Европа",
                                    "1": "114212",
                                    "2": "151"
                                },
                                {
                                    "0": "Северная Америка",
                                    "1": "22966",
                                    "2": "16"
                                },
                                {
                                    "0": "Южная Америка",
                                    "1": "3322371",
                                    "2": "21"
                                }
                            ]
                        },
                        "text/html": "<table><tr><th>Kontinent</th><th>Sr_PL</th><th>Sr_KolNas</th></tr><tr><td>Азия</td><td>181462</td><td>520</td></tr><tr><td>Африка</td><td>923126</td><td>42</td></tr><tr><td>Европа</td><td>114212</td><td>151</td></tr><tr><td>Северная Америка</td><td>22966</td><td>16</td></tr><tr><td>Южная Америка</td><td>3322371</td><td>21</td></tr></table>"
                    },
                    "metadata": {}
                }
            ],
            "execution_count": 4
        },
        {
            "cell_type": "markdown",
            "source": [
                "## SQLQuery2_3.sql"
            ],
            "metadata": {
                "azdata_cell_guid": "08e077d7-fc98-4d7b-a6e3-c889402d4406"
            }
        },
        {
            "cell_type": "code",
            "source": [
                "use Lab8;\n",
                "\n",
                "go \n",
                "create view PR30\n",
                "(\n",
                "   Surname,\n",
                "   Job,\n",
                "   Title,\n",
                "   Degree,\n",
                "   Workplace,\n",
                "   [Exams Number]\n",
                " )\n",
                " as select\n",
                "    FIO,\n",
                "  Dolgn,\n",
                "  Zvanie,\n",
                "  Stepen,\n",
                "  ShifrKaf_Sotr,\n",
                "  (select count(distinct o.kod) from ozenka o where O.Tab_Nom = C.TabNom) as [Exams Number]\n",
                "  From\n",
                "  Sotrudnik C\n",
                "  inner join Prepodavatel P on C.TabNom=P.TabNom_Pr\n",
                "  inner join Kafedra K on C.ShifrKaf_Sotr=K.ShifrKaf\n",
                "go\n",
                "select\n",
                "   *\n",
                "   from PR30"
            ],
            "metadata": {
                "azdata_cell_guid": "d09b195b-beab-4496-bc30-f1c4730e8489",
                "language": "sql"
            },
            "outputs": [
                {
                    "output_type": "display_data",
                    "data": {
                        "text/html": "Commands completed successfully."
                    },
                    "metadata": {}
                },
                {
                    "output_type": "display_data",
                    "data": {
                        "text/html": "Commands completed successfully."
                    },
                    "metadata": {}
                },
                {
                    "output_type": "display_data",
                    "data": {
                        "text/html": "(14 rows affected)"
                    },
                    "metadata": {}
                },
                {
                    "output_type": "display_data",
                    "data": {
                        "text/html": "Total execution time: 00:00:00.042"
                    },
                    "metadata": {}
                },
                {
                    "output_type": "execute_result",
                    "execution_count": 5,
                    "data": {
                        "application/vnd.dataresource+json": {
                            "schema": {
                                "fields": [
                                    {
                                        "name": "Surname"
                                    },
                                    {
                                        "name": "Job"
                                    },
                                    {
                                        "name": "Title"
                                    },
                                    {
                                        "name": "Degree"
                                    },
                                    {
                                        "name": "Workplace"
                                    },
                                    {
                                        "name": "Exams Number"
                                    }
                                ]
                            },
                            "data": [
                                {
                                    "0": "Прохоров",
                                    "1": "зав.кафедрой",
                                    "2": "профессор",
                                    "3": "д.т.н",
                                    "4": "пи",
                                    "5": "1"
                                },
                                {
                                    "0": "Семенов",
                                    "1": "преподаватель",
                                    "2": "доцент",
                                    "3": "к.ф.-м.н",
                                    "4": "пи",
                                    "5": "1"
                                },
                                {
                                    "0": "Петров",
                                    "1": "преподаватель",
                                    "2": "доцент",
                                    "3": "к.т.н",
                                    "4": "пи",
                                    "5": "1"
                                },
                                {
                                    "0": "Андреев",
                                    "1": "зав.кафедрой",
                                    "2": "профессор",
                                    "3": "д.ф.-м.н",
                                    "4": "ис",
                                    "5": "0"
                                },
                                {
                                    "0": "Борисов",
                                    "1": "преподаватель",
                                    "2": "доцент",
                                    "3": "к.ф.-м.н",
                                    "4": "ис",
                                    "5": "1"
                                },
                                {
                                    "0": "Басов",
                                    "1": "зав.кафедрой",
                                    "2": "профессор",
                                    "3": "д.т.н",
                                    "4": "мм",
                                    "5": "1"
                                },
                                {
                                    "0": "Сергеева",
                                    "1": "преподаватель",
                                    "2": "доцент",
                                    "3": "к.т.н",
                                    "4": "мм",
                                    "5": "1"
                                },
                                {
                                    "0": "Волков",
                                    "1": "зав.кафедрой",
                                    "2": "профессор",
                                    "3": "д.т.н",
                                    "4": "оф",
                                    "5": "0"
                                },
                                {
                                    "0": "Зайцев",
                                    "1": "преподаватель",
                                    "2": "доцент",
                                    "3": "к.т.н",
                                    "4": "оф",
                                    "5": "2"
                                },
                                {
                                    "0": "Смирнов",
                                    "1": "преподаватель",
                                    "2": "ассистент",
                                    "3": "NULL",
                                    "4": "оф",
                                    "5": "0"
                                },
                                {
                                    "0": "Кузнецов",
                                    "1": "зав.кафедрой",
                                    "2": "профессор",
                                    "3": "д.ф.-м.н",
                                    "4": "вм",
                                    "5": "1"
                                },
                                {
                                    "0": "Романцев",
                                    "1": "преподаватель",
                                    "2": "профессор",
                                    "3": "д.ф.-м.н",
                                    "4": "вм",
                                    "5": "1"
                                },
                                {
                                    "0": "Соловьев",
                                    "1": "преподаватель",
                                    "2": "доцент",
                                    "3": "к.ф.-м.н",
                                    "4": "вм",
                                    "5": "1"
                                },
                                {
                                    "0": "Зверев",
                                    "1": "зав.кафедрой",
                                    "2": "профессор",
                                    "3": "д.ф.-м.н",
                                    "4": "эф",
                                    "5": "1"
                                }
                            ]
                        },
                        "text/html": "<table><tr><th>Surname</th><th>Job</th><th>Title</th><th>Degree</th><th>Workplace</th><th>Exams Number</th></tr><tr><td>Прохоров</td><td>зав.кафедрой</td><td>профессор</td><td>д.т.н</td><td>пи</td><td>1</td></tr><tr><td>Семенов</td><td>преподаватель</td><td>доцент</td><td>к.ф.-м.н</td><td>пи</td><td>1</td></tr><tr><td>Петров</td><td>преподаватель</td><td>доцент</td><td>к.т.н</td><td>пи</td><td>1</td></tr><tr><td>Андреев</td><td>зав.кафедрой</td><td>профессор</td><td>д.ф.-м.н</td><td>ис</td><td>0</td></tr><tr><td>Борисов</td><td>преподаватель</td><td>доцент</td><td>к.ф.-м.н</td><td>ис</td><td>1</td></tr><tr><td>Басов</td><td>зав.кафедрой</td><td>профессор</td><td>д.т.н</td><td>мм</td><td>1</td></tr><tr><td>Сергеева</td><td>преподаватель</td><td>доцент</td><td>к.т.н</td><td>мм</td><td>1</td></tr><tr><td>Волков</td><td>зав.кафедрой</td><td>профессор</td><td>д.т.н</td><td>оф</td><td>0</td></tr><tr><td>Зайцев</td><td>преподаватель</td><td>доцент</td><td>к.т.н</td><td>оф</td><td>2</td></tr><tr><td>Смирнов</td><td>преподаватель</td><td>ассистент</td><td>NULL</td><td>оф</td><td>0</td></tr><tr><td>Кузнецов</td><td>зав.кафедрой</td><td>профессор</td><td>д.ф.-м.н</td><td>вм</td><td>1</td></tr><tr><td>Романцев</td><td>преподаватель</td><td>профессор</td><td>д.ф.-м.н</td><td>вм</td><td>1</td></tr><tr><td>Соловьев</td><td>преподаватель</td><td>доцент</td><td>к.ф.-м.н</td><td>вм</td><td>1</td></tr><tr><td>Зверев</td><td>зав.кафедрой</td><td>профессор</td><td>д.ф.-м.н</td><td>эф</td><td>1</td></tr></table>"
                    },
                    "metadata": {}
                }
            ],
            "execution_count": 5
        },
        {
            "cell_type": "markdown",
            "source": [
                "## SQLQuery2_4.sql"
            ],
            "metadata": {
                "azdata_cell_guid": "4cbf68a8-052a-4a6f-8995-98227640d244"
            }
        },
        {
            "cell_type": "code",
            "source": [
                "DECLARE @MonthTable TABLE (\n",
                "    MonthNumber INT,\n",
                "    MonthName VARCHAR(20),\n",
                "    DaysInMonth INT\n",
                ");\n",
                "\n",
                "DECLARE @year INT = YEAR(GETDATE());\n",
                "DECLARE @month INT = 1;\n",
                "WHILE @month <= 12\n",
                "BEGIN\n",
                "    INSERT INTO @MonthTable (MonthNumber, MonthName, DaysInMonth)\n",
                "    VALUES (\n",
                "        @month,\n",
                "        DATENAME(MONTH, DATEFROMPARTS(@year, @month, 1)),\n",
                "        DAY(EOMONTH(DATEFROMPARTS(@year, @month, 1)))\n",
                "    );\n",
                "    SET @month = @month + 1;\n",
                "END\n",
                "\n",
                "SELECT * FROM @MonthTable;\n",
                "GO"
            ],
            "metadata": {
                "azdata_cell_guid": "5178bb21-f0a3-495b-985e-f98b89528527",
                "language": "sql"
            },
            "outputs": [
                {
                    "output_type": "display_data",
                    "data": {
                        "text/html": "(1 row affected)"
                    },
                    "metadata": {}
                },
                {
                    "output_type": "display_data",
                    "data": {
                        "text/html": "(1 row affected)"
                    },
                    "metadata": {}
                },
                {
                    "output_type": "display_data",
                    "data": {
                        "text/html": "(1 row affected)"
                    },
                    "metadata": {}
                },
                {
                    "output_type": "display_data",
                    "data": {
                        "text/html": "(1 row affected)"
                    },
                    "metadata": {}
                },
                {
                    "output_type": "display_data",
                    "data": {
                        "text/html": "(1 row affected)"
                    },
                    "metadata": {}
                },
                {
                    "output_type": "display_data",
                    "data": {
                        "text/html": "(1 row affected)"
                    },
                    "metadata": {}
                },
                {
                    "output_type": "display_data",
                    "data": {
                        "text/html": "(1 row affected)"
                    },
                    "metadata": {}
                },
                {
                    "output_type": "display_data",
                    "data": {
                        "text/html": "(1 row affected)"
                    },
                    "metadata": {}
                },
                {
                    "output_type": "display_data",
                    "data": {
                        "text/html": "(1 row affected)"
                    },
                    "metadata": {}
                },
                {
                    "output_type": "display_data",
                    "data": {
                        "text/html": "(1 row affected)"
                    },
                    "metadata": {}
                },
                {
                    "output_type": "display_data",
                    "data": {
                        "text/html": "(1 row affected)"
                    },
                    "metadata": {}
                },
                {
                    "output_type": "display_data",
                    "data": {
                        "text/html": "(1 row affected)"
                    },
                    "metadata": {}
                },
                {
                    "output_type": "display_data",
                    "data": {
                        "text/html": "(12 rows affected)"
                    },
                    "metadata": {}
                },
                {
                    "output_type": "display_data",
                    "data": {
                        "text/html": "Total execution time: 00:00:00.022"
                    },
                    "metadata": {}
                },
                {
                    "output_type": "execute_result",
                    "execution_count": 6,
                    "data": {
                        "application/vnd.dataresource+json": {
                            "schema": {
                                "fields": [
                                    {
                                        "name": "MonthNumber"
                                    },
                                    {
                                        "name": "MonthName"
                                    },
                                    {
                                        "name": "DaysInMonth"
                                    }
                                ]
                            },
                            "data": [
                                {
                                    "0": "1",
                                    "1": "January",
                                    "2": "31"
                                },
                                {
                                    "0": "2",
                                    "1": "February",
                                    "2": "28"
                                },
                                {
                                    "0": "3",
                                    "1": "March",
                                    "2": "31"
                                },
                                {
                                    "0": "4",
                                    "1": "April",
                                    "2": "30"
                                },
                                {
                                    "0": "5",
                                    "1": "May",
                                    "2": "31"
                                },
                                {
                                    "0": "6",
                                    "1": "June",
                                    "2": "30"
                                },
                                {
                                    "0": "7",
                                    "1": "July",
                                    "2": "31"
                                },
                                {
                                    "0": "8",
                                    "1": "August",
                                    "2": "31"
                                },
                                {
                                    "0": "9",
                                    "1": "September",
                                    "2": "30"
                                },
                                {
                                    "0": "10",
                                    "1": "October",
                                    "2": "31"
                                },
                                {
                                    "0": "11",
                                    "1": "November",
                                    "2": "30"
                                },
                                {
                                    "0": "12",
                                    "1": "December",
                                    "2": "31"
                                }
                            ]
                        },
                        "text/html": "<table><tr><th>MonthNumber</th><th>MonthName</th><th>DaysInMonth</th></tr><tr><td>1</td><td>January</td><td>31</td></tr><tr><td>2</td><td>February</td><td>28</td></tr><tr><td>3</td><td>March</td><td>31</td></tr><tr><td>4</td><td>April</td><td>30</td></tr><tr><td>5</td><td>May</td><td>31</td></tr><tr><td>6</td><td>June</td><td>30</td></tr><tr><td>7</td><td>July</td><td>31</td></tr><tr><td>8</td><td>August</td><td>31</td></tr><tr><td>9</td><td>September</td><td>30</td></tr><tr><td>10</td><td>October</td><td>31</td></tr><tr><td>11</td><td>November</td><td>30</td></tr><tr><td>12</td><td>December</td><td>31</td></tr></table>"
                    },
                    "metadata": {}
                }
            ],
            "execution_count": 6
        },
        {
            "cell_type": "markdown",
            "source": [
                "## SQLQuery2_5.sql"
            ],
            "metadata": {
                "azdata_cell_guid": "88ef19a6-ecd5-417b-95e0-08e4946993ba"
            }
        },
        {
            "cell_type": "code",
            "source": [
                "use TestDB1;\n",
                "\n",
                "declare @PR50 Table\n",
                "(\n",
                "   Name nvarchar(50),\n",
                "   Capital nvarchar(50),\n",
                "   Square float,\n",
                "   Population bigint,\n",
                "   Continent nvarchar(50)\n",
                ")\n",
                "insert into @PR50\n",
                "  select \n",
                "    name,\n",
                "    capital,\n",
                "    population,\n",
                "    square,\n",
                "    continent\n",
                "  from Countries A\n",
                "where square*100 < (select avg(square) from Countries B where A.continent = B.continent)\n",
                "select\n",
                "   Name,\n",
                "   Capital,\n",
                "   Square,\n",
                "   Population,\n",
                "   Continent\n",
                " from @PR50\n",
                " GO"
            ],
            "metadata": {
                "azdata_cell_guid": "03dd4f9c-47be-4838-ba59-c3b57fece241",
                "language": "sql"
            },
            "outputs": [
                {
                    "output_type": "display_data",
                    "data": {
                        "text/html": "(1 row affected)"
                    },
                    "metadata": {}
                },
                {
                    "output_type": "display_data",
                    "data": {
                        "text/html": "(1 row affected)"
                    },
                    "metadata": {}
                },
                {
                    "output_type": "display_data",
                    "data": {
                        "text/html": "Total execution time: 00:00:00.021"
                    },
                    "metadata": {}
                },
                {
                    "output_type": "execute_result",
                    "execution_count": 7,
                    "data": {
                        "application/vnd.dataresource+json": {
                            "schema": {
                                "fields": [
                                    {
                                        "name": "Name"
                                    },
                                    {
                                        "name": "Capital"
                                    },
                                    {
                                        "name": "Square"
                                    },
                                    {
                                        "name": "Population"
                                    },
                                    {
                                        "name": "Continent"
                                    }
                                ]
                            },
                            "data": [
                                {
                                    "0": "???????",
                                    "1": "??????",
                                    "2": "1397000",
                                    "3": "701",
                                    "4": "????"
                                }
                            ]
                        },
                        "text/html": "<table><tr><th>Name</th><th>Capital</th><th>Square</th><th>Population</th><th>Continent</th></tr><tr><td>???????</td><td>??????</td><td>1397000</td><td>701</td><td>????</td></tr></table>"
                    },
                    "metadata": {}
                }
            ],
            "execution_count": 7
        },
        {
            "cell_type": "markdown",
            "source": [
                "## SQLQuery2_6.sql"
            ],
            "metadata": {
                "azdata_cell_guid": "fdb70e9c-15e8-4d74-8633-b6068d68871c"
            }
        },
        {
            "cell_type": "code",
            "source": [
                "use Lab8;\n",
                "\n",
                "select\n",
                "DATENAME(week, data) as [Week Name],\n",
                "count(distinct Kod) as [Exams Number],\n",
                "count(distinct RegNom) as [Students Number] into\n",
                "  #PR60\n",
                "from Ozenka\n",
                "group by\n",
                "  DATENAME(week, data)\n",
                "select * from #PR60"
            ],
            "metadata": {
                "azdata_cell_guid": "74d0d557-6fd5-439d-8889-07919ddbf7b0",
                "language": "sql"
            },
            "outputs": [
                {
                    "output_type": "display_data",
                    "data": {
                        "text/html": "(2 rows affected)"
                    },
                    "metadata": {}
                },
                {
                    "output_type": "display_data",
                    "data": {
                        "text/html": "(2 rows affected)"
                    },
                    "metadata": {}
                },
                {
                    "output_type": "display_data",
                    "data": {
                        "text/html": "Total execution time: 00:00:00.013"
                    },
                    "metadata": {}
                },
                {
                    "output_type": "execute_result",
                    "execution_count": 8,
                    "data": {
                        "application/vnd.dataresource+json": {
                            "schema": {
                                "fields": [
                                    {
                                        "name": "Week Name"
                                    },
                                    {
                                        "name": "Exams Number"
                                    },
                                    {
                                        "name": "Students Number"
                                    }
                                ]
                            },
                            "data": [
                                {
                                    "0": "24",
                                    "1": "6",
                                    "2": "8"
                                },
                                {
                                    "0": "25",
                                    "1": "3",
                                    "2": "5"
                                }
                            ]
                        },
                        "text/html": "<table><tr><th>Week Name</th><th>Exams Number</th><th>Students Number</th></tr><tr><td>24</td><td>6</td><td>8</td></tr><tr><td>25</td><td>3</td><td>5</td></tr></table>"
                    },
                    "metadata": {}
                }
            ],
            "execution_count": 8
        },
        {
            "cell_type": "markdown",
            "source": [
                "## SQLQuery2_7.sql"
            ],
            "metadata": {
                "azdata_cell_guid": "38f7be00-1af8-45aa-9554-c2dd32477b9a"
            }
        },
        {
            "cell_type": "code",
            "source": [
                "use TestDB1;\n",
                "\n",
                "create table ##PR70\n",
                "(\n",
                "   Name nvarchar(50),\n",
                "   MaxSquare int,\n",
                "   MinSquare int\n",
                ")\n",
                "insert into\n",
                "   ##PR70\n",
                "   (Name, MaxSquare,MinSquare)\n",
                "select\n",
                "continent,\n",
                "max(square)as MaxSquare,\n",
                "min(square)as MinSquare\n",
                "from\n",
                "  Countries\n",
                "group by\n",
                "  continent\n",
                "select*from ##PR70"
            ],
            "metadata": {
                "azdata_cell_guid": "95324776-7d0b-4774-bb74-7cdb8d6ad38e",
                "language": "sql"
            },
            "outputs": [
                {
                    "output_type": "display_data",
                    "data": {
                        "text/html": "(5 rows affected)"
                    },
                    "metadata": {}
                },
                {
                    "output_type": "display_data",
                    "data": {
                        "text/html": "(5 rows affected)"
                    },
                    "metadata": {}
                },
                {
                    "output_type": "display_data",
                    "data": {
                        "text/html": "Total execution time: 00:00:00.008"
                    },
                    "metadata": {}
                },
                {
                    "output_type": "execute_result",
                    "execution_count": 9,
                    "data": {
                        "application/vnd.dataresource+json": {
                            "schema": {
                                "fields": [
                                    {
                                        "name": "Name"
                                    },
                                    {
                                        "name": "MaxSquare"
                                    },
                                    {
                                        "name": "MinSquare"
                                    }
                                ]
                            },
                            "data": [
                                {
                                    "0": "????",
                                    "1": "647500",
                                    "2": "701"
                                },
                                {
                                    "0": "??????",
                                    "1": "2381740",
                                    "2": "112620"
                                },
                                {
                                    "0": "??????",
                                    "1": "244820",
                                    "2": "28748"
                                },
                                {
                                    "0": "???????? ???????",
                                    "1": "22966",
                                    "2": "22966"
                                },
                                {
                                    "0": "????? ???????",
                                    "1": "8511965",
                                    "2": "912050"
                                }
                            ]
                        },
                        "text/html": "<table><tr><th>Name</th><th>MaxSquare</th><th>MinSquare</th></tr><tr><td>????</td><td>647500</td><td>701</td></tr><tr><td>??????</td><td>2381740</td><td>112620</td></tr><tr><td>??????</td><td>244820</td><td>28748</td></tr><tr><td>???????? ???????</td><td>22966</td><td>22966</td></tr><tr><td>????? ???????</td><td>8511965</td><td>912050</td></tr></table>"
                    },
                    "metadata": {}
                }
            ],
            "execution_count": 9
        },
        {
            "cell_type": "markdown",
            "source": [
                "## SQLQuery2_8.sql"
            ],
            "metadata": {
                "azdata_cell_guid": "cc717eae-3042-4dc3-bbbb-7109d8720718"
            }
        },
        {
            "cell_type": "code",
            "source": [
                "use Lab8;\n",
                "\n",
                "with AverageFacultySalary as\n",
                "(\n",
                "select\n",
                "    F.NFak as Faculty,\n",
                "\tF.ABFak,\n",
                "\tavg(Zarplata) as [Average salary] \n",
                "from Sotrudnik C\n",
                "\tinner join Kafedra K on C.ShifrKaf_Sotr=K.ShifrKaf\n",
                "\tinner join Fakultet F on F.ABFak = K.AbFak_Kaf\n",
                "group by\n",
                "\tF.NFak, F.ABFak\n",
                ")\n",
                "select\n",
                "   C.FIO,\n",
                "   C.Zarplata,\n",
                "   AFS.Faculty,\n",
                "   AFS.[Average salary]\n",
                "from\n",
                "   Sotrudnik C\n",
                "   inner join Kafedra K on C.ShifrKaf_Sotr = K.ShifrKaf\n",
                "   inner join AverageFacultySalary AFS on AFS.ABFak = K.AbFak_Kaf\n",
                "where\n",
                "   C.Zarplata<AFS.[Average salary]"
            ],
            "metadata": {
                "azdata_cell_guid": "b69338b0-86a0-4a60-a85a-f59fffd69d72",
                "language": "sql"
            },
            "outputs": [
                {
                    "output_type": "display_data",
                    "data": {
                        "text/html": "(11 rows affected)"
                    },
                    "metadata": {}
                },
                {
                    "output_type": "display_data",
                    "data": {
                        "text/html": "Total execution time: 00:00:00.013"
                    },
                    "metadata": {}
                },
                {
                    "output_type": "execute_result",
                    "execution_count": 10,
                    "data": {
                        "application/vnd.dataresource+json": {
                            "schema": {
                                "fields": [
                                    {
                                        "name": "FIO"
                                    },
                                    {
                                        "name": "Zarplata"
                                    },
                                    {
                                        "name": "Faculty"
                                    },
                                    {
                                        "name": "Average salary"
                                    }
                                ]
                            },
                            "data": [
                                {
                                    "0": "Зайцев",
                                    "1": "2500.00",
                                    "2": "Естественные Науки",
                                    "3": "2571.4285"
                                },
                                {
                                    "0": "Смирнов",
                                    "1": "1500.00",
                                    "2": "Естественные Науки",
                                    "3": "2571.4285"
                                },
                                {
                                    "0": "Лисик",
                                    "1": "2000.00",
                                    "2": "Естественные Науки",
                                    "3": "2571.4285"
                                },
                                {
                                    "0": "Романцев",
                                    "1": "2500.00",
                                    "2": "Естественные Науки",
                                    "3": "2571.4285"
                                },
                                {
                                    "0": "Соловьев",
                                    "1": "2500.00",
                                    "2": "Естественные Науки",
                                    "3": "2571.4285"
                                },
                                {
                                    "0": "Сидоров",
                                    "1": "1500.00",
                                    "2": "Информационные Науки",
                                    "3": "2437.50"
                                },
                                {
                                    "0": "Глухов",
                                    "1": "2000.00",
                                    "2": "Информационные Науки",
                                    "3": "2437.50"
                                },
                                {
                                    "0": "Чернов",
                                    "1": "1500.00",
                                    "2": "Информационные Науки",
                                    "3": "2437.50"
                                },
                                {
                                    "0": "Сергеева",
                                    "1": "2500.00",
                                    "2": "Физико Математический",
                                    "3": "2800.00"
                                },
                                {
                                    "0": "Сорокина",
                                    "1": "2500.00",
                                    "2": "Физико Математический",
                                    "3": "2800.00"
                                },
                                {
                                    "0": "Григорьев",
                                    "1": "2000.00",
                                    "2": "Физико Математический",
                                    "3": "2800.00"
                                }
                            ]
                        },
                        "text/html": "<table><tr><th>FIO</th><th>Zarplata</th><th>Faculty</th><th>Average salary</th></tr><tr><td>Зайцев</td><td>2500.00</td><td>Естественные Науки</td><td>2571.4285</td></tr><tr><td>Смирнов</td><td>1500.00</td><td>Естественные Науки</td><td>2571.4285</td></tr><tr><td>Лисик</td><td>2000.00</td><td>Естественные Науки</td><td>2571.4285</td></tr><tr><td>Романцев</td><td>2500.00</td><td>Естественные Науки</td><td>2571.4285</td></tr><tr><td>Соловьев</td><td>2500.00</td><td>Естественные Науки</td><td>2571.4285</td></tr><tr><td>Сидоров</td><td>1500.00</td><td>Информационные Науки</td><td>2437.50</td></tr><tr><td>Глухов</td><td>2000.00</td><td>Информационные Науки</td><td>2437.50</td></tr><tr><td>Чернов</td><td>1500.00</td><td>Информационные Науки</td><td>2437.50</td></tr><tr><td>Сергеева</td><td>2500.00</td><td>Физико Математический</td><td>2800.00</td></tr><tr><td>Сорокина</td><td>2500.00</td><td>Физико Математический</td><td>2800.00</td></tr><tr><td>Григорьев</td><td>2000.00</td><td>Физико Математический</td><td>2800.00</td></tr></table>"
                    },
                    "metadata": {}
                }
            ],
            "execution_count": 10
        },
        {
            "cell_type": "markdown",
            "source": [
                "## SQLQuery2_9.sql"
            ],
            "metadata": {
                "azdata_cell_guid": "ddcd0905-c1e3-4411-97b9-d43fe651e28d"
            }
        },
        {
            "cell_type": "code",
            "source": [
                "USE TestDB1;\n",
                "\n",
                "IF OBJECT_ID('dbo.PR1', 'V') IS NOT NULL\n",
                "    DROP VIEW dbo.PR1;\n",
                "\n",
                "IF OBJECT_ID('dbo.PR10', 'V') IS NOT NULL\n",
                "    DROP VIEW dbo.PR10;\n",
                "\n",
                "IF OBJECT_ID('dbo.PR2', 'V') IS NOT NULL\n",
                "    DROP VIEW dbo.PR2;\n",
                "\n",
                "IF OBJECT_ID('dbo.PR20', 'V') IS NOT NULL\n",
                "    DROP VIEW dbo.PR20;\n",
                "\n",
                "IF OBJECT_ID('tempdb..##PR7', 'U') IS NOT NULL\n",
                "    DROP TABLE ##PR7;\n",
                "\n",
                "IF OBJECT_ID('tempdb..##PR70', 'U') IS NOT NULL\n",
                "    DROP TABLE ##PR70;\n",
                "\n",
                "USE Lab8;\n",
                "\n",
                "IF OBJECT_ID('dbo.PR3', 'V') IS NOT NULL\n",
                "    DROP VIEW dbo.PR3;\n",
                "\n",
                "IF OBJECT_ID('dbo.PR30', 'V') IS NOT NULL\n",
                "    DROP VIEW dbo.PR30;\n",
                "\n",
                "IF OBJECT_ID('tempdb..#PR6', 'U') IS NOT NULL\n",
                "    DROP TABLE #PR6;\n",
                "\n",
                "IF OBJECT_ID('tempdb..#PR60', 'U') IS NOT NULL\n",
                "    DROP TABLE #PR60;\n",
                "\n",
                "GO\n",
                "\n",
                ""
            ],
            "metadata": {
                "azdata_cell_guid": "7c4bf170-c65b-4ef3-bf4a-96111c9ce4ea",
                "language": "sql"
            },
            "outputs": [
                {
                    "output_type": "display_data",
                    "data": {
                        "text/html": "Commands completed successfully."
                    },
                    "metadata": {}
                },
                {
                    "output_type": "display_data",
                    "data": {
                        "text/html": "Total execution time: 00:00:00.035"
                    },
                    "metadata": {}
                }
            ],
            "execution_count": 11
        }
    ]
}