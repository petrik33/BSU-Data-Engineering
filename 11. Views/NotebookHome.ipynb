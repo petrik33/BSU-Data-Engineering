{
  "cells": [
    {
      "cell_type": "markdown",
      "id": "b67ef0f0",
      "metadata": {},
      "source": [
        "## SQLQuery2_1.sql"
      ]
    },
    {
      "cell_type": "code",
      "execution_count": null,
      "id": "e0fb04ca",
      "metadata": {},
      "outputs": [],
      "source": [
        "use TestDB1;\n",
        "\n",
        "go\n",
        "create view PR10\n",
        "as \n",
        "select\n",
        "    name,\n",
        "\tcapital,\n",
        "\tsquare,\n",
        "\tpopulation,\n",
        "\tcontinent\n",
        "from Countries\n",
        "where \n",
        "\tpopulation>10000000\n",
        "\tand\n",
        "\tsquare>500000\n",
        "\tand \n",
        "\tcontinent=N'Африка'\n",
        "go \n",
        "select\n",
        "\t*\n",
        "from PR10\n"
      ]
    },
    {
      "cell_type": "markdown",
      "id": "3e172dc4",
      "metadata": {},
      "source": [
        "## SQLQuery2_2.sql"
      ]
    },
    {
      "cell_type": "code",
      "execution_count": null,
      "id": "fbb2a009",
      "metadata": {},
      "outputs": [],
      "source": [
        "use TestDB1;\n",
        "\n",
        "go\n",
        "create view PR200\n",
        "(\n",
        "   Kontinent,\n",
        "\tSr_PL,\n",
        "\tSr_KolNas\n",
        ")\n",
        "as\n",
        "select\n",
        "    continent,\n",
        "    avg(square) as Sr_PL,\n",
        "\tround(avg(cast(population as float) / square), 0) as Sr_KolNas\n",
        "from Countries\n",
        "group by\n",
        "   continent\n",
        "go \n",
        "select\n",
        "   *\n",
        "from PR200"
      ]
    },
    {
      "cell_type": "markdown",
      "id": "28766878",
      "metadata": {},
      "source": [
        "## SQLQuery2_3.sql"
      ]
    },
    {
      "cell_type": "code",
      "execution_count": null,
      "id": "0cdd97be",
      "metadata": {},
      "outputs": [],
      "source": [
        "use TestDatabas;\n",
        "\n",
        "go \n",
        "create view PR330\n",
        "(\n",
        "   Surname,\n",
        "   Job,\n",
        "   Title,\n",
        "   Degree,\n",
        "   Workplace,\n",
        "   [Exams Number]\n",
        " )\n",
        " as select\n",
        "    FIO,\n",
        "  Dolgn,\n",
        "  Zvanie,\n",
        "  Stepen,\n",
        "  ShifrKaf_Sotr,\n",
        "  (select count(distinct o.kod) from ozenka o where O.Tab_Nom = C.TabNom) as [Exams Number]\n",
        "  From\n",
        "  Sotrudnik C\n",
        "  inner join Prepodavatel P on C.TabNom=P.TabNom_Pr\n",
        "  inner join Kafedra K on C.ShifrKaf_Sotr=K.ShifrKaf\n",
        "go\n",
        "select\n",
        "   *\n",
        "   from PR330"
      ]
    },
    {
      "cell_type": "markdown",
      "id": "d330e51a",
      "metadata": {},
      "source": [
        "## SQLQuery2_4.sql"
      ]
    },
    {
      "cell_type": "code",
      "execution_count": null,
      "id": "326a2345",
      "metadata": {},
      "outputs": [],
      "source": [
        "DECLARE @MonthTable TABLE (\n",
        "    MonthNumber INT,\n",
        "    MonthName VARCHAR(20),\n",
        "    DaysInMonth INT\n",
        ");\n",
        "\n",
        "DECLARE @year INT = YEAR(GETDATE());\n",
        "DECLARE @month INT = 1;\n",
        "WHILE @month <= 12\n",
        "BEGIN\n",
        "    INSERT INTO @MonthTable (MonthNumber, MonthName, DaysInMonth)\n",
        "    VALUES (\n",
        "        @month,\n",
        "        DATENAME(MONTH, DATEFROMPARTS(@year, @month, 1)),\n",
        "        DAY(EOMONTH(DATEFROMPARTS(@year, @month, 1)))\n",
        "    );\n",
        "    SET @month = @month + 1;\n",
        "END\n",
        "\n",
        "SELECT * FROM @MonthTable;"
      ]
    },
    {
      "cell_type": "markdown",
      "id": "cf285ae1",
      "metadata": {},
      "source": [
        "## SQLQuery2_5.sql"
      ]
    },
    {
      "cell_type": "code",
      "execution_count": null,
      "id": "cc2b6fbb",
      "metadata": {},
      "outputs": [],
      "source": [
        "use TestDB1;\n",
        "\n",
        "declare @PR5 Table\n",
        "(\n",
        "   Name varchar(50),\n",
        "   Capital varchar(50),\n",
        "   Square float,\n",
        "   Population bigint,\n",
        "   Continent varchar(50)\n",
        ")\n",
        "insert into @PR5\n",
        "  select \n",
        "    name,\n",
        "    capital,\n",
        "    population,\n",
        "    square,\n",
        "    continent\n",
        "  from Countries A\n",
        "where square*100 < (select avg(square) from Countries B where A.continent = B.continent)\n",
        "select\n",
        "   Name,\n",
        "   Capital,\n",
        "   Square,\n",
        "   Population,\n",
        "   Continent\n",
        " from @PR5"
      ]
    },
    {
      "cell_type": "markdown",
      "id": "c02b2e4f",
      "metadata": {},
      "source": [
        "## SQLQuery2_6.sql"
      ]
    },
    {
      "cell_type": "code",
      "execution_count": null,
      "id": "1c918c68",
      "metadata": {},
      "outputs": [],
      "source": [
        "use TestDatabas;\n",
        "\n",
        "select\n",
        "DATENAME(week, data) as [Week Name],\n",
        "count(distinct Kod) as [Exams Number],\n",
        "count(distinct RegNom) as [Students Number] into\n",
        "  #PR26\n",
        "from Ozenka\n",
        "group by\n",
        "  DATENAME(week, data)\n",
        "select * from #PR26"
      ]
    },
    {
      "cell_type": "markdown",
      "id": "2374b2ac",
      "metadata": {},
      "source": [
        "## SQLQuery2_7.sql"
      ]
    },
    {
      "cell_type": "code",
      "execution_count": null,
      "id": "492d9db7",
      "metadata": {},
      "outputs": [],
      "source": [
        "use TestDB1;\n",
        "\n",
        "create table ##PR7\n",
        "(\n",
        "   Name varchar(50),\n",
        "   MaxSquare int,\n",
        "   MinSquare int\n",
        ")\n",
        "insert into\n",
        "   ##PR700\n",
        "   (Name, MaxSquare,MinSquare)\n",
        "select\n",
        "continent,\n",
        "max(square)as MaxSquare,\n",
        "min(square)as MinSquare\n",
        "from\n",
        "  Countries\n",
        "group by\n",
        "  continent\n",
        "select*from ##PR700"
      ]
    },
    {
      "cell_type": "markdown",
      "id": "8edd23da",
      "metadata": {},
      "source": [
        "## SQLQuery2_8.sql"
      ]
    },
    {
      "cell_type": "code",
      "execution_count": null,
      "id": "8c16026e",
      "metadata": {},
      "outputs": [],
      "source": [
        "use TestDatabas;\n",
        "\n",
        "with AverageFacultySalary as\n",
        "(\n",
        "select\n",
        "    F.NFak as Faculty,\n",
        "\tF.ABFak,\n",
        "\tavg(Zarplata) as [Average salary] \n",
        "from Sotrudnik C\n",
        "\tinner join Kafedra K on C.ShifrKaf_Sotr=K.ShifrKaf\n",
        "\tinner join Fakultet F on F.ABFak = K.AbFak_Kaf\n",
        "group by\n",
        "\tF.NFak, F.ABFak\n",
        ")\n",
        "select\n",
        "   C.FIO,\n",
        "   C.Zarplata,\n",
        "   AFS.Faculty,\n",
        "   AFS.[Average salary]\n",
        "from\n",
        "   Sotrudnik C\n",
        "   inner join Kafedra K on C.ShifrKaf_Sotr = K.ShifrKaf\n",
        "   inner join AverageFacultySalary AFS on AFS.ABFak = K.AbFak_Kaf\n",
        "where\n",
        "   C.Zarplata<AFS.[Average salary]"
      ]
    },
    {
      "cell_type": "markdown",
      "id": "3cd38eff",
      "metadata": {},
      "source": [
        "## SQLQuery2_9.sql"
      ]
    },
    {
      "cell_type": "code",
      "execution_count": null,
      "id": "e36b06b5",
      "metadata": {},
      "outputs": [],
      "source": [
        "use TestDB1\n",
        "drop view PR10\n",
        "drop view PR200\n",
        "drop table PR5\n",
        "drop table PR7\n",
        "\n",
        "use TestDatabas\n",
        "drop view PR330\n",
        "drop table MonthTable\n",
        "drop table #PR6\n",
        "drop table #PR26\n"
      ]
    }
  ],
  "metadata": {},
  "nbformat": 4,
  "nbformat_minor": 5
}