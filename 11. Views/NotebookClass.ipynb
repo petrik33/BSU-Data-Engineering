{
    "metadata": {
        "kernelspec": {
            "name": "SQL",
            "display_name": "SQL",
            "language": "sql"
        },
        "language_info": {
            "name": "sql",
            "version": ""
        }
    },
    "nbformat_minor": 2,
    "nbformat": 4,
    "cells": [
        {
            "cell_type": "markdown",
            "source": [
                "## SQLQuery1_1.sql"
            ],
            "metadata": {
                "azdata_cell_guid": "804f6869-0e0d-440f-893e-6866764171b9"
            }
        },
        {
            "cell_type": "code",
            "source": [
                "use TestDB1;\n",
                "\n",
                "go\n",
                "create view PR1\n",
                "as\n",
                "select\n",
                "\tname,\n",
                "\tcapital,\n",
                "\tsquare,\n",
                "\tpopulation,\n",
                "\tcontinent\n",
                "from\n",
                "\tCountries\n",
                "where\n",
                "\tpopulation < 5000000\n",
                "\tand\n",
                "\tsquare > 100000\n",
                "go\n",
                "select\n",
                "\tname,\n",
                "\tcapital,\n",
                "\tsquare,\n",
                "\tpopulation,\n",
                "\tcontinent\n",
                "from\n",
                "\tPR1"
            ],
            "metadata": {
                "azdata_cell_guid": "2d7822a2-db9a-4e92-ad91-118654ee5f21",
                "language": "sql"
            },
            "outputs": [
                {
                    "output_type": "display_data",
                    "data": {
                        "text/html": "Commands completed successfully."
                    },
                    "metadata": {}
                },
                {
                    "output_type": "display_data",
                    "data": {
                        "text/html": "Commands completed successfully."
                    },
                    "metadata": {}
                },
                {
                    "output_type": "display_data",
                    "data": {
                        "text/html": "(1 row affected)"
                    },
                    "metadata": {}
                },
                {
                    "output_type": "display_data",
                    "data": {
                        "text/html": "Total execution time: 00:00:00.029"
                    },
                    "metadata": {}
                },
                {
                    "output_type": "execute_result",
                    "execution_count": 22,
                    "data": {
                        "application/vnd.dataresource+json": {
                            "schema": {
                                "fields": [
                                    {
                                        "name": "name"
                                    },
                                    {
                                        "name": "capital"
                                    },
                                    {
                                        "name": "square"
                                    },
                                    {
                                        "name": "population"
                                    },
                                    {
                                        "name": "continent"
                                    }
                                ]
                            },
                            "data": [
                                {
                                    "0": "Ботсвана",
                                    "1": "Габороне",
                                    "2": "600370",
                                    "3": "2209208",
                                    "4": "Африка"
                                }
                            ]
                        },
                        "text/html": "<table><tr><th>name</th><th>capital</th><th>square</th><th>population</th><th>continent</th></tr><tr><td>Ботсвана</td><td>Габороне</td><td>600370</td><td>2209208</td><td>Африка</td></tr></table>"
                    },
                    "metadata": {}
                }
            ],
            "execution_count": 22
        },
        {
            "cell_type": "markdown",
            "source": [
                "## SQLQuery1_2.sql"
            ],
            "metadata": {
                "azdata_cell_guid": "09e89e19-d6d0-4f9f-8d76-c5e29abc3593"
            }
        },
        {
            "cell_type": "code",
            "source": [
                "use TestDB1;\n",
                "\n",
                "go\n",
                "create view PR2\n",
                "(\n",
                "\tcontinent,\n",
                "\tsquare,\n",
                "\tpopulation\t\n",
                ")\n",
                "as\n",
                "select \n",
                "\tcontinent,\n",
                "\tSum(square),\n",
                "\tSum(population)\n",
                "from\n",
                "\tCountries\n",
                "group by\n",
                "\tcontinent\n",
                "go\n",
                "select\n",
                "\t\n",
                "\tcontinent,\n",
                "\tsquare,\n",
                "\tpopulation\n",
                "from\n",
                "\tPR2"
            ],
            "metadata": {
                "azdata_cell_guid": "97f65c4a-1aed-4691-9739-33cc1e83500d",
                "language": "sql"
            },
            "outputs": [
                {
                    "output_type": "display_data",
                    "data": {
                        "text/html": "Commands completed successfully."
                    },
                    "metadata": {}
                },
                {
                    "output_type": "display_data",
                    "data": {
                        "text/html": "Commands completed successfully."
                    },
                    "metadata": {}
                },
                {
                    "output_type": "display_data",
                    "data": {
                        "text/html": "(5 rows affected)"
                    },
                    "metadata": {}
                },
                {
                    "output_type": "display_data",
                    "data": {
                        "text/html": "Total execution time: 00:00:00.028"
                    },
                    "metadata": {}
                },
                {
                    "output_type": "execute_result",
                    "execution_count": 23,
                    "data": {
                        "application/vnd.dataresource+json": {
                            "schema": {
                                "fields": [
                                    {
                                        "name": "continent"
                                    },
                                    {
                                        "name": "square"
                                    },
                                    {
                                        "name": "population"
                                    }
                                ]
                            },
                            "data": [
                                {
                                    "0": "Азия",
                                    "1": "1270235",
                                    "2": "294810990"
                                },
                                {
                                    "0": "Африка",
                                    "1": "4615630",
                                    "2": "98055327"
                                },
                                {
                                    "0": "Европа",
                                    "1": "799489",
                                    "2": "114682216"
                                },
                                {
                                    "0": "Северная Америка",
                                    "1": "22966",
                                    "2": "377968"
                                },
                                {
                                    "0": "Южная Америка",
                                    "1": "13289485",
                                    "2": "291942128"
                                }
                            ]
                        },
                        "text/html": "<table><tr><th>continent</th><th>square</th><th>population</th></tr><tr><td>Азия</td><td>1270235</td><td>294810990</td></tr><tr><td>Африка</td><td>4615630</td><td>98055327</td></tr><tr><td>Европа</td><td>799489</td><td>114682216</td></tr><tr><td>Северная Америка</td><td>22966</td><td>377968</td></tr><tr><td>Южная Америка</td><td>13289485</td><td>291942128</td></tr></table>"
                    },
                    "metadata": {}
                }
            ],
            "execution_count": 23
        },
        {
            "cell_type": "markdown",
            "source": [
                "## SQLQuery1_3.sql"
            ],
            "metadata": {
                "azdata_cell_guid": "12b035f0-7e0c-49e2-8968-0e1e5b2ac508"
            }
        },
        {
            "cell_type": "code",
            "source": [
                "use Lab8;\n",
                "\n",
                "go\n",
                "create view PR3\n",
                "(\n",
                "\tSurname,\n",
                "\tJob,\n",
                "\tTitle,\n",
                "\tDegree,\n",
                "\tWorkplace,\n",
                "\tSalary\n",
                ")\n",
                "as select\n",
                "\tFio,\n",
                "\tDolgn,\n",
                "\tZvanie,\n",
                "\tStepen,\n",
                "\tNKaf,\n",
                "\tZarplata\n",
                "from\n",
                "\tSotrudnik C\n",
                "\tinner join Prepodavatel P on C.TabNom = P.TabNom_pr\n",
                "\tinner join Kafedra K on C.ShifrKaf_Sotr = k.ShifrKaf\n",
                "go\n",
                "select\n",
                "\tSurname,\n",
                "\tJob,\n",
                "\tTitle,\n",
                "\tDegree,\n",
                "\tWorkplace,\n",
                "\tSalary\n",
                "from\n",
                "\tPR3"
            ],
            "metadata": {
                "azdata_cell_guid": "c5b58bb5-6963-4e6b-97fd-8989b62ebdc3",
                "language": "sql"
            },
            "outputs": [
                {
                    "output_type": "display_data",
                    "data": {
                        "text/html": "Commands completed successfully."
                    },
                    "metadata": {}
                },
                {
                    "output_type": "display_data",
                    "data": {
                        "text/html": "Commands completed successfully."
                    },
                    "metadata": {}
                },
                {
                    "output_type": "display_data",
                    "data": {
                        "text/html": "(14 rows affected)"
                    },
                    "metadata": {}
                },
                {
                    "output_type": "display_data",
                    "data": {
                        "text/html": "Total execution time: 00:00:00.023"
                    },
                    "metadata": {}
                },
                {
                    "output_type": "execute_result",
                    "execution_count": 24,
                    "data": {
                        "application/vnd.dataresource+json": {
                            "schema": {
                                "fields": [
                                    {
                                        "name": "Surname"
                                    },
                                    {
                                        "name": "Job"
                                    },
                                    {
                                        "name": "Title"
                                    },
                                    {
                                        "name": "Degree"
                                    },
                                    {
                                        "name": "Workplace"
                                    },
                                    {
                                        "name": "Salary"
                                    }
                                ]
                            },
                            "data": [
                                {
                                    "0": "Прохоров",
                                    "1": "зав.кафедрой",
                                    "2": "профессор",
                                    "3": "д.т.н",
                                    "4": "Прикладная Математика",
                                    "5": "3500.00"
                                },
                                {
                                    "0": "Семенов",
                                    "1": "преподаватель",
                                    "2": "доцент",
                                    "3": "к.ф.-м.н",
                                    "4": "Прикладная Математика",
                                    "5": "2500.00"
                                },
                                {
                                    "0": "Петров",
                                    "1": "преподаватель",
                                    "2": "доцент",
                                    "3": "к.т.н",
                                    "4": "Прикладная Математика",
                                    "5": "2500.00"
                                },
                                {
                                    "0": "Андреев",
                                    "1": "зав.кафедрой",
                                    "2": "профессор",
                                    "3": "д.ф.-м.н",
                                    "4": "Информационные Системы",
                                    "5": "3500.00"
                                },
                                {
                                    "0": "Борисов",
                                    "1": "преподаватель",
                                    "2": "доцент",
                                    "3": "к.ф.-м.н",
                                    "4": "Информационные Системы",
                                    "5": "2500.00"
                                },
                                {
                                    "0": "Басов",
                                    "1": "зав.кафедрой",
                                    "2": "профессор",
                                    "3": "д.т.н",
                                    "4": "Математическое Моделирование",
                                    "5": "3500.00"
                                },
                                {
                                    "0": "Сергеева",
                                    "1": "преподаватель",
                                    "2": "доцент",
                                    "3": "к.т.н",
                                    "4": "Математическое Моделирование",
                                    "5": "2500.00"
                                },
                                {
                                    "0": "Волков",
                                    "1": "зав.кафедрой",
                                    "2": "профессор",
                                    "3": "д.т.н",
                                    "4": "Общая Физика",
                                    "5": "3500.00"
                                },
                                {
                                    "0": "Зайцев",
                                    "1": "преподаватель",
                                    "2": "доцент",
                                    "3": "к.т.н",
                                    "4": "Общая Физика",
                                    "5": "2500.00"
                                },
                                {
                                    "0": "Смирнов",
                                    "1": "преподаватель",
                                    "2": "ассистент",
                                    "3": "NULL",
                                    "4": "Общая Физика",
                                    "5": "1500.00"
                                },
                                {
                                    "0": "Кузнецов",
                                    "1": "зав.кафедрой",
                                    "2": "профессор",
                                    "3": "д.ф.-м.н",
                                    "4": "Высшая Математика",
                                    "5": "3500.00"
                                },
                                {
                                    "0": "Романцев",
                                    "1": "преподаватель",
                                    "2": "профессор",
                                    "3": "д.ф.-м.н",
                                    "4": "Высшая Математика",
                                    "5": "2500.00"
                                },
                                {
                                    "0": "Соловьев",
                                    "1": "преподаватель",
                                    "2": "доцент",
                                    "3": "к.ф.-м.н",
                                    "4": "Высшая Математика",
                                    "5": "2500.00"
                                },
                                {
                                    "0": "Зверев",
                                    "1": "зав.кафедрой",
                                    "2": "профессор",
                                    "3": "д.ф.-м.н",
                                    "4": "Экспериментальная Физика",
                                    "5": "3500.00"
                                }
                            ]
                        },
                        "text/html": "<table><tr><th>Surname</th><th>Job</th><th>Title</th><th>Degree</th><th>Workplace</th><th>Salary</th></tr><tr><td>Прохоров</td><td>зав.кафедрой</td><td>профессор</td><td>д.т.н</td><td>Прикладная Математика</td><td>3500.00</td></tr><tr><td>Семенов</td><td>преподаватель</td><td>доцент</td><td>к.ф.-м.н</td><td>Прикладная Математика</td><td>2500.00</td></tr><tr><td>Петров</td><td>преподаватель</td><td>доцент</td><td>к.т.н</td><td>Прикладная Математика</td><td>2500.00</td></tr><tr><td>Андреев</td><td>зав.кафедрой</td><td>профессор</td><td>д.ф.-м.н</td><td>Информационные Системы</td><td>3500.00</td></tr><tr><td>Борисов</td><td>преподаватель</td><td>доцент</td><td>к.ф.-м.н</td><td>Информационные Системы</td><td>2500.00</td></tr><tr><td>Басов</td><td>зав.кафедрой</td><td>профессор</td><td>д.т.н</td><td>Математическое Моделирование</td><td>3500.00</td></tr><tr><td>Сергеева</td><td>преподаватель</td><td>доцент</td><td>к.т.н</td><td>Математическое Моделирование</td><td>2500.00</td></tr><tr><td>Волков</td><td>зав.кафедрой</td><td>профессор</td><td>д.т.н</td><td>Общая Физика</td><td>3500.00</td></tr><tr><td>Зайцев</td><td>преподаватель</td><td>доцент</td><td>к.т.н</td><td>Общая Физика</td><td>2500.00</td></tr><tr><td>Смирнов</td><td>преподаватель</td><td>ассистент</td><td>NULL</td><td>Общая Физика</td><td>1500.00</td></tr><tr><td>Кузнецов</td><td>зав.кафедрой</td><td>профессор</td><td>д.ф.-м.н</td><td>Высшая Математика</td><td>3500.00</td></tr><tr><td>Романцев</td><td>преподаватель</td><td>профессор</td><td>д.ф.-м.н</td><td>Высшая Математика</td><td>2500.00</td></tr><tr><td>Соловьев</td><td>преподаватель</td><td>доцент</td><td>к.ф.-м.н</td><td>Высшая Математика</td><td>2500.00</td></tr><tr><td>Зверев</td><td>зав.кафедрой</td><td>профессор</td><td>д.ф.-м.н</td><td>Экспериментальная Физика</td><td>3500.00</td></tr></table>"
                    },
                    "metadata": {}
                }
            ],
            "execution_count": 24
        },
        {
            "cell_type": "markdown",
            "source": [
                "## SQLQuery1_4.sql"
            ],
            "metadata": {
                "azdata_cell_guid": "39eb4c71-0671-4ea1-b14d-a3efd94585fd"
            }
        },
        {
            "cell_type": "code",
            "source": [
                "declare @PR4 TABLE\n",
                "(\n",
                "   [WeekNumber] int,\n",
                "   [DateStart] date,\n",
                "   [DateEnd] date\n",
                ")\n",
                "declare @T as date, @N int=1\n",
                "set @T=cast(year(getdate()) as char(4))+'0101'\n",
                "while DATEPART(weekday,@T)>1\n",
                "   set @T=Dateadd(Day,-1,@T)\n",
                "print DATEPART(week,@T)\n",
                "while year(@T)<year(dateadd(year,1,getdate()))\n",
                "begin\n",
                "    insert\n",
                "    @PR4\n",
                "\tvalues\n",
                "\t  (@N,@T,dateadd(day,6,@T))\n",
                "\t  set @T=dateadd(day,7,@T)\n",
                "\t  set @N=@N+1\n",
                "end\n",
                "select\n",
                "\t[WeekNumber],\n",
                "    [DateStart],\n",
                "    [DateEnd]\n",
                "from @PR4\n",
                "GO"
            ],
            "metadata": {
                "azdata_cell_guid": "5267a0c7-3c69-48b0-a77a-aac0d9e22b02",
                "language": "sql"
            },
            "outputs": [
                {
                    "output_type": "display_data",
                    "data": {
                        "text/html": "1"
                    },
                    "metadata": {}
                },
                {
                    "output_type": "display_data",
                    "data": {
                        "text/html": "(1 row affected)"
                    },
                    "metadata": {}
                },
                {
                    "output_type": "display_data",
                    "data": {
                        "text/html": "(1 row affected)"
                    },
                    "metadata": {}
                },
                {
                    "output_type": "display_data",
                    "data": {
                        "text/html": "(1 row affected)"
                    },
                    "metadata": {}
                },
                {
                    "output_type": "display_data",
                    "data": {
                        "text/html": "(1 row affected)"
                    },
                    "metadata": {}
                },
                {
                    "output_type": "display_data",
                    "data": {
                        "text/html": "(1 row affected)"
                    },
                    "metadata": {}
                },
                {
                    "output_type": "display_data",
                    "data": {
                        "text/html": "(1 row affected)"
                    },
                    "metadata": {}
                },
                {
                    "output_type": "display_data",
                    "data": {
                        "text/html": "(1 row affected)"
                    },
                    "metadata": {}
                },
                {
                    "output_type": "display_data",
                    "data": {
                        "text/html": "(1 row affected)"
                    },
                    "metadata": {}
                },
                {
                    "output_type": "display_data",
                    "data": {
                        "text/html": "(1 row affected)"
                    },
                    "metadata": {}
                },
                {
                    "output_type": "display_data",
                    "data": {
                        "text/html": "(1 row affected)"
                    },
                    "metadata": {}
                },
                {
                    "output_type": "display_data",
                    "data": {
                        "text/html": "(1 row affected)"
                    },
                    "metadata": {}
                },
                {
                    "output_type": "display_data",
                    "data": {
                        "text/html": "(1 row affected)"
                    },
                    "metadata": {}
                },
                {
                    "output_type": "display_data",
                    "data": {
                        "text/html": "(1 row affected)"
                    },
                    "metadata": {}
                },
                {
                    "output_type": "display_data",
                    "data": {
                        "text/html": "(1 row affected)"
                    },
                    "metadata": {}
                },
                {
                    "output_type": "display_data",
                    "data": {
                        "text/html": "(1 row affected)"
                    },
                    "metadata": {}
                },
                {
                    "output_type": "display_data",
                    "data": {
                        "text/html": "(1 row affected)"
                    },
                    "metadata": {}
                },
                {
                    "output_type": "display_data",
                    "data": {
                        "text/html": "(1 row affected)"
                    },
                    "metadata": {}
                },
                {
                    "output_type": "display_data",
                    "data": {
                        "text/html": "(1 row affected)"
                    },
                    "metadata": {}
                },
                {
                    "output_type": "display_data",
                    "data": {
                        "text/html": "(1 row affected)"
                    },
                    "metadata": {}
                },
                {
                    "output_type": "display_data",
                    "data": {
                        "text/html": "(1 row affected)"
                    },
                    "metadata": {}
                },
                {
                    "output_type": "display_data",
                    "data": {
                        "text/html": "(1 row affected)"
                    },
                    "metadata": {}
                },
                {
                    "output_type": "display_data",
                    "data": {
                        "text/html": "(1 row affected)"
                    },
                    "metadata": {}
                },
                {
                    "output_type": "display_data",
                    "data": {
                        "text/html": "(1 row affected)"
                    },
                    "metadata": {}
                },
                {
                    "output_type": "display_data",
                    "data": {
                        "text/html": "(1 row affected)"
                    },
                    "metadata": {}
                },
                {
                    "output_type": "display_data",
                    "data": {
                        "text/html": "(1 row affected)"
                    },
                    "metadata": {}
                },
                {
                    "output_type": "display_data",
                    "data": {
                        "text/html": "(1 row affected)"
                    },
                    "metadata": {}
                },
                {
                    "output_type": "display_data",
                    "data": {
                        "text/html": "(1 row affected)"
                    },
                    "metadata": {}
                },
                {
                    "output_type": "display_data",
                    "data": {
                        "text/html": "(1 row affected)"
                    },
                    "metadata": {}
                },
                {
                    "output_type": "display_data",
                    "data": {
                        "text/html": "(1 row affected)"
                    },
                    "metadata": {}
                },
                {
                    "output_type": "display_data",
                    "data": {
                        "text/html": "(1 row affected)"
                    },
                    "metadata": {}
                },
                {
                    "output_type": "display_data",
                    "data": {
                        "text/html": "(1 row affected)"
                    },
                    "metadata": {}
                },
                {
                    "output_type": "display_data",
                    "data": {
                        "text/html": "(1 row affected)"
                    },
                    "metadata": {}
                },
                {
                    "output_type": "display_data",
                    "data": {
                        "text/html": "(1 row affected)"
                    },
                    "metadata": {}
                },
                {
                    "output_type": "display_data",
                    "data": {
                        "text/html": "(1 row affected)"
                    },
                    "metadata": {}
                },
                {
                    "output_type": "display_data",
                    "data": {
                        "text/html": "(1 row affected)"
                    },
                    "metadata": {}
                },
                {
                    "output_type": "display_data",
                    "data": {
                        "text/html": "(1 row affected)"
                    },
                    "metadata": {}
                },
                {
                    "output_type": "display_data",
                    "data": {
                        "text/html": "(1 row affected)"
                    },
                    "metadata": {}
                },
                {
                    "output_type": "display_data",
                    "data": {
                        "text/html": "(1 row affected)"
                    },
                    "metadata": {}
                },
                {
                    "output_type": "display_data",
                    "data": {
                        "text/html": "(1 row affected)"
                    },
                    "metadata": {}
                },
                {
                    "output_type": "display_data",
                    "data": {
                        "text/html": "(1 row affected)"
                    },
                    "metadata": {}
                },
                {
                    "output_type": "display_data",
                    "data": {
                        "text/html": "(1 row affected)"
                    },
                    "metadata": {}
                },
                {
                    "output_type": "display_data",
                    "data": {
                        "text/html": "(1 row affected)"
                    },
                    "metadata": {}
                },
                {
                    "output_type": "display_data",
                    "data": {
                        "text/html": "(1 row affected)"
                    },
                    "metadata": {}
                },
                {
                    "output_type": "display_data",
                    "data": {
                        "text/html": "(1 row affected)"
                    },
                    "metadata": {}
                },
                {
                    "output_type": "display_data",
                    "data": {
                        "text/html": "(1 row affected)"
                    },
                    "metadata": {}
                },
                {
                    "output_type": "display_data",
                    "data": {
                        "text/html": "(1 row affected)"
                    },
                    "metadata": {}
                },
                {
                    "output_type": "display_data",
                    "data": {
                        "text/html": "(1 row affected)"
                    },
                    "metadata": {}
                },
                {
                    "output_type": "display_data",
                    "data": {
                        "text/html": "(1 row affected)"
                    },
                    "metadata": {}
                },
                {
                    "output_type": "display_data",
                    "data": {
                        "text/html": "(1 row affected)"
                    },
                    "metadata": {}
                },
                {
                    "output_type": "display_data",
                    "data": {
                        "text/html": "(1 row affected)"
                    },
                    "metadata": {}
                },
                {
                    "output_type": "display_data",
                    "data": {
                        "text/html": "(1 row affected)"
                    },
                    "metadata": {}
                },
                {
                    "output_type": "display_data",
                    "data": {
                        "text/html": "(1 row affected)"
                    },
                    "metadata": {}
                },
                {
                    "output_type": "display_data",
                    "data": {
                        "text/html": "(1 row affected)"
                    },
                    "metadata": {}
                },
                {
                    "output_type": "display_data",
                    "data": {
                        "text/html": "(53 rows affected)"
                    },
                    "metadata": {}
                },
                {
                    "output_type": "display_data",
                    "data": {
                        "text/html": "Total execution time: 00:00:00.021"
                    },
                    "metadata": {}
                },
                {
                    "output_type": "execute_result",
                    "execution_count": 25,
                    "data": {
                        "application/vnd.dataresource+json": {
                            "schema": {
                                "fields": [
                                    {
                                        "name": "WeekNumber"
                                    },
                                    {
                                        "name": "DateStart"
                                    },
                                    {
                                        "name": "DateEnd"
                                    }
                                ]
                            },
                            "data": [
                                {
                                    "0": "1",
                                    "1": "2023-01-01",
                                    "2": "2023-01-07"
                                },
                                {
                                    "0": "2",
                                    "1": "2023-01-08",
                                    "2": "2023-01-14"
                                },
                                {
                                    "0": "3",
                                    "1": "2023-01-15",
                                    "2": "2023-01-21"
                                },
                                {
                                    "0": "4",
                                    "1": "2023-01-22",
                                    "2": "2023-01-28"
                                },
                                {
                                    "0": "5",
                                    "1": "2023-01-29",
                                    "2": "2023-02-04"
                                },
                                {
                                    "0": "6",
                                    "1": "2023-02-05",
                                    "2": "2023-02-11"
                                },
                                {
                                    "0": "7",
                                    "1": "2023-02-12",
                                    "2": "2023-02-18"
                                },
                                {
                                    "0": "8",
                                    "1": "2023-02-19",
                                    "2": "2023-02-25"
                                },
                                {
                                    "0": "9",
                                    "1": "2023-02-26",
                                    "2": "2023-03-04"
                                },
                                {
                                    "0": "10",
                                    "1": "2023-03-05",
                                    "2": "2023-03-11"
                                },
                                {
                                    "0": "11",
                                    "1": "2023-03-12",
                                    "2": "2023-03-18"
                                },
                                {
                                    "0": "12",
                                    "1": "2023-03-19",
                                    "2": "2023-03-25"
                                },
                                {
                                    "0": "13",
                                    "1": "2023-03-26",
                                    "2": "2023-04-01"
                                },
                                {
                                    "0": "14",
                                    "1": "2023-04-02",
                                    "2": "2023-04-08"
                                },
                                {
                                    "0": "15",
                                    "1": "2023-04-09",
                                    "2": "2023-04-15"
                                },
                                {
                                    "0": "16",
                                    "1": "2023-04-16",
                                    "2": "2023-04-22"
                                },
                                {
                                    "0": "17",
                                    "1": "2023-04-23",
                                    "2": "2023-04-29"
                                },
                                {
                                    "0": "18",
                                    "1": "2023-04-30",
                                    "2": "2023-05-06"
                                },
                                {
                                    "0": "19",
                                    "1": "2023-05-07",
                                    "2": "2023-05-13"
                                },
                                {
                                    "0": "20",
                                    "1": "2023-05-14",
                                    "2": "2023-05-20"
                                },
                                {
                                    "0": "21",
                                    "1": "2023-05-21",
                                    "2": "2023-05-27"
                                },
                                {
                                    "0": "22",
                                    "1": "2023-05-28",
                                    "2": "2023-06-03"
                                },
                                {
                                    "0": "23",
                                    "1": "2023-06-04",
                                    "2": "2023-06-10"
                                },
                                {
                                    "0": "24",
                                    "1": "2023-06-11",
                                    "2": "2023-06-17"
                                },
                                {
                                    "0": "25",
                                    "1": "2023-06-18",
                                    "2": "2023-06-24"
                                },
                                {
                                    "0": "26",
                                    "1": "2023-06-25",
                                    "2": "2023-07-01"
                                },
                                {
                                    "0": "27",
                                    "1": "2023-07-02",
                                    "2": "2023-07-08"
                                },
                                {
                                    "0": "28",
                                    "1": "2023-07-09",
                                    "2": "2023-07-15"
                                },
                                {
                                    "0": "29",
                                    "1": "2023-07-16",
                                    "2": "2023-07-22"
                                },
                                {
                                    "0": "30",
                                    "1": "2023-07-23",
                                    "2": "2023-07-29"
                                },
                                {
                                    "0": "31",
                                    "1": "2023-07-30",
                                    "2": "2023-08-05"
                                },
                                {
                                    "0": "32",
                                    "1": "2023-08-06",
                                    "2": "2023-08-12"
                                },
                                {
                                    "0": "33",
                                    "1": "2023-08-13",
                                    "2": "2023-08-19"
                                },
                                {
                                    "0": "34",
                                    "1": "2023-08-20",
                                    "2": "2023-08-26"
                                },
                                {
                                    "0": "35",
                                    "1": "2023-08-27",
                                    "2": "2023-09-02"
                                },
                                {
                                    "0": "36",
                                    "1": "2023-09-03",
                                    "2": "2023-09-09"
                                },
                                {
                                    "0": "37",
                                    "1": "2023-09-10",
                                    "2": "2023-09-16"
                                },
                                {
                                    "0": "38",
                                    "1": "2023-09-17",
                                    "2": "2023-09-23"
                                },
                                {
                                    "0": "39",
                                    "1": "2023-09-24",
                                    "2": "2023-09-30"
                                },
                                {
                                    "0": "40",
                                    "1": "2023-10-01",
                                    "2": "2023-10-07"
                                },
                                {
                                    "0": "41",
                                    "1": "2023-10-08",
                                    "2": "2023-10-14"
                                },
                                {
                                    "0": "42",
                                    "1": "2023-10-15",
                                    "2": "2023-10-21"
                                },
                                {
                                    "0": "43",
                                    "1": "2023-10-22",
                                    "2": "2023-10-28"
                                },
                                {
                                    "0": "44",
                                    "1": "2023-10-29",
                                    "2": "2023-11-04"
                                },
                                {
                                    "0": "45",
                                    "1": "2023-11-05",
                                    "2": "2023-11-11"
                                },
                                {
                                    "0": "46",
                                    "1": "2023-11-12",
                                    "2": "2023-11-18"
                                },
                                {
                                    "0": "47",
                                    "1": "2023-11-19",
                                    "2": "2023-11-25"
                                },
                                {
                                    "0": "48",
                                    "1": "2023-11-26",
                                    "2": "2023-12-02"
                                },
                                {
                                    "0": "49",
                                    "1": "2023-12-03",
                                    "2": "2023-12-09"
                                },
                                {
                                    "0": "50",
                                    "1": "2023-12-10",
                                    "2": "2023-12-16"
                                },
                                {
                                    "0": "51",
                                    "1": "2023-12-17",
                                    "2": "2023-12-23"
                                },
                                {
                                    "0": "52",
                                    "1": "2023-12-24",
                                    "2": "2023-12-30"
                                },
                                {
                                    "0": "53",
                                    "1": "2023-12-31",
                                    "2": "2024-01-06"
                                }
                            ]
                        },
                        "text/html": "<table><tr><th>WeekNumber</th><th>DateStart</th><th>DateEnd</th></tr><tr><td>1</td><td>2023-01-01</td><td>2023-01-07</td></tr><tr><td>2</td><td>2023-01-08</td><td>2023-01-14</td></tr><tr><td>3</td><td>2023-01-15</td><td>2023-01-21</td></tr><tr><td>4</td><td>2023-01-22</td><td>2023-01-28</td></tr><tr><td>5</td><td>2023-01-29</td><td>2023-02-04</td></tr><tr><td>6</td><td>2023-02-05</td><td>2023-02-11</td></tr><tr><td>7</td><td>2023-02-12</td><td>2023-02-18</td></tr><tr><td>8</td><td>2023-02-19</td><td>2023-02-25</td></tr><tr><td>9</td><td>2023-02-26</td><td>2023-03-04</td></tr><tr><td>10</td><td>2023-03-05</td><td>2023-03-11</td></tr><tr><td>11</td><td>2023-03-12</td><td>2023-03-18</td></tr><tr><td>12</td><td>2023-03-19</td><td>2023-03-25</td></tr><tr><td>13</td><td>2023-03-26</td><td>2023-04-01</td></tr><tr><td>14</td><td>2023-04-02</td><td>2023-04-08</td></tr><tr><td>15</td><td>2023-04-09</td><td>2023-04-15</td></tr><tr><td>16</td><td>2023-04-16</td><td>2023-04-22</td></tr><tr><td>17</td><td>2023-04-23</td><td>2023-04-29</td></tr><tr><td>18</td><td>2023-04-30</td><td>2023-05-06</td></tr><tr><td>19</td><td>2023-05-07</td><td>2023-05-13</td></tr><tr><td>20</td><td>2023-05-14</td><td>2023-05-20</td></tr><tr><td>21</td><td>2023-05-21</td><td>2023-05-27</td></tr><tr><td>22</td><td>2023-05-28</td><td>2023-06-03</td></tr><tr><td>23</td><td>2023-06-04</td><td>2023-06-10</td></tr><tr><td>24</td><td>2023-06-11</td><td>2023-06-17</td></tr><tr><td>25</td><td>2023-06-18</td><td>2023-06-24</td></tr><tr><td>26</td><td>2023-06-25</td><td>2023-07-01</td></tr><tr><td>27</td><td>2023-07-02</td><td>2023-07-08</td></tr><tr><td>28</td><td>2023-07-09</td><td>2023-07-15</td></tr><tr><td>29</td><td>2023-07-16</td><td>2023-07-22</td></tr><tr><td>30</td><td>2023-07-23</td><td>2023-07-29</td></tr><tr><td>31</td><td>2023-07-30</td><td>2023-08-05</td></tr><tr><td>32</td><td>2023-08-06</td><td>2023-08-12</td></tr><tr><td>33</td><td>2023-08-13</td><td>2023-08-19</td></tr><tr><td>34</td><td>2023-08-20</td><td>2023-08-26</td></tr><tr><td>35</td><td>2023-08-27</td><td>2023-09-02</td></tr><tr><td>36</td><td>2023-09-03</td><td>2023-09-09</td></tr><tr><td>37</td><td>2023-09-10</td><td>2023-09-16</td></tr><tr><td>38</td><td>2023-09-17</td><td>2023-09-23</td></tr><tr><td>39</td><td>2023-09-24</td><td>2023-09-30</td></tr><tr><td>40</td><td>2023-10-01</td><td>2023-10-07</td></tr><tr><td>41</td><td>2023-10-08</td><td>2023-10-14</td></tr><tr><td>42</td><td>2023-10-15</td><td>2023-10-21</td></tr><tr><td>43</td><td>2023-10-22</td><td>2023-10-28</td></tr><tr><td>44</td><td>2023-10-29</td><td>2023-11-04</td></tr><tr><td>45</td><td>2023-11-05</td><td>2023-11-11</td></tr><tr><td>46</td><td>2023-11-12</td><td>2023-11-18</td></tr><tr><td>47</td><td>2023-11-19</td><td>2023-11-25</td></tr><tr><td>48</td><td>2023-11-26</td><td>2023-12-02</td></tr><tr><td>49</td><td>2023-12-03</td><td>2023-12-09</td></tr><tr><td>50</td><td>2023-12-10</td><td>2023-12-16</td></tr><tr><td>51</td><td>2023-12-17</td><td>2023-12-23</td></tr><tr><td>52</td><td>2023-12-24</td><td>2023-12-30</td></tr><tr><td>53</td><td>2023-12-31</td><td>2024-01-06</td></tr></table>"
                    },
                    "metadata": {}
                }
            ],
            "execution_count": 25
        },
        {
            "cell_type": "markdown",
            "source": [
                "## SQLQuery1_5.sql"
            ],
            "metadata": {
                "azdata_cell_guid": "11abbdb8-bdef-4124-b252-d503268cdfea"
            }
        },
        {
            "cell_type": "code",
            "source": [
                "use TestDB1;\n",
                "\n",
                "declare @PR5 Table\n",
                "(\n",
                "   Name nvarchar(30),\n",
                "   Capital nvarchar(30),\n",
                "   Square float,\n",
                "   Population bigint,\n",
                "   Continent nvarchar(30)\n",
                ")\n",
                "insert into @PR5\n",
                "select \n",
                "    name,\n",
                "\tcapital,\n",
                "\tsquare,\n",
                "\tpopulation,\n",
                "\tcontinent\n",
                "from Countries\n",
                "where square<(select avg(square) / 1000 from Countries)\n",
                "select\n",
                "\tName,\n",
                "    Capital,\n",
                "    Square,\n",
                "    Population,\n",
                "    Continent\n",
                "from @PR5\n",
                "GO"
            ],
            "metadata": {
                "azdata_cell_guid": "9559676b-5204-4490-8004-e249abce0aa2",
                "language": "sql"
            },
            "outputs": [
                {
                    "output_type": "display_data",
                    "data": {
                        "text/html": "(1 row affected)"
                    },
                    "metadata": {}
                },
                {
                    "output_type": "display_data",
                    "data": {
                        "text/html": "(1 row affected)"
                    },
                    "metadata": {}
                },
                {
                    "output_type": "display_data",
                    "data": {
                        "text/html": "Total execution time: 00:00:00.018"
                    },
                    "metadata": {}
                },
                {
                    "output_type": "execute_result",
                    "execution_count": 26,
                    "data": {
                        "application/vnd.dataresource+json": {
                            "schema": {
                                "fields": [
                                    {
                                        "name": "Name"
                                    },
                                    {
                                        "name": "Capital"
                                    },
                                    {
                                        "name": "Square"
                                    },
                                    {
                                        "name": "Population"
                                    },
                                    {
                                        "name": "Continent"
                                    }
                                ]
                            },
                            "data": [
                                {
                                    "0": "Бахрейн",
                                    "1": "Манама",
                                    "2": "701",
                                    "3": "1397000",
                                    "4": "Азия"
                                }
                            ]
                        },
                        "text/html": "<table><tr><th>Name</th><th>Capital</th><th>Square</th><th>Population</th><th>Continent</th></tr><tr><td>Бахрейн</td><td>Манама</td><td>701</td><td>1397000</td><td>Азия</td></tr></table>"
                    },
                    "metadata": {}
                }
            ],
            "execution_count": 26
        },
        {
            "cell_type": "markdown",
            "source": [
                "## SQLQuery1_6.sql"
            ],
            "metadata": {
                "azdata_cell_guid": "8b8cb9d6-41a2-4d37-bdfa-b038babb4566"
            }
        },
        {
            "cell_type": "code",
            "source": [
                "use Lab8;\n",
                "\n",
                "select\n",
                "DATENAME(month, data) as [Month Name],\n",
                "count(distinct Kod) as [Exams Number],\n",
                "count(distinct RegNom) as [Students Number] into\n",
                "  #PR6\n",
                "from Ozenka\n",
                "group by\n",
                "  DATENAME(month, data)\n",
                "select * from #PR6\n",
                "GO"
            ],
            "metadata": {
                "azdata_cell_guid": "ba1c33d2-b185-423e-a600-0e52935836f4",
                "language": "sql"
            },
            "outputs": [
                {
                    "output_type": "error",
                    "evalue": "Msg 2714, Level 16, State 6, Line 3\nThere is already an object named '#PR600' in the database.",
                    "ename": "",
                    "traceback": []
                },
                {
                    "output_type": "display_data",
                    "data": {
                        "text/html": "Total execution time: 00:00:00.013"
                    },
                    "metadata": {}
                }
            ],
            "execution_count": 2
        },
        {
            "cell_type": "markdown",
            "source": [
                "## SQLQuery1_7.sql"
            ],
            "metadata": {
                "azdata_cell_guid": "985678fb-83f7-445a-a9e1-fcfbcc7e2ec8"
            }
        },
        {
            "cell_type": "code",
            "source": [
                "use TestDB1;\n",
                "\n",
                "create table ##PR7\n",
                "(\n",
                "   Name nvarchar(50),\n",
                "   Density float\n",
                ")\n",
                "insert into ##PR7\n",
                "(\n",
                "   Name, \n",
                "   Density\n",
                ")\n",
                "select\n",
                "\tname,\n",
                "\tround(population/square,0)as Density\n",
                "from\n",
                "\tCountries\n",
                "select*from ##PR7"
            ],
            "metadata": {
                "azdata_cell_guid": "c12436ef-2353-4c3a-a5ae-5e5d56df44ab",
                "language": "sql"
            },
            "outputs": [
                {
                    "output_type": "display_data",
                    "data": {
                        "text/html": "(24 rows affected)"
                    },
                    "metadata": {}
                },
                {
                    "output_type": "display_data",
                    "data": {
                        "text/html": "(24 rows affected)"
                    },
                    "metadata": {}
                },
                {
                    "output_type": "display_data",
                    "data": {
                        "text/html": "Total execution time: 00:00:00.009"
                    },
                    "metadata": {}
                },
                {
                    "output_type": "execute_result",
                    "execution_count": 20,
                    "data": {
                        "application/vnd.dataresource+json": {
                            "schema": {
                                "fields": [
                                    {
                                        "name": "Name"
                                    },
                                    {
                                        "name": "Density"
                                    }
                                ]
                            },
                            "data": [
                                {
                                    "0": "Австрия",
                                    "1": "104"
                                },
                                {
                                    "0": "Азербайджан",
                                    "1": "112"
                                },
                                {
                                    "0": "Албания",
                                    "1": "99"
                                },
                                {
                                    "0": "Алжир",
                                    "1": "16"
                                },
                                {
                                    "0": "Ангола",
                                    "1": "20"
                                },
                                {
                                    "0": "Аргентина",
                                    "1": "15"
                                },
                                {
                                    "0": "Афганистан",
                                    "1": "46"
                                },
                                {
                                    "0": "Бангладеш",
                                    "1": "1112"
                                },
                                {
                                    "0": "Бахрейн",
                                    "1": "1992"
                                },
                                {
                                    "0": "Белиз",
                                    "1": "16"
                                },
                                {
                                    "0": "Белоруссия",
                                    "1": "45"
                                },
                                {
                                    "0": "Бельгия",
                                    "1": "368"
                                },
                                {
                                    "0": "Бенин",
                                    "1": "99"
                                },
                                {
                                    "0": "Болгария",
                                    "1": "64"
                                },
                                {
                                    "0": "Боливия",
                                    "1": "9"
                                },
                                {
                                    "0": "Ботсвана",
                                    "1": "3"
                                },
                                {
                                    "0": "Бразилия",
                                    "1": "24"
                                },
                                {
                                    "0": "Буркина-Фасо",
                                    "1": "69"
                                },
                                {
                                    "0": "Бутан",
                                    "1": "16"
                                },
                                {
                                    "0": "Великобритания",
                                    "1": "266"
                                },
                                {
                                    "0": "Венгрия",
                                    "1": "105"
                                },
                                {
                                    "0": "Венесуэла",
                                    "1": "34"
                                },
                                {
                                    "0": "Восточный Тимор",
                                    "1": "78"
                                },
                                {
                                    "0": "Вьетнам",
                                    "1": "278"
                                }
                            ]
                        },
                        "text/html": "<table><tr><th>Name</th><th>Density</th></tr><tr><td>Австрия</td><td>104</td></tr><tr><td>Азербайджан</td><td>112</td></tr><tr><td>Албания</td><td>99</td></tr><tr><td>Алжир</td><td>16</td></tr><tr><td>Ангола</td><td>20</td></tr><tr><td>Аргентина</td><td>15</td></tr><tr><td>Афганистан</td><td>46</td></tr><tr><td>Бангладеш</td><td>1112</td></tr><tr><td>Бахрейн</td><td>1992</td></tr><tr><td>Белиз</td><td>16</td></tr><tr><td>Белоруссия</td><td>45</td></tr><tr><td>Бельгия</td><td>368</td></tr><tr><td>Бенин</td><td>99</td></tr><tr><td>Болгария</td><td>64</td></tr><tr><td>Боливия</td><td>9</td></tr><tr><td>Ботсвана</td><td>3</td></tr><tr><td>Бразилия</td><td>24</td></tr><tr><td>Буркина-Фасо</td><td>69</td></tr><tr><td>Бутан</td><td>16</td></tr><tr><td>Великобритания</td><td>266</td></tr><tr><td>Венгрия</td><td>105</td></tr><tr><td>Венесуэла</td><td>34</td></tr><tr><td>Восточный Тимор</td><td>78</td></tr><tr><td>Вьетнам</td><td>278</td></tr></table>"
                    },
                    "metadata": {}
                }
            ],
            "execution_count": 20
        },
        {
            "cell_type": "markdown",
            "source": [
                "## SQLQuery1_8.sql"
            ],
            "metadata": {
                "azdata_cell_guid": "b87ddf84-b1eb-440e-93c5-b590ae4a7aa8"
            }
        },
        {
            "cell_type": "code",
            "source": [
                "use Lab8;\n",
                "\n",
                "with AverageCafedraSalary as\n",
                "(\n",
                "select\n",
                "    K.NKaf as Workplace,\n",
                "\tK.ShifrKaf,\n",
                "\tavg(Zarplata) as [Average salary] \n",
                "\tfrom Sotrudnik C\n",
                "\tinner join Kafedra K on C.ShifrKaf_Sotr=K.ShifrKaf\n",
                "\tgroup by\n",
                "\tK.NKaf,K.ShifrKaf\n",
                ")\n",
                "select\n",
                "   C.FIO,\n",
                "   C.Zarplata,\n",
                "   ACS.Workplace,\n",
                "   ACS.[Average salary]\n",
                "from\n",
                "   Sotrudnik C\n",
                "   inner join AverageCafedraSalary ACS on C.ShifrKaf_Sotr=ACS.ShifrKaf where\n",
                "   C.Zarplata<ACS.[Average salary]"
            ],
            "metadata": {
                "azdata_cell_guid": "8a825b8e-a7f8-4b3e-ab77-9a403b23e4f6",
                "language": "sql"
            },
            "outputs": [
                {
                    "output_type": "display_data",
                    "data": {
                        "text/html": "(10 rows affected)"
                    },
                    "metadata": {}
                },
                {
                    "output_type": "display_data",
                    "data": {
                        "text/html": "Total execution time: 00:00:00.008"
                    },
                    "metadata": {}
                },
                {
                    "output_type": "execute_result",
                    "execution_count": 21,
                    "data": {
                        "application/vnd.dataresource+json": {
                            "schema": {
                                "fields": [
                                    {
                                        "name": "FIO"
                                    },
                                    {
                                        "name": "Zarplata"
                                    },
                                    {
                                        "name": "Workplace"
                                    },
                                    {
                                        "name": "Average salary"
                                    }
                                ]
                            },
                            "data": [
                                {
                                    "0": "Сидоров",
                                    "1": "1500.00",
                                    "2": "Прикладная Математика",
                                    "3": "2500.00"
                                },
                                {
                                    "0": "Глухов",
                                    "1": "2000.00",
                                    "2": "Информационные Системы",
                                    "3": "2375.00"
                                },
                                {
                                    "0": "Чернов",
                                    "1": "1500.00",
                                    "2": "Информационные Системы",
                                    "3": "2375.00"
                                },
                                {
                                    "0": "Сергеева",
                                    "1": "2500.00",
                                    "2": "Математическое Моделирование",
                                    "3": "3000.00"
                                },
                                {
                                    "0": "Смирнов",
                                    "1": "1500.00",
                                    "2": "Общая Физика",
                                    "3": "2375.00"
                                },
                                {
                                    "0": "Лисик",
                                    "1": "2000.00",
                                    "2": "Общая Физика",
                                    "3": "2375.00"
                                },
                                {
                                    "0": "Романцев",
                                    "1": "2500.00",
                                    "2": "Высшая Математика",
                                    "3": "2833.3333"
                                },
                                {
                                    "0": "Соловьев",
                                    "1": "2500.00",
                                    "2": "Высшая Математика",
                                    "3": "2833.3333"
                                },
                                {
                                    "0": "Сорокина",
                                    "1": "2500.00",
                                    "2": "Экспериментальная Физика",
                                    "3": "2666.6666"
                                },
                                {
                                    "0": "Григорьев",
                                    "1": "2000.00",
                                    "2": "Экспериментальная Физика",
                                    "3": "2666.6666"
                                }
                            ]
                        },
                        "text/html": "<table><tr><th>FIO</th><th>Zarplata</th><th>Workplace</th><th>Average salary</th></tr><tr><td>Сидоров</td><td>1500.00</td><td>Прикладная Математика</td><td>2500.00</td></tr><tr><td>Глухов</td><td>2000.00</td><td>Информационные Системы</td><td>2375.00</td></tr><tr><td>Чернов</td><td>1500.00</td><td>Информационные Системы</td><td>2375.00</td></tr><tr><td>Сергеева</td><td>2500.00</td><td>Математическое Моделирование</td><td>3000.00</td></tr><tr><td>Смирнов</td><td>1500.00</td><td>Общая Физика</td><td>2375.00</td></tr><tr><td>Лисик</td><td>2000.00</td><td>Общая Физика</td><td>2375.00</td></tr><tr><td>Романцев</td><td>2500.00</td><td>Высшая Математика</td><td>2833.3333</td></tr><tr><td>Соловьев</td><td>2500.00</td><td>Высшая Математика</td><td>2833.3333</td></tr><tr><td>Сорокина</td><td>2500.00</td><td>Экспериментальная Физика</td><td>2666.6666</td></tr><tr><td>Григорьев</td><td>2000.00</td><td>Экспериментальная Физика</td><td>2666.6666</td></tr></table>"
                    },
                    "metadata": {}
                }
            ],
            "execution_count": 21
        }
    ]
}