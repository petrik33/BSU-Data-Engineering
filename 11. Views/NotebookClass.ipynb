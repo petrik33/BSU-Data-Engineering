{
  "cells": [
    {
      "cell_type": "markdown",
      "id": "5403e810",
      "metadata": {},
      "source": [
        "## SQLQuery1_1.sql"
      ]
    },
    {
      "cell_type": "code",
      "execution_count": null,
      "id": "67288055",
      "metadata": {},
      "outputs": [],
      "source": [
        "use TestDB1;\n",
        "\n",
        "go\n",
        "create view PR1\n",
        "as\n",
        "select\n",
        "\tname,\n",
        "\tcapital,\n",
        "\tsquare,\n",
        "\tpopulation,\n",
        "\tcontinent\n",
        "from\n",
        "\tCountries\n",
        "where\n",
        "\tpopulation < 5000000\n",
        "\tand\n",
        "\tsquare > 100000\n",
        "go\n",
        "select\n",
        "\tname,\n",
        "\tcapital,\n",
        "\tsquare,\n",
        "\tpopulation,\n",
        "\tcontinent\n",
        "from\n",
        "\tPR1"
      ]
    },
    {
      "cell_type": "markdown",
      "id": "b07d3e9d",
      "metadata": {},
      "source": [
        "## SQLQuery1_2.sql"
      ]
    },
    {
      "cell_type": "code",
      "execution_count": null,
      "id": "64a8656e",
      "metadata": {},
      "outputs": [],
      "source": [
        "use TestDB1;\n",
        "\n",
        "go\n",
        "create view PR2\n",
        "(\n",
        "\tcontinent,\n",
        "\tsquare,\n",
        "\tpopulation\t\n",
        ")\n",
        "as\n",
        "select \n",
        "\tcontinent,\n",
        "\tSum(square),\n",
        "\tSum(population)\n",
        "from\n",
        "\tCountries\n",
        "group by\n",
        "\tcontinent\n",
        "go\n",
        "select\n",
        "\t\n",
        "\tcontinent,\n",
        "\tsquare,\n",
        "\tpopulation\n",
        "from\n",
        "\tPR2"
      ]
    },
    {
      "cell_type": "markdown",
      "id": "f5b1f9ad",
      "metadata": {},
      "source": [
        "## SQLQuery1_3.sql"
      ]
    },
    {
      "cell_type": "code",
      "execution_count": null,
      "id": "56a78fc9",
      "metadata": {},
      "outputs": [],
      "source": [
        "use Lab8;\n",
        "\n",
        "go\n",
        "create view PR3\n",
        "(\n",
        "\tSurname,\n",
        "\tJob,\n",
        "\tTitle,\n",
        "\tDegree,\n",
        "\tWorkplace,\n",
        "\tSalary\n",
        ")\n",
        "as select\n",
        "\tFio,\n",
        "\tDolgn,\n",
        "\tZvanie,\n",
        "\tStepen,\n",
        "\tNKaf,\n",
        "\tZarplata\n",
        "from\n",
        "\tSotrudnik C\n",
        "\tinner join Prepodavatel P on C.TabNom = P.TabNom_pr\n",
        "\tinner join Kafedra K on C.ShifrKaf_Sotr = k.ShifrKaf\n",
        "go\n",
        "select\n",
        "\tSurname,\n",
        "\tJob,\n",
        "\tTitle,\n",
        "\tDegree,\n",
        "\tWorkplace,\n",
        "\tSalary\n",
        "from\n",
        "\tPR3"
      ]
    },
    {
      "cell_type": "markdown",
      "id": "bb0c2fbe",
      "metadata": {},
      "source": [
        "## SQLQuery1_4.sql"
      ]
    },
    {
      "cell_type": "code",
      "execution_count": null,
      "id": "2f14d3a1",
      "metadata": {},
      "outputs": [],
      "source": [
        "declare @PR4 TABLE\n",
        "(\n",
        "   [WeekNumber] int,\n",
        "   [DateStart] date,\n",
        "   [DateEnd] date\n",
        ")\n",
        "declare @T as date, @N int=1\n",
        "set @T=cast(year(getdate()) as char(4))+'0101'\n",
        "while DATENAME(weekday,@T)>1\n",
        "   set @T=Dateadd(Day,-1,@T)\n",
        "print DATENAME(week,@T)\n",
        "while year(@T)<year(dateadd(year,1,getdate()))\n",
        "begin\n",
        "    insert\n",
        "    @PR4\n",
        "\tvalues\n",
        "\t  (@N,@T,dateadd(day,6,@T))\n",
        "\t  set @T=dateadd(day,7,@T)\n",
        "\t  set @N=@N+1\n",
        "end\n",
        "select\n",
        "\t[WeekNumber],\n",
        "    [DateStart],\n",
        "    [DateEnd]\n",
        "from @PR4"
      ]
    },
    {
      "cell_type": "markdown",
      "id": "24076ede",
      "metadata": {},
      "source": [
        "## SQLQuery1_5.sql"
      ]
    },
    {
      "cell_type": "code",
      "execution_count": null,
      "id": "cbd84f7a",
      "metadata": {},
      "outputs": [],
      "source": [
        "use TestDB1;\n",
        "\n",
        "declare @PR5 Table\n",
        "(\n",
        "   Name nvarchar(30),\n",
        "   Capital nvarchar(30),\n",
        "   Square bigint,\n",
        "   Population int,\n",
        "   Continent nvarchar(30)\n",
        ")\n",
        "insert into @PR5\n",
        "select \n",
        "    name,\n",
        "\tcapital,\n",
        "\tsquare,\n",
        "\tpopulation,\n",
        "\tcontinent\n",
        "from Countries\n",
        "where square*1000<(select avg(square) from Countries)\n",
        "select\n",
        "\tName,\n",
        "    Capital,\n",
        "    Square,\n",
        "    Population,\n",
        "    Continent\n",
        "from @PR5"
      ]
    },
    {
      "cell_type": "markdown",
      "id": "c02b2e4f",
      "metadata": {},
      "source": [
        "## SQLQuery1_6.sql"
      ]
    },
    {
      "cell_type": "code",
      "execution_count": null,
      "id": "1c918c68",
      "metadata": {},
      "outputs": [],
      "source": [
        "use TestDatabas;\n",
        "\n",
        "select\n",
        "DATENAME(month, data) as [Month Name],\n",
        "count(distinct Kod) as [Exams Number],\n",
        "count(distinct RegNom) as [Students Number] into\n",
        "  #PR6\n",
        "from Ozenka\n",
        "group by\n",
        "  DATENAME(week, data)\n",
        "select * from #PR6"
      ]
    },
    {
      "cell_type": "markdown",
      "id": "38f75af3",
      "metadata": {},
      "source": [
        "## SQLQuery1_7.sql"
      ]
    },
    {
      "cell_type": "code",
      "execution_count": null,
      "id": "348c92f5",
      "metadata": {},
      "outputs": [],
      "source": [
        "use TestDB1;\n",
        "\n",
        "create table ##PR7\n",
        "(\n",
        "   Name varchar(50),\n",
        "   Density float\n",
        ")\n",
        "insert into ##PR7\n",
        "(\n",
        "   Name, \n",
        "   Density\n",
        ")\n",
        "select\n",
        "\tname,\n",
        "\tround(population/square,0)as Density\n",
        "from\n",
        "\tCountries\n",
        "select*from ##PR7"
      ]
    },
    {
      "cell_type": "markdown",
      "id": "32601f44",
      "metadata": {},
      "source": [
        "## SQLQuery1_8.sql"
      ]
    },
    {
      "cell_type": "code",
      "execution_count": null,
      "id": "05f10982",
      "metadata": {},
      "outputs": [],
      "source": [
        "use Lab8;\n",
        "\n",
        "with AverageCafedraSalary as\n",
        "(\n",
        "select\n",
        "    K.NKaf as Workplace,\n",
        "\tK.ShifrKaf,\n",
        "\tavg(Zarplata) as [Average salary] \n",
        "\tfrom Sotrudnik C\n",
        "\tinner join Kafedra K on C.ShifrKaf_Sotr=K.ShifrKaf\n",
        "\tgroup by\n",
        "\tK.NKaf,K.ShifrKaf\n",
        ")\n",
        "select\n",
        "   C.FIO,\n",
        "   C.Zarplata,\n",
        "   ACS.Workplace,\n",
        "   ACS.[Average salary]\n",
        "from\n",
        "   Sotrudnik C\n",
        "   inner join AverageCafedraSalary ACS on C.ShifrKaf_Sotr=ACS.ShifrKaf where\n",
        "   C.Zarplata<ACS.[Average salary]"
      ]
    }
  ],
  "metadata": {},
  "nbformat": 4,
  "nbformat_minor": 5
}