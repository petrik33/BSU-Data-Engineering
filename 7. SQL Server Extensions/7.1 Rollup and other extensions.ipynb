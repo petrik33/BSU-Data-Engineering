{
    "metadata": {
        "kernelspec": {
            "name": "SQL",
            "display_name": "SQL",
            "language": "sql"
        },
        "language_info": {
            "name": "sql",
            "version": ""
        }
    },
    "nbformat_minor": 2,
    "nbformat": 4,
    "cells": [
        {
            "cell_type": "code",
            "source": [
                "IF OBJECT_ID('Students', 'U') IS NOT NULL\n",
                "    DROP TABLE Students;\n",
                "\n",
                "CREATE TABLE Students\n",
                "(\n",
                "    id INT CONSTRAINT PK_UsersID PRIMARY KEY IDENTITY,\n",
                "    name NVARCHAR(50) NOT NULL,\n",
                "    subject NVARCHAR(50) NOT NULL,\n",
                "    facility NVARCHAR(50) NOT NULL,\n",
                "    grade REAL NOT NULL\n",
                ");"
            ],
            "metadata": {
                "azdata_cell_guid": "3b8e1cb9-9158-4fd4-a4a7-63dd30216ea0",
                "language": "sql",
                "tags": []
            },
            "outputs": [
                {
                    "output_type": "display_data",
                    "data": {
                        "text/html": "Commands completed successfully."
                    },
                    "metadata": {}
                },
                {
                    "output_type": "display_data",
                    "data": {
                        "text/html": "Total execution time: 00:00:00.023"
                    },
                    "metadata": {}
                }
            ],
            "execution_count": 4
        },
        {
            "cell_type": "markdown",
            "source": [
                "### Создание таблицы"
            ],
            "metadata": {
                "language": "sql",
                "azdata_cell_guid": "a3e0013f-2fb5-417e-81c8-7df3ce988c0d"
            },
            "attachments": {}
        },
        {
            "cell_type": "code",
            "source": [
                "INSERT INTO Students (name, subject, facility, grade)\n",
                "VALUES\n",
                "    (N'Евдокимова', N'математика', N'лицей', 98.5),\n",
                "    (N'Подольский', N'физика', N'гимназия', 99),\n",
                "    (N'Сидоров', N'математика', N'лицей', 88),\n",
                "    (N'Петрова', N'физика', N'гимназия', 78),\n",
                "    (N'Иванова', N'история', N'лицей', 92),\n",
                "    (N'Кенджаев', N'история', N'гимназия', 68),\n",
                "    (N'Иногороднев', N'математика', N'гимназия', 81),\n",
                "    (N'Авдюшев', N'физика', N'лицей', 87),\n",
                "    (N'Измайлова', N'история', N'лицей', 94),\n",
                "    (N'Абдушев', N'история', N'лицей', 88);"
            ],
            "metadata": {
                "azdata_cell_guid": "6ceac91c-0698-42fb-8973-210917561d00",
                "language": "sql"
            },
            "outputs": [
                {
                    "output_type": "display_data",
                    "data": {
                        "text/html": "(10 rows affected)"
                    },
                    "metadata": {}
                },
                {
                    "output_type": "display_data",
                    "data": {
                        "text/html": "Total execution time: 00:00:00.014"
                    },
                    "metadata": {}
                }
            ],
            "execution_count": 5
        },
        {
            "cell_type": "markdown",
            "source": [
                "### Заполнение данными"
            ],
            "metadata": {
                "language": "sql",
                "azdata_cell_guid": "c1c1070a-a6ca-4734-a643-a3f53e2f2489"
            },
            "attachments": {}
        },
        {
            "cell_type": "code",
            "source": [
                "SELECT subject, facility, MAX(grade) AS StudentMaxGrade\n",
                "FROM Students\n",
                "GROUP BY subject, facility WITH ROLLUP;"
            ],
            "metadata": {
                "language": "sql",
                "azdata_cell_guid": "b0adeef7-e090-4e35-ae1e-dc30479e972e",
                "tags": []
            },
            "outputs": [
                {
                    "output_type": "display_data",
                    "data": {
                        "text/html": "(10 rows affected)"
                    },
                    "metadata": {}
                },
                {
                    "output_type": "display_data",
                    "data": {
                        "text/html": "Total execution time: 00:00:00.005"
                    },
                    "metadata": {}
                },
                {
                    "output_type": "execute_result",
                    "metadata": {},
                    "execution_count": 7,
                    "data": {
                        "application/vnd.dataresource+json": {
                            "schema": {
                                "fields": [
                                    {
                                        "name": "subject"
                                    },
                                    {
                                        "name": "facility"
                                    },
                                    {
                                        "name": "StudentMaxGrade"
                                    }
                                ]
                            },
                            "data": [
                                {
                                    "0": "история",
                                    "1": "гимназия",
                                    "2": "68"
                                },
                                {
                                    "0": "история",
                                    "1": "лицей",
                                    "2": "94"
                                },
                                {
                                    "0": "история",
                                    "1": "NULL",
                                    "2": "94"
                                },
                                {
                                    "0": "математика",
                                    "1": "гимназия",
                                    "2": "81"
                                },
                                {
                                    "0": "математика",
                                    "1": "лицей",
                                    "2": "98.5"
                                },
                                {
                                    "0": "математика",
                                    "1": "NULL",
                                    "2": "98.5"
                                },
                                {
                                    "0": "физика",
                                    "1": "гимназия",
                                    "2": "99"
                                },
                                {
                                    "0": "физика",
                                    "1": "лицей",
                                    "2": "87"
                                },
                                {
                                    "0": "физика",
                                    "1": "NULL",
                                    "2": "99"
                                },
                                {
                                    "0": "NULL",
                                    "1": "NULL",
                                    "2": "99"
                                }
                            ]
                        },
                        "text/html": [
                            "<table>",
                            "<tr><th>subject</th><th>facility</th><th>StudentMaxGrade</th></tr>",
                            "<tr><td>история</td><td>гимназия</td><td>68</td></tr>",
                            "<tr><td>история</td><td>лицей</td><td>94</td></tr>",
                            "<tr><td>история</td><td>NULL</td><td>94</td></tr>",
                            "<tr><td>математика</td><td>гимназия</td><td>81</td></tr>",
                            "<tr><td>математика</td><td>лицей</td><td>98.5</td></tr>",
                            "<tr><td>математика</td><td>NULL</td><td>98.5</td></tr>",
                            "<tr><td>физика</td><td>гимназия</td><td>99</td></tr>",
                            "<tr><td>физика</td><td>лицей</td><td>87</td></tr>",
                            "<tr><td>физика</td><td>NULL</td><td>99</td></tr>",
                            "<tr><td>NULL</td><td>NULL</td><td>99</td></tr>",
                            "</table>"
                        ]
                    }
                }
            ],
            "execution_count": 7
        },
        {
            "cell_type": "markdown",
            "source": [
                "### Запрос, который выводит максимальный балл учеников по школам, по каждому предмету по каждой школе и промежуточные итоги"
            ],
            "metadata": {
                "language": "sql",
                "azdata_cell_guid": "59695564-0ad8-488c-832e-93d7455d7feb"
            },
            "attachments": {}
        },
        {
            "cell_type": "code",
            "source": [
                "SELECT facility, subject, MIN(grade) AS StudentMinGrade \n",
                "FROM Students\n",
                "GROUP BY facility, subject WITH CUBE;"
            ],
            "metadata": {
                "language": "sql",
                "azdata_cell_guid": "c41a8275-3e7f-43a5-b3f3-b45d8e06b62a"
            },
            "outputs": [
                {
                    "output_type": "display_data",
                    "data": {
                        "text/html": "(12 rows affected)"
                    },
                    "metadata": {}
                },
                {
                    "output_type": "display_data",
                    "data": {
                        "text/html": "Total execution time: 00:00:00.016"
                    },
                    "metadata": {}
                },
                {
                    "output_type": "execute_result",
                    "metadata": {},
                    "execution_count": 8,
                    "data": {
                        "application/vnd.dataresource+json": {
                            "schema": {
                                "fields": [
                                    {
                                        "name": "facility"
                                    },
                                    {
                                        "name": "subject"
                                    },
                                    {
                                        "name": "StudentMinGrade"
                                    }
                                ]
                            },
                            "data": [
                                {
                                    "0": "гимназия",
                                    "1": "история",
                                    "2": "68"
                                },
                                {
                                    "0": "лицей",
                                    "1": "история",
                                    "2": "88"
                                },
                                {
                                    "0": "NULL",
                                    "1": "история",
                                    "2": "68"
                                },
                                {
                                    "0": "гимназия",
                                    "1": "математика",
                                    "2": "81"
                                },
                                {
                                    "0": "лицей",
                                    "1": "математика",
                                    "2": "88"
                                },
                                {
                                    "0": "NULL",
                                    "1": "математика",
                                    "2": "81"
                                },
                                {
                                    "0": "гимназия",
                                    "1": "физика",
                                    "2": "78"
                                },
                                {
                                    "0": "лицей",
                                    "1": "физика",
                                    "2": "87"
                                },
                                {
                                    "0": "NULL",
                                    "1": "физика",
                                    "2": "78"
                                },
                                {
                                    "0": "NULL",
                                    "1": "NULL",
                                    "2": "68"
                                },
                                {
                                    "0": "гимназия",
                                    "1": "NULL",
                                    "2": "68"
                                },
                                {
                                    "0": "лицей",
                                    "1": "NULL",
                                    "2": "87"
                                }
                            ]
                        },
                        "text/html": [
                            "<table>",
                            "<tr><th>facility</th><th>subject</th><th>StudentMinGrade</th></tr>",
                            "<tr><td>гимназия</td><td>история</td><td>68</td></tr>",
                            "<tr><td>лицей</td><td>история</td><td>88</td></tr>",
                            "<tr><td>NULL</td><td>история</td><td>68</td></tr>",
                            "<tr><td>гимназия</td><td>математика</td><td>81</td></tr>",
                            "<tr><td>лицей</td><td>математика</td><td>88</td></tr>",
                            "<tr><td>NULL</td><td>математика</td><td>81</td></tr>",
                            "<tr><td>гимназия</td><td>физика</td><td>78</td></tr>",
                            "<tr><td>лицей</td><td>физика</td><td>87</td></tr>",
                            "<tr><td>NULL</td><td>физика</td><td>78</td></tr>",
                            "<tr><td>NULL</td><td>NULL</td><td>68</td></tr>",
                            "<tr><td>гимназия</td><td>NULL</td><td>68</td></tr>",
                            "<tr><td>лицей</td><td>NULL</td><td>87</td></tr>",
                            "</table>"
                        ]
                    }
                }
            ],
            "execution_count": 8
        },
        {
            "cell_type": "markdown",
            "source": [
                "### Запрос, который выводит минимальный балл учеников по школам и по предметам, и промежуточные итоги"
            ],
            "metadata": {
                "language": "sql",
                "azdata_cell_guid": "d02c0ca6-ee2d-4624-983a-73bb6b7482cf"
            },
            "attachments": {}
        },
        {
            "cell_type": "code",
            "source": [
                "SELECT facility, subject, AVG(grade) AS AverageScore\n",
                "FROM Students\n",
                "GROUP BY GROUPING SETS (facility, subject);"
            ],
            "metadata": {
                "language": "sql",
                "azdata_cell_guid": "f679b6ef-090e-4656-aef1-9abdbf505318"
            },
            "outputs": [
                {
                    "output_type": "display_data",
                    "data": {
                        "text/html": "(5 rows affected)"
                    },
                    "metadata": {}
                },
                {
                    "output_type": "display_data",
                    "data": {
                        "text/html": "Total execution time: 00:00:00.013"
                    },
                    "metadata": {}
                },
                {
                    "output_type": "execute_result",
                    "metadata": {},
                    "execution_count": 9,
                    "data": {
                        "application/vnd.dataresource+json": {
                            "schema": {
                                "fields": [
                                    {
                                        "name": "facility"
                                    },
                                    {
                                        "name": "subject"
                                    },
                                    {
                                        "name": "AverageScore"
                                    }
                                ]
                            },
                            "data": [
                                {
                                    "0": "NULL",
                                    "1": "история",
                                    "2": "85.5"
                                },
                                {
                                    "0": "NULL",
                                    "1": "математика",
                                    "2": "89.16666666666667"
                                },
                                {
                                    "0": "NULL",
                                    "1": "физика",
                                    "2": "88"
                                },
                                {
                                    "0": "гимназия",
                                    "1": "NULL",
                                    "2": "81.5"
                                },
                                {
                                    "0": "лицей",
                                    "1": "NULL",
                                    "2": "91.25"
                                }
                            ]
                        },
                        "text/html": [
                            "<table>",
                            "<tr><th>facility</th><th>subject</th><th>AverageScore</th></tr>",
                            "<tr><td>NULL</td><td>история</td><td>85.5</td></tr>",
                            "<tr><td>NULL</td><td>математика</td><td>89.16666666666667</td></tr>",
                            "<tr><td>NULL</td><td>физика</td><td>88</td></tr>",
                            "<tr><td>гимназия</td><td>NULL</td><td>81.5</td></tr>",
                            "<tr><td>лицей</td><td>NULL</td><td>91.25</td></tr>",
                            "</table>"
                        ]
                    }
                }
            ],
            "execution_count": 9
        },
        {
            "cell_type": "markdown",
            "source": [
                "### Запрос, который выводит средний балл учеников по школам и по предметам"
            ],
            "metadata": {
                "language": "sql",
                "azdata_cell_guid": "8d981290-d1d3-499b-84e7-51834e0f0275"
            },
            "attachments": {}
        },
        {
            "cell_type": "code",
            "source": [
                "Select \n",
                "\tCOALESCE (facility, 'Total Result') AS FacilityType,\n",
                "\tCOALESCE (subject, 'Result') AS SubjectType,\n",
                "\tcount (name) AS Amount\n",
                "\tfrom Students\n",
                "\tGroup by \n",
                "\t\tROLLUP(facility, subject);"
            ],
            "metadata": {
                "language": "sql",
                "azdata_cell_guid": "f3468200-1802-4c2a-a7d3-81a8dc71e40c"
            },
            "outputs": [
                {
                    "output_type": "display_data",
                    "data": {
                        "text/html": "(9 rows affected)"
                    },
                    "metadata": {}
                },
                {
                    "output_type": "display_data",
                    "data": {
                        "text/html": "Total execution time: 00:00:00.007"
                    },
                    "metadata": {}
                },
                {
                    "output_type": "execute_result",
                    "metadata": {},
                    "execution_count": 11,
                    "data": {
                        "application/vnd.dataresource+json": {
                            "schema": {
                                "fields": [
                                    {
                                        "name": "FacilityType"
                                    },
                                    {
                                        "name": "SubjectType"
                                    },
                                    {
                                        "name": "Amount"
                                    }
                                ]
                            },
                            "data": [
                                {
                                    "0": "гимназия",
                                    "1": "история",
                                    "2": "1"
                                },
                                {
                                    "0": "гимназия",
                                    "1": "математика",
                                    "2": "1"
                                },
                                {
                                    "0": "гимназия",
                                    "1": "физика",
                                    "2": "2"
                                },
                                {
                                    "0": "гимназия",
                                    "1": "Result",
                                    "2": "4"
                                },
                                {
                                    "0": "лицей",
                                    "1": "история",
                                    "2": "3"
                                },
                                {
                                    "0": "лицей",
                                    "1": "математика",
                                    "2": "2"
                                },
                                {
                                    "0": "лицей",
                                    "1": "физика",
                                    "2": "1"
                                },
                                {
                                    "0": "лицей",
                                    "1": "Result",
                                    "2": "6"
                                },
                                {
                                    "0": "Total Result",
                                    "1": "Result",
                                    "2": "10"
                                }
                            ]
                        },
                        "text/html": [
                            "<table>",
                            "<tr><th>FacilityType</th><th>SubjectType</th><th>Amount</th></tr>",
                            "<tr><td>гимназия</td><td>история</td><td>1</td></tr>",
                            "<tr><td>гимназия</td><td>математика</td><td>1</td></tr>",
                            "<tr><td>гимназия</td><td>физика</td><td>2</td></tr>",
                            "<tr><td>гимназия</td><td>Result</td><td>4</td></tr>",
                            "<tr><td>лицей</td><td>история</td><td>3</td></tr>",
                            "<tr><td>лицей</td><td>математика</td><td>2</td></tr>",
                            "<tr><td>лицей</td><td>физика</td><td>1</td></tr>",
                            "<tr><td>лицей</td><td>Result</td><td>6</td></tr>",
                            "<tr><td>Total Result</td><td>Result</td><td>10</td></tr>",
                            "</table>"
                        ]
                    }
                }
            ],
            "execution_count": 11
        },
        {
            "cell_type": "markdown",
            "source": [
                "### Запрос, который выводит средний балл учеников по школам и по предметам"
            ],
            "metadata": {
                "language": "sql",
                "azdata_cell_guid": "5fea37a1-c28f-48d2-a46a-5928be656666"
            },
            "attachments": {}
        },
        {
            "cell_type": "code",
            "source": [
                "SELECT \n",
                "    IIF(Grouping(facility)=1, 'Total Result', facility) AS facility,\n",
                "    IIF(Grouping(subject)=1, 'Result', subject) AS subject,\n",
                "    SUM(grade) AS SummaryScore\n",
                "FROM \n",
                "    Students\n",
                "GROUP BY \n",
                "    CUBE(facility, subject);\n",
                ""
            ],
            "metadata": {
                "language": "sql",
                "azdata_cell_guid": "2bbce1a2-7192-476e-b562-57a326adf363"
            },
            "outputs": [
                {
                    "output_type": "display_data",
                    "data": {
                        "text/html": "(12 rows affected)"
                    },
                    "metadata": {}
                },
                {
                    "output_type": "display_data",
                    "data": {
                        "text/html": "Total execution time: 00:00:00.007"
                    },
                    "metadata": {}
                },
                {
                    "output_type": "execute_result",
                    "metadata": {},
                    "execution_count": 12,
                    "data": {
                        "application/vnd.dataresource+json": {
                            "schema": {
                                "fields": [
                                    {
                                        "name": "facility"
                                    },
                                    {
                                        "name": "subject"
                                    },
                                    {
                                        "name": "SummaryScore"
                                    }
                                ]
                            },
                            "data": [
                                {
                                    "0": "гимназия",
                                    "1": "история",
                                    "2": "68"
                                },
                                {
                                    "0": "лицей",
                                    "1": "история",
                                    "2": "274"
                                },
                                {
                                    "0": "Total Result",
                                    "1": "история",
                                    "2": "342"
                                },
                                {
                                    "0": "гимназия",
                                    "1": "математика",
                                    "2": "81"
                                },
                                {
                                    "0": "лицей",
                                    "1": "математика",
                                    "2": "186.5"
                                },
                                {
                                    "0": "Total Result",
                                    "1": "математика",
                                    "2": "267.5"
                                },
                                {
                                    "0": "гимназия",
                                    "1": "физика",
                                    "2": "177"
                                },
                                {
                                    "0": "лицей",
                                    "1": "физика",
                                    "2": "87"
                                },
                                {
                                    "0": "Total Result",
                                    "1": "физика",
                                    "2": "264"
                                },
                                {
                                    "0": "Total Result",
                                    "1": "Result",
                                    "2": "873.5"
                                },
                                {
                                    "0": "гимназия",
                                    "1": "Result",
                                    "2": "326"
                                },
                                {
                                    "0": "лицей",
                                    "1": "Result",
                                    "2": "547.5"
                                }
                            ]
                        },
                        "text/html": [
                            "<table>",
                            "<tr><th>facility</th><th>subject</th><th>SummaryScore</th></tr>",
                            "<tr><td>гимназия</td><td>история</td><td>68</td></tr>",
                            "<tr><td>лицей</td><td>история</td><td>274</td></tr>",
                            "<tr><td>Total Result</td><td>история</td><td>342</td></tr>",
                            "<tr><td>гимназия</td><td>математика</td><td>81</td></tr>",
                            "<tr><td>лицей</td><td>математика</td><td>186.5</td></tr>",
                            "<tr><td>Total Result</td><td>математика</td><td>267.5</td></tr>",
                            "<tr><td>гимназия</td><td>физика</td><td>177</td></tr>",
                            "<tr><td>лицей</td><td>физика</td><td>87</td></tr>",
                            "<tr><td>Total Result</td><td>физика</td><td>264</td></tr>",
                            "<tr><td>Total Result</td><td>Result</td><td>873.5</td></tr>",
                            "<tr><td>гимназия</td><td>Result</td><td>326</td></tr>",
                            "<tr><td>лицей</td><td>Result</td><td>547.5</td></tr>",
                            "</table>"
                        ]
                    }
                }
            ],
            "execution_count": 12
        },
        {
            "cell_type": "markdown",
            "source": [
                "### Запрос, который выводит суммарный балл учеников по школам и по предметам, и промежуточные итоги. В итоговых строках NULL значения заменить на соответствующий текст в зависимости от группировки"
            ],
            "metadata": {
                "language": "sql",
                "azdata_cell_guid": "df7d9664-c45d-4fd1-b3ea-d44726d05420"
            },
            "attachments": {}
        },
        {
            "cell_type": "code",
            "source": [
                "SELECT \n",
                "\tCASE GROUPING_ID(s.facility, s.subject)\n",
                "\t\tWHEN 1 THEN 'Results by school'\n",
                "\t\tWHEN 3 THEN 'Results'\n",
                "\t\tELSE ''\n",
                "\tEND AS [Предмет], \n",
                "\tISNULL(s.facility, '') AS [Школа],\n",
                "\tISNULL(s.subject, '') AS [Предмет], \n",
                "\tMAX(s.grade) AS [Максимальный балл]\n",
                "FROM \n",
                "\tStudents s\n",
                "GROUP BY \n",
                "\tROLLUP(s.facility, s.subject);\n",
                ""
            ],
            "metadata": {
                "language": "sql",
                "azdata_cell_guid": "d71aef14-63af-46d1-b1a5-9673ad1a79b1"
            },
            "outputs": [
                {
                    "output_type": "display_data",
                    "data": {
                        "text/html": "(9 rows affected)"
                    },
                    "metadata": {}
                },
                {
                    "output_type": "display_data",
                    "data": {
                        "text/html": "Total execution time: 00:00:00.006"
                    },
                    "metadata": {}
                },
                {
                    "output_type": "execute_result",
                    "metadata": {},
                    "execution_count": 13,
                    "data": {
                        "application/vnd.dataresource+json": {
                            "schema": {
                                "fields": [
                                    {
                                        "name": "Предмет"
                                    },
                                    {
                                        "name": "Школа"
                                    },
                                    {
                                        "name": "Предмет"
                                    },
                                    {
                                        "name": "Максимальный балл"
                                    }
                                ]
                            },
                            "data": [
                                {
                                    "0": "",
                                    "1": "гимназия",
                                    "2": "история",
                                    "3": "68"
                                },
                                {
                                    "0": "",
                                    "1": "гимназия",
                                    "2": "математика",
                                    "3": "81"
                                },
                                {
                                    "0": "",
                                    "1": "гимназия",
                                    "2": "физика",
                                    "3": "99"
                                },
                                {
                                    "0": "Results by school",
                                    "1": "гимназия",
                                    "2": "",
                                    "3": "99"
                                },
                                {
                                    "0": "",
                                    "1": "лицей",
                                    "2": "история",
                                    "3": "94"
                                },
                                {
                                    "0": "",
                                    "1": "лицей",
                                    "2": "математика",
                                    "3": "98.5"
                                },
                                {
                                    "0": "",
                                    "1": "лицей",
                                    "2": "физика",
                                    "3": "87"
                                },
                                {
                                    "0": "Results by school",
                                    "1": "лицей",
                                    "2": "",
                                    "3": "98.5"
                                },
                                {
                                    "0": "Results",
                                    "1": "",
                                    "2": "",
                                    "3": "99"
                                }
                            ]
                        },
                        "text/html": [
                            "<table>",
                            "<tr><th>Предмет</th><th>Школа</th><th>Предмет</th><th>Максимальный балл</th></tr>",
                            "<tr><td></td><td>гимназия</td><td>история</td><td>68</td></tr>",
                            "<tr><td></td><td>гимназия</td><td>математика</td><td>81</td></tr>",
                            "<tr><td></td><td>гимназия</td><td>физика</td><td>99</td></tr>",
                            "<tr><td>Results by school</td><td>гимназия</td><td></td><td>99</td></tr>",
                            "<tr><td></td><td>лицей</td><td>история</td><td>94</td></tr>",
                            "<tr><td></td><td>лицей</td><td>математика</td><td>98.5</td></tr>",
                            "<tr><td></td><td>лицей</td><td>физика</td><td>87</td></tr>",
                            "<tr><td>Results by school</td><td>лицей</td><td></td><td>98.5</td></tr>",
                            "<tr><td>Results</td><td></td><td></td><td>99</td></tr>",
                            "</table>"
                        ]
                    }
                }
            ],
            "execution_count": 13
        },
        {
            "cell_type": "markdown",
            "source": [
                "### Запрос, который выводит максимальный балл учеников по школам и по предметам. В итоговых строках NULL значения заменить на соответствующий текст в зависимости от уровней группировки"
            ],
            "metadata": {
                "language": "sql",
                "azdata_cell_guid": "15a8ed39-7a09-4efa-a19c-c7f088301485"
            },
            "attachments": {}
        }
    ]
}