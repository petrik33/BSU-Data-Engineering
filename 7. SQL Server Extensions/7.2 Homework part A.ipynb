{
    "metadata": {
        "kernelspec": {
            "name": "SQL",
            "display_name": "SQL",
            "language": "sql"
        },
        "language_info": {
            "name": "sql",
            "version": ""
        }
    },
    "nbformat_minor": 2,
    "nbformat": 4,
    "cells": [
        {
            "cell_type": "markdown",
            "source": [
                "## 7.2 Самостоятельная Работа"
            ],
            "metadata": {
                "language": "sql",
                "azdata_cell_guid": "79dd43ba-72ad-40af-8e14-97434583aef7"
            },
            "attachments": {}
        },
        {
            "cell_type": "markdown",
            "source": [
                "### Создание таблицы"
            ],
            "metadata": {
                "language": "sql",
                "azdata_cell_guid": "cb66c9e1-9d4c-41b2-a9ea-42b34a519f5a"
            },
            "attachments": {}
        },
        {
            "cell_type": "code",
            "source": [
                "CREATE TABLE AwardsPivotTest\n",
                "( \n",
                "\tname nvarchar(50) NULL,\n",
                "\tyear int NULL,\n",
                "\tsum float NULL\n",
                ")"
            ],
            "metadata": {
                "azdata_cell_guid": "9b12cd4e-49da-492f-b631-561f5af56b46",
                "language": "sql"
            },
            "outputs": [
                {
                    "output_type": "display_data",
                    "data": {
                        "text/html": "Commands completed successfully."
                    },
                    "metadata": {}
                },
                {
                    "output_type": "display_data",
                    "data": {
                        "text/html": "Total execution time: 00:00:00.010"
                    },
                    "metadata": {}
                }
            ],
            "execution_count": 1
        },
        {
            "cell_type": "markdown",
            "source": [
                "### Заполнение данными"
            ],
            "metadata": {
                "language": "sql",
                "azdata_cell_guid": "15258d4d-aa23-4f5e-be2b-ae94c23ec807"
            },
            "attachments": {}
        },
        {
            "cell_type": "code",
            "source": [
                "INSERT INTO AwardsPivotTest (name, year, sum)\n",
                "VALUES \n",
                "\t(N'Иванов И.И.', 2011, 200),\n",
                "\t(N'Иванов И.И.', 2011, 500),\n",
                "\t(N'Иванов И.И.', 2012, 300),\n",
                "\t(N'Иванов И.И.', 2012, 600),\n",
                "\t(N'Иванов И.И.', 2013, 900),\n",
                "\t(N'Иванов И.И.', 2014, 500),\n",
                "\t(N'Иванов И.И.', 2014, 300),\n",
                "\t(N'Иванов И.И.', 2015, 100),\n",
                "\t(N'Петров П.П.', 2011, 100),\n",
                "\t(N'Петров П.П.', 2012, 200),\n",
                "\t(N'Петров П.П.', 2012, 300),\n",
                "\t(N'Петров П.П.', 2013, 100),\n",
                "\t(N'Петров П.П.', 2014, 300),\n",
                "\t(N'Петров П.П.', 2014, 100),\n",
                "\t(N'Сидоров С.С.', 2012, 100),\n",
                "\t(N'Сидоров С.С.', 2013, 1000),\n",
                "\t(N'Сидоров С.С.', 2014, 500),\n",
                "\t(N'Сидоров С.С.', 2014, 300),\n",
                "\t(N'Сидоров С.С.', 2015, 300);\n",
                ""
            ],
            "metadata": {
                "language": "sql",
                "azdata_cell_guid": "a8650101-74ca-4666-8e7b-05f37be5efce"
            },
            "outputs": [
                {
                    "output_type": "display_data",
                    "data": {
                        "text/html": "(19 rows affected)"
                    },
                    "metadata": {}
                },
                {
                    "output_type": "display_data",
                    "data": {
                        "text/html": "Total execution time: 00:00:00.014"
                    },
                    "metadata": {}
                }
            ],
            "execution_count": 2
        },
        {
            "cell_type": "markdown",
            "source": [
                "### Запрос с использованием оператора PIVOT"
            ],
            "metadata": {
                "language": "sql",
                "azdata_cell_guid": "bc78e4c8-917f-4ac7-8f5c-acc5667efbdc"
            },
            "attachments": {}
        },
        {
            "cell_type": "code",
            "source": [
                "SELECT name,\n",
                "    [2011], [2012], [2013], [2014], [2015]\n",
                "FROM \n",
                "    AwardsPivotTest\n",
                "PIVOT \n",
                "    (SUM([sum]) FOR year IN ([2011], [2012], [2013], [2014], [2015]))\n",
                "    AS PivotTestOutput;\n",
                ""
            ],
            "metadata": {
                "language": "sql",
                "azdata_cell_guid": "c6a5a3fa-ac2d-4983-9604-1bdd69857fb1"
            },
            "outputs": [
                {
                    "output_type": "display_data",
                    "data": {
                        "text/html": "(3 rows affected)"
                    },
                    "metadata": {}
                },
                {
                    "output_type": "display_data",
                    "data": {
                        "text/html": "Total execution time: 00:00:00.017"
                    },
                    "metadata": {}
                },
                {
                    "output_type": "execute_result",
                    "metadata": {},
                    "execution_count": 3,
                    "data": {
                        "application/vnd.dataresource+json": {
                            "schema": {
                                "fields": [
                                    {
                                        "name": "name"
                                    },
                                    {
                                        "name": "2011"
                                    },
                                    {
                                        "name": "2012"
                                    },
                                    {
                                        "name": "2013"
                                    },
                                    {
                                        "name": "2014"
                                    },
                                    {
                                        "name": "2015"
                                    }
                                ]
                            },
                            "data": [
                                {
                                    "0": "Иванов И.И.",
                                    "1": "700",
                                    "2": "900",
                                    "3": "900",
                                    "4": "800",
                                    "5": "100"
                                },
                                {
                                    "0": "Петров П.П.",
                                    "1": "100",
                                    "2": "500",
                                    "3": "100",
                                    "4": "400",
                                    "5": "NULL"
                                },
                                {
                                    "0": "Сидоров С.С.",
                                    "1": "NULL",
                                    "2": "100",
                                    "3": "1000",
                                    "4": "800",
                                    "5": "300"
                                }
                            ]
                        },
                        "text/html": [
                            "<table>",
                            "<tr><th>name</th><th>2011</th><th>2012</th><th>2013</th><th>2014</th><th>2015</th></tr>",
                            "<tr><td>Иванов И.И.</td><td>700</td><td>900</td><td>900</td><td>800</td><td>100</td></tr>",
                            "<tr><td>Петров П.П.</td><td>100</td><td>500</td><td>100</td><td>400</td><td>NULL</td></tr>",
                            "<tr><td>Сидоров С.С.</td><td>NULL</td><td>100</td><td>1000</td><td>800</td><td>300</td></tr>",
                            "</table>"
                        ]
                    }
                }
            ],
            "execution_count": 3
        }
    ]
}