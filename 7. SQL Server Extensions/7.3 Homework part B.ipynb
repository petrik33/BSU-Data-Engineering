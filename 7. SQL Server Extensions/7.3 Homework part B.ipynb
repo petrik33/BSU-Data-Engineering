{
    "metadata": {
        "kernelspec": {
            "name": "SQL",
            "display_name": "SQL",
            "language": "sql"
        },
        "language_info": {
            "name": "sql",
            "version": ""
        }
    },
    "nbformat_minor": 2,
    "nbformat": 4,
    "cells": [
        {
            "cell_type": "markdown",
            "source": [
                "## Самостоятельная Работа 2"
            ],
            "metadata": {
                "azdata_cell_guid": "e29f549f-34f3-43b2-9193-fc8c6d720903"
            },
            "attachments": {}
        },
        {
            "cell_type": "markdown",
            "source": [
                "## Создание Таблицы"
            ],
            "metadata": {
                "azdata_cell_guid": "6bb25606-2b11-4e4e-9714-d9ea0a4764d9"
            },
            "attachments": {}
        },
        {
            "cell_type": "code",
            "source": [
                "CREATE TABLE dbo.TestTable \n",
                "(\n",
                "\tid INT IDENTITY(1,1) NOT NULL, \n",
                "\tmanager NVARCHAR(50) NULL,\n",
                "\tdepartment NVARCHAR(50) NULL,\n",
                "\tyear INT NULL,\n",
                "\tsum MONEY NULL\n",
                ")"
            ],
            "metadata": {
                "azdata_cell_guid": "7ccc89dc-d48b-421d-a3cd-1f3c9fdbfa77",
                "language": "sql",
                "tags": []
            },
            "outputs": [
                {
                    "output_type": "display_data",
                    "data": {
                        "text/html": "Commands completed successfully."
                    },
                    "metadata": {}
                },
                {
                    "output_type": "display_data",
                    "data": {
                        "text/html": "Total execution time: 00:00:00.009"
                    },
                    "metadata": {}
                }
            ],
            "execution_count": 1
        },
        {
            "cell_type": "markdown",
            "source": [
                "## Заполнение Данными"
            ],
            "metadata": {
                "language": "sql",
                "azdata_cell_guid": "a6fd69b1-0099-4ef5-aab2-cecd6cfd60bd"
            },
            "attachments": {}
        },
        {
            "cell_type": "code",
            "source": [
                "INSERT INTO dbo.TestTable (manager, department, year, sum)\n",
                "VALUES\n",
                "(N'Николаев_1', N'Администрация', 2014, 200),\n",
                "(N'Николаев_2', N'Администрация', 2014, 300),\n",
                "(N'Николаев_3', N'Отдел программирования', 2014, 150),\n",
                "(N'Николаев_4', N'Отдел программирования', 2014, 200),\n",
                "(N'Николаев_5', N'Отдел разработки', 2014, 250),\n",
                "(N'Николаев_6', N'Отдел разработки', 2014, 300),\n",
                "(N'Николаев_7', N'Отдел программирования', 2014, 300),\n",
                "(N'Николаев_1', N'Администрация', 2015, 230),\n",
                "(N'Николаев_2', N'Администрация', 2015, 200),\n",
                "(N'Николаев_3', N'Отдел программирования', 2015, 200),\n",
                "(N'Николаев_4', N'Отдел программирования', 2015, 300),\n",
                "(N'Николаев_5', N'Отдел разработки', 2015, 200),\n",
                "(N'Николаев_6', N'Отдел разработки', 2015, 250),\n",
                "(N'Николаев_7', N'Отдел разработки', 2015, 350)"
            ],
            "metadata": {
                "language": "sql",
                "azdata_cell_guid": "9532f060-4a6c-407f-aab0-5bae5677276e"
            },
            "outputs": [
                {
                    "output_type": "display_data",
                    "data": {
                        "text/html": "(14 rows affected)"
                    },
                    "metadata": {}
                },
                {
                    "output_type": "display_data",
                    "data": {
                        "text/html": "Total execution time: 00:00:00.013"
                    },
                    "metadata": {}
                }
            ],
            "execution_count": 2
        },
        {
            "cell_type": "markdown",
            "source": [
                "### Получить сумму расхода на оплату труда по отделам и по годам, и сначала давайте попробуем написать запрос с группировкой без использования оператора ROLLUP"
            ],
            "metadata": {
                "language": "sql",
                "azdata_cell_guid": "8b635272-56ba-4f7e-824e-36ed802056d6"
            },
            "attachments": {}
        },
        {
            "cell_type": "code",
            "source": [
                "SELECT department as otdel, year as god, SUM(sum) as result\n",
                "FROM TestTable\n",
                "GROUP BY department, year\n",
                "ORDER BY department, year"
            ],
            "metadata": {
                "language": "sql",
                "azdata_cell_guid": "1f990b44-c993-4c98-8501-bb32010f33a5"
            },
            "outputs": [
                {
                    "output_type": "display_data",
                    "data": {
                        "text/html": "(6 rows affected)"
                    },
                    "metadata": {}
                },
                {
                    "output_type": "display_data",
                    "data": {
                        "text/html": "Total execution time: 00:00:00.025"
                    },
                    "metadata": {}
                },
                {
                    "output_type": "execute_result",
                    "execution_count": 3,
                    "data": {
                        "application/vnd.dataresource+json": {
                            "schema": {
                                "fields": [
                                    {
                                        "name": "otdel"
                                    },
                                    {
                                        "name": "god"
                                    },
                                    {
                                        "name": "result"
                                    }
                                ]
                            },
                            "data": [
                                {
                                    "0": "Администрация",
                                    "1": "2014",
                                    "2": "500.00"
                                },
                                {
                                    "0": "Администрация",
                                    "1": "2015",
                                    "2": "430.00"
                                },
                                {
                                    "0": "Отдел программирования",
                                    "1": "2014",
                                    "2": "650.00"
                                },
                                {
                                    "0": "Отдел программирования",
                                    "1": "2015",
                                    "2": "500.00"
                                },
                                {
                                    "0": "Отдел разработки",
                                    "1": "2014",
                                    "2": "550.00"
                                },
                                {
                                    "0": "Отдел разработки",
                                    "1": "2015",
                                    "2": "800.00"
                                }
                            ]
                        },
                        "text/html": "<table><tr><th>otdel</th><th>god</th><th>result</th></tr><tr><td>Администрация</td><td>2014</td><td>500.00</td></tr><tr><td>Администрация</td><td>2015</td><td>430.00</td></tr><tr><td>Отдел программирования</td><td>2014</td><td>650.00</td></tr><tr><td>Отдел программирования</td><td>2015</td><td>500.00</td></tr><tr><td>Отдел разработки</td><td>2014</td><td>550.00</td></tr><tr><td>Отдел разработки</td><td>2015</td><td>800.00</td></tr></table>"
                    },
                    "metadata": {}
                }
            ],
            "execution_count": 3
        },
        {
            "cell_type": "markdown",
            "source": [
                "### Получим общий расход по каждому отделу. Для этих целей мы можем использовать оператор ROLLUP"
            ],
            "metadata": {
                "language": "sql",
                "azdata_cell_guid": "6f5ad5fb-0fef-40b2-ad2d-aa92adf9a4e8"
            },
            "attachments": {}
        },
        {
            "cell_type": "code",
            "source": [
                "SELECT department, year, SUM(sum) AS result\n",
                "FROM dbo.TestTable\n",
                "GROUP BY ROLLUP(department, year)\n",
                "ORDER BY department, year"
            ],
            "metadata": {
                "language": "sql",
                "azdata_cell_guid": "69e408bd-f83a-40ac-a31f-45d7181301d4"
            },
            "outputs": [
                {
                    "output_type": "display_data",
                    "data": {
                        "text/html": "(10 rows affected)"
                    },
                    "metadata": {}
                },
                {
                    "output_type": "display_data",
                    "data": {
                        "text/html": "Total execution time: 00:00:00.008"
                    },
                    "metadata": {}
                },
                {
                    "output_type": "execute_result",
                    "execution_count": 4,
                    "data": {
                        "application/vnd.dataresource+json": {
                            "schema": {
                                "fields": [
                                    {
                                        "name": "department"
                                    },
                                    {
                                        "name": "year"
                                    },
                                    {
                                        "name": "result"
                                    }
                                ]
                            },
                            "data": [
                                {
                                    "0": "NULL",
                                    "1": "NULL",
                                    "2": "3430.00"
                                },
                                {
                                    "0": "Администрация",
                                    "1": "NULL",
                                    "2": "930.00"
                                },
                                {
                                    "0": "Администрация",
                                    "1": "2014",
                                    "2": "500.00"
                                },
                                {
                                    "0": "Администрация",
                                    "1": "2015",
                                    "2": "430.00"
                                },
                                {
                                    "0": "Отдел программирования",
                                    "1": "NULL",
                                    "2": "1150.00"
                                },
                                {
                                    "0": "Отдел программирования",
                                    "1": "2014",
                                    "2": "650.00"
                                },
                                {
                                    "0": "Отдел программирования",
                                    "1": "2015",
                                    "2": "500.00"
                                },
                                {
                                    "0": "Отдел разработки",
                                    "1": "NULL",
                                    "2": "1350.00"
                                },
                                {
                                    "0": "Отдел разработки",
                                    "1": "2014",
                                    "2": "550.00"
                                },
                                {
                                    "0": "Отдел разработки",
                                    "1": "2015",
                                    "2": "800.00"
                                }
                            ]
                        },
                        "text/html": "<table><tr><th>department</th><th>year</th><th>result</th></tr><tr><td>NULL</td><td>NULL</td><td>3430.00</td></tr><tr><td>Администрация</td><td>NULL</td><td>930.00</td></tr><tr><td>Администрация</td><td>2014</td><td>500.00</td></tr><tr><td>Администрация</td><td>2015</td><td>430.00</td></tr><tr><td>Отдел программирования</td><td>NULL</td><td>1150.00</td></tr><tr><td>Отдел программирования</td><td>2014</td><td>650.00</td></tr><tr><td>Отдел программирования</td><td>2015</td><td>500.00</td></tr><tr><td>Отдел разработки</td><td>NULL</td><td>1350.00</td></tr><tr><td>Отдел разработки</td><td>2014</td><td>550.00</td></tr><tr><td>Отдел разработки</td><td>2015</td><td>800.00</td></tr></table>"
                    },
                    "metadata": {}
                }
            ],
            "execution_count": 4
        },
        {
            "cell_type": "markdown",
            "source": [
                "### Группировка по отделам с общим итогом"
            ],
            "metadata": {
                "language": "sql",
                "azdata_cell_guid": "2e4f81e7-68ce-4a6c-8342-79b28e2c0898"
            },
            "attachments": {}
        },
        {
            "cell_type": "code",
            "source": [
                "Select department, year, SUM(sum) as result\n",
                "\tfrom dbo.TestTable\n",
                "group by \n",
                "rollup (department, year)"
            ],
            "metadata": {
                "language": "sql",
                "azdata_cell_guid": "7ed8f979-6c35-48df-bc1d-59fbeae756c0"
            },
            "outputs": [
                {
                    "output_type": "display_data",
                    "data": {
                        "text/html": "(10 rows affected)"
                    },
                    "metadata": {}
                },
                {
                    "output_type": "display_data",
                    "data": {
                        "text/html": "Total execution time: 00:00:00.008"
                    },
                    "metadata": {}
                },
                {
                    "output_type": "execute_result",
                    "execution_count": 5,
                    "data": {
                        "application/vnd.dataresource+json": {
                            "schema": {
                                "fields": [
                                    {
                                        "name": "department"
                                    },
                                    {
                                        "name": "year"
                                    },
                                    {
                                        "name": "result"
                                    }
                                ]
                            },
                            "data": [
                                {
                                    "0": "Администрация",
                                    "1": "2014",
                                    "2": "500.00"
                                },
                                {
                                    "0": "Администрация",
                                    "1": "2015",
                                    "2": "430.00"
                                },
                                {
                                    "0": "Администрация",
                                    "1": "NULL",
                                    "2": "930.00"
                                },
                                {
                                    "0": "Отдел программирования",
                                    "1": "2014",
                                    "2": "650.00"
                                },
                                {
                                    "0": "Отдел программирования",
                                    "1": "2015",
                                    "2": "500.00"
                                },
                                {
                                    "0": "Отдел программирования",
                                    "1": "NULL",
                                    "2": "1150.00"
                                },
                                {
                                    "0": "Отдел разработки",
                                    "1": "2014",
                                    "2": "550.00"
                                },
                                {
                                    "0": "Отдел разработки",
                                    "1": "2015",
                                    "2": "800.00"
                                },
                                {
                                    "0": "Отдел разработки",
                                    "1": "NULL",
                                    "2": "1350.00"
                                },
                                {
                                    "0": "NULL",
                                    "1": "NULL",
                                    "2": "3430.00"
                                }
                            ]
                        },
                        "text/html": "<table><tr><th>department</th><th>year</th><th>result</th></tr><tr><td>Администрация</td><td>2014</td><td>500.00</td></tr><tr><td>Администрация</td><td>2015</td><td>430.00</td></tr><tr><td>Администрация</td><td>NULL</td><td>930.00</td></tr><tr><td>Отдел программирования</td><td>2014</td><td>650.00</td></tr><tr><td>Отдел программирования</td><td>2015</td><td>500.00</td></tr><tr><td>Отдел программирования</td><td>NULL</td><td>1150.00</td></tr><tr><td>Отдел разработки</td><td>2014</td><td>550.00</td></tr><tr><td>Отдел разработки</td><td>2015</td><td>800.00</td></tr><tr><td>Отдел разработки</td><td>NULL</td><td>1350.00</td></tr><tr><td>NULL</td><td>NULL</td><td>3430.00</td></tr></table>"
                    },
                    "metadata": {}
                }
            ],
            "execution_count": 5
        },
        {
            "cell_type": "markdown",
            "source": [
                "### Сгруппируем и промежуточные итоги для года и отдела"
            ],
            "metadata": {
                "language": "sql",
                "azdata_cell_guid": "38b2a81b-801d-4748-9605-ab4d90e4cf89"
            },
            "attachments": {}
        },
        {
            "cell_type": "code",
            "source": [
                "Select department, year, SUM(sum) as result\n",
                "\tfrom dbo.TestTable\n",
                "group by \n",
                "cube (department, year)"
            ],
            "metadata": {
                "language": "sql",
                "azdata_cell_guid": "a6bc72ab-b2cd-4284-afdc-dc0d23c35ff9"
            },
            "outputs": [
                {
                    "output_type": "display_data",
                    "data": {
                        "text/html": "(12 rows affected)"
                    },
                    "metadata": {}
                },
                {
                    "output_type": "display_data",
                    "data": {
                        "text/html": "Total execution time: 00:00:00.014"
                    },
                    "metadata": {}
                },
                {
                    "output_type": "execute_result",
                    "execution_count": 6,
                    "data": {
                        "application/vnd.dataresource+json": {
                            "schema": {
                                "fields": [
                                    {
                                        "name": "department"
                                    },
                                    {
                                        "name": "year"
                                    },
                                    {
                                        "name": "result"
                                    }
                                ]
                            },
                            "data": [
                                {
                                    "0": "Администрация",
                                    "1": "2014",
                                    "2": "500.00"
                                },
                                {
                                    "0": "Отдел программирования",
                                    "1": "2014",
                                    "2": "650.00"
                                },
                                {
                                    "0": "Отдел разработки",
                                    "1": "2014",
                                    "2": "550.00"
                                },
                                {
                                    "0": "NULL",
                                    "1": "2014",
                                    "2": "1700.00"
                                },
                                {
                                    "0": "Администрация",
                                    "1": "2015",
                                    "2": "430.00"
                                },
                                {
                                    "0": "Отдел программирования",
                                    "1": "2015",
                                    "2": "500.00"
                                },
                                {
                                    "0": "Отдел разработки",
                                    "1": "2015",
                                    "2": "800.00"
                                },
                                {
                                    "0": "NULL",
                                    "1": "2015",
                                    "2": "1730.00"
                                },
                                {
                                    "0": "NULL",
                                    "1": "NULL",
                                    "2": "3430.00"
                                },
                                {
                                    "0": "Администрация",
                                    "1": "NULL",
                                    "2": "930.00"
                                },
                                {
                                    "0": "Отдел программирования",
                                    "1": "NULL",
                                    "2": "1150.00"
                                },
                                {
                                    "0": "Отдел разработки",
                                    "1": "NULL",
                                    "2": "1350.00"
                                }
                            ]
                        },
                        "text/html": "<table><tr><th>department</th><th>year</th><th>result</th></tr><tr><td>Администрация</td><td>2014</td><td>500.00</td></tr><tr><td>Отдел программирования</td><td>2014</td><td>650.00</td></tr><tr><td>Отдел разработки</td><td>2014</td><td>550.00</td></tr><tr><td>NULL</td><td>2014</td><td>1700.00</td></tr><tr><td>Администрация</td><td>2015</td><td>430.00</td></tr><tr><td>Отдел программирования</td><td>2015</td><td>500.00</td></tr><tr><td>Отдел разработки</td><td>2015</td><td>800.00</td></tr><tr><td>NULL</td><td>2015</td><td>1730.00</td></tr><tr><td>NULL</td><td>NULL</td><td>3430.00</td></tr><tr><td>Администрация</td><td>NULL</td><td>930.00</td></tr><tr><td>Отдел программирования</td><td>NULL</td><td>1150.00</td></tr><tr><td>Отдел разработки</td><td>NULL</td><td>1350.00</td></tr></table>"
                    },
                    "metadata": {}
                }
            ],
            "execution_count": 6
        },
        {
            "cell_type": "markdown",
            "source": [
                "### Группируем множества"
            ],
            "metadata": {
                "language": "sql",
                "azdata_cell_guid": "9156a288-d60e-4410-b456-6ed955d8c0a9"
            },
            "attachments": {}
        },
        {
            "cell_type": "code",
            "source": [
                "Select department, year, SUM(sum) as result\n",
                "\tfrom dbo.TestTable\n",
                "group by \n",
                "grouping sets (department, year)"
            ],
            "metadata": {
                "language": "sql",
                "azdata_cell_guid": "12e97deb-09c1-4665-a1d1-de1d4bb1b5b6"
            },
            "outputs": [
                {
                    "output_type": "display_data",
                    "data": {
                        "text/html": "(5 rows affected)"
                    },
                    "metadata": {}
                },
                {
                    "output_type": "display_data",
                    "data": {
                        "text/html": "Total execution time: 00:00:00.010"
                    },
                    "metadata": {}
                },
                {
                    "output_type": "execute_result",
                    "execution_count": 7,
                    "data": {
                        "application/vnd.dataresource+json": {
                            "schema": {
                                "fields": [
                                    {
                                        "name": "department"
                                    },
                                    {
                                        "name": "year"
                                    },
                                    {
                                        "name": "result"
                                    }
                                ]
                            },
                            "data": [
                                {
                                    "0": "NULL",
                                    "1": "2014",
                                    "2": "1700.00"
                                },
                                {
                                    "0": "NULL",
                                    "1": "2015",
                                    "2": "1730.00"
                                },
                                {
                                    "0": "Администрация",
                                    "1": "NULL",
                                    "2": "930.00"
                                },
                                {
                                    "0": "Отдел программирования",
                                    "1": "NULL",
                                    "2": "1150.00"
                                },
                                {
                                    "0": "Отдел разработки",
                                    "1": "NULL",
                                    "2": "1350.00"
                                }
                            ]
                        },
                        "text/html": "<table><tr><th>department</th><th>year</th><th>result</th></tr><tr><td>NULL</td><td>2014</td><td>1700.00</td></tr><tr><td>NULL</td><td>2015</td><td>1730.00</td></tr><tr><td>Администрация</td><td>NULL</td><td>930.00</td></tr><tr><td>Отдел программирования</td><td>NULL</td><td>1150.00</td></tr><tr><td>Отдел разработки</td><td>NULL</td><td>1350.00</td></tr></table>"
                    },
                    "metadata": {}
                }
            ],
            "execution_count": 7
        },
        {
            "cell_type": "markdown",
            "source": [
                "### Условное объединение"
            ],
            "metadata": {
                "language": "sql",
                "azdata_cell_guid": "392d1e22-c0b2-4b01-8b3a-681f4bbb3fee"
            },
            "attachments": {}
        },
        {
            "cell_type": "code",
            "source": [
                "Select department,\n",
                "    ISNULL(cast(year as varchar(30)),\n",
                "\t\t\tcase when GROUPING(year)=1 and GROUPING(department)=0\n",
                "\t\t\tthen '' else '' end) as year,\n",
                "    SUM(sum) as result,\n",
                "    grouping (department) as groupingDepartment,\n",
                "    grouping(year) as groupingYear\n",
                "from dbo.TestTable\n",
                "group by \n",
                "rollup (department, year)"
            ],
            "metadata": {
                "language": "sql",
                "azdata_cell_guid": "f86ed630-210e-4cb3-86fe-c71d514db9c8"
            },
            "outputs": [
                {
                    "output_type": "display_data",
                    "data": {
                        "text/html": "(10 rows affected)"
                    },
                    "metadata": {}
                },
                {
                    "output_type": "display_data",
                    "data": {
                        "text/html": "Total execution time: 00:00:00.011"
                    },
                    "metadata": {}
                },
                {
                    "output_type": "execute_result",
                    "execution_count": 8,
                    "data": {
                        "application/vnd.dataresource+json": {
                            "schema": {
                                "fields": [
                                    {
                                        "name": "department"
                                    },
                                    {
                                        "name": "year"
                                    },
                                    {
                                        "name": "result"
                                    },
                                    {
                                        "name": "groupingDepartment"
                                    },
                                    {
                                        "name": "groupingYear"
                                    }
                                ]
                            },
                            "data": [
                                {
                                    "0": "Администрация",
                                    "1": "2014",
                                    "2": "500.00",
                                    "3": "0",
                                    "4": "0"
                                },
                                {
                                    "0": "Администрация",
                                    "1": "2015",
                                    "2": "430.00",
                                    "3": "0",
                                    "4": "0"
                                },
                                {
                                    "0": "Администрация",
                                    "1": "",
                                    "2": "930.00",
                                    "3": "0",
                                    "4": "1"
                                },
                                {
                                    "0": "Отдел программирования",
                                    "1": "2014",
                                    "2": "650.00",
                                    "3": "0",
                                    "4": "0"
                                },
                                {
                                    "0": "Отдел программирования",
                                    "1": "2015",
                                    "2": "500.00",
                                    "3": "0",
                                    "4": "0"
                                },
                                {
                                    "0": "Отдел программирования",
                                    "1": "",
                                    "2": "1150.00",
                                    "3": "0",
                                    "4": "1"
                                },
                                {
                                    "0": "Отдел разработки",
                                    "1": "2014",
                                    "2": "550.00",
                                    "3": "0",
                                    "4": "0"
                                },
                                {
                                    "0": "Отдел разработки",
                                    "1": "2015",
                                    "2": "800.00",
                                    "3": "0",
                                    "4": "0"
                                },
                                {
                                    "0": "Отдел разработки",
                                    "1": "",
                                    "2": "1350.00",
                                    "3": "0",
                                    "4": "1"
                                },
                                {
                                    "0": "NULL",
                                    "1": "",
                                    "2": "3430.00",
                                    "3": "1",
                                    "4": "1"
                                }
                            ]
                        },
                        "text/html": "<table><tr><th>department</th><th>year</th><th>result</th><th>groupingDepartment</th><th>groupingYear</th></tr><tr><td>Администрация</td><td>2014</td><td>500.00</td><td>0</td><td>0</td></tr><tr><td>Администрация</td><td>2015</td><td>430.00</td><td>0</td><td>0</td></tr><tr><td>Администрация</td><td></td><td>930.00</td><td>0</td><td>1</td></tr><tr><td>Отдел программирования</td><td>2014</td><td>650.00</td><td>0</td><td>0</td></tr><tr><td>Отдел программирования</td><td>2015</td><td>500.00</td><td>0</td><td>0</td></tr><tr><td>Отдел программирования</td><td></td><td>1150.00</td><td>0</td><td>1</td></tr><tr><td>Отдел разработки</td><td>2014</td><td>550.00</td><td>0</td><td>0</td></tr><tr><td>Отдел разработки</td><td>2015</td><td>800.00</td><td>0</td><td>0</td></tr><tr><td>Отдел разработки</td><td></td><td>1350.00</td><td>0</td><td>1</td></tr><tr><td>NULL</td><td></td><td>3430.00</td><td>1</td><td>1</td></tr></table>"
                    },
                    "metadata": {}
                }
            ],
            "execution_count": 8
        }
    ]
}