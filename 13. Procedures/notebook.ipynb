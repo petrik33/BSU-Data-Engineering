{
    "metadata": {
        "kernelspec": {
            "name": "SQL",
            "display_name": "SQL",
            "language": "sql"
        },
        "language_info": {
            "name": "sql",
            "version": ""
        },
        "orig_nbformat": 4
    },
    "nbformat_minor": 2,
    "nbformat": 4,
    "cells": [
        {
            "cell_type": "code",
            "source": [
                "use TestDB1\n",
                "GO\n",
                "\n",
                "CREATE PROC PROC40\n",
                "AS\n",
                "BEGIN\n",
                "    SELECT *\n",
                "    FROM Countries\n",
                "END\n",
                "\n",
                "EXEC PROC40"
            ],
            "metadata": {
                "azdata_cell_guid": "5c337b55-f5a6-44ad-a208-344a6dbee8c9",
                "language": "sql"
            },
            "outputs": [
                {
                    "output_type": "display_data",
                    "data": {
                        "text/html": "Commands completed successfully."
                    },
                    "metadata": {}
                },
                {
                    "output_type": "display_data",
                    "data": {
                        "text/html": "Commands completed successfully."
                    },
                    "metadata": {}
                },
                {
                    "output_type": "display_data",
                    "data": {
                        "text/html": "Total execution time: 00:00:00.019"
                    },
                    "metadata": {}
                }
            ],
            "execution_count": 5
        },
        {
            "cell_type": "code",
            "source": [
                "use TestDB1\n",
                "GO\n",
                "\n",
                "CREATE PROCEDURE PROC5\n",
                "    @outputCount int OUTPUT\n",
                "AS\n",
                "BEGIN\n",
                "    SELECT @outputCount = LEN(CAST([square] AS VARCHAR(MAX)))\n",
                "    FROM Countries\n",
                "END\n",
                "\n",
                "DECLARE @countDigits int\n",
                "EXEC PROC5 @outputCount = @countDigits OUTPUT\n",
                "SELECT @countDigits"
            ],
            "metadata": {
                "azdata_cell_guid": "36787e5c-36c4-4d54-9305-e6d399768944",
                "language": "sql"
            },
            "outputs": [
                {
                    "output_type": "display_data",
                    "data": {
                        "text/html": "Commands completed successfully."
                    },
                    "metadata": {}
                },
                {
                    "output_type": "display_data",
                    "data": {
                        "text/html": "Commands completed successfully."
                    },
                    "metadata": {}
                },
                {
                    "output_type": "display_data",
                    "data": {
                        "text/html": "Total execution time: 00:00:00.019"
                    },
                    "metadata": {}
                }
            ],
            "execution_count": 8
        },
        {
            "cell_type": "code",
            "source": [
                "use TestDB1\n",
                "GO\n",
                "\n",
                "CREATE PROCEDURE PROC006\n",
                "AS\n",
                "BEGIN\n",
                "    CREATE TABLE TestTabl06 (\n",
                "        name nvarchar(100),\n",
                "        capital nvarchar(100),\n",
                "        square float,\n",
                "        population int,\n",
                "        continent nvarchar(50)\n",
                "    )\n",
                "\n",
                "    INSERT INTO TestTabl06 (name, capital, square, population, continent)\n",
                "    SELECT \n",
                "\t\t[name],\n",
                "\t\t[capital],\n",
                "\t\t[square],\n",
                "\t\t[population],\n",
                "\t\tcontinent\n",
                "    FROM Countries\n",
                "    WHERE [name] LIKE '%' \n",
                "END\n",
                "\n",
                "EXEC PROC006"
            ],
            "metadata": {
                "azdata_cell_guid": "e1658803-b535-412c-bf90-a26085067443",
                "language": "sql"
            },
            "outputs": [
                {
                    "output_type": "display_data",
                    "data": {
                        "text/html": "Commands completed successfully."
                    },
                    "metadata": {}
                },
                {
                    "output_type": "display_data",
                    "data": {
                        "text/html": "Commands completed successfully."
                    },
                    "metadata": {}
                },
                {
                    "output_type": "display_data",
                    "data": {
                        "text/html": "Total execution time: 00:00:00.013"
                    },
                    "metadata": {}
                }
            ],
            "execution_count": 9
        },
        {
            "cell_type": "code",
            "source": [
                "use TestDB1\n",
                "GO\n",
                "\n",
                "CREATE FUNCTION Fun4\n",
                "(\n",
                "\t@maxArea float\n",
                ")\n",
                "RETURNS TABLE\n",
                "AS\n",
                "RETURN (\n",
                "    SELECT\n",
                "\t\t[name],\n",
                "\t\t[capital],\n",
                "\t\t[square],\n",
                "\t\t[population],\n",
                "\t\tcontinent\n",
                "    FROM Countries\n",
                "    WHERE [square] < @maxArea\n",
                "\t)\n",
                "GO\n",
                "\n",
                "SELECT * FROM dbo.Fun4(1000000)"
            ],
            "metadata": {
                "azdata_cell_guid": "57989fe8-dcd5-41d2-8660-ca313260b7bf",
                "language": "sql"
            },
            "outputs": [
                {
                    "output_type": "display_data",
                    "data": {
                        "text/html": "Commands completed successfully."
                    },
                    "metadata": {}
                },
                {
                    "output_type": "display_data",
                    "data": {
                        "text/html": "Commands completed successfully."
                    },
                    "metadata": {}
                },
                {
                    "output_type": "display_data",
                    "data": {
                        "text/html": "(19 rows affected)"
                    },
                    "metadata": {}
                },
                {
                    "output_type": "display_data",
                    "data": {
                        "text/html": "Total execution time: 00:00:00.105"
                    },
                    "metadata": {}
                },
                {
                    "output_type": "execute_result",
                    "metadata": {},
                    "execution_count": 11,
                    "data": {
                        "application/vnd.dataresource+json": {
                            "schema": {
                                "fields": [
                                    {
                                        "name": "name"
                                    },
                                    {
                                        "name": "capital"
                                    },
                                    {
                                        "name": "square"
                                    },
                                    {
                                        "name": "population"
                                    },
                                    {
                                        "name": "continent"
                                    }
                                ]
                            },
                            "data": [
                                {
                                    "name": "Австрия",
                                    "capital": "Вена",
                                    "square": "83858",
                                    "population": "8741753",
                                    "continent": "Европа"
                                },
                                {
                                    "name": "Азербайджан",
                                    "capital": "Баку",
                                    "square": "86600",
                                    "population": "9705600",
                                    "continent": "Азия"
                                },
                                {
                                    "name": "Албания",
                                    "capital": "Тирана",
                                    "square": "28748",
                                    "population": "2866026",
                                    "continent": "Европа"
                                },
                                {
                                    "name": "Афганистан",
                                    "capital": "Кабул",
                                    "square": "647500",
                                    "population": "29822848",
                                    "continent": "Азия"
                                },
                                {
                                    "name": "Бангладеш",
                                    "capital": "Дакка",
                                    "square": "144000",
                                    "population": "160221000",
                                    "continent": "Азия"
                                },
                                {
                                    "name": "Бахрейн",
                                    "capital": "Манама",
                                    "square": "701",
                                    "population": "1397000",
                                    "continent": "Азия"
                                },
                                {
                                    "name": "Белиз",
                                    "capital": "Бельмопан",
                                    "square": "22966",
                                    "population": "377968",
                                    "continent": "Северная Америка"
                                },
                                {
                                    "name": "Белоруссия",
                                    "capital": "Минск",
                                    "square": "207595",
                                    "population": "9498400",
                                    "continent": "Европа"
                                },
                                {
                                    "name": "Бельгия",
                                    "capital": "Брюссель",
                                    "square": "30528",
                                    "population": "11250585",
                                    "continent": "Европа"
                                },
                                {
                                    "name": "Бенин",
                                    "capital": "Порто-Ново",
                                    "square": "112620",
                                    "population": "11167000",
                                    "continent": "Африка"
                                },
                                {
                                    "name": "Болгария",
                                    "capital": "София",
                                    "square": "110910",
                                    "population": "7153784",
                                    "continent": "Европа"
                                },
                                {
                                    "name": "Ботсвана",
                                    "capital": "Габороне",
                                    "square": "600370",
                                    "population": "2209208",
                                    "continent": "Африка"
                                },
                                {
                                    "name": "Буркина-Фасо",
                                    "capital": "Уагадугу",
                                    "square": "274200",
                                    "population": "19034397",
                                    "continent": "Африка"
                                },
                                {
                                    "name": "Бутан",
                                    "capital": "Тхимпху",
                                    "square": "47000",
                                    "population": "784000",
                                    "continent": "Азия"
                                },
                                {
                                    "name": "Великобритания",
                                    "capital": "Лондон",
                                    "square": "244820",
                                    "population": "65341183",
                                    "continent": "Европа"
                                },
                                {
                                    "name": "Венгрия",
                                    "capital": "Будапешт",
                                    "square": "93030",
                                    "population": "9830485",
                                    "continent": "Европа"
                                },
                                {
                                    "name": "Венесуэла",
                                    "capital": "Каракас",
                                    "square": "912050",
                                    "population": "31028637",
                                    "continent": "Южная Америка"
                                },
                                {
                                    "name": "Восточный Тимор",
                                    "capital": "Дили",
                                    "square": "14874",
                                    "population": "1167242",
                                    "continent": "Азия"
                                },
                                {
                                    "name": "Вьетнам",
                                    "capital": "Ханой",
                                    "square": "329560",
                                    "population": "91713300",
                                    "continent": "Азия"
                                }
                            ]
                        },
                        "text/html": [
                            "<table>",
                            "<tr><th>name</th><th>capital</th><th>square</th><th>population</th><th>continent</th></tr>",
                            "<tr><td>Австрия</td><td>Вена</td><td>83858</td><td>8741753</td><td>Европа</td></tr>",
                            "<tr><td>Азербайджан</td><td>Баку</td><td>86600</td><td>9705600</td><td>Азия</td></tr>",
                            "<tr><td>Албания</td><td>Тирана</td><td>28748</td><td>2866026</td><td>Европа</td></tr>",
                            "<tr><td>Афганистан</td><td>Кабул</td><td>647500</td><td>29822848</td><td>Азия</td></tr>",
                            "<tr><td>Бангладеш</td><td>Дакка</td><td>144000</td><td>160221000</td><td>Азия</td></tr>",
                            "<tr><td>Бахрейн</td><td>Манама</td><td>701</td><td>1397000</td><td>Азия</td></tr>",
                            "<tr><td>Белиз</td><td>Бельмопан</td><td>22966</td><td>377968</td><td>Северная Америка</td></tr>",
                            "<tr><td>Белоруссия</td><td>Минск</td><td>207595</td><td>9498400</td><td>Европа</td></tr>",
                            "<tr><td>Бельгия</td><td>Брюссель</td><td>30528</td><td>11250585</td><td>Европа</td></tr>",
                            "<tr><td>Бенин</td><td>Порто-Ново</td><td>112620</td><td>11167000</td><td>Африка</td></tr>",
                            "<tr><td>Болгария</td><td>София</td><td>110910</td><td>7153784</td><td>Европа</td></tr>",
                            "<tr><td>Ботсвана</td><td>Габороне</td><td>600370</td><td>2209208</td><td>Африка</td></tr>",
                            "<tr><td>Буркина-Фасо</td><td>Уагадугу</td><td>274200</td><td>19034397</td><td>Африка</td></tr>",
                            "<tr><td>Бутан</td><td>Тхимпху</td><td>47000</td><td>784000</td><td>Азия</td></tr>",
                            "<tr><td>Великобритания</td><td>Лондон</td><td>244820</td><td>65341183</td><td>Европа</td></tr>",
                            "<tr><td>Венгрия</td><td>Будапешт</td><td>93030</td><td>9830485</td><td>Европа</td></tr>",
                            "<tr><td>Венесуэла</td><td>Каракас</td><td>912050</td><td>31028637</td><td>Южная Америка</td></tr>",
                            "<tr><td>Восточный Тимор</td><td>Дили</td><td>14874</td><td>1167242</td><td>Азия</td></tr>",
                            "<tr><td>Вьетнам</td><td>Ханой</td><td>329560</td><td>91713300</td><td>Азия</td></tr>",
                            "</table>"
                        ]
                    }
                }
            ],
            "execution_count": 11
        },
        {
            "cell_type": "code",
            "source": [
                "use TestDB1\n",
                "GO\n",
                "\n",
                "CREATE FUNCTION Fun5()\n",
                "RETURNS TABLE\n",
                "AS\n",
                "RETURN(\n",
                "    SELECT [name] AS Country,\n",
                "\t[population] / [square] AS PopulationDensity\n",
                "    FROM Countries\n",
                "\t)\n",
                "GO\n",
                "\n",
                "SELECT * FROM dbo.Fun5()"
            ],
            "metadata": {
                "azdata_cell_guid": "5bceed51-86b8-4b7f-936d-2f2d6250f010",
                "language": "sql"
            },
            "outputs": [
                {
                    "output_type": "display_data",
                    "data": {
                        "text/html": "Commands completed successfully."
                    },
                    "metadata": {}
                },
                {
                    "output_type": "display_data",
                    "data": {
                        "text/html": "Commands completed successfully."
                    },
                    "metadata": {}
                },
                {
                    "output_type": "display_data",
                    "data": {
                        "text/html": "(24 rows affected)"
                    },
                    "metadata": {}
                },
                {
                    "output_type": "display_data",
                    "data": {
                        "text/html": "Total execution time: 00:00:00.032"
                    },
                    "metadata": {}
                },
                {
                    "output_type": "execute_result",
                    "metadata": {},
                    "execution_count": 15,
                    "data": {
                        "application/vnd.dataresource+json": {
                            "schema": {
                                "fields": [
                                    {
                                        "name": "Country"
                                    },
                                    {
                                        "name": "PopulationDensity"
                                    }
                                ]
                            },
                            "data": [
                                {
                                    "Country": "Австрия",
                                    "PopulationDensity": "104"
                                },
                                {
                                    "Country": "Азербайджан",
                                    "PopulationDensity": "112"
                                },
                                {
                                    "Country": "Албания",
                                    "PopulationDensity": "99"
                                },
                                {
                                    "Country": "Алжир",
                                    "PopulationDensity": "16"
                                },
                                {
                                    "Country": "Ангола",
                                    "PopulationDensity": "20"
                                },
                                {
                                    "Country": "Аргентина",
                                    "PopulationDensity": "15"
                                },
                                {
                                    "Country": "Афганистан",
                                    "PopulationDensity": "46"
                                },
                                {
                                    "Country": "Бангладеш",
                                    "PopulationDensity": "1112"
                                },
                                {
                                    "Country": "Бахрейн",
                                    "PopulationDensity": "1992"
                                },
                                {
                                    "Country": "Белиз",
                                    "PopulationDensity": "16"
                                },
                                {
                                    "Country": "Белоруссия",
                                    "PopulationDensity": "45"
                                },
                                {
                                    "Country": "Бельгия",
                                    "PopulationDensity": "368"
                                },
                                {
                                    "Country": "Бенин",
                                    "PopulationDensity": "99"
                                },
                                {
                                    "Country": "Болгария",
                                    "PopulationDensity": "64"
                                },
                                {
                                    "Country": "Боливия",
                                    "PopulationDensity": "9"
                                },
                                {
                                    "Country": "Ботсвана",
                                    "PopulationDensity": "3"
                                },
                                {
                                    "Country": "Бразилия",
                                    "PopulationDensity": "24"
                                },
                                {
                                    "Country": "Буркина-Фасо",
                                    "PopulationDensity": "69"
                                },
                                {
                                    "Country": "Бутан",
                                    "PopulationDensity": "16"
                                },
                                {
                                    "Country": "Великобритания",
                                    "PopulationDensity": "266"
                                },
                                {
                                    "Country": "Венгрия",
                                    "PopulationDensity": "105"
                                },
                                {
                                    "Country": "Венесуэла",
                                    "PopulationDensity": "34"
                                },
                                {
                                    "Country": "Восточный Тимор",
                                    "PopulationDensity": "78"
                                },
                                {
                                    "Country": "Вьетнам",
                                    "PopulationDensity": "278"
                                }
                            ]
                        },
                        "text/html": [
                            "<table>",
                            "<tr><th>Country</th><th>PopulationDensity</th></tr>",
                            "<tr><td>Австрия</td><td>104</td></tr>",
                            "<tr><td>Азербайджан</td><td>112</td></tr>",
                            "<tr><td>Албания</td><td>99</td></tr>",
                            "<tr><td>Алжир</td><td>16</td></tr>",
                            "<tr><td>Ангола</td><td>20</td></tr>",
                            "<tr><td>Аргентина</td><td>15</td></tr>",
                            "<tr><td>Афганистан</td><td>46</td></tr>",
                            "<tr><td>Бангладеш</td><td>1112</td></tr>",
                            "<tr><td>Бахрейн</td><td>1992</td></tr>",
                            "<tr><td>Белиз</td><td>16</td></tr>",
                            "<tr><td>Белоруссия</td><td>45</td></tr>",
                            "<tr><td>Бельгия</td><td>368</td></tr>",
                            "<tr><td>Бенин</td><td>99</td></tr>",
                            "<tr><td>Болгария</td><td>64</td></tr>",
                            "<tr><td>Боливия</td><td>9</td></tr>",
                            "<tr><td>Ботсвана</td><td>3</td></tr>",
                            "<tr><td>Бразилия</td><td>24</td></tr>",
                            "<tr><td>Буркина-Фасо</td><td>69</td></tr>",
                            "<tr><td>Бутан</td><td>16</td></tr>",
                            "<tr><td>Великобритания</td><td>266</td></tr>",
                            "<tr><td>Венгрия</td><td>105</td></tr>",
                            "<tr><td>Венесуэла</td><td>34</td></tr>",
                            "<tr><td>Восточный Тимор</td><td>78</td></tr>",
                            "<tr><td>Вьетнам</td><td>278</td></tr>",
                            "</table>"
                        ]
                    }
                }
            ],
            "execution_count": 15
        },
        {
            "cell_type": "code",
            "source": [
                "use MusicProject \n",
                "GO\n",
                "\n",
                "CREATE PROCEDURE GetAuthorsBeforeDateCount\n",
                "    @BirthdayMax date,\n",
                "    @Count int OUTPUT\n",
                "AS\n",
                "BEGIN\n",
                "    SELECT @Count = COUNT(*)\n",
                "    FROM authors\n",
                "    WHERE birthday <= @BirthdayMax\n",
                "END\n",
                "\n",
                "GO\n",
                "\n",
                "DECLARE @AuthorsCount int\n",
                "EXEC GetAuthorsBeforeDateCount @BirthdayMax = '1980-01-01', @Count = @AuthorsCount OUTPUT\n",
                "PRINT '    : ' + CAST(@AuthorsCount AS nvarchar(10));\n",
                "\n",
                "GO;\n",
                "\n",
                "use MusicProject \n",
                "GO\n",
                "\n",
                "CREATE PROCEDURE GetAlbumsByAuthor\n",
                "    @AuthorID int\n",
                "AS\n",
                "BEGIN\n",
                "    SELECT name, release\n",
                "    FROM albums\n",
                "    WHERE author = @AuthorID\n",
                "END\n",
                "\n",
                "GO\n",
                "\n",
                "EXEC GetAlbumsByAuthor @AuthorID = 3\n",
                "\n",
                "GO;\n",
                "\n",
                "use MusicProject \n",
                "GO\n",
                "\n",
                "CREATE FUNCTION GetAuthorsBeforeDateCount2\n",
                "(\n",
                "    @BirthdayMax date\n",
                ")\n",
                "RETURNS int\n",
                "AS\n",
                "BEGIN\n",
                "    DECLARE @Count int\n",
                "    SELECT @Count = COUNT(*)\n",
                "    FROM authors\n",
                "    WHERE birthday <= @BirthdayMax\n",
                "    RETURN @Count\n",
                "END\n",
                "\n",
                "GO\n",
                "\n",
                "DECLARE @AuthorsCount int\n",
                "SET @AuthorsCount = dbo.GetAuthorsBeforeDateCount2('1980-01-01')\n",
                "PRINT '   : ' + CAST(@AuthorsCount AS nvarchar(10))\n",
                "\n",
                "GO;\n",
                "\n",
                "use MusicProject \n",
                "GO\n",
                "\n",
                "CREATE FUNCTION GetAlbumsByAuthor2\n",
                "(\n",
                "    @AuthorID int\n",
                ")\n",
                "RETURNS TABLE\n",
                "AS\n",
                "RETURN\n",
                "(\n",
                "    SELECT name, release\n",
                "    FROM albums\n",
                "    WHERE author = @AuthorID\n",
                ")\n",
                "\n",
                "GO\n",
                "\n",
                "SELECT *\n",
                "FROM dbo.GetAlbumsByAuthor2(6)\n",
                "\n",
                "GO;\n",
                "\n",
                "use MusicProject \n",
                "GO\n",
                "\n",
                "CREATE TRIGGER after_insert_albums\n",
                "ON albums\n",
                "AFTER INSERT\n",
                "AS\n",
                "BEGIN\n",
                "    PRINT 'Trigger fired after insert'\n",
                "END\n",
                "\n",
                "GO\n",
                "\n",
                "INSERT INTO albums (name, author, release)\n",
                "VALUES ('This album does not exist', 3, GETDATE())\n",
                "\n",
                "GO;\n",
                "\n",
                "use MusicProject \n",
                "GO\n",
                "\n",
                "CREATE TRIGGER insert_item\n",
                "ON items\n",
                "INSTEAD OF INSERT\n",
                "AS\n",
                "BEGIN\n",
                "    DECLARE @album_id INT\n",
                "    SELECT @album_id = album FROM inserted\n",
                "\n",
                "    IF EXISTS (SELECT * FROM albums WHERE id = @album_id)\n",
                "    BEGIN\n",
                "        INSERT INTO items (album, collection, type, price)\n",
                "        SELECT album, collection, type, price FROM inserted\n",
                "    END\n",
                "    ELSE\n",
                "    BEGIN\n",
                "        PRINT 'Error: No such album exists'\n",
                "    END\n",
                "END\n",
                "\n",
                "GO\n",
                "\n",
                "INSERT INTO items (album, collection, type, price)\n",
                "VALUES (3, 3, 'CD', 50.00)\n",
                "\n",
                "GO;\n",
                ""
            ],
            "metadata": {
                "azdata_cell_guid": "c0047060-51d1-447a-b32e-8ec1fe5c684f",
                "language": "sql"
            },
            "outputs": [
                {
                    "output_type": "display_data",
                    "data": {
                        "text/html": "Commands completed successfully."
                    },
                    "metadata": {}
                },
                {
                    "output_type": "error",
                    "evalue": "Msg 2714, Level 16, State 3, Procedure GetAuthorsBeforeDateCount, Line 2\nThere is already an object named 'GetAuthorsBeforeDateCount' in the database.",
                    "ename": "",
                    "traceback": []
                },
                {
                    "output_type": "error",
                    "evalue": "Msg 102, Level 15, State 1, Line 20\nIncorrect syntax near 'GO'.",
                    "ename": "",
                    "traceback": []
                },
                {
                    "output_type": "display_data",
                    "data": {
                        "text/html": "Commands completed successfully."
                    },
                    "metadata": {}
                },
                {
                    "output_type": "error",
                    "evalue": "Msg 102, Level 15, State 1, Line 38\nIncorrect syntax near 'GO'.",
                    "ename": "",
                    "traceback": []
                },
                {
                    "output_type": "error",
                    "evalue": "Msg 2714, Level 16, State 3, Procedure GetAuthorsBeforeDateCount2, Line 2\nThere is already an object named 'GetAuthorsBeforeDateCount2' in the database.",
                    "ename": "",
                    "traceback": []
                },
                {
                    "output_type": "error",
                    "evalue": "Msg 102, Level 15, State 1, Line 63\nIncorrect syntax near 'GO'.",
                    "ename": "",
                    "traceback": []
                },
                {
                    "output_type": "error",
                    "evalue": "Msg 2714, Level 16, State 3, Procedure GetAlbumsByAuthor2, Line 2\nThere is already an object named 'GetAlbumsByAuthor2' in the database.",
                    "ename": "",
                    "traceback": []
                },
                {
                    "output_type": "display_data",
                    "data": {
                        "text/html": "(1 row affected)"
                    },
                    "metadata": {}
                },
                {
                    "output_type": "display_data",
                    "data": {
                        "text/html": "Total execution time: 00:00:00.062"
                    },
                    "metadata": {}
                },
                {
                    "output_type": "execute_result",
                    "metadata": {},
                    "execution_count": 18,
                    "data": {
                        "application/vnd.dataresource+json": {
                            "schema": {
                                "fields": [
                                    {
                                        "name": "name"
                                    },
                                    {
                                        "name": "release"
                                    }
                                ]
                            },
                            "data": [
                                {
                                    "name": "Stromae",
                                    "release": "2022-03-04"
                                }
                            ]
                        },
                        "text/html": [
                            "<table>",
                            "<tr><th>name</th><th>release</th></tr>",
                            "<tr><td>Stromae</td><td>2022-03-04</td></tr>",
                            "</table>"
                        ]
                    }
                },
                {
                    "output_type": "error",
                    "evalue": "Msg 2714, Level 16, State 2, Procedure after_insert_albums, Line 2\nThere is already an object named 'after_insert_albums' in the database.",
                    "ename": "",
                    "traceback": []
                },
                {
                    "output_type": "error",
                    "evalue": "Msg 102, Level 15, State 1, Line 104\nIncorrect syntax near 'GO'.",
                    "ename": "",
                    "traceback": []
                },
                {
                    "output_type": "error",
                    "evalue": "Msg 2111, Level 16, State 1, Procedure insert_item, Line 2\nCannot create trigger 'insert_item' on table 'items' because an INSTEAD OF INSERT trigger already exists on this object.",
                    "ename": "",
                    "traceback": []
                },
                {
                    "output_type": "error",
                    "evalue": "Msg 102, Level 15, State 1, Line 133\nIncorrect syntax near 'GO'.",
                    "ename": "",
                    "traceback": []
                }
            ],
            "execution_count": 18
        }
    ]
}