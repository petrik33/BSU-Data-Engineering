{
  "metadata": {
    "kernelspec": {
      "name": "SQL",
      "display_name": "SQL",
      "language": "sql"
    },
    "language_info": {
      "name": "sql",
      "version": ""
    }
  },
  "nbformat_minor": 2,
  "nbformat": 4,
  "cells": [
    {
      "cell_type": "markdown",
      "metadata": {},
      "source": [
        "## 1. Вывести список стран и процентное соотношение их населения к суммарному населению мира"
      ]
    },
    {
      "cell_type": "code",
      "source": [
        "use TestDB1;\n",
        "\n",
        "select\n",
        "\tname,\n",
        "\tcapital,\n",
        "\tsquare,\n",
        "\tpopulation,\n",
        "\tcontinent,\n",
        "\tround(cast(population as float)*100/\n",
        "\t(\n",
        "\tselect\n",
        "\t\tsum(population)\n",
        "\tfrom\n",
        "\t\tCountries B\n",
        "\twhere\n",
        "\t\tA.continent = B.continent\n",
        "\t),3) as Continent_Percent\n",
        "from\n",
        "\tCountries A\n",
        "order by Continent_Percent desc"
      ],
      "metadata": {
        "azdata_cell_guid": "a28b9f91-2103-42cc-9ed8-62b8976ace90",
        "language": "sql"
      },
      "outputs": [],
      "execution_count": null
    },
    {
      "cell_type": "markdown",
      "metadata": {},
      "source": [
        "## 2. Вывести список стран мира, население которых больше, чем среднее население всех стран мира"
      ]
    },
    {
      "cell_type": "code",
      "source": [
        "use TestDB1;\n",
        "\n",
        "select\n",
        "\tname,\n",
        "\tcapital,\n",
        "\tsquare,\n",
        "\tpopulation,\n",
        "\tcontinent\n",
        "from\n",
        "\tCountries\n",
        "where\n",
        "\tpopulation = \n",
        "\t(\n",
        "\tselect\n",
        "\t\tmax(Country_Min_Population)\n",
        "\tfrom\n",
        "\t\t(\t\n",
        "\t\t\tselect\n",
        "\t\t\t\tmin(population) as Country_Min_Population\n",
        "\t\t\tfrom\n",
        "\t\t\t\tCountries\n",
        "\t\t\tgroup by\n",
        "\t\t\t\tcontinent\n",
        "\t\t)\n",
        "\t)"
      ],
      "metadata": {
        "azdata_cell_guid": "11ac53ae-719c-4cd7-8e87-78bf6d790cdf",
        "language": "sql"
      },
      "outputs": [],
      "execution_count": null
    },
    {
      "cell_type": "markdown",
      "metadata": {},
      "source": [
        "## 3. С помощью подзапроса вывести список африканских стран, население которых больше 50 млн. Чел"
      ]
    },
    {
      "cell_type": "code",
      "source": [
        "use TestDB1;\n",
        "\n",
        "select\n",
        "\tname,\n",
        "\tcapital,\n",
        "\tsquare,\n",
        "\tpopulation,\n",
        "\tcontinent\n",
        "from\n",
        "\tCountries\n",
        "where\n",
        "\tpopulation <= \n",
        "\t(\n",
        "\tselect\n",
        "\t\tpopulation\n",
        "\tfrom \n",
        "\t\tCountries\n",
        "\twhere\n",
        "\t\tname = 'Àíãîëà'\n",
        "\t)"
      ],
      "metadata": {
        "azdata_cell_guid": "b77d471c-52d4-421a-b1c5-c17c99b78f8d",
        "language": "sql"
      },
      "outputs": [],
      "execution_count": null
    },
    {
      "cell_type": "markdown",
      "metadata": {},
      "source": [
        "## 4. Вывести список стран и процентное соотношение их населения к суммарному населению к той части мира, где они находятся"
      ]
    },
    {
      "cell_type": "code",
      "source": [
        "use TestDB1;\n",
        "\n",
        "select\n",
        "\tname,\n",
        "\tcapital,\n",
        "\tsquare,\n",
        "\tpopulation,\n",
        "\tcontinent\n",
        "from\n",
        "\tCountries\n",
        "where\n",
        "\tpopulation > \n",
        "\t(\n",
        "\tselect avg(population)\n",
        "\tfrom Countries\n",
        "\t)\n"
      ],
      "metadata": {
        "azdata_cell_guid": "2123732d-f9db-4cb7-98a6-751e9e019f0b",
        "language": "sql"
      },
      "outputs": [],
      "execution_count": null
    },
    {
      "cell_type": "markdown",
      "metadata": {},
      "source": [
        "## 6. Вывести список стран мира, которые находятся в тех частях света, среднее население которых больше, чем общемировое"
      ]
    },
    {
      "cell_type": "code",
      "source": [
        "use TestDB1;\n",
        "\n",
        "select\n",
        "\tname,\n",
        "\tcapital,\n",
        "\tsquare,\n",
        "\tpopulation,\n",
        "\tcontinent\n",
        "from\n",
        "\tCountries\n",
        "where\n",
        "\tcontinent = 'Åâðîïà'\n",
        "\tand\n",
        "\tpopulation > any\n",
        "\t(\n",
        "\tselect\n",
        "\t\tpopulation\n",
        "\tfrom \n",
        "\t\tCountries\n",
        "\twhere\n",
        "\t\tcontinent = 'Þæíàÿ Àìåðèêà'\n",
        "\t)"
      ],
      "metadata": {
        "azdata_cell_guid": "9d526dcd-541f-4468-9c9c-67b7d3e96632",
        "language": "sql"
      },
      "outputs": [],
      "execution_count": null
    },
    {
      "cell_type": "markdown",
      "metadata": {},
      "source": [
        "## 7. Вывести список азиатских стран, население которых больше, чем в любой европейской стране"
      ]
    },
    {
      "cell_type": "code",
      "source": [
        "use TestDB1;\n",
        "\n",
        "select\n",
        "\tname,\n",
        "\tcapital,\n",
        "\tsquare,\n",
        "\tpopulation,\n",
        "\tcontinent,\n",
        "\tround(cast(population as float) * 100 /\n",
        "\t(\n",
        "\tselect\n",
        "\t\tsum(population)\n",
        "\tfrom\n",
        "\t\tCountries\n",
        "\t),3) as Percent_Population\n",
        "from\n",
        "\tCountries\n",
        "order by Percent_Population desc\n"
      ],
      "metadata": {
        "azdata_cell_guid": "94f225c9-dce8-4143-bbe9-5063a29dfeb6",
        "language": "sql"
      },
      "outputs": [],
      "execution_count": null
    },
    {
      "cell_type": "markdown",
      "metadata": {},
      "source": [
        "## 8. Вывести список европейских стран, население которых больше, чем население хотя бы одной южноамериканской страны"
      ]
    },
    {
      "cell_type": "code",
      "source": [
        "use TestDB1;\n",
        "\n",
        "select\n",
        "\tname,\n",
        "\tcapital,\n",
        "\tsquare,\n",
        "\tpopulation,\n",
        "\tcontinent\n",
        "from\n",
        "\tCountries\n",
        "where\n",
        "\tcontinent = 'Àôðèêà'\n",
        "\tand\n",
        "\texists\n",
        "\t(\n",
        "\tselect\n",
        "\t\t*\n",
        "\tfrom \n",
        "\t\tCountries\n",
        "\twhere\n",
        "\t\tcontinent = 'Àôðèêà'\n",
        "\t\tand\n",
        "\t\tpopulation > 100000000\n",
        "\t)"
      ],
      "metadata": {
        "azdata_cell_guid": "f83686ef-f3a1-4d6e-9d67-0789ad31f4c3",
        "language": "sql"
      },
      "outputs": [],
      "execution_count": null
    },
    {
      "cell_type": "markdown",
      "metadata": {},
      "source": [
        "## 9. Если в Африке есть хотя бы одна страна, население которой больше 100 млн. чел., вывести список всех африканских стран"
      ]
    },
    {
      "cell_type": "code",
      "source": [
        "use TestDB1;\n",
        "\n",
        "select\n",
        "\tname,\n",
        "\tcapital,\n",
        "\tsquare,\n",
        "\tpopulation,\n",
        "\tcontinent\n",
        "from\n",
        "\tCountries\n",
        "where\n",
        "\tcontinent = 'Àçèÿ'\n",
        "\tand\n",
        "\tpopulation > all\n",
        "\t(\n",
        "\tselect\n",
        "\t\tpopulation\n",
        "\tfrom \n",
        "\t\tCountries\n",
        "\twhere\n",
        "\t\tcontinent = 'Åâðîïà'\n",
        "\t)"
      ],
      "metadata": {
        "azdata_cell_guid": "0fb4c561-5333-4fd8-ad08-1026a873125b",
        "language": "sql"
      },
      "outputs": [],
      "execution_count": null
    },
    {
      "cell_type": "markdown",
      "metadata": {},
      "source": [
        "## 10. Вывести список стран в той части света, где находится страна «Ангола»"
      ]
    },
    {
      "cell_type": "code",
      "source": [
        "use TestDB1;\n",
        "\n",
        "select\n",
        "\tname,\n",
        "\tcapital,\n",
        "\tsquare,\n",
        "\tpopulation,\n",
        "\tcontinent\n",
        "from\n",
        "\t(\n",
        "\tselect\n",
        "\t\tname,\n",
        "\t\tcapital,\n",
        "\t\tsquare,\n",
        "\t\tpopulation,\n",
        "\t\tcontinent\n",
        "\tfrom\n",
        "\t\tCountries\n",
        "\twhere\n",
        "\t\tcontinent = 'Àôðèêà'\n",
        "\t) as Afric_table\n",
        "where\n",
        "\tpopulation > 50000000"
      ],
      "metadata": {
        "azdata_cell_guid": "7b193509-afb8-4e9f-b92c-0bbbb30cdaaf",
        "language": "sql"
      },
      "outputs": [],
      "execution_count": null
    },
    {
      "cell_type": "markdown",
      "metadata": {},
      "source": [
        "## 11. Вывести список стран, население которых не превышает населении страны «Анголы»"
      ]
    },
    {
      "cell_type": "code",
      "source": [
        "use TestDB1;\n",
        "\n",
        "select\n",
        "\tname,\n",
        "\tcapital,\n",
        "\tsquare,\n",
        "\tpopulation,\n",
        "\tcontinent\n",
        "from\n",
        "\tCountries\n",
        "where\n",
        "\tcontinent = \n",
        "\t(\n",
        "\tselect\n",
        "\t\tcontinent\n",
        "\tfrom \n",
        "\t\tCountries\n",
        "\twhere\n",
        "\t\tname = 'Àíãîëà'\n",
        "\t)"
      ],
      "metadata": {
        "azdata_cell_guid": "7ec47b79-28df-484a-859b-455d352842b1",
        "language": "sql"
      },
      "outputs": [],
      "execution_count": null
    }
  ]
}