{
    "metadata": {
        "kernelspec": {
            "name": "SQL",
            "display_name": "SQL",
            "language": "sql"
        },
        "language_info": {
            "name": "sql",
            "version": ""
        }
    },
    "nbformat_minor": 2,
    "nbformat": 4,
    "cells": [
        {
            "cell_type": "code",
            "source": [
                "use TestDB1;\n",
                "\n",
                "select\n",
                "\tname,\n",
                "\tcapital,\n",
                "\tsquare,\n",
                "\tpopulation,\n",
                "\tcontinent\n",
                "from\n",
                "\tCountries\n",
                "where\n",
                "\tcontinent in\n",
                "\t(\n",
                "\tselect\n",
                "\t\tcontinent\n",
                "\tfrom\n",
                "\t\tCountries\n",
                "\tgroup by\n",
                "\t\tcontinent\n",
                "\thaving\n",
                "\t\tavg(population) > \n",
                "\t\t(\n",
                "\t\tselect\n",
                "\t\t\tavg(population)\n",
                "\t\tfrom\n",
                "\t\t\tCountries\n",
                "\t\t)\n",
                "\t)"
            ],
            "metadata": {
                "azdata_cell_guid": "a79c58b3-bd0b-4f85-954c-cdd3cd827641",
                "language": "sql"
            },
            "outputs": [
                {
                    "output_type": "display_data",
                    "data": {
                        "text/html": "(11 rows affected)"
                    },
                    "metadata": {}
                },
                {
                    "output_type": "display_data",
                    "data": {
                        "text/html": "Total execution time: 00:00:00.010"
                    },
                    "metadata": {}
                },
                {
                    "output_type": "execute_result",
                    "metadata": {},
                    "execution_count": 18,
                    "data": {
                        "application/vnd.dataresource+json": {
                            "schema": {
                                "fields": [
                                    {
                                        "name": "name"
                                    },
                                    {
                                        "name": "capital"
                                    },
                                    {
                                        "name": "square"
                                    },
                                    {
                                        "name": "population"
                                    },
                                    {
                                        "name": "continent"
                                    }
                                ]
                            },
                            "data": [
                                {
                                    "0": "Азербайджан",
                                    "1": "Баку",
                                    "2": "86600",
                                    "3": "9705600",
                                    "4": "Азия"
                                },
                                {
                                    "0": "Аргентина",
                                    "1": "Буэнос-Айрес",
                                    "2": "2766890",
                                    "3": "43847000",
                                    "4": "Южная Америка"
                                },
                                {
                                    "0": "Афганистан",
                                    "1": "Кабул",
                                    "2": "647500",
                                    "3": "29822848",
                                    "4": "Азия"
                                },
                                {
                                    "0": "Бангладеш",
                                    "1": "Дакка",
                                    "2": "144000",
                                    "3": "160221000",
                                    "4": "Азия"
                                },
                                {
                                    "0": "Бахрейн",
                                    "1": "Манама",
                                    "2": "701",
                                    "3": "1397000",
                                    "4": "Азия"
                                },
                                {
                                    "0": "Боливия",
                                    "1": "Сукре",
                                    "2": "1098580",
                                    "3": "10985059",
                                    "4": "Южная Америка"
                                },
                                {
                                    "0": "Бразилия",
                                    "1": "Бразилиа",
                                    "2": "8511965",
                                    "3": "206081432",
                                    "4": "Южная Америка"
                                },
                                {
                                    "0": "Бутан",
                                    "1": "Тхимпху",
                                    "2": "47000",
                                    "3": "784000",
                                    "4": "Азия"
                                },
                                {
                                    "0": "Венесуэла",
                                    "1": "Каракас",
                                    "2": "912050",
                                    "3": "31028637",
                                    "4": "Южная Америка"
                                },
                                {
                                    "0": "Восточный Тимор",
                                    "1": "Дили",
                                    "2": "14874",
                                    "3": "1167242",
                                    "4": "Азия"
                                },
                                {
                                    "0": "Вьетнам",
                                    "1": "Ханой",
                                    "2": "329560",
                                    "3": "91713300",
                                    "4": "Азия"
                                }
                            ]
                        },
                        "text/html": [
                            "<table>",
                            "<tr><th>name</th><th>capital</th><th>square</th><th>population</th><th>continent</th></tr>",
                            "<tr><td>Азербайджан</td><td>Баку</td><td>86600</td><td>9705600</td><td>Азия</td></tr>",
                            "<tr><td>Аргентина</td><td>Буэнос-Айрес</td><td>2766890</td><td>43847000</td><td>Южная Америка</td></tr>",
                            "<tr><td>Афганистан</td><td>Кабул</td><td>647500</td><td>29822848</td><td>Азия</td></tr>",
                            "<tr><td>Бангладеш</td><td>Дакка</td><td>144000</td><td>160221000</td><td>Азия</td></tr>",
                            "<tr><td>Бахрейн</td><td>Манама</td><td>701</td><td>1397000</td><td>Азия</td></tr>",
                            "<tr><td>Боливия</td><td>Сукре</td><td>1098580</td><td>10985059</td><td>Южная Америка</td></tr>",
                            "<tr><td>Бразилия</td><td>Бразилиа</td><td>8511965</td><td>206081432</td><td>Южная Америка</td></tr>",
                            "<tr><td>Бутан</td><td>Тхимпху</td><td>47000</td><td>784000</td><td>Азия</td></tr>",
                            "<tr><td>Венесуэла</td><td>Каракас</td><td>912050</td><td>31028637</td><td>Южная Америка</td></tr>",
                            "<tr><td>Восточный Тимор</td><td>Дили</td><td>14874</td><td>1167242</td><td>Азия</td></tr>",
                            "<tr><td>Вьетнам</td><td>Ханой</td><td>329560</td><td>91713300</td><td>Азия</td></tr>",
                            "</table>"
                        ]
                    }
                }
            ],
            "execution_count": 18
        },
        {
            "cell_type": "code",
            "source": [
                "use TestDB1;\n",
                "\n",
                "select\n",
                "\tname,\n",
                "\tcapital,\n",
                "\tsquare,\n",
                "\tpopulation,\n",
                "\tcontinent\n",
                "from\n",
                "\tCountries A\n",
                "where population > \n",
                "\t(\n",
                "\tselect\n",
                "\t\tavg(population)\n",
                "\tfrom\n",
                "\t\tCountries B\n",
                "\twhere\n",
                "\t\tB.continent = A.continent\n",
                "\t)\n",
                "\t\n"
            ],
            "metadata": {
                "azdata_cell_guid": "b3ec2be4-669b-4b17-a142-f0203d12971b",
                "language": "sql"
            },
            "outputs": [
                {
                    "output_type": "display_data",
                    "data": {
                        "text/html": "(6 rows affected)"
                    },
                    "metadata": {}
                },
                {
                    "output_type": "display_data",
                    "data": {
                        "text/html": "Total execution time: 00:00:00.004"
                    },
                    "metadata": {}
                },
                {
                    "output_type": "execute_result",
                    "metadata": {},
                    "execution_count": 19,
                    "data": {
                        "application/vnd.dataresource+json": {
                            "schema": {
                                "fields": [
                                    {
                                        "name": "name"
                                    },
                                    {
                                        "name": "capital"
                                    },
                                    {
                                        "name": "square"
                                    },
                                    {
                                        "name": "population"
                                    },
                                    {
                                        "name": "continent"
                                    }
                                ]
                            },
                            "data": [
                                {
                                    "0": "Бангладеш",
                                    "1": "Дакка",
                                    "2": "144000",
                                    "3": "160221000",
                                    "4": "Азия"
                                },
                                {
                                    "0": "Вьетнам",
                                    "1": "Ханой",
                                    "2": "329560",
                                    "3": "91713300",
                                    "4": "Азия"
                                },
                                {
                                    "0": "Алжир",
                                    "1": "Алжир",
                                    "2": "2381740",
                                    "3": "39813722",
                                    "4": "Африка"
                                },
                                {
                                    "0": "Ангола",
                                    "1": "Луанда",
                                    "2": "1246700",
                                    "3": "25831000",
                                    "4": "Африка"
                                },
                                {
                                    "0": "Великобритания",
                                    "1": "Лондон",
                                    "2": "244820",
                                    "3": "65341183",
                                    "4": "Европа"
                                },
                                {
                                    "0": "Бразилия",
                                    "1": "Бразилиа",
                                    "2": "8511965",
                                    "3": "206081432",
                                    "4": "Южная Америка"
                                }
                            ]
                        },
                        "text/html": [
                            "<table>",
                            "<tr><th>name</th><th>capital</th><th>square</th><th>population</th><th>continent</th></tr>",
                            "<tr><td>Бангладеш</td><td>Дакка</td><td>144000</td><td>160221000</td><td>Азия</td></tr>",
                            "<tr><td>Вьетнам</td><td>Ханой</td><td>329560</td><td>91713300</td><td>Азия</td></tr>",
                            "<tr><td>Алжир</td><td>Алжир</td><td>2381740</td><td>39813722</td><td>Африка</td></tr>",
                            "<tr><td>Ангола</td><td>Луанда</td><td>1246700</td><td>25831000</td><td>Африка</td></tr>",
                            "<tr><td>Великобритания</td><td>Лондон</td><td>244820</td><td>65341183</td><td>Европа</td></tr>",
                            "<tr><td>Бразилия</td><td>Бразилиа</td><td>8511965</td><td>206081432</td><td>Южная Америка</td></tr>",
                            "</table>"
                        ]
                    }
                }
            ],
            "execution_count": 19
        },
        {
            "cell_type": "code",
            "source": [
                "use TestDB1;\n",
                "\n",
                "select\n",
                "\tname,\n",
                "\tcapital,\n",
                "\tsquare,\n",
                "\tpopulation,\n",
                "\tcontinent\n",
                "from\n",
                "\tCountries\n",
                "where\n",
                "\tcontinent = \n",
                "\t(\n",
                "\tselect\n",
                "\t\tcontinent\n",
                "\tfrom \n",
                "\t\tCountries\n",
                "\twhere\n",
                "\t\tname = 'Ôèäæè'\n",
                "\t)"
            ],
            "metadata": {
                "azdata_cell_guid": "7d6abac6-1de2-43f9-9ea6-d2400596289b",
                "language": "sql"
            },
            "outputs": [
                {
                    "output_type": "display_data",
                    "data": {
                        "text/html": "(0 rows affected)"
                    },
                    "metadata": {}
                },
                {
                    "output_type": "display_data",
                    "data": {
                        "text/html": "Total execution time: 00:00:00.005"
                    },
                    "metadata": {}
                },
                {
                    "output_type": "execute_result",
                    "metadata": {},
                    "execution_count": 20,
                    "data": {
                        "application/vnd.dataresource+json": {
                            "schema": {
                                "fields": [
                                    {
                                        "name": "name"
                                    },
                                    {
                                        "name": "capital"
                                    },
                                    {
                                        "name": "square"
                                    },
                                    {
                                        "name": "population"
                                    },
                                    {
                                        "name": "continent"
                                    }
                                ]
                            },
                            "data": []
                        },
                        "text/html": [
                            "<table>",
                            "<tr><th>name</th><th>capital</th><th>square</th><th>population</th><th>continent</th></tr>",
                            "</table>"
                        ]
                    }
                }
            ],
            "execution_count": 20
        },
        {
            "cell_type": "code",
            "source": [
                "use TestDB1;\n",
                "\n",
                "select\n",
                "\tname,\n",
                "\tcapital,\n",
                "\tsquare,\n",
                "\tpopulation,\n",
                "\tcontinent\n",
                "from\n",
                "\tCountries\n",
                "where\n",
                "\tpopulation = \n",
                "\t(\n",
                "\tselect\n",
                "\t\tmax(Country_Min_Population)\n",
                "\tfrom\n",
                "\t\t(\t\n",
                "\t\t\tselect\n",
                "\t\t\t\tmin(population) as Country_Min_Population\n",
                "\t\t\tfrom\n",
                "\t\t\t\tCountries\n",
                "\t\t\tgroup by\n",
                "\t\t\t\tcontinent\n",
                "\t\t) A\n",
                "\t)"
            ],
            "metadata": {
                "azdata_cell_guid": "bba0a258-cb66-420a-bda1-2015d17475d8",
                "language": "sql"
            },
            "outputs": [
                {
                    "output_type": "display_data",
                    "data": {
                        "text/html": "(1 row affected)"
                    },
                    "metadata": {}
                },
                {
                    "output_type": "display_data",
                    "data": {
                        "text/html": "Total execution time: 00:00:00.005"
                    },
                    "metadata": {}
                },
                {
                    "output_type": "execute_result",
                    "metadata": {},
                    "execution_count": 21,
                    "data": {
                        "application/vnd.dataresource+json": {
                            "schema": {
                                "fields": [
                                    {
                                        "name": "name"
                                    },
                                    {
                                        "name": "capital"
                                    },
                                    {
                                        "name": "square"
                                    },
                                    {
                                        "name": "population"
                                    },
                                    {
                                        "name": "continent"
                                    }
                                ]
                            },
                            "data": [
                                {
                                    "0": "Боливия",
                                    "1": "Сукре",
                                    "2": "1098580",
                                    "3": "10985059",
                                    "4": "Южная Америка"
                                }
                            ]
                        },
                        "text/html": [
                            "<table>",
                            "<tr><th>name</th><th>capital</th><th>square</th><th>population</th><th>continent</th></tr>",
                            "<tr><td>Боливия</td><td>Сукре</td><td>1098580</td><td>10985059</td><td>Южная Америка</td></tr>",
                            "</table>"
                        ]
                    }
                }
            ],
            "execution_count": 21
        },
        {
            "cell_type": "code",
            "source": [
                "use TestDB1;\n",
                "\n",
                "select\n",
                "\tname,\n",
                "\tcapital,\n",
                "\tsquare,\n",
                "\tpopulation,\n",
                "\tcontinent\n",
                "from\n",
                "\tCountries\n",
                "where\n",
                "\tpopulation = \n",
                "\t(\n",
                "\tselect\n",
                "\t\tmax(population)\n",
                "\tfrom\n",
                "\t\tCountries\n",
                "\twhere\n",
                "\t\tsquare in\n",
                "\t\t(\t\n",
                "\t\t\tselect\n",
                "\t\t\t\tmin(square) as Country_Min_Square\n",
                "\t\t\tfrom\n",
                "\t\t\t\tCountries\n",
                "\t\t\tgroup by\n",
                "\t\t\t\tcontinent\n",
                "\t\t)\n",
                "\t)"
            ],
            "metadata": {
                "azdata_cell_guid": "bd1c28a6-1f5f-4aac-b01e-9ce4b0a3dc62",
                "language": "sql"
            },
            "outputs": [
                {
                    "output_type": "display_data",
                    "data": {
                        "text/html": "(1 row affected)"
                    },
                    "metadata": {}
                },
                {
                    "output_type": "display_data",
                    "data": {
                        "text/html": "Total execution time: 00:00:00.004"
                    },
                    "metadata": {}
                },
                {
                    "output_type": "execute_result",
                    "metadata": {},
                    "execution_count": 22,
                    "data": {
                        "application/vnd.dataresource+json": {
                            "schema": {
                                "fields": [
                                    {
                                        "name": "name"
                                    },
                                    {
                                        "name": "capital"
                                    },
                                    {
                                        "name": "square"
                                    },
                                    {
                                        "name": "population"
                                    },
                                    {
                                        "name": "continent"
                                    }
                                ]
                            },
                            "data": [
                                {
                                    "0": "Венесуэла",
                                    "1": "Каракас",
                                    "2": "912050",
                                    "3": "31028637",
                                    "4": "Южная Америка"
                                }
                            ]
                        },
                        "text/html": [
                            "<table>",
                            "<tr><th>name</th><th>capital</th><th>square</th><th>population</th><th>continent</th></tr>",
                            "<tr><td>Венесуэла</td><td>Каракас</td><td>912050</td><td>31028637</td><td>Южная Америка</td></tr>",
                            "</table>"
                        ]
                    }
                }
            ],
            "execution_count": 22
        },
        {
            "cell_type": "code",
            "source": [
                "use TestDB1;\n",
                "\n",
                "select\n",
                "\tname,\n",
                "\tcapital,\n",
                "\tsquare,\n",
                "\tpopulation,\n",
                "\tcontinent,\n",
                "\tround(cast(population as float)*100/\n",
                "\t(\n",
                "\tselect\n",
                "\t\tsum(population)\n",
                "\tfrom\n",
                "\t\tCountries B\n",
                "\twhere\n",
                "\t\tA.continent = B.continent\n",
                "\t),3) as Continent_Percent\n",
                "from\n",
                "\tCountries A\n",
                "order by Continent_Percent desc"
            ],
            "metadata": {
                "azdata_cell_guid": "8b2c58c6-1ee8-44d4-b152-cc3892318c43",
                "language": "sql"
            },
            "outputs": [
                {
                    "output_type": "display_data",
                    "data": {
                        "text/html": "(24 rows affected)"
                    },
                    "metadata": {}
                },
                {
                    "output_type": "display_data",
                    "data": {
                        "text/html": "Total execution time: 00:00:00.005"
                    },
                    "metadata": {}
                },
                {
                    "output_type": "execute_result",
                    "metadata": {},
                    "execution_count": 23,
                    "data": {
                        "application/vnd.dataresource+json": {
                            "schema": {
                                "fields": [
                                    {
                                        "name": "name"
                                    },
                                    {
                                        "name": "capital"
                                    },
                                    {
                                        "name": "square"
                                    },
                                    {
                                        "name": "population"
                                    },
                                    {
                                        "name": "continent"
                                    },
                                    {
                                        "name": "Continent_Percent"
                                    }
                                ]
                            },
                            "data": [
                                {
                                    "0": "Белиз",
                                    "1": "Бельмопан",
                                    "2": "22966",
                                    "3": "377968",
                                    "4": "Северная Америка",
                                    "5": "100"
                                },
                                {
                                    "0": "Бразилия",
                                    "1": "Бразилиа",
                                    "2": "8511965",
                                    "3": "206081432",
                                    "4": "Южная Америка",
                                    "5": "70.59"
                                },
                                {
                                    "0": "Великобритания",
                                    "1": "Лондон",
                                    "2": "244820",
                                    "3": "65341183",
                                    "4": "Европа",
                                    "5": "56.976"
                                },
                                {
                                    "0": "Бангладеш",
                                    "1": "Дакка",
                                    "2": "144000",
                                    "3": "160221000",
                                    "4": "Азия",
                                    "5": "54.347"
                                },
                                {
                                    "0": "Алжир",
                                    "1": "Алжир",
                                    "2": "2381740",
                                    "3": "39813722",
                                    "4": "Африка",
                                    "5": "40.603"
                                },
                                {
                                    "0": "Вьетнам",
                                    "1": "Ханой",
                                    "2": "329560",
                                    "3": "91713300",
                                    "4": "Азия",
                                    "5": "31.109"
                                },
                                {
                                    "0": "Ангола",
                                    "1": "Луанда",
                                    "2": "1246700",
                                    "3": "25831000",
                                    "4": "Африка",
                                    "5": "26.343"
                                },
                                {
                                    "0": "Буркина-Фасо",
                                    "1": "Уагадугу",
                                    "2": "274200",
                                    "3": "19034397",
                                    "4": "Африка",
                                    "5": "19.412"
                                },
                                {
                                    "0": "Аргентина",
                                    "1": "Буэнос-Айрес",
                                    "2": "2766890",
                                    "3": "43847000",
                                    "4": "Южная Америка",
                                    "5": "15.019"
                                },
                                {
                                    "0": "Бенин",
                                    "1": "Порто-Ново",
                                    "2": "112620",
                                    "3": "11167000",
                                    "4": "Африка",
                                    "5": "11.388"
                                },
                                {
                                    "0": "Венесуэла",
                                    "1": "Каракас",
                                    "2": "912050",
                                    "3": "31028637",
                                    "4": "Южная Америка",
                                    "5": "10.628"
                                },
                                {
                                    "0": "Афганистан",
                                    "1": "Кабул",
                                    "2": "647500",
                                    "3": "29822848",
                                    "4": "Азия",
                                    "5": "10.116"
                                },
                                {
                                    "0": "Бельгия",
                                    "1": "Брюссель",
                                    "2": "30528",
                                    "3": "11250585",
                                    "4": "Европа",
                                    "5": "9.81"
                                },
                                {
                                    "0": "Венгрия",
                                    "1": "Будапешт",
                                    "2": "93030",
                                    "3": "9830485",
                                    "4": "Европа",
                                    "5": "8.572"
                                },
                                {
                                    "0": "Белоруссия",
                                    "1": "Минск",
                                    "2": "207595",
                                    "3": "9498400",
                                    "4": "Европа",
                                    "5": "8.282"
                                },
                                {
                                    "0": "Австрия",
                                    "1": "Вена",
                                    "2": "83858",
                                    "3": "8741753",
                                    "4": "Европа",
                                    "5": "7.623"
                                },
                                {
                                    "0": "Болгария",
                                    "1": "София",
                                    "2": "110910",
                                    "3": "7153784",
                                    "4": "Европа",
                                    "5": "6.238"
                                },
                                {
                                    "0": "Боливия",
                                    "1": "Сукре",
                                    "2": "1098580",
                                    "3": "10985059",
                                    "4": "Южная Америка",
                                    "5": "3.763"
                                },
                                {
                                    "0": "Азербайджан",
                                    "1": "Баку",
                                    "2": "86600",
                                    "3": "9705600",
                                    "4": "Азия",
                                    "5": "3.292"
                                },
                                {
                                    "0": "Албания",
                                    "1": "Тирана",
                                    "2": "28748",
                                    "3": "2866026",
                                    "4": "Европа",
                                    "5": "2.499"
                                },
                                {
                                    "0": "Ботсвана",
                                    "1": "Габороне",
                                    "2": "600370",
                                    "3": "2209208",
                                    "4": "Африка",
                                    "5": "2.253"
                                },
                                {
                                    "0": "Бахрейн",
                                    "1": "Манама",
                                    "2": "701",
                                    "3": "1397000",
                                    "4": "Азия",
                                    "5": "0.474"
                                },
                                {
                                    "0": "Восточный Тимор",
                                    "1": "Дили",
                                    "2": "14874",
                                    "3": "1167242",
                                    "4": "Азия",
                                    "5": "0.396"
                                },
                                {
                                    "0": "Бутан",
                                    "1": "Тхимпху",
                                    "2": "47000",
                                    "3": "784000",
                                    "4": "Азия",
                                    "5": "0.266"
                                }
                            ]
                        },
                        "text/html": [
                            "<table>",
                            "<tr><th>name</th><th>capital</th><th>square</th><th>population</th><th>continent</th><th>Continent_Percent</th></tr>",
                            "<tr><td>Белиз</td><td>Бельмопан</td><td>22966</td><td>377968</td><td>Северная Америка</td><td>100</td></tr>",
                            "<tr><td>Бразилия</td><td>Бразилиа</td><td>8511965</td><td>206081432</td><td>Южная Америка</td><td>70.59</td></tr>",
                            "<tr><td>Великобритания</td><td>Лондон</td><td>244820</td><td>65341183</td><td>Европа</td><td>56.976</td></tr>",
                            "<tr><td>Бангладеш</td><td>Дакка</td><td>144000</td><td>160221000</td><td>Азия</td><td>54.347</td></tr>",
                            "<tr><td>Алжир</td><td>Алжир</td><td>2381740</td><td>39813722</td><td>Африка</td><td>40.603</td></tr>",
                            "<tr><td>Вьетнам</td><td>Ханой</td><td>329560</td><td>91713300</td><td>Азия</td><td>31.109</td></tr>",
                            "<tr><td>Ангола</td><td>Луанда</td><td>1246700</td><td>25831000</td><td>Африка</td><td>26.343</td></tr>",
                            "<tr><td>Буркина-Фасо</td><td>Уагадугу</td><td>274200</td><td>19034397</td><td>Африка</td><td>19.412</td></tr>",
                            "<tr><td>Аргентина</td><td>Буэнос-Айрес</td><td>2766890</td><td>43847000</td><td>Южная Америка</td><td>15.019</td></tr>",
                            "<tr><td>Бенин</td><td>Порто-Ново</td><td>112620</td><td>11167000</td><td>Африка</td><td>11.388</td></tr>",
                            "<tr><td>Венесуэла</td><td>Каракас</td><td>912050</td><td>31028637</td><td>Южная Америка</td><td>10.628</td></tr>",
                            "<tr><td>Афганистан</td><td>Кабул</td><td>647500</td><td>29822848</td><td>Азия</td><td>10.116</td></tr>",
                            "<tr><td>Бельгия</td><td>Брюссель</td><td>30528</td><td>11250585</td><td>Европа</td><td>9.81</td></tr>",
                            "<tr><td>Венгрия</td><td>Будапешт</td><td>93030</td><td>9830485</td><td>Европа</td><td>8.572</td></tr>",
                            "<tr><td>Белоруссия</td><td>Минск</td><td>207595</td><td>9498400</td><td>Европа</td><td>8.282</td></tr>",
                            "<tr><td>Австрия</td><td>Вена</td><td>83858</td><td>8741753</td><td>Европа</td><td>7.623</td></tr>",
                            "<tr><td>Болгария</td><td>София</td><td>110910</td><td>7153784</td><td>Европа</td><td>6.238</td></tr>",
                            "<tr><td>Боливия</td><td>Сукре</td><td>1098580</td><td>10985059</td><td>Южная Америка</td><td>3.763</td></tr>",
                            "<tr><td>Азербайджан</td><td>Баку</td><td>86600</td><td>9705600</td><td>Азия</td><td>3.292</td></tr>",
                            "<tr><td>Албания</td><td>Тирана</td><td>28748</td><td>2866026</td><td>Европа</td><td>2.499</td></tr>",
                            "<tr><td>Ботсвана</td><td>Габороне</td><td>600370</td><td>2209208</td><td>Африка</td><td>2.253</td></tr>",
                            "<tr><td>Бахрейн</td><td>Манама</td><td>701</td><td>1397000</td><td>Азия</td><td>0.474</td></tr>",
                            "<tr><td>Восточный Тимор</td><td>Дили</td><td>14874</td><td>1167242</td><td>Азия</td><td>0.396</td></tr>",
                            "<tr><td>Бутан</td><td>Тхимпху</td><td>47000</td><td>784000</td><td>Азия</td><td>0.266</td></tr>",
                            "</table>"
                        ]
                    }
                }
            ],
            "execution_count": 23
        },
        {
            "cell_type": "code",
            "source": [
                "use TestDB1;\n",
                "\n",
                "select\n",
                "\tname,\n",
                "\tcapital,\n",
                "\tsquare,\n",
                "\tpopulation,\n",
                "\tcontinent\n",
                "from\n",
                "\tCountries\n",
                "where\n",
                "\tcast(population as float) / square > \n",
                "\t(\n",
                "\tselect avg(cast(population as float) / square)\n",
                "\tfrom Countries\n",
                "\t)\n"
            ],
            "metadata": {
                "azdata_cell_guid": "26bc4e53-7f94-41bb-bd22-011abf4a740b",
                "language": "sql"
            },
            "outputs": [
                {
                    "output_type": "display_data",
                    "data": {
                        "text/html": "(5 rows affected)"
                    },
                    "metadata": {}
                },
                {
                    "output_type": "display_data",
                    "data": {
                        "text/html": "Total execution time: 00:00:00.004"
                    },
                    "metadata": {}
                },
                {
                    "output_type": "execute_result",
                    "metadata": {},
                    "execution_count": 24,
                    "data": {
                        "application/vnd.dataresource+json": {
                            "schema": {
                                "fields": [
                                    {
                                        "name": "name"
                                    },
                                    {
                                        "name": "capital"
                                    },
                                    {
                                        "name": "square"
                                    },
                                    {
                                        "name": "population"
                                    },
                                    {
                                        "name": "continent"
                                    }
                                ]
                            },
                            "data": [
                                {
                                    "0": "Бангладеш",
                                    "1": "Дакка",
                                    "2": "144000",
                                    "3": "160221000",
                                    "4": "Азия"
                                },
                                {
                                    "0": "Бахрейн",
                                    "1": "Манама",
                                    "2": "701",
                                    "3": "1397000",
                                    "4": "Азия"
                                },
                                {
                                    "0": "Бельгия",
                                    "1": "Брюссель",
                                    "2": "30528",
                                    "3": "11250585",
                                    "4": "Европа"
                                },
                                {
                                    "0": "Великобритания",
                                    "1": "Лондон",
                                    "2": "244820",
                                    "3": "65341183",
                                    "4": "Европа"
                                },
                                {
                                    "0": "Вьетнам",
                                    "1": "Ханой",
                                    "2": "329560",
                                    "3": "91713300",
                                    "4": "Азия"
                                }
                            ]
                        },
                        "text/html": [
                            "<table>",
                            "<tr><th>name</th><th>capital</th><th>square</th><th>population</th><th>continent</th></tr>",
                            "<tr><td>Бангладеш</td><td>Дакка</td><td>144000</td><td>160221000</td><td>Азия</td></tr>",
                            "<tr><td>Бахрейн</td><td>Манама</td><td>701</td><td>1397000</td><td>Азия</td></tr>",
                            "<tr><td>Бельгия</td><td>Брюссель</td><td>30528</td><td>11250585</td><td>Европа</td></tr>",
                            "<tr><td>Великобритания</td><td>Лондон</td><td>244820</td><td>65341183</td><td>Европа</td></tr>",
                            "<tr><td>Вьетнам</td><td>Ханой</td><td>329560</td><td>91713300</td><td>Азия</td></tr>",
                            "</table>"
                        ]
                    }
                }
            ],
            "execution_count": 24
        },
        {
            "cell_type": "code",
            "source": [
                "use TestDB1;\n",
                "\n",
                "select\n",
                "\tname,\n",
                "\tcapital,\n",
                "\tsquare,\n",
                "\tpopulation,\n",
                "\tcontinent\n",
                "from\n",
                "\tCountries\n",
                "where\n",
                "\tpopulation <= \n",
                "\t(\n",
                "\tselect\n",
                "\t\tpopulation\n",
                "\tfrom \n",
                "\t\tCountries\n",
                "\twhere\n",
                "\t\tname = 'Àíãîëà'\n",
                "\t)"
            ],
            "metadata": {
                "azdata_cell_guid": "82351b7c-a369-46c7-af22-d6e85242b216",
                "language": "sql"
            },
            "outputs": [
                {
                    "output_type": "display_data",
                    "data": {
                        "text/html": "(0 rows affected)"
                    },
                    "metadata": {}
                },
                {
                    "output_type": "display_data",
                    "data": {
                        "text/html": "Total execution time: 00:00:00.003"
                    },
                    "metadata": {}
                },
                {
                    "output_type": "execute_result",
                    "metadata": {},
                    "execution_count": 25,
                    "data": {
                        "application/vnd.dataresource+json": {
                            "schema": {
                                "fields": [
                                    {
                                        "name": "name"
                                    },
                                    {
                                        "name": "capital"
                                    },
                                    {
                                        "name": "square"
                                    },
                                    {
                                        "name": "population"
                                    },
                                    {
                                        "name": "continent"
                                    }
                                ]
                            },
                            "data": []
                        },
                        "text/html": [
                            "<table>",
                            "<tr><th>name</th><th>capital</th><th>square</th><th>population</th><th>continent</th></tr>",
                            "</table>"
                        ]
                    }
                }
            ],
            "execution_count": 25
        },
        {
            "cell_type": "code",
            "source": [
                "use TestDB1;\n",
                "\n",
                "select\n",
                "\tname,\n",
                "\tcapital,\n",
                "\tsquare,\n",
                "\tpopulation,\n",
                "\tcontinent\n",
                "from\n",
                "\tCountries\n",
                "where\n",
                "\tpopulation > \n",
                "\t(\n",
                "\tselect avg(population)\n",
                "\tfrom Countries\n",
                "\t)\n"
            ],
            "metadata": {
                "azdata_cell_guid": "87b8b473-8512-42c0-a116-5f38f468147f",
                "language": "sql"
            },
            "outputs": [
                {
                    "output_type": "display_data",
                    "data": {
                        "text/html": "(6 rows affected)"
                    },
                    "metadata": {}
                },
                {
                    "output_type": "display_data",
                    "data": {
                        "text/html": "Total execution time: 00:00:00.003"
                    },
                    "metadata": {}
                },
                {
                    "output_type": "execute_result",
                    "metadata": {},
                    "execution_count": 26,
                    "data": {
                        "application/vnd.dataresource+json": {
                            "schema": {
                                "fields": [
                                    {
                                        "name": "name"
                                    },
                                    {
                                        "name": "capital"
                                    },
                                    {
                                        "name": "square"
                                    },
                                    {
                                        "name": "population"
                                    },
                                    {
                                        "name": "continent"
                                    }
                                ]
                            },
                            "data": [
                                {
                                    "0": "Алжир",
                                    "1": "Алжир",
                                    "2": "2381740",
                                    "3": "39813722",
                                    "4": "Африка"
                                },
                                {
                                    "0": "Аргентина",
                                    "1": "Буэнос-Айрес",
                                    "2": "2766890",
                                    "3": "43847000",
                                    "4": "Южная Америка"
                                },
                                {
                                    "0": "Бангладеш",
                                    "1": "Дакка",
                                    "2": "144000",
                                    "3": "160221000",
                                    "4": "Азия"
                                },
                                {
                                    "0": "Бразилия",
                                    "1": "Бразилиа",
                                    "2": "8511965",
                                    "3": "206081432",
                                    "4": "Южная Америка"
                                },
                                {
                                    "0": "Великобритания",
                                    "1": "Лондон",
                                    "2": "244820",
                                    "3": "65341183",
                                    "4": "Европа"
                                },
                                {
                                    "0": "Вьетнам",
                                    "1": "Ханой",
                                    "2": "329560",
                                    "3": "91713300",
                                    "4": "Азия"
                                }
                            ]
                        },
                        "text/html": [
                            "<table>",
                            "<tr><th>name</th><th>capital</th><th>square</th><th>population</th><th>continent</th></tr>",
                            "<tr><td>Алжир</td><td>Алжир</td><td>2381740</td><td>39813722</td><td>Африка</td></tr>",
                            "<tr><td>Аргентина</td><td>Буэнос-Айрес</td><td>2766890</td><td>43847000</td><td>Южная Америка</td></tr>",
                            "<tr><td>Бангладеш</td><td>Дакка</td><td>144000</td><td>160221000</td><td>Азия</td></tr>",
                            "<tr><td>Бразилия</td><td>Бразилиа</td><td>8511965</td><td>206081432</td><td>Южная Америка</td></tr>",
                            "<tr><td>Великобритания</td><td>Лондон</td><td>244820</td><td>65341183</td><td>Европа</td></tr>",
                            "<tr><td>Вьетнам</td><td>Ханой</td><td>329560</td><td>91713300</td><td>Азия</td></tr>",
                            "</table>"
                        ]
                    }
                }
            ],
            "execution_count": 26
        },
        {
            "cell_type": "code",
            "source": [
                "use TestDB1;\n",
                "\n",
                "select\n",
                "\tname,\n",
                "\tcapital,\n",
                "\tsquare,\n",
                "\tpopulation,\n",
                "\tcontinent\n",
                "from\n",
                "\tCountries\n",
                "where\n",
                "\tcontinent = 'Åâðîïà'\n",
                "\tand\n",
                "\tpopulation > any\n",
                "\t(\n",
                "\tselect\n",
                "\t\tpopulation\n",
                "\tfrom \n",
                "\t\tCountries\n",
                "\twhere\n",
                "\t\tcontinent = 'Þæíàÿ Àìåðèêà'\n",
                "\t)"
            ],
            "metadata": {
                "azdata_cell_guid": "d2fdfa96-83bd-4acc-a1e2-c0a41ed18f0b",
                "language": "sql"
            },
            "outputs": [
                {
                    "output_type": "display_data",
                    "data": {
                        "text/html": "(0 rows affected)"
                    },
                    "metadata": {}
                },
                {
                    "output_type": "display_data",
                    "data": {
                        "text/html": "Total execution time: 00:00:00.003"
                    },
                    "metadata": {}
                },
                {
                    "output_type": "execute_result",
                    "metadata": {},
                    "execution_count": 27,
                    "data": {
                        "application/vnd.dataresource+json": {
                            "schema": {
                                "fields": [
                                    {
                                        "name": "name"
                                    },
                                    {
                                        "name": "capital"
                                    },
                                    {
                                        "name": "square"
                                    },
                                    {
                                        "name": "population"
                                    },
                                    {
                                        "name": "continent"
                                    }
                                ]
                            },
                            "data": []
                        },
                        "text/html": [
                            "<table>",
                            "<tr><th>name</th><th>capital</th><th>square</th><th>population</th><th>continent</th></tr>",
                            "</table>"
                        ]
                    }
                }
            ],
            "execution_count": 27
        },
        {
            "cell_type": "code",
            "source": [
                "use TestDB1;\n",
                "\n",
                "select\n",
                "\tname,\n",
                "\tcapital,\n",
                "\tsquare,\n",
                "\tpopulation,\n",
                "\tcontinent,\n",
                "\tround(cast(square as float)*100/\n",
                "\t(\n",
                "\tselect\n",
                "\t\tsum(square)\n",
                "\tfrom\n",
                "\t\tCountries B\n",
                "\twhere\n",
                "\t\tA.continent = B.continent\n",
                "\t),3) as Square_Percent\n",
                "from\n",
                "\tCountries A\n",
                "order by Square_Percent desc"
            ],
            "metadata": {
                "azdata_cell_guid": "3e81de08-9d00-42d7-9786-26dba2623cd4",
                "language": "sql"
            },
            "outputs": [
                {
                    "output_type": "display_data",
                    "data": {
                        "text/html": "(24 rows affected)"
                    },
                    "metadata": {}
                },
                {
                    "output_type": "display_data",
                    "data": {
                        "text/html": "Total execution time: 00:00:00.005"
                    },
                    "metadata": {}
                },
                {
                    "output_type": "execute_result",
                    "metadata": {},
                    "execution_count": 28,
                    "data": {
                        "application/vnd.dataresource+json": {
                            "schema": {
                                "fields": [
                                    {
                                        "name": "name"
                                    },
                                    {
                                        "name": "capital"
                                    },
                                    {
                                        "name": "square"
                                    },
                                    {
                                        "name": "population"
                                    },
                                    {
                                        "name": "continent"
                                    },
                                    {
                                        "name": "Square_Percent"
                                    }
                                ]
                            },
                            "data": [
                                {
                                    "0": "Белиз",
                                    "1": "Бельмопан",
                                    "2": "22966",
                                    "3": "377968",
                                    "4": "Северная Америка",
                                    "5": "100"
                                },
                                {
                                    "0": "Бразилия",
                                    "1": "Бразилиа",
                                    "2": "8511965",
                                    "3": "206081432",
                                    "4": "Южная Америка",
                                    "5": "64.05"
                                },
                                {
                                    "0": "Алжир",
                                    "1": "Алжир",
                                    "2": "2381740",
                                    "3": "39813722",
                                    "4": "Африка",
                                    "5": "51.602"
                                },
                                {
                                    "0": "Афганистан",
                                    "1": "Кабул",
                                    "2": "647500",
                                    "3": "29822848",
                                    "4": "Азия",
                                    "5": "50.975"
                                },
                                {
                                    "0": "Великобритания",
                                    "1": "Лондон",
                                    "2": "244820",
                                    "3": "65341183",
                                    "4": "Европа",
                                    "5": "30.622"
                                },
                                {
                                    "0": "Ангола",
                                    "1": "Луанда",
                                    "2": "1246700",
                                    "3": "25831000",
                                    "4": "Африка",
                                    "5": "27.01"
                                },
                                {
                                    "0": "Белоруссия",
                                    "1": "Минск",
                                    "2": "207595",
                                    "3": "9498400",
                                    "4": "Европа",
                                    "5": "25.966"
                                },
                                {
                                    "0": "Вьетнам",
                                    "1": "Ханой",
                                    "2": "329560",
                                    "3": "91713300",
                                    "4": "Азия",
                                    "5": "25.945"
                                },
                                {
                                    "0": "Аргентина",
                                    "1": "Буэнос-Айрес",
                                    "2": "2766890",
                                    "3": "43847000",
                                    "4": "Южная Америка",
                                    "5": "20.82"
                                },
                                {
                                    "0": "Болгария",
                                    "1": "София",
                                    "2": "110910",
                                    "3": "7153784",
                                    "4": "Европа",
                                    "5": "13.873"
                                },
                                {
                                    "0": "Ботсвана",
                                    "1": "Габороне",
                                    "2": "600370",
                                    "3": "2209208",
                                    "4": "Африка",
                                    "5": "13.007"
                                },
                                {
                                    "0": "Венгрия",
                                    "1": "Будапешт",
                                    "2": "93030",
                                    "3": "9830485",
                                    "4": "Европа",
                                    "5": "11.636"
                                },
                                {
                                    "0": "Бангладеш",
                                    "1": "Дакка",
                                    "2": "144000",
                                    "3": "160221000",
                                    "4": "Азия",
                                    "5": "11.336"
                                },
                                {
                                    "0": "Австрия",
                                    "1": "Вена",
                                    "2": "83858",
                                    "3": "8741753",
                                    "4": "Европа",
                                    "5": "10.489"
                                },
                                {
                                    "0": "Боливия",
                                    "1": "Сукре",
                                    "2": "1098580",
                                    "3": "10985059",
                                    "4": "Южная Америка",
                                    "5": "8.267"
                                },
                                {
                                    "0": "Венесуэла",
                                    "1": "Каракас",
                                    "2": "912050",
                                    "3": "31028637",
                                    "4": "Южная Америка",
                                    "5": "6.863"
                                },
                                {
                                    "0": "Азербайджан",
                                    "1": "Баку",
                                    "2": "86600",
                                    "3": "9705600",
                                    "4": "Азия",
                                    "5": "6.818"
                                },
                                {
                                    "0": "Буркина-Фасо",
                                    "1": "Уагадугу",
                                    "2": "274200",
                                    "3": "19034397",
                                    "4": "Африка",
                                    "5": "5.941"
                                },
                                {
                                    "0": "Бельгия",
                                    "1": "Брюссель",
                                    "2": "30528",
                                    "3": "11250585",
                                    "4": "Европа",
                                    "5": "3.818"
                                },
                                {
                                    "0": "Бутан",
                                    "1": "Тхимпху",
                                    "2": "47000",
                                    "3": "784000",
                                    "4": "Азия",
                                    "5": "3.7"
                                },
                                {
                                    "0": "Албания",
                                    "1": "Тирана",
                                    "2": "28748",
                                    "3": "2866026",
                                    "4": "Европа",
                                    "5": "3.596"
                                },
                                {
                                    "0": "Бенин",
                                    "1": "Порто-Ново",
                                    "2": "112620",
                                    "3": "11167000",
                                    "4": "Африка",
                                    "5": "2.44"
                                },
                                {
                                    "0": "Восточный Тимор",
                                    "1": "Дили",
                                    "2": "14874",
                                    "3": "1167242",
                                    "4": "Азия",
                                    "5": "1.171"
                                },
                                {
                                    "0": "Бахрейн",
                                    "1": "Манама",
                                    "2": "701",
                                    "3": "1397000",
                                    "4": "Азия",
                                    "5": "0.055"
                                }
                            ]
                        },
                        "text/html": [
                            "<table>",
                            "<tr><th>name</th><th>capital</th><th>square</th><th>population</th><th>continent</th><th>Square_Percent</th></tr>",
                            "<tr><td>Белиз</td><td>Бельмопан</td><td>22966</td><td>377968</td><td>Северная Америка</td><td>100</td></tr>",
                            "<tr><td>Бразилия</td><td>Бразилиа</td><td>8511965</td><td>206081432</td><td>Южная Америка</td><td>64.05</td></tr>",
                            "<tr><td>Алжир</td><td>Алжир</td><td>2381740</td><td>39813722</td><td>Африка</td><td>51.602</td></tr>",
                            "<tr><td>Афганистан</td><td>Кабул</td><td>647500</td><td>29822848</td><td>Азия</td><td>50.975</td></tr>",
                            "<tr><td>Великобритания</td><td>Лондон</td><td>244820</td><td>65341183</td><td>Европа</td><td>30.622</td></tr>",
                            "<tr><td>Ангола</td><td>Луанда</td><td>1246700</td><td>25831000</td><td>Африка</td><td>27.01</td></tr>",
                            "<tr><td>Белоруссия</td><td>Минск</td><td>207595</td><td>9498400</td><td>Европа</td><td>25.966</td></tr>",
                            "<tr><td>Вьетнам</td><td>Ханой</td><td>329560</td><td>91713300</td><td>Азия</td><td>25.945</td></tr>",
                            "<tr><td>Аргентина</td><td>Буэнос-Айрес</td><td>2766890</td><td>43847000</td><td>Южная Америка</td><td>20.82</td></tr>",
                            "<tr><td>Болгария</td><td>София</td><td>110910</td><td>7153784</td><td>Европа</td><td>13.873</td></tr>",
                            "<tr><td>Ботсвана</td><td>Габороне</td><td>600370</td><td>2209208</td><td>Африка</td><td>13.007</td></tr>",
                            "<tr><td>Венгрия</td><td>Будапешт</td><td>93030</td><td>9830485</td><td>Европа</td><td>11.636</td></tr>",
                            "<tr><td>Бангладеш</td><td>Дакка</td><td>144000</td><td>160221000</td><td>Азия</td><td>11.336</td></tr>",
                            "<tr><td>Австрия</td><td>Вена</td><td>83858</td><td>8741753</td><td>Европа</td><td>10.489</td></tr>",
                            "<tr><td>Боливия</td><td>Сукре</td><td>1098580</td><td>10985059</td><td>Южная Америка</td><td>8.267</td></tr>",
                            "<tr><td>Венесуэла</td><td>Каракас</td><td>912050</td><td>31028637</td><td>Южная Америка</td><td>6.863</td></tr>",
                            "<tr><td>Азербайджан</td><td>Баку</td><td>86600</td><td>9705600</td><td>Азия</td><td>6.818</td></tr>",
                            "<tr><td>Буркина-Фасо</td><td>Уагадугу</td><td>274200</td><td>19034397</td><td>Африка</td><td>5.941</td></tr>",
                            "<tr><td>Бельгия</td><td>Брюссель</td><td>30528</td><td>11250585</td><td>Европа</td><td>3.818</td></tr>",
                            "<tr><td>Бутан</td><td>Тхимпху</td><td>47000</td><td>784000</td><td>Азия</td><td>3.7</td></tr>",
                            "<tr><td>Албания</td><td>Тирана</td><td>28748</td><td>2866026</td><td>Европа</td><td>3.596</td></tr>",
                            "<tr><td>Бенин</td><td>Порто-Ново</td><td>112620</td><td>11167000</td><td>Африка</td><td>2.44</td></tr>",
                            "<tr><td>Восточный Тимор</td><td>Дили</td><td>14874</td><td>1167242</td><td>Азия</td><td>1.171</td></tr>",
                            "<tr><td>Бахрейн</td><td>Манама</td><td>701</td><td>1397000</td><td>Азия</td><td>0.055</td></tr>",
                            "</table>"
                        ]
                    }
                }
            ],
            "execution_count": 28
        },
        {
            "cell_type": "code",
            "source": [
                "use TestDB1;\n",
                "\n",
                "select\n",
                "\tname,\n",
                "\tcapital,\n",
                "\tsquare,\n",
                "\tpopulation,\n",
                "\tcontinent\n",
                "from\n",
                "\tCountries\n",
                "where\n",
                "\tcontinent = 'Þæíàÿ Àìåðèêà'\n",
                "\tand\n",
                "\tpopulation > all\n",
                "\t(\n",
                "\tselect\n",
                "\t\tpopulation\n",
                "\tfrom \n",
                "\t\tCountries\n",
                "\twhere\n",
                "\t\tcontinent = 'Àôðèêà'\n",
                "\t)"
            ],
            "metadata": {
                "azdata_cell_guid": "954459e4-bed1-4c5b-8bbc-9ebafb5c18d1",
                "language": "sql"
            },
            "outputs": [
                {
                    "output_type": "display_data",
                    "data": {
                        "text/html": "(0 rows affected)"
                    },
                    "metadata": {}
                },
                {
                    "output_type": "display_data",
                    "data": {
                        "text/html": "Total execution time: 00:00:00.005"
                    },
                    "metadata": {}
                },
                {
                    "output_type": "execute_result",
                    "metadata": {},
                    "execution_count": 29,
                    "data": {
                        "application/vnd.dataresource+json": {
                            "schema": {
                                "fields": [
                                    {
                                        "name": "name"
                                    },
                                    {
                                        "name": "capital"
                                    },
                                    {
                                        "name": "square"
                                    },
                                    {
                                        "name": "population"
                                    },
                                    {
                                        "name": "continent"
                                    }
                                ]
                            },
                            "data": []
                        },
                        "text/html": [
                            "<table>",
                            "<tr><th>name</th><th>capital</th><th>square</th><th>population</th><th>continent</th></tr>",
                            "</table>"
                        ]
                    }
                }
            ],
            "execution_count": 29
        },
        {
            "cell_type": "code",
            "source": [
                "use TestDB1;\n",
                "\n",
                "select\n",
                "\tname,\n",
                "\tcapital,\n",
                "\tsquare,\n",
                "\tpopulation,\n",
                "\tcontinent\n",
                "from\n",
                "\tCountries\n",
                "where\n",
                "\tsquare > 1000000\n",
                "\n",
                "intersect\n",
                "\n",
                "select\n",
                "\tname,\n",
                "\tcapital,\n",
                "\tsquare,\n",
                "\tpopulation,\n",
                "\tcontinent\n",
                "from\n",
                "\tCountries\n",
                "where\n",
                "\tpopulation > 100000000"
            ],
            "metadata": {
                "azdata_cell_guid": "5e040074-71e3-4d2d-a1ff-13a4244ce2af",
                "language": "sql"
            },
            "outputs": [
                {
                    "output_type": "display_data",
                    "data": {
                        "text/html": "(1 row affected)"
                    },
                    "metadata": {}
                },
                {
                    "output_type": "display_data",
                    "data": {
                        "text/html": "Total execution time: 00:00:00.004"
                    },
                    "metadata": {}
                },
                {
                    "output_type": "execute_result",
                    "metadata": {},
                    "execution_count": 30,
                    "data": {
                        "application/vnd.dataresource+json": {
                            "schema": {
                                "fields": [
                                    {
                                        "name": "name"
                                    },
                                    {
                                        "name": "capital"
                                    },
                                    {
                                        "name": "square"
                                    },
                                    {
                                        "name": "population"
                                    },
                                    {
                                        "name": "continent"
                                    }
                                ]
                            },
                            "data": [
                                {
                                    "0": "Бразилия",
                                    "1": "Бразилиа",
                                    "2": "8511965",
                                    "3": "206081432",
                                    "4": "Южная Америка"
                                }
                            ]
                        },
                        "text/html": [
                            "<table>",
                            "<tr><th>name</th><th>capital</th><th>square</th><th>population</th><th>continent</th></tr>",
                            "<tr><td>Бразилия</td><td>Бразилиа</td><td>8511965</td><td>206081432</td><td>Южная Америка</td></tr>",
                            "</table>"
                        ]
                    }
                }
            ],
            "execution_count": 30
        },
        {
            "cell_type": "code",
            "source": [
                "use TestDB1;\n",
                "\n",
                "select\n",
                "\tname,\n",
                "\tcapital,\n",
                "\tsquare,\n",
                "\tpopulation,\n",
                "\tcontinent\n",
                "from\n",
                "\tCountries\n",
                "where\n",
                "\tsquare > 1000000\n",
                "\n",
                "except\n",
                "\n",
                "select\n",
                "\tname,\n",
                "\tcapital,\n",
                "\tsquare,\n",
                "\tpopulation,\n",
                "\tcontinent\n",
                "from\n",
                "\tCountries\n",
                "where\n",
                "\tpopulation > 1000000"
            ],
            "metadata": {
                "azdata_cell_guid": "6dbedb30-e0c1-4df8-b720-dea0135e56ce",
                "language": "sql"
            },
            "outputs": [
                {
                    "output_type": "display_data",
                    "data": {
                        "text/html": "(0 rows affected)"
                    },
                    "metadata": {}
                },
                {
                    "output_type": "display_data",
                    "data": {
                        "text/html": "Total execution time: 00:00:00.003"
                    },
                    "metadata": {}
                },
                {
                    "output_type": "execute_result",
                    "metadata": {},
                    "execution_count": 31,
                    "data": {
                        "application/vnd.dataresource+json": {
                            "schema": {
                                "fields": [
                                    {
                                        "name": "name"
                                    },
                                    {
                                        "name": "capital"
                                    },
                                    {
                                        "name": "square"
                                    },
                                    {
                                        "name": "population"
                                    },
                                    {
                                        "name": "continent"
                                    }
                                ]
                            },
                            "data": []
                        },
                        "text/html": [
                            "<table>",
                            "<tr><th>name</th><th>capital</th><th>square</th><th>population</th><th>continent</th></tr>",
                            "</table>"
                        ]
                    }
                }
            ],
            "execution_count": 31
        },
        {
            "cell_type": "code",
            "source": [
                "use TestDB1;\n",
                "\n",
                "select\n",
                "\tname,\n",
                "\tcapital,\n",
                "\tsquare,\n",
                "\tpopulation,\n",
                "\tcontinent\n",
                "from\n",
                "\tCountries A\n",
                "where square > \n",
                "\t(\n",
                "\tselect\n",
                "\t\tavg(square)\n",
                "\tfrom\n",
                "\t\tCountries B\n",
                "\twhere\n",
                "\t\tB.continent = A.continent\n",
                "\t)\n",
                "\t\n"
            ],
            "metadata": {
                "azdata_cell_guid": "2ac66831-04bd-4cac-b243-4679a328e9bc",
                "language": "sql"
            },
            "outputs": [
                {
                    "output_type": "display_data",
                    "data": {
                        "text/html": "(7 rows affected)"
                    },
                    "metadata": {}
                },
                {
                    "output_type": "display_data",
                    "data": {
                        "text/html": "Total execution time: 00:00:00.004"
                    },
                    "metadata": {}
                },
                {
                    "output_type": "execute_result",
                    "metadata": {},
                    "execution_count": 32,
                    "data": {
                        "application/vnd.dataresource+json": {
                            "schema": {
                                "fields": [
                                    {
                                        "name": "name"
                                    },
                                    {
                                        "name": "capital"
                                    },
                                    {
                                        "name": "square"
                                    },
                                    {
                                        "name": "population"
                                    },
                                    {
                                        "name": "continent"
                                    }
                                ]
                            },
                            "data": [
                                {
                                    "0": "Афганистан",
                                    "1": "Кабул",
                                    "2": "647500",
                                    "3": "29822848",
                                    "4": "Азия"
                                },
                                {
                                    "0": "Вьетнам",
                                    "1": "Ханой",
                                    "2": "329560",
                                    "3": "91713300",
                                    "4": "Азия"
                                },
                                {
                                    "0": "Алжир",
                                    "1": "Алжир",
                                    "2": "2381740",
                                    "3": "39813722",
                                    "4": "Африка"
                                },
                                {
                                    "0": "Ангола",
                                    "1": "Луанда",
                                    "2": "1246700",
                                    "3": "25831000",
                                    "4": "Африка"
                                },
                                {
                                    "0": "Белоруссия",
                                    "1": "Минск",
                                    "2": "207595",
                                    "3": "9498400",
                                    "4": "Европа"
                                },
                                {
                                    "0": "Великобритания",
                                    "1": "Лондон",
                                    "2": "244820",
                                    "3": "65341183",
                                    "4": "Европа"
                                },
                                {
                                    "0": "Бразилия",
                                    "1": "Бразилиа",
                                    "2": "8511965",
                                    "3": "206081432",
                                    "4": "Южная Америка"
                                }
                            ]
                        },
                        "text/html": [
                            "<table>",
                            "<tr><th>name</th><th>capital</th><th>square</th><th>population</th><th>continent</th></tr>",
                            "<tr><td>Афганистан</td><td>Кабул</td><td>647500</td><td>29822848</td><td>Азия</td></tr>",
                            "<tr><td>Вьетнам</td><td>Ханой</td><td>329560</td><td>91713300</td><td>Азия</td></tr>",
                            "<tr><td>Алжир</td><td>Алжир</td><td>2381740</td><td>39813722</td><td>Африка</td></tr>",
                            "<tr><td>Ангола</td><td>Луанда</td><td>1246700</td><td>25831000</td><td>Африка</td></tr>",
                            "<tr><td>Белоруссия</td><td>Минск</td><td>207595</td><td>9498400</td><td>Европа</td></tr>",
                            "<tr><td>Великобритания</td><td>Лондон</td><td>244820</td><td>65341183</td><td>Европа</td></tr>",
                            "<tr><td>Бразилия</td><td>Бразилиа</td><td>8511965</td><td>206081432</td><td>Южная Америка</td></tr>",
                            "</table>"
                        ]
                    }
                }
            ],
            "execution_count": 32
        },
        {
            "cell_type": "code",
            "source": [
                "use TestDB1;\n",
                "\n",
                "select\n",
                "\tname,\n",
                "\tcapital,\n",
                "\tsquare,\n",
                "\tpopulation,\n",
                "\tcontinent,\n",
                "\tround(cast(population as float) * 100 /\n",
                "\t(\n",
                "\tselect\n",
                "\t\tsum(population)\n",
                "\tfrom\n",
                "\t\tCountries\n",
                "\t),3) as Percent_Population\n",
                "from\n",
                "\tCountries\n",
                "order by Percent_Population desc\n"
            ],
            "metadata": {
                "azdata_cell_guid": "2f55ebcc-d6b8-4e1a-81da-0c5e5678aac8",
                "language": "sql"
            },
            "outputs": [
                {
                    "output_type": "display_data",
                    "data": {
                        "text/html": "(24 rows affected)"
                    },
                    "metadata": {}
                },
                {
                    "output_type": "display_data",
                    "data": {
                        "text/html": "Total execution time: 00:00:00.004"
                    },
                    "metadata": {}
                },
                {
                    "output_type": "execute_result",
                    "metadata": {},
                    "execution_count": 33,
                    "data": {
                        "application/vnd.dataresource+json": {
                            "schema": {
                                "fields": [
                                    {
                                        "name": "name"
                                    },
                                    {
                                        "name": "capital"
                                    },
                                    {
                                        "name": "square"
                                    },
                                    {
                                        "name": "population"
                                    },
                                    {
                                        "name": "continent"
                                    },
                                    {
                                        "name": "Percent_Population"
                                    }
                                ]
                            },
                            "data": [
                                {
                                    "0": "Бразилия",
                                    "1": "Бразилиа",
                                    "2": "8511965",
                                    "3": "206081432",
                                    "4": "Южная Америка",
                                    "5": "25.764"
                                },
                                {
                                    "0": "Бангладеш",
                                    "1": "Дакка",
                                    "2": "144000",
                                    "3": "160221000",
                                    "4": "Азия",
                                    "5": "20.031"
                                },
                                {
                                    "0": "Вьетнам",
                                    "1": "Ханой",
                                    "2": "329560",
                                    "3": "91713300",
                                    "4": "Азия",
                                    "5": "11.466"
                                },
                                {
                                    "0": "Великобритания",
                                    "1": "Лондон",
                                    "2": "244820",
                                    "3": "65341183",
                                    "4": "Европа",
                                    "5": "8.169"
                                },
                                {
                                    "0": "Аргентина",
                                    "1": "Буэнос-Айрес",
                                    "2": "2766890",
                                    "3": "43847000",
                                    "4": "Южная Америка",
                                    "5": "5.482"
                                },
                                {
                                    "0": "Алжир",
                                    "1": "Алжир",
                                    "2": "2381740",
                                    "3": "39813722",
                                    "4": "Африка",
                                    "5": "4.978"
                                },
                                {
                                    "0": "Венесуэла",
                                    "1": "Каракас",
                                    "2": "912050",
                                    "3": "31028637",
                                    "4": "Южная Америка",
                                    "5": "3.879"
                                },
                                {
                                    "0": "Афганистан",
                                    "1": "Кабул",
                                    "2": "647500",
                                    "3": "29822848",
                                    "4": "Азия",
                                    "5": "3.728"
                                },
                                {
                                    "0": "Ангола",
                                    "1": "Луанда",
                                    "2": "1246700",
                                    "3": "25831000",
                                    "4": "Африка",
                                    "5": "3.229"
                                },
                                {
                                    "0": "Буркина-Фасо",
                                    "1": "Уагадугу",
                                    "2": "274200",
                                    "3": "19034397",
                                    "4": "Африка",
                                    "5": "2.38"
                                },
                                {
                                    "0": "Бельгия",
                                    "1": "Брюссель",
                                    "2": "30528",
                                    "3": "11250585",
                                    "4": "Европа",
                                    "5": "1.407"
                                },
                                {
                                    "0": "Бенин",
                                    "1": "Порто-Ново",
                                    "2": "112620",
                                    "3": "11167000",
                                    "4": "Африка",
                                    "5": "1.396"
                                },
                                {
                                    "0": "Боливия",
                                    "1": "Сукре",
                                    "2": "1098580",
                                    "3": "10985059",
                                    "4": "Южная Америка",
                                    "5": "1.373"
                                },
                                {
                                    "0": "Венгрия",
                                    "1": "Будапешт",
                                    "2": "93030",
                                    "3": "9830485",
                                    "4": "Европа",
                                    "5": "1.229"
                                },
                                {
                                    "0": "Азербайджан",
                                    "1": "Баку",
                                    "2": "86600",
                                    "3": "9705600",
                                    "4": "Азия",
                                    "5": "1.213"
                                },
                                {
                                    "0": "Белоруссия",
                                    "1": "Минск",
                                    "2": "207595",
                                    "3": "9498400",
                                    "4": "Европа",
                                    "5": "1.187"
                                },
                                {
                                    "0": "Австрия",
                                    "1": "Вена",
                                    "2": "83858",
                                    "3": "8741753",
                                    "4": "Европа",
                                    "5": "1.093"
                                },
                                {
                                    "0": "Болгария",
                                    "1": "София",
                                    "2": "110910",
                                    "3": "7153784",
                                    "4": "Европа",
                                    "5": "0.894"
                                },
                                {
                                    "0": "Албания",
                                    "1": "Тирана",
                                    "2": "28748",
                                    "3": "2866026",
                                    "4": "Европа",
                                    "5": "0.358"
                                },
                                {
                                    "0": "Ботсвана",
                                    "1": "Габороне",
                                    "2": "600370",
                                    "3": "2209208",
                                    "4": "Африка",
                                    "5": "0.276"
                                },
                                {
                                    "0": "Бахрейн",
                                    "1": "Манама",
                                    "2": "701",
                                    "3": "1397000",
                                    "4": "Азия",
                                    "5": "0.175"
                                },
                                {
                                    "0": "Восточный Тимор",
                                    "1": "Дили",
                                    "2": "14874",
                                    "3": "1167242",
                                    "4": "Азия",
                                    "5": "0.146"
                                },
                                {
                                    "0": "Бутан",
                                    "1": "Тхимпху",
                                    "2": "47000",
                                    "3": "784000",
                                    "4": "Азия",
                                    "5": "0.098"
                                },
                                {
                                    "0": "Белиз",
                                    "1": "Бельмопан",
                                    "2": "22966",
                                    "3": "377968",
                                    "4": "Северная Америка",
                                    "5": "0.047"
                                }
                            ]
                        },
                        "text/html": [
                            "<table>",
                            "<tr><th>name</th><th>capital</th><th>square</th><th>population</th><th>continent</th><th>Percent_Population</th></tr>",
                            "<tr><td>Бразилия</td><td>Бразилиа</td><td>8511965</td><td>206081432</td><td>Южная Америка</td><td>25.764</td></tr>",
                            "<tr><td>Бангладеш</td><td>Дакка</td><td>144000</td><td>160221000</td><td>Азия</td><td>20.031</td></tr>",
                            "<tr><td>Вьетнам</td><td>Ханой</td><td>329560</td><td>91713300</td><td>Азия</td><td>11.466</td></tr>",
                            "<tr><td>Великобритания</td><td>Лондон</td><td>244820</td><td>65341183</td><td>Европа</td><td>8.169</td></tr>",
                            "<tr><td>Аргентина</td><td>Буэнос-Айрес</td><td>2766890</td><td>43847000</td><td>Южная Америка</td><td>5.482</td></tr>",
                            "<tr><td>Алжир</td><td>Алжир</td><td>2381740</td><td>39813722</td><td>Африка</td><td>4.978</td></tr>",
                            "<tr><td>Венесуэла</td><td>Каракас</td><td>912050</td><td>31028637</td><td>Южная Америка</td><td>3.879</td></tr>",
                            "<tr><td>Афганистан</td><td>Кабул</td><td>647500</td><td>29822848</td><td>Азия</td><td>3.728</td></tr>",
                            "<tr><td>Ангола</td><td>Луанда</td><td>1246700</td><td>25831000</td><td>Африка</td><td>3.229</td></tr>",
                            "<tr><td>Буркина-Фасо</td><td>Уагадугу</td><td>274200</td><td>19034397</td><td>Африка</td><td>2.38</td></tr>",
                            "<tr><td>Бельгия</td><td>Брюссель</td><td>30528</td><td>11250585</td><td>Европа</td><td>1.407</td></tr>",
                            "<tr><td>Бенин</td><td>Порто-Ново</td><td>112620</td><td>11167000</td><td>Африка</td><td>1.396</td></tr>",
                            "<tr><td>Боливия</td><td>Сукре</td><td>1098580</td><td>10985059</td><td>Южная Америка</td><td>1.373</td></tr>",
                            "<tr><td>Венгрия</td><td>Будапешт</td><td>93030</td><td>9830485</td><td>Европа</td><td>1.229</td></tr>",
                            "<tr><td>Азербайджан</td><td>Баку</td><td>86600</td><td>9705600</td><td>Азия</td><td>1.213</td></tr>",
                            "<tr><td>Белоруссия</td><td>Минск</td><td>207595</td><td>9498400</td><td>Европа</td><td>1.187</td></tr>",
                            "<tr><td>Австрия</td><td>Вена</td><td>83858</td><td>8741753</td><td>Европа</td><td>1.093</td></tr>",
                            "<tr><td>Болгария</td><td>София</td><td>110910</td><td>7153784</td><td>Европа</td><td>0.894</td></tr>",
                            "<tr><td>Албания</td><td>Тирана</td><td>28748</td><td>2866026</td><td>Европа</td><td>0.358</td></tr>",
                            "<tr><td>Ботсвана</td><td>Габороне</td><td>600370</td><td>2209208</td><td>Африка</td><td>0.276</td></tr>",
                            "<tr><td>Бахрейн</td><td>Манама</td><td>701</td><td>1397000</td><td>Азия</td><td>0.175</td></tr>",
                            "<tr><td>Восточный Тимор</td><td>Дили</td><td>14874</td><td>1167242</td><td>Азия</td><td>0.146</td></tr>",
                            "<tr><td>Бутан</td><td>Тхимпху</td><td>47000</td><td>784000</td><td>Азия</td><td>0.098</td></tr>",
                            "<tr><td>Белиз</td><td>Бельмопан</td><td>22966</td><td>377968</td><td>Северная Америка</td><td>0.047</td></tr>",
                            "</table>"
                        ]
                    }
                }
            ],
            "execution_count": 33
        },
        {
            "cell_type": "code",
            "source": [
                "use TestDB1;\n",
                "\n",
                "select\n",
                "\tname,\n",
                "\tcapital,\n",
                "\tsquare,\n",
                "\tpopulation,\n",
                "\tcontinent\n",
                "from\n",
                "\tCountries\n",
                "where\n",
                "\tcontinent = 'Àôðèêà'\n",
                "\tand\n",
                "\texists\n",
                "\t(\n",
                "\tselect\n",
                "\t\t*\n",
                "\tfrom \n",
                "\t\tCountries\n",
                "\twhere\n",
                "\t\tcontinent = 'Àôðèêà'\n",
                "\t\tand\n",
                "\t\tpopulation > 100000000\n",
                "\t)"
            ],
            "metadata": {
                "azdata_cell_guid": "3417bca2-575b-4efc-969d-c18ab99b5f63",
                "language": "sql"
            },
            "outputs": [
                {
                    "output_type": "display_data",
                    "data": {
                        "text/html": "(0 rows affected)"
                    },
                    "metadata": {}
                },
                {
                    "output_type": "display_data",
                    "data": {
                        "text/html": "Total execution time: 00:00:00.006"
                    },
                    "metadata": {}
                },
                {
                    "output_type": "execute_result",
                    "metadata": {},
                    "execution_count": 34,
                    "data": {
                        "application/vnd.dataresource+json": {
                            "schema": {
                                "fields": [
                                    {
                                        "name": "name"
                                    },
                                    {
                                        "name": "capital"
                                    },
                                    {
                                        "name": "square"
                                    },
                                    {
                                        "name": "population"
                                    },
                                    {
                                        "name": "continent"
                                    }
                                ]
                            },
                            "data": []
                        },
                        "text/html": [
                            "<table>",
                            "<tr><th>name</th><th>capital</th><th>square</th><th>population</th><th>continent</th></tr>",
                            "</table>"
                        ]
                    }
                }
            ],
            "execution_count": 34
        },
        {
            "cell_type": "code",
            "source": [
                "use TestDB1;\n",
                "\n",
                "select\n",
                "\tname,\n",
                "\tcapital,\n",
                "\tsquare,\n",
                "\tpopulation,\n",
                "\tcontinent\n",
                "from\n",
                "\tCountries\n",
                "where\n",
                "\tcontinent = 'Àôðèêà'\n",
                "\tand\n",
                "\tpopulation > any\n",
                "\t(\n",
                "\tselect\n",
                "\t\tpopulation\n",
                "\tfrom \n",
                "\t\tCountries\n",
                "\twhere\n",
                "\t\tcontinent = 'Þæíàÿ Àìåðèêà'\n",
                "\t)"
            ],
            "metadata": {
                "azdata_cell_guid": "af419aa1-ee53-40c5-afd7-85d09cb38fce",
                "language": "sql"
            },
            "outputs": [
                {
                    "output_type": "display_data",
                    "data": {
                        "text/html": "(0 rows affected)"
                    },
                    "metadata": {}
                },
                {
                    "output_type": "display_data",
                    "data": {
                        "text/html": "Total execution time: 00:00:00.006"
                    },
                    "metadata": {}
                },
                {
                    "output_type": "execute_result",
                    "metadata": {},
                    "execution_count": 35,
                    "data": {
                        "application/vnd.dataresource+json": {
                            "schema": {
                                "fields": [
                                    {
                                        "name": "name"
                                    },
                                    {
                                        "name": "capital"
                                    },
                                    {
                                        "name": "square"
                                    },
                                    {
                                        "name": "population"
                                    },
                                    {
                                        "name": "continent"
                                    }
                                ]
                            },
                            "data": []
                        },
                        "text/html": [
                            "<table>",
                            "<tr><th>name</th><th>capital</th><th>square</th><th>population</th><th>continent</th></tr>",
                            "</table>"
                        ]
                    }
                }
            ],
            "execution_count": 35
        },
        {
            "cell_type": "code",
            "source": [
                "use TestDB1;\n",
                "\n",
                "select\n",
                "\tname,\n",
                "\tcapital,\n",
                "\tsquare,\n",
                "\tpopulation,\n",
                "\tcontinent\n",
                "from\n",
                "\tCountries\n",
                "where\n",
                "\tcontinent = 'Àçèÿ'\n",
                "\tand\n",
                "\tpopulation > all\n",
                "\t(\n",
                "\tselect\n",
                "\t\tpopulation\n",
                "\tfrom \n",
                "\t\tCountries\n",
                "\twhere\n",
                "\t\tcontinent = 'Åâðîïà'\n",
                "\t)"
            ],
            "metadata": {
                "azdata_cell_guid": "c7773d00-1233-4645-bf50-0b424cc4c676",
                "language": "sql"
            },
            "outputs": [
                {
                    "output_type": "display_data",
                    "data": {
                        "text/html": "(0 rows affected)"
                    },
                    "metadata": {}
                },
                {
                    "output_type": "display_data",
                    "data": {
                        "text/html": "Total execution time: 00:00:00.007"
                    },
                    "metadata": {}
                },
                {
                    "output_type": "execute_result",
                    "metadata": {},
                    "execution_count": 36,
                    "data": {
                        "application/vnd.dataresource+json": {
                            "schema": {
                                "fields": [
                                    {
                                        "name": "name"
                                    },
                                    {
                                        "name": "capital"
                                    },
                                    {
                                        "name": "square"
                                    },
                                    {
                                        "name": "population"
                                    },
                                    {
                                        "name": "continent"
                                    }
                                ]
                            },
                            "data": []
                        },
                        "text/html": [
                            "<table>",
                            "<tr><th>name</th><th>capital</th><th>square</th><th>population</th><th>continent</th></tr>",
                            "</table>"
                        ]
                    }
                }
            ],
            "execution_count": 36
        },
        {
            "cell_type": "code",
            "source": [
                "use TestDB1;\n",
                "\n",
                "select\n",
                "\tname,\n",
                "\tcapital,\n",
                "\tsquare,\n",
                "\tpopulation,\n",
                "\tcontinent\n",
                "from\n",
                "\tCountries\n",
                "where\n",
                "\tcontinent = 'Åâðîïà' and cast(population as float) / square > 300\n",
                "union\n",
                "select\n",
                "\tname,\n",
                "\tcapital,\n",
                "\tsquare,\n",
                "\tpopulation,\n",
                "\tcontinent\n",
                "from\n",
                "\tCountries\n",
                "where\n",
                "\tcontinent = 'Àçèÿ' and cast(population as float) / square > 200\n",
                "union\n",
                "select\n",
                "\tname,\n",
                "\tcapital,\n",
                "\tsquare,\n",
                "\tpopulation,\n",
                "\tcontinent\n",
                "from\n",
                "\tCountries\n",
                "where\n",
                "\tcontinent = 'Àôðèêà' and cast(population as float) / square > 150\n",
                " "
            ],
            "metadata": {
                "azdata_cell_guid": "224a07c7-3215-4332-b4ad-83aede905bbd",
                "language": "sql"
            },
            "outputs": [
                {
                    "output_type": "display_data",
                    "data": {
                        "text/html": "(0 rows affected)"
                    },
                    "metadata": {}
                },
                {
                    "output_type": "display_data",
                    "data": {
                        "text/html": "Total execution time: 00:00:00.006"
                    },
                    "metadata": {}
                },
                {
                    "output_type": "execute_result",
                    "metadata": {},
                    "execution_count": 37,
                    "data": {
                        "application/vnd.dataresource+json": {
                            "schema": {
                                "fields": [
                                    {
                                        "name": "name"
                                    },
                                    {
                                        "name": "capital"
                                    },
                                    {
                                        "name": "square"
                                    },
                                    {
                                        "name": "population"
                                    },
                                    {
                                        "name": "continent"
                                    }
                                ]
                            },
                            "data": []
                        },
                        "text/html": [
                            "<table>",
                            "<tr><th>name</th><th>capital</th><th>square</th><th>population</th><th>continent</th></tr>",
                            "</table>"
                        ]
                    }
                }
            ],
            "execution_count": 37
        },
        {
            "cell_type": "code",
            "source": [
                "use TestDB1;\n",
                "--------2.1.6.1--------\n",
                "select\n",
                "\tname,\n",
                "\tcapital,\n",
                "\tsquare,\n",
                "\tpopulation,\n",
                "\tcontinent\n",
                "from\n",
                "\tCountries\n",
                "where\n",
                "\tsquare < 500\n",
                "\n",
                "union\n",
                "\n",
                "select\n",
                "\tname,\n",
                "\tcapital,\n",
                "\tsquare,\n",
                "\tpopulation,\n",
                "\tcontinent\n",
                "from\n",
                "\tCountries\n",
                "where\n",
                "\tsquare > 5000000\n",
                "--------2.1.6.2--------\n",
                "select\n",
                "\tname,\n",
                "\tcapital,\n",
                "\tsquare,\n",
                "\tpopulation,\n",
                "\tcontinent\n",
                "from\n",
                "\tCountries\n",
                "where\n",
                "\tsquare > 1000000\n",
                "\n",
                "except\n",
                "\n",
                "select\n",
                "\tname,\n",
                "\tcapital,\n",
                "\tsquare,\n",
                "\tpopulation,\n",
                "\tcontinent\n",
                "from\n",
                "\tCountries\n",
                "where\n",
                "\tpopulation < 100000000\n",
                "--------2.1.6.3--------\n",
                "select\n",
                "\tname,\n",
                "\tcapital,\n",
                "\tsquare,\n",
                "\tpopulation,\n",
                "\tcontinent\n",
                "from\n",
                "\tCountries\n",
                "where\n",
                "\tsquare < 500\n",
                "\n",
                "intersect\n",
                "\n",
                "select\n",
                "\tname,\n",
                "\tcapital,\n",
                "\tsquare,\n",
                "\tpopulation,\n",
                "\tcontinent\n",
                "from\n",
                "\tCountries\n",
                "where\n",
                "\tpopulation < 100000"
            ],
            "metadata": {
                "azdata_cell_guid": "8f2929c7-bdd6-41ac-8a66-5935ed559123",
                "language": "sql"
            },
            "outputs": [
                {
                    "output_type": "display_data",
                    "data": {
                        "text/html": "(1 row affected)"
                    },
                    "metadata": {}
                },
                {
                    "output_type": "display_data",
                    "data": {
                        "text/html": "(1 row affected)"
                    },
                    "metadata": {}
                },
                {
                    "output_type": "display_data",
                    "data": {
                        "text/html": "(0 rows affected)"
                    },
                    "metadata": {}
                },
                {
                    "output_type": "display_data",
                    "data": {
                        "text/html": "Total execution time: 00:00:00.016"
                    },
                    "metadata": {}
                },
                {
                    "output_type": "execute_result",
                    "metadata": {},
                    "execution_count": 38,
                    "data": {
                        "application/vnd.dataresource+json": {
                            "schema": {
                                "fields": [
                                    {
                                        "name": "name"
                                    },
                                    {
                                        "name": "capital"
                                    },
                                    {
                                        "name": "square"
                                    },
                                    {
                                        "name": "population"
                                    },
                                    {
                                        "name": "continent"
                                    }
                                ]
                            },
                            "data": [
                                {
                                    "0": "Бразилия",
                                    "1": "Бразилиа",
                                    "2": "8511965",
                                    "3": "206081432",
                                    "4": "Южная Америка"
                                }
                            ]
                        },
                        "text/html": [
                            "<table>",
                            "<tr><th>name</th><th>capital</th><th>square</th><th>population</th><th>continent</th></tr>",
                            "<tr><td>Бразилия</td><td>Бразилиа</td><td>8511965</td><td>206081432</td><td>Южная Америка</td></tr>",
                            "</table>"
                        ]
                    }
                },
                {
                    "output_type": "execute_result",
                    "metadata": {},
                    "execution_count": 38,
                    "data": {
                        "application/vnd.dataresource+json": {
                            "schema": {
                                "fields": [
                                    {
                                        "name": "name"
                                    },
                                    {
                                        "name": "capital"
                                    },
                                    {
                                        "name": "square"
                                    },
                                    {
                                        "name": "population"
                                    },
                                    {
                                        "name": "continent"
                                    }
                                ]
                            },
                            "data": [
                                {
                                    "0": "Бразилия",
                                    "1": "Бразилиа",
                                    "2": "8511965",
                                    "3": "206081432",
                                    "4": "Южная Америка"
                                }
                            ]
                        },
                        "text/html": [
                            "<table>",
                            "<tr><th>name</th><th>capital</th><th>square</th><th>population</th><th>continent</th></tr>",
                            "<tr><td>Бразилия</td><td>Бразилиа</td><td>8511965</td><td>206081432</td><td>Южная Америка</td></tr>",
                            "</table>"
                        ]
                    }
                },
                {
                    "output_type": "execute_result",
                    "metadata": {},
                    "execution_count": 38,
                    "data": {
                        "application/vnd.dataresource+json": {
                            "schema": {
                                "fields": [
                                    {
                                        "name": "name"
                                    },
                                    {
                                        "name": "capital"
                                    },
                                    {
                                        "name": "square"
                                    },
                                    {
                                        "name": "population"
                                    },
                                    {
                                        "name": "continent"
                                    }
                                ]
                            },
                            "data": []
                        },
                        "text/html": [
                            "<table>",
                            "<tr><th>name</th><th>capital</th><th>square</th><th>population</th><th>continent</th></tr>",
                            "</table>"
                        ]
                    }
                }
            ],
            "execution_count": 38
        },
        {
            "cell_type": "code",
            "source": [
                "use TestDB1;\n",
                "\n",
                "select\n",
                "\tname,\n",
                "\tcapital,\n",
                "\tsquare,\n",
                "\tpopulation,\n",
                "\tcontinent\n",
                "from\n",
                "\t(\n",
                "\tselect\n",
                "\t\tname,\n",
                "\t\tcapital,\n",
                "\t\tsquare,\n",
                "\t\tpopulation,\n",
                "\t\tcontinent\n",
                "\tfrom\n",
                "\t\tCountries\n",
                "\twhere\n",
                "\t\tcontinent = 'Åâðîïà'\n",
                "\t) as Europe_table\n",
                "where\n",
                "\tpopulation > 5000000"
            ],
            "metadata": {
                "azdata_cell_guid": "b7476e28-d244-4f49-8144-c40194c31aab",
                "language": "sql"
            },
            "outputs": [
                {
                    "output_type": "display_data",
                    "data": {
                        "text/html": "(0 rows affected)"
                    },
                    "metadata": {}
                },
                {
                    "output_type": "display_data",
                    "data": {
                        "text/html": "Total execution time: 00:00:00.005"
                    },
                    "metadata": {}
                },
                {
                    "output_type": "execute_result",
                    "metadata": {},
                    "execution_count": 39,
                    "data": {
                        "application/vnd.dataresource+json": {
                            "schema": {
                                "fields": [
                                    {
                                        "name": "name"
                                    },
                                    {
                                        "name": "capital"
                                    },
                                    {
                                        "name": "square"
                                    },
                                    {
                                        "name": "population"
                                    },
                                    {
                                        "name": "continent"
                                    }
                                ]
                            },
                            "data": []
                        },
                        "text/html": [
                            "<table>",
                            "<tr><th>name</th><th>capital</th><th>square</th><th>population</th><th>continent</th></tr>",
                            "</table>"
                        ]
                    }
                }
            ],
            "execution_count": 39
        },
        {
            "cell_type": "code",
            "source": [
                "use TestDB1;\n",
                "\n",
                "select\n",
                "\tname,\n",
                "\tcapital,\n",
                "\tsquare,\n",
                "\tpopulation,\n",
                "\tcontinent\n",
                "from\n",
                "\t(\n",
                "\tselect\n",
                "\t\tname,\n",
                "\t\tcapital,\n",
                "\t\tsquare,\n",
                "\t\tpopulation,\n",
                "\t\tcontinent\n",
                "\tfrom\n",
                "\t\tCountries\n",
                "\twhere\n",
                "\t\tcontinent = 'Àôðèêà'\n",
                "\t) as Afric_table\n",
                "where\n",
                "\tpopulation > 50000000"
            ],
            "metadata": {
                "azdata_cell_guid": "9a00a295-dcfa-4039-a293-61a782279361",
                "language": "sql"
            },
            "outputs": [
                {
                    "output_type": "display_data",
                    "data": {
                        "text/html": "(0 rows affected)"
                    },
                    "metadata": {}
                },
                {
                    "output_type": "display_data",
                    "data": {
                        "text/html": "Total execution time: 00:00:00.005"
                    },
                    "metadata": {}
                },
                {
                    "output_type": "execute_result",
                    "metadata": {},
                    "execution_count": 40,
                    "data": {
                        "application/vnd.dataresource+json": {
                            "schema": {
                                "fields": [
                                    {
                                        "name": "name"
                                    },
                                    {
                                        "name": "capital"
                                    },
                                    {
                                        "name": "square"
                                    },
                                    {
                                        "name": "population"
                                    },
                                    {
                                        "name": "continent"
                                    }
                                ]
                            },
                            "data": []
                        },
                        "text/html": [
                            "<table>",
                            "<tr><th>name</th><th>capital</th><th>square</th><th>population</th><th>continent</th></tr>",
                            "</table>"
                        ]
                    }
                }
            ],
            "execution_count": 40
        },
        {
            "cell_type": "code",
            "source": [
                "use TestDB1;\n",
                "\n",
                "select\n",
                "\tname,\n",
                "\tcapital,\n",
                "\tsquare,\n",
                "\tpopulation,\n",
                "\tcontinent\n",
                "from\n",
                "\tCountries\n",
                "where\n",
                "\tcontinent = \n",
                "\t(\n",
                "\tselect\n",
                "\t\tcontinent\n",
                "\tfrom \n",
                "\t\tCountries\n",
                "\twhere\n",
                "\t\tname = 'Àíãîëà'\n",
                "\t)"
            ],
            "metadata": {
                "azdata_cell_guid": "4566aeac-b536-44e7-83f9-9c191eebe3d2",
                "language": "sql"
            },
            "outputs": [
                {
                    "output_type": "display_data",
                    "data": {
                        "text/html": "(0 rows affected)"
                    },
                    "metadata": {}
                },
                {
                    "output_type": "display_data",
                    "data": {
                        "text/html": "Total execution time: 00:00:00.006"
                    },
                    "metadata": {}
                },
                {
                    "output_type": "execute_result",
                    "metadata": {},
                    "execution_count": 41,
                    "data": {
                        "application/vnd.dataresource+json": {
                            "schema": {
                                "fields": [
                                    {
                                        "name": "name"
                                    },
                                    {
                                        "name": "capital"
                                    },
                                    {
                                        "name": "square"
                                    },
                                    {
                                        "name": "population"
                                    },
                                    {
                                        "name": "continent"
                                    }
                                ]
                            },
                            "data": []
                        },
                        "text/html": [
                            "<table>",
                            "<tr><th>name</th><th>capital</th><th>square</th><th>population</th><th>continent</th></tr>",
                            "</table>"
                        ]
                    }
                }
            ],
            "execution_count": 41
        },
        {
            "cell_type": "code",
            "source": [
                "use TestDB1;\n",
                "\n",
                "select\n",
                "\tname,\n",
                "\tcapital,\n",
                "\tsquare,\n",
                "\tpopulation,\n",
                "\tcontinent\n",
                "from\n",
                "\tCountries\n",
                "where\n",
                "\tsquare > 1000000\n",
                "\n",
                "union all\n",
                "\n",
                "select\n",
                "\tname,\n",
                "\tcapital,\n",
                "\tsquare,\n",
                "\tpopulation,\n",
                "\tcontinent\n",
                "from\n",
                "\tCountries\n",
                "where\n",
                "\tpopulation > 100000000"
            ],
            "metadata": {
                "azdata_cell_guid": "471a1973-dfb0-456c-af13-49b269b6788f",
                "language": "sql"
            },
            "outputs": [
                {
                    "output_type": "display_data",
                    "data": {
                        "text/html": "(7 rows affected)"
                    },
                    "metadata": {}
                },
                {
                    "output_type": "display_data",
                    "data": {
                        "text/html": "Total execution time: 00:00:00.009"
                    },
                    "metadata": {}
                },
                {
                    "output_type": "execute_result",
                    "metadata": {},
                    "execution_count": 42,
                    "data": {
                        "application/vnd.dataresource+json": {
                            "schema": {
                                "fields": [
                                    {
                                        "name": "name"
                                    },
                                    {
                                        "name": "capital"
                                    },
                                    {
                                        "name": "square"
                                    },
                                    {
                                        "name": "population"
                                    },
                                    {
                                        "name": "continent"
                                    }
                                ]
                            },
                            "data": [
                                {
                                    "0": "Алжир",
                                    "1": "Алжир",
                                    "2": "2381740",
                                    "3": "39813722",
                                    "4": "Африка"
                                },
                                {
                                    "0": "Ангола",
                                    "1": "Луанда",
                                    "2": "1246700",
                                    "3": "25831000",
                                    "4": "Африка"
                                },
                                {
                                    "0": "Аргентина",
                                    "1": "Буэнос-Айрес",
                                    "2": "2766890",
                                    "3": "43847000",
                                    "4": "Южная Америка"
                                },
                                {
                                    "0": "Боливия",
                                    "1": "Сукре",
                                    "2": "1098580",
                                    "3": "10985059",
                                    "4": "Южная Америка"
                                },
                                {
                                    "0": "Бразилия",
                                    "1": "Бразилиа",
                                    "2": "8511965",
                                    "3": "206081432",
                                    "4": "Южная Америка"
                                },
                                {
                                    "0": "Бангладеш",
                                    "1": "Дакка",
                                    "2": "144000",
                                    "3": "160221000",
                                    "4": "Азия"
                                },
                                {
                                    "0": "Бразилия",
                                    "1": "Бразилиа",
                                    "2": "8511965",
                                    "3": "206081432",
                                    "4": "Южная Америка"
                                }
                            ]
                        },
                        "text/html": [
                            "<table>",
                            "<tr><th>name</th><th>capital</th><th>square</th><th>population</th><th>continent</th></tr>",
                            "<tr><td>Алжир</td><td>Алжир</td><td>2381740</td><td>39813722</td><td>Африка</td></tr>",
                            "<tr><td>Ангола</td><td>Луанда</td><td>1246700</td><td>25831000</td><td>Африка</td></tr>",
                            "<tr><td>Аргентина</td><td>Буэнос-Айрес</td><td>2766890</td><td>43847000</td><td>Южная Америка</td></tr>",
                            "<tr><td>Боливия</td><td>Сукре</td><td>1098580</td><td>10985059</td><td>Южная Америка</td></tr>",
                            "<tr><td>Бразилия</td><td>Бразилиа</td><td>8511965</td><td>206081432</td><td>Южная Америка</td></tr>",
                            "<tr><td>Бангладеш</td><td>Дакка</td><td>144000</td><td>160221000</td><td>Азия</td></tr>",
                            "<tr><td>Бразилия</td><td>Бразилиа</td><td>8511965</td><td>206081432</td><td>Южная Америка</td></tr>",
                            "</table>"
                        ]
                    }
                }
            ],
            "execution_count": 42
        },
        {
            "cell_type": "code",
            "source": [
                "use TestDB1;\n",
                "\n",
                "select\n",
                "\tname,\n",
                "\tcapital,\n",
                "\tsquare,\n",
                "\tpopulation,\n",
                "\tcontinent\n",
                "from\n",
                "\tCountries\n",
                "where\n",
                "\tcontinent in\n",
                "\t(\n",
                "\tselect\n",
                "\t\tcontinent\n",
                "\tfrom\n",
                "\t\tCountries\n",
                "\tgroup by\n",
                "\t\tcontinent\n",
                "\thaving\n",
                "\t\tavg(cast(population as float) / square ) > \n",
                "\t\t(\n",
                "\t\tselect\n",
                "\t\t\tavg(cast(population as float) / square )\n",
                "\t\tfrom\n",
                "\t\t\tCountries\n",
                "\t\t)\n",
                "\t)"
            ],
            "metadata": {
                "azdata_cell_guid": "4e2e1e9e-7850-4d05-a323-d0392f66f0a5",
                "language": "sql"
            },
            "outputs": [
                {
                    "output_type": "display_data",
                    "data": {
                        "text/html": "(7 rows affected)"
                    },
                    "metadata": {}
                },
                {
                    "output_type": "display_data",
                    "data": {
                        "text/html": "Total execution time: 00:00:00.013"
                    },
                    "metadata": {}
                },
                {
                    "output_type": "execute_result",
                    "metadata": {},
                    "execution_count": 43,
                    "data": {
                        "application/vnd.dataresource+json": {
                            "schema": {
                                "fields": [
                                    {
                                        "name": "name"
                                    },
                                    {
                                        "name": "capital"
                                    },
                                    {
                                        "name": "square"
                                    },
                                    {
                                        "name": "population"
                                    },
                                    {
                                        "name": "continent"
                                    }
                                ]
                            },
                            "data": [
                                {
                                    "0": "Азербайджан",
                                    "1": "Баку",
                                    "2": "86600",
                                    "3": "9705600",
                                    "4": "Азия"
                                },
                                {
                                    "0": "Афганистан",
                                    "1": "Кабул",
                                    "2": "647500",
                                    "3": "29822848",
                                    "4": "Азия"
                                },
                                {
                                    "0": "Бангладеш",
                                    "1": "Дакка",
                                    "2": "144000",
                                    "3": "160221000",
                                    "4": "Азия"
                                },
                                {
                                    "0": "Бахрейн",
                                    "1": "Манама",
                                    "2": "701",
                                    "3": "1397000",
                                    "4": "Азия"
                                },
                                {
                                    "0": "Бутан",
                                    "1": "Тхимпху",
                                    "2": "47000",
                                    "3": "784000",
                                    "4": "Азия"
                                },
                                {
                                    "0": "Восточный Тимор",
                                    "1": "Дили",
                                    "2": "14874",
                                    "3": "1167242",
                                    "4": "Азия"
                                },
                                {
                                    "0": "Вьетнам",
                                    "1": "Ханой",
                                    "2": "329560",
                                    "3": "91713300",
                                    "4": "Азия"
                                }
                            ]
                        },
                        "text/html": [
                            "<table>",
                            "<tr><th>name</th><th>capital</th><th>square</th><th>population</th><th>continent</th></tr>",
                            "<tr><td>Азербайджан</td><td>Баку</td><td>86600</td><td>9705600</td><td>Азия</td></tr>",
                            "<tr><td>Афганистан</td><td>Кабул</td><td>647500</td><td>29822848</td><td>Азия</td></tr>",
                            "<tr><td>Бангладеш</td><td>Дакка</td><td>144000</td><td>160221000</td><td>Азия</td></tr>",
                            "<tr><td>Бахрейн</td><td>Манама</td><td>701</td><td>1397000</td><td>Азия</td></tr>",
                            "<tr><td>Бутан</td><td>Тхимпху</td><td>47000</td><td>784000</td><td>Азия</td></tr>",
                            "<tr><td>Восточный Тимор</td><td>Дили</td><td>14874</td><td>1167242</td><td>Азия</td></tr>",
                            "<tr><td>Вьетнам</td><td>Ханой</td><td>329560</td><td>91713300</td><td>Азия</td></tr>",
                            "</table>"
                        ]
                    }
                }
            ],
            "execution_count": 43
        },
        {
            "cell_type": "code",
            "source": [
                "use TestDB1;\n",
                "\n",
                "select\n",
                "\tname,\n",
                "\tcapital,\n",
                "\tsquare,\n",
                "\tpopulation,\n",
                "\tcontinent,\n",
                "\tround(cast(square as float) * 100 /\n",
                "\t(\n",
                "\tselect\n",
                "\t\tsum(square)\n",
                "\tfrom\n",
                "\t\tCountries\n",
                "\t),3) as Percent_Square\n",
                "from\n",
                "\tCountries\n",
                "order by Percent_Square desc\n"
            ],
            "metadata": {
                "azdata_cell_guid": "510747e8-e27a-4b48-af36-fb25a17f8335",
                "language": "sql"
            },
            "outputs": [
                {
                    "output_type": "display_data",
                    "data": {
                        "text/html": "(24 rows affected)"
                    },
                    "metadata": {}
                },
                {
                    "output_type": "display_data",
                    "data": {
                        "text/html": "Total execution time: 00:00:00.008"
                    },
                    "metadata": {}
                },
                {
                    "output_type": "execute_result",
                    "metadata": {},
                    "execution_count": 44,
                    "data": {
                        "application/vnd.dataresource+json": {
                            "schema": {
                                "fields": [
                                    {
                                        "name": "name"
                                    },
                                    {
                                        "name": "capital"
                                    },
                                    {
                                        "name": "square"
                                    },
                                    {
                                        "name": "population"
                                    },
                                    {
                                        "name": "continent"
                                    },
                                    {
                                        "name": "Percent_Square"
                                    }
                                ]
                            },
                            "data": [
                                {
                                    "0": "Бразилия",
                                    "1": "Бразилиа",
                                    "2": "8511965",
                                    "3": "206081432",
                                    "4": "Южная Америка",
                                    "5": "42.564"
                                },
                                {
                                    "0": "Аргентина",
                                    "1": "Буэнос-Айрес",
                                    "2": "2766890",
                                    "3": "43847000",
                                    "4": "Южная Америка",
                                    "5": "13.836"
                                },
                                {
                                    "0": "Алжир",
                                    "1": "Алжир",
                                    "2": "2381740",
                                    "3": "39813722",
                                    "4": "Африка",
                                    "5": "11.91"
                                },
                                {
                                    "0": "Ангола",
                                    "1": "Луанда",
                                    "2": "1246700",
                                    "3": "25831000",
                                    "4": "Африка",
                                    "5": "6.234"
                                },
                                {
                                    "0": "Боливия",
                                    "1": "Сукре",
                                    "2": "1098580",
                                    "3": "10985059",
                                    "4": "Южная Америка",
                                    "5": "5.494"
                                },
                                {
                                    "0": "Венесуэла",
                                    "1": "Каракас",
                                    "2": "912050",
                                    "3": "31028637",
                                    "4": "Южная Америка",
                                    "5": "4.561"
                                },
                                {
                                    "0": "Афганистан",
                                    "1": "Кабул",
                                    "2": "647500",
                                    "3": "29822848",
                                    "4": "Азия",
                                    "5": "3.238"
                                },
                                {
                                    "0": "Ботсвана",
                                    "1": "Габороне",
                                    "2": "600370",
                                    "3": "2209208",
                                    "4": "Африка",
                                    "5": "3.002"
                                },
                                {
                                    "0": "Вьетнам",
                                    "1": "Ханой",
                                    "2": "329560",
                                    "3": "91713300",
                                    "4": "Азия",
                                    "5": "1.648"
                                },
                                {
                                    "0": "Буркина-Фасо",
                                    "1": "Уагадугу",
                                    "2": "274200",
                                    "3": "19034397",
                                    "4": "Африка",
                                    "5": "1.371"
                                },
                                {
                                    "0": "Великобритания",
                                    "1": "Лондон",
                                    "2": "244820",
                                    "3": "65341183",
                                    "4": "Европа",
                                    "5": "1.224"
                                },
                                {
                                    "0": "Белоруссия",
                                    "1": "Минск",
                                    "2": "207595",
                                    "3": "9498400",
                                    "4": "Европа",
                                    "5": "1.038"
                                },
                                {
                                    "0": "Бангладеш",
                                    "1": "Дакка",
                                    "2": "144000",
                                    "3": "160221000",
                                    "4": "Азия",
                                    "5": "0.72"
                                },
                                {
                                    "0": "Бенин",
                                    "1": "Порто-Ново",
                                    "2": "112620",
                                    "3": "11167000",
                                    "4": "Африка",
                                    "5": "0.563"
                                },
                                {
                                    "0": "Болгария",
                                    "1": "София",
                                    "2": "110910",
                                    "3": "7153784",
                                    "4": "Европа",
                                    "5": "0.555"
                                },
                                {
                                    "0": "Венгрия",
                                    "1": "Будапешт",
                                    "2": "93030",
                                    "3": "9830485",
                                    "4": "Европа",
                                    "5": "0.465"
                                },
                                {
                                    "0": "Азербайджан",
                                    "1": "Баку",
                                    "2": "86600",
                                    "3": "9705600",
                                    "4": "Азия",
                                    "5": "0.433"
                                },
                                {
                                    "0": "Австрия",
                                    "1": "Вена",
                                    "2": "83858",
                                    "3": "8741753",
                                    "4": "Европа",
                                    "5": "0.419"
                                },
                                {
                                    "0": "Бутан",
                                    "1": "Тхимпху",
                                    "2": "47000",
                                    "3": "784000",
                                    "4": "Азия",
                                    "5": "0.235"
                                },
                                {
                                    "0": "Бельгия",
                                    "1": "Брюссель",
                                    "2": "30528",
                                    "3": "11250585",
                                    "4": "Европа",
                                    "5": "0.153"
                                },
                                {
                                    "0": "Албания",
                                    "1": "Тирана",
                                    "2": "28748",
                                    "3": "2866026",
                                    "4": "Европа",
                                    "5": "0.144"
                                },
                                {
                                    "0": "Белиз",
                                    "1": "Бельмопан",
                                    "2": "22966",
                                    "3": "377968",
                                    "4": "Северная Америка",
                                    "5": "0.115"
                                },
                                {
                                    "0": "Восточный Тимор",
                                    "1": "Дили",
                                    "2": "14874",
                                    "3": "1167242",
                                    "4": "Азия",
                                    "5": "0.074"
                                },
                                {
                                    "0": "Бахрейн",
                                    "1": "Манама",
                                    "2": "701",
                                    "3": "1397000",
                                    "4": "Азия",
                                    "5": "0.004"
                                }
                            ]
                        },
                        "text/html": [
                            "<table>",
                            "<tr><th>name</th><th>capital</th><th>square</th><th>population</th><th>continent</th><th>Percent_Square</th></tr>",
                            "<tr><td>Бразилия</td><td>Бразилиа</td><td>8511965</td><td>206081432</td><td>Южная Америка</td><td>42.564</td></tr>",
                            "<tr><td>Аргентина</td><td>Буэнос-Айрес</td><td>2766890</td><td>43847000</td><td>Южная Америка</td><td>13.836</td></tr>",
                            "<tr><td>Алжир</td><td>Алжир</td><td>2381740</td><td>39813722</td><td>Африка</td><td>11.91</td></tr>",
                            "<tr><td>Ангола</td><td>Луанда</td><td>1246700</td><td>25831000</td><td>Африка</td><td>6.234</td></tr>",
                            "<tr><td>Боливия</td><td>Сукре</td><td>1098580</td><td>10985059</td><td>Южная Америка</td><td>5.494</td></tr>",
                            "<tr><td>Венесуэла</td><td>Каракас</td><td>912050</td><td>31028637</td><td>Южная Америка</td><td>4.561</td></tr>",
                            "<tr><td>Афганистан</td><td>Кабул</td><td>647500</td><td>29822848</td><td>Азия</td><td>3.238</td></tr>",
                            "<tr><td>Ботсвана</td><td>Габороне</td><td>600370</td><td>2209208</td><td>Африка</td><td>3.002</td></tr>",
                            "<tr><td>Вьетнам</td><td>Ханой</td><td>329560</td><td>91713300</td><td>Азия</td><td>1.648</td></tr>",
                            "<tr><td>Буркина-Фасо</td><td>Уагадугу</td><td>274200</td><td>19034397</td><td>Африка</td><td>1.371</td></tr>",
                            "<tr><td>Великобритания</td><td>Лондон</td><td>244820</td><td>65341183</td><td>Европа</td><td>1.224</td></tr>",
                            "<tr><td>Белоруссия</td><td>Минск</td><td>207595</td><td>9498400</td><td>Европа</td><td>1.038</td></tr>",
                            "<tr><td>Бангладеш</td><td>Дакка</td><td>144000</td><td>160221000</td><td>Азия</td><td>0.72</td></tr>",
                            "<tr><td>Бенин</td><td>Порто-Ново</td><td>112620</td><td>11167000</td><td>Африка</td><td>0.563</td></tr>",
                            "<tr><td>Болгария</td><td>София</td><td>110910</td><td>7153784</td><td>Европа</td><td>0.555</td></tr>",
                            "<tr><td>Венгрия</td><td>Будапешт</td><td>93030</td><td>9830485</td><td>Европа</td><td>0.465</td></tr>",
                            "<tr><td>Азербайджан</td><td>Баку</td><td>86600</td><td>9705600</td><td>Азия</td><td>0.433</td></tr>",
                            "<tr><td>Австрия</td><td>Вена</td><td>83858</td><td>8741753</td><td>Европа</td><td>0.419</td></tr>",
                            "<tr><td>Бутан</td><td>Тхимпху</td><td>47000</td><td>784000</td><td>Азия</td><td>0.235</td></tr>",
                            "<tr><td>Бельгия</td><td>Брюссель</td><td>30528</td><td>11250585</td><td>Европа</td><td>0.153</td></tr>",
                            "<tr><td>Албания</td><td>Тирана</td><td>28748</td><td>2866026</td><td>Европа</td><td>0.144</td></tr>",
                            "<tr><td>Белиз</td><td>Бельмопан</td><td>22966</td><td>377968</td><td>Северная Америка</td><td>0.115</td></tr>",
                            "<tr><td>Восточный Тимор</td><td>Дили</td><td>14874</td><td>1167242</td><td>Азия</td><td>0.074</td></tr>",
                            "<tr><td>Бахрейн</td><td>Манама</td><td>701</td><td>1397000</td><td>Азия</td><td>0.004</td></tr>",
                            "</table>"
                        ]
                    }
                }
            ],
            "execution_count": 44
        },
        {
            "cell_type": "code",
            "source": [
                "use TestDB1;\n",
                "\n",
                "select\n",
                "\tname,\n",
                "\tcapital,\n",
                "\tsquare,\n",
                "\tpopulation,\n",
                "\tcontinent\n",
                "from\n",
                "\tCountries\n",
                "where\n",
                "\tcontinent = 'Àôðèêà'\n",
                "\tand\n",
                "\texists\n",
                "\t(\n",
                "\tselect\n",
                "\t\t*\n",
                "\tfrom \n",
                "\t\tCountries\n",
                "\twhere\n",
                "\t\tcontinent = 'Àôðèêà'\n",
                "\t\tand\n",
                "\t\tsquare > 2000000\n",
                "\t)"
            ],
            "metadata": {
                "azdata_cell_guid": "9e359486-45c6-4714-b250-51c3ac32684b",
                "language": "sql"
            },
            "outputs": [
                {
                    "output_type": "display_data",
                    "data": {
                        "text/html": "(0 rows affected)"
                    },
                    "metadata": {}
                },
                {
                    "output_type": "display_data",
                    "data": {
                        "text/html": "Total execution time: 00:00:00.009"
                    },
                    "metadata": {}
                },
                {
                    "output_type": "execute_result",
                    "metadata": {},
                    "execution_count": 45,
                    "data": {
                        "application/vnd.dataresource+json": {
                            "schema": {
                                "fields": [
                                    {
                                        "name": "name"
                                    },
                                    {
                                        "name": "capital"
                                    },
                                    {
                                        "name": "square"
                                    },
                                    {
                                        "name": "population"
                                    },
                                    {
                                        "name": "continent"
                                    }
                                ]
                            },
                            "data": []
                        },
                        "text/html": [
                            "<table>",
                            "<tr><th>name</th><th>capital</th><th>square</th><th>population</th><th>continent</th></tr>",
                            "</table>"
                        ]
                    }
                }
            ],
            "execution_count": 45
        }
    ]
}