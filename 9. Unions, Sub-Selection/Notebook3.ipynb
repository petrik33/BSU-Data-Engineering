{
  "cells": [
    {
      "cell_type": "markdown",
      "metadata": {},
      "source": [
        "## 3.1\n",
        "Вывести список стран и процентное соотношение площади каждой из\n",
        "них к общей площади всех стран мира."
      ]
    },
    {
      "cell_type": "code",
      "execution_count": null,
      "id": "b6feb750",
      "metadata": {},
      "outputs": [],
      "source": [
        "use TestDB1;\n",
        "\n",
        "select\n",
        "\tname,\n",
        "\tcapital,\n",
        "\tsquare,\n",
        "\tpopulation,\n",
        "\tcontinent\n",
        "from\n",
        "\tCountries\n",
        "where\n",
        "\tcontinent = \n",
        "\t(\n",
        "\tselect\n",
        "\t\tcontinent\n",
        "\tfrom \n",
        "\t\tCountries\n",
        "\twhere\n",
        "\t\tname = 'Ôèäæè'\n",
        "\t)"
      ]
    },
    {
      "cell_type": "markdown",
      "metadata": {},
      "source": [
        "## 3.2\n",
        "Вывести список стран мира, плотность населения которых больше, чем\n",
        "средняя плотность населения всех стран мира."
      ]
    },
    {
      "cell_type": "code",
      "execution_count": null,
      "id": "b52fab1d",
      "metadata": {},
      "outputs": [],
      "source": [
        "use TestDB1;\n",
        "\n",
        "select\n",
        "\tname,\n",
        "\tcapital,\n",
        "\tsquare,\n",
        "\tpopulation,\n",
        "\tcontinent\n",
        "from\n",
        "\tCountries\n",
        "where\n",
        "\tpopulation <= \n",
        "\t(\n",
        "\tselect\n",
        "\t\tpopulation\n",
        "\tfrom \n",
        "\t\tCountries\n",
        "\twhere\n",
        "\t\tname = 'Ôèäæè'\n",
        "\t)"
      ]
    },
    {
      "cell_type": "markdown",
      "metadata": {},
      "source": [
        "## 3.3\n",
        "С помощью подзапроса вывести список европейских стран, население\n",
        "которых меньше 5 млн. чел."
      ]
    },
    {
      "cell_type": "code",
      "execution_count": null,
      "id": "de369982",
      "metadata": {},
      "outputs": [],
      "source": [
        "use TestDB1;\n",
        "\n",
        "select\n",
        "\tname,\n",
        "\tcapital,\n",
        "\tsquare,\n",
        "\tpopulation,\n",
        "\tcontinent\n",
        "from\n",
        "\tCountries\n",
        "where\n",
        "\tpopulation = \n",
        "\t(\n",
        "\tselect\n",
        "\t\tmax(population)\n",
        "\tfrom\n",
        "\t\tCountries\n",
        "\twhere\n",
        "\t\tsquare in\n",
        "\t\t(\t\n",
        "\t\t\tselect\n",
        "\t\t\t\tmin(square) as Country_Min_Square\n",
        "\t\t\tfrom\n",
        "\t\t\t\tCountries\n",
        "\t\t\tgroup by\n",
        "\t\t\t\tcontinent\n",
        "\t\t)\n",
        "\t)"
      ]
    },
    {
      "cell_type": "markdown",
      "metadata": {},
      "source": [
        "## 3.4\n",
        "Вывести список стран и процентное соотношение их площади к\n",
        "суммарной площади той части мира, где они находятся."
      ]
    },
    {
      "cell_type": "code",
      "execution_count": null,
      "id": "58b84373",
      "metadata": {},
      "outputs": [],
      "source": [
        "use TestDB1;\n",
        "\n",
        "select\n",
        "\tname,\n",
        "\tcapital,\n",
        "\tsquare,\n",
        "\tpopulation,\n",
        "\tcontinent\n",
        "from\n",
        "\tCountries\n",
        "where\n",
        "\tcast(population as float) / square > \n",
        "\t(\n",
        "\tselect avg(cast(population as float) / square)\n",
        "\tfrom Countries\n",
        "\t)\n"
      ]
    },
    {
      "cell_type": "markdown",
      "metadata": {},
      "source": [
        "## 3.5\n",
        "Вывести список стран мира, площадь которых больше, чем средняя\n",
        "площадь стран той части света, где они находятся."
      ]
    },
    {
      "cell_type": "code",
      "execution_count": null,
      "id": "2965f48a",
      "metadata": {},
      "outputs": [],
      "source": [
        "use TestDB1;\n",
        "\n",
        "select\n",
        "\tname,\n",
        "\tcapital,\n",
        "\tsquare,\n",
        "\tpopulation,\n",
        "\tcontinent,\n",
        "\tround(cast(square as float)*100/\n",
        "\t(\n",
        "\tselect\n",
        "\t\tsum(square)\n",
        "\tfrom\n",
        "\t\tCountries B\n",
        "\twhere\n",
        "\t\tA.continent = B.continent\n",
        "\t),3) as Square_Percent\n",
        "from\n",
        "\tCountries A\n",
        "order by Square_Percent desc"
      ]
    },
    {
      "cell_type": "markdown",
      "metadata": {},
      "source": [
        "## 3.6\n",
        "Вывести список стран мира, которые находятся в тех частях света,\n",
        "средняя плотность населения которых превышает общемировую."
      ]
    },
    {
      "cell_type": "code",
      "execution_count": null,
      "id": "9f1e82ba",
      "metadata": {},
      "outputs": [],
      "source": [
        "use TestDB1;\n",
        "\n",
        "select\n",
        "\tname,\n",
        "\tcapital,\n",
        "\tsquare,\n",
        "\tpopulation,\n",
        "\tcontinent\n",
        "from\n",
        "\tCountries\n",
        "where\n",
        "\tcontinent = 'Þæíàÿ Àìåðèêà'\n",
        "\tand\n",
        "\tpopulation > all\n",
        "\t(\n",
        "\tselect\n",
        "\t\tpopulation\n",
        "\tfrom \n",
        "\t\tCountries\n",
        "\twhere\n",
        "\t\tcontinent = 'Àôðèêà'\n",
        "\t)"
      ]
    },
    {
      "cell_type": "markdown",
      "metadata": {},
      "source": [
        "## 3.7\n",
        "Вывести список южноамериканских стран, в которых живет больше\n",
        "людей, чем в любой африканской стране."
      ]
    },
    {
      "cell_type": "code",
      "execution_count": null,
      "id": "1708b037",
      "metadata": {},
      "outputs": [],
      "source": [
        "use TestDB1;\n",
        "\n",
        "select\n",
        "\tname,\n",
        "\tcapital,\n",
        "\tsquare,\n",
        "\tpopulation,\n",
        "\tcontinent\n",
        "from\n",
        "\tCountries A\n",
        "where square > \n",
        "\t(\n",
        "\tselect\n",
        "\t\tavg(square)\n",
        "\tfrom\n",
        "\t\tCountries B\n",
        "\twhere\n",
        "\t\tB.continent = A.continent\n",
        "\t)\n",
        "\t\n"
      ]
    },
    {
      "cell_type": "markdown",
      "metadata": {},
      "source": [
        "## 3.8\n",
        "Вывести список африканских стран, в которых живет больше людей,\n",
        "чем хотя бы в одной южноамериканской стране."
      ]
    },
    {
      "cell_type": "code",
      "execution_count": null,
      "id": "5f0d56f2",
      "metadata": {},
      "outputs": [],
      "source": [
        "use TestDB1;\n",
        "\n",
        "select\n",
        "\tname,\n",
        "\tcapital,\n",
        "\tsquare,\n",
        "\tpopulation,\n",
        "\tcontinent\n",
        "from\n",
        "\tCountries\n",
        "where\n",
        "\tcontinent = 'Àôðèêà'\n",
        "\tand\n",
        "\tpopulation > any\n",
        "\t(\n",
        "\tselect\n",
        "\t\tpopulation\n",
        "\tfrom \n",
        "\t\tCountries\n",
        "\twhere\n",
        "\t\tcontinent = 'Þæíàÿ Àìåðèêà'\n",
        "\t)"
      ]
    },
    {
      "cell_type": "markdown",
      "metadata": {},
      "source": [
        "## 3.9\n",
        "Если в Африке есть хотя бы одна страна, площадь которой больше 2\n",
        "млн. кв. км, вывести список всех африканских стран."
      ]
    },
    {
      "cell_type": "code",
      "execution_count": null,
      "id": "909cb564",
      "metadata": {},
      "outputs": [],
      "source": [
        "use TestDB1;\n",
        "\n",
        "select\n",
        "\tname,\n",
        "\tcapital,\n",
        "\tsquare,\n",
        "\tpopulation,\n",
        "\tcontinent\n",
        "from\n",
        "\t(\n",
        "\tselect\n",
        "\t\tname,\n",
        "\t\tcapital,\n",
        "\t\tsquare,\n",
        "\t\tpopulation,\n",
        "\t\tcontinent\n",
        "\tfrom\n",
        "\t\tCountries\n",
        "\twhere\n",
        "\t\tcontinent = 'Åâðîïà'\n",
        "\t) as Europe_table\n",
        "where\n",
        "\tpopulation > 5000000"
      ]
    },
    {
      "cell_type": "markdown",
      "metadata": {},
      "source": [
        "## 3.10 Вывести список стран той части света, где находится страна «Фиджи»"
      ]
    },
    {
      "cell_type": "code",
      "execution_count": null,
      "id": "bdfb86fe",
      "metadata": {},
      "outputs": [],
      "source": [
        "use TestDB1;\n",
        "\n",
        "select\n",
        "\tname,\n",
        "\tcapital,\n",
        "\tsquare,\n",
        "\tpopulation,\n",
        "\tcontinent\n",
        "from\n",
        "\tCountries\n",
        "where\n",
        "\tcontinent in\n",
        "\t(\n",
        "\tselect\n",
        "\t\tcontinent\n",
        "\tfrom\n",
        "\t\tCountries\n",
        "\tgroup by\n",
        "\t\tcontinent\n",
        "\thaving\n",
        "\t\tavg(cast(population as float) / square ) > \n",
        "\t\t(\n",
        "\t\tselect\n",
        "\t\t\tavg(cast(population as float) / square )\n",
        "\t\tfrom\n",
        "\t\t\tCountries\n",
        "\t\t)\n",
        "\t)"
      ]
    },
    {
      "cell_type": "markdown",
      "metadata": {},
      "source": [
        "## 3.11 Вывести список стран, население которых не превышает население страны «Фиджи»"
      ]
    },
    {
      "cell_type": "code",
      "execution_count": null,
      "id": "fc722c6b",
      "metadata": {},
      "outputs": [],
      "source": [
        "use TestDB1;\n",
        "\n",
        "select\n",
        "\tname,\n",
        "\tcapital,\n",
        "\tsquare,\n",
        "\tpopulation,\n",
        "\tcontinent,\n",
        "\tround(cast(square as float) * 100 /\n",
        "\t(\n",
        "\tselect\n",
        "\t\tsum(square)\n",
        "\tfrom\n",
        "\t\tCountries\n",
        "\t),3) as Percent_Square\n",
        "from\n",
        "\tCountries\n",
        "order by Percent_Square desc\n"
      ]
    },
    {
      "cell_type": "markdown",
      "metadata": {},
      "source": [
        "## 3.12 Вывести название страны с наибольшим населением среди стран с наименьшей площадью на каждом континенте."
      ]
    },
    {
      "cell_type": "code",
      "execution_count": null,
      "id": "30fb34d2",
      "metadata": {},
      "outputs": [],
      "source": [
        "use TestDB1;\n",
        "\n",
        "select\n",
        "\tname,\n",
        "\tcapital,\n",
        "\tsquare,\n",
        "\tpopulation,\n",
        "\tcontinent\n",
        "from\n",
        "\tCountries\n",
        "where\n",
        "\tcontinent = 'Àôðèêà'\n",
        "\tand\n",
        "\texists\n",
        "\t(\n",
        "\tselect\n",
        "\t\t*\n",
        "\tfrom \n",
        "\t\tCountries\n",
        "\twhere\n",
        "\t\tcontinent = 'Àôðèêà'\n",
        "\t\tand\n",
        "\t\tsquare > 2000000\n",
        "\t)"
      ]
    }
  ],
  "metadata": {
    "kernelspec": {
      "display_name": "SQL",
      "language": "sql",
      "name": "SQL"
    },
    "language_info": {
      "name": "sql",
      "version": ""
    }
  },
  "nbformat": 4,
  "nbformat_minor": 2
}