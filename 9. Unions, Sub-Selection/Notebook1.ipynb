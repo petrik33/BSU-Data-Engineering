{
    "metadata": {
        "kernelspec": {
            "name": "SQL",
            "display_name": "SQL",
            "language": "sql"
        },
        "language_info": {
            "name": "sql",
            "version": ""
        }
    },
    "nbformat_minor": 2,
    "nbformat": 4,
    "cells": [
        {
            "cell_type": "markdown",
            "source": [
                "## Задание 2.1.1"
            ],
            "metadata": {
                "azdata_cell_guid": "c48fd222-0e3b-42cd-9ecd-550ebbf4a0cf"
            }
        },
        {
            "cell_type": "code",
            "source": [
                "use TestDB1;\n",
                "\n",
                "select\n",
                "\tname,\n",
                "\tcapital,\n",
                "\tsquare,\n",
                "\tpopulation,\n",
                "\tcontinent\n",
                "from\n",
                "\tCountries\n",
                "where\n",
                "\tsquare > 1000000\n",
                "\n",
                "intersect\n",
                "\n",
                "select\n",
                "\tname,\n",
                "\tcapital,\n",
                "\tsquare,\n",
                "\tpopulation,\n",
                "\tcontinent\n",
                "from\n",
                "\tCountries\n",
                "where\n",
                "\tpopulation > 100000000"
            ],
            "metadata": {
                "azdata_cell_guid": "7ea910b9-4ba2-48c7-bd87-a89052c3cd4a",
                "language": "sql"
            },
            "outputs": [
                {
                    "output_type": "display_data",
                    "data": {
                        "text/html": "(1 row affected)"
                    },
                    "metadata": {}
                },
                {
                    "output_type": "display_data",
                    "data": {
                        "text/html": "Total execution time: 00:00:00.013"
                    },
                    "metadata": {}
                },
                {
                    "output_type": "execute_result",
                    "metadata": {},
                    "execution_count": 5,
                    "data": {
                        "application/vnd.dataresource+json": {
                            "schema": {
                                "fields": [
                                    {
                                        "name": "name"
                                    },
                                    {
                                        "name": "capital"
                                    },
                                    {
                                        "name": "square"
                                    },
                                    {
                                        "name": "population"
                                    },
                                    {
                                        "name": "continent"
                                    }
                                ]
                            },
                            "data": [
                                {
                                    "0": "Бразилия",
                                    "1": "Бразилиа",
                                    "2": "8511965",
                                    "3": "206081432",
                                    "4": "Южная Америка"
                                }
                            ]
                        },
                        "text/html": [
                            "<table>",
                            "<tr><th>name</th><th>capital</th><th>square</th><th>population</th><th>continent</th></tr>",
                            "<tr><td>Бразилия</td><td>Бразилиа</td><td>8511965</td><td>206081432</td><td>Южная Америка</td></tr>",
                            "</table>"
                        ]
                    }
                }
            ],
            "execution_count": 5
        },
        {
            "cell_type": "markdown",
            "source": [
                "## Задание 2.1.2"
            ],
            "metadata": {
                "azdata_cell_guid": "8489a6af-b039-41b6-a6c0-002ca44b5c29"
            }
        },
        {
            "cell_type": "code",
            "source": [
                "use TestDB1;\n",
                "\n",
                "select\n",
                "\tname,\n",
                "\tcapital,\n",
                "\tsquare,\n",
                "\tpopulation,\n",
                "\tcontinent\n",
                "from\n",
                "\tCountries\n",
                "where\n",
                "\tsquare > 1000000\n",
                "\n",
                "except\n",
                "\n",
                "select\n",
                "\tname,\n",
                "\tcapital,\n",
                "\tsquare,\n",
                "\tpopulation,\n",
                "\tcontinent\n",
                "from\n",
                "\tCountries\n",
                "where\n",
                "\tpopulation > 1000000"
            ],
            "metadata": {
                "azdata_cell_guid": "db179afe-4f7f-416d-9947-005f7b753223",
                "language": "sql"
            },
            "outputs": [
                {
                    "output_type": "display_data",
                    "data": {
                        "text/html": "(0 rows affected)"
                    },
                    "metadata": {}
                },
                {
                    "output_type": "display_data",
                    "data": {
                        "text/html": "Total execution time: 00:00:00.013"
                    },
                    "metadata": {}
                },
                {
                    "output_type": "execute_result",
                    "metadata": {},
                    "execution_count": 6,
                    "data": {
                        "application/vnd.dataresource+json": {
                            "schema": {
                                "fields": [
                                    {
                                        "name": "name"
                                    },
                                    {
                                        "name": "capital"
                                    },
                                    {
                                        "name": "square"
                                    },
                                    {
                                        "name": "population"
                                    },
                                    {
                                        "name": "continent"
                                    }
                                ]
                            },
                            "data": []
                        },
                        "text/html": [
                            "<table>",
                            "<tr><th>name</th><th>capital</th><th>square</th><th>population</th><th>continent</th></tr>",
                            "</table>"
                        ]
                    }
                }
            ],
            "execution_count": 6
        },
        {
            "cell_type": "markdown",
            "source": [
                "## Задание 2.1.3"
            ],
            "metadata": {
                "azdata_cell_guid": "87265144-da1e-40dc-9d73-98a9be076bd8"
            }
        },
        {
            "cell_type": "code",
            "source": [
                "use TestDB1;\n",
                "\n",
                "\n",
                "select\n",
                "\n",
                "name,\n",
                "    capital,\n",
                "    square,\n",
                "    population,\n",
                "    continent\n",
                "from\n",
                "\n",
                "Countries\n",
                "where\n",
                "\n",
                "square\n",
                "> 1000000\n",
                "\n",
                "union\n",
                "\n",
                "\n",
                "select\n",
                "\n",
                "name,\n",
                "    capital,\n",
                "    square,\n",
                "    population,\n",
                "    continent\n",
                "from\n",
                "\n",
                "Countries\n",
                "where\n",
                "\n",
                "population\n",
                "> 100000000"
            ],
            "metadata": {
                "azdata_cell_guid": "57420682-2c10-4173-b604-bcc7a5967748",
                "language": "sql"
            },
            "outputs": [
                {
                    "output_type": "display_data",
                    "data": {
                        "text/html": "(6 rows affected)"
                    },
                    "metadata": {}
                },
                {
                    "output_type": "display_data",
                    "data": {
                        "text/html": "Total execution time: 00:00:00.010"
                    },
                    "metadata": {}
                },
                {
                    "output_type": "execute_result",
                    "metadata": {},
                    "execution_count": 7,
                    "data": {
                        "application/vnd.dataresource+json": {
                            "schema": {
                                "fields": [
                                    {
                                        "name": "name"
                                    },
                                    {
                                        "name": "capital"
                                    },
                                    {
                                        "name": "square"
                                    },
                                    {
                                        "name": "population"
                                    },
                                    {
                                        "name": "continent"
                                    }
                                ]
                            },
                            "data": [
                                {
                                    "0": "Алжир",
                                    "1": "Алжир",
                                    "2": "2381740",
                                    "3": "39813722",
                                    "4": "Африка"
                                },
                                {
                                    "0": "Ангола",
                                    "1": "Луанда",
                                    "2": "1246700",
                                    "3": "25831000",
                                    "4": "Африка"
                                },
                                {
                                    "0": "Аргентина",
                                    "1": "Буэнос-Айрес",
                                    "2": "2766890",
                                    "3": "43847000",
                                    "4": "Южная Америка"
                                },
                                {
                                    "0": "Бангладеш",
                                    "1": "Дакка",
                                    "2": "144000",
                                    "3": "160221000",
                                    "4": "Азия"
                                },
                                {
                                    "0": "Боливия",
                                    "1": "Сукре",
                                    "2": "1098580",
                                    "3": "10985059",
                                    "4": "Южная Америка"
                                },
                                {
                                    "0": "Бразилия",
                                    "1": "Бразилиа",
                                    "2": "8511965",
                                    "3": "206081432",
                                    "4": "Южная Америка"
                                }
                            ]
                        },
                        "text/html": [
                            "<table>",
                            "<tr><th>name</th><th>capital</th><th>square</th><th>population</th><th>continent</th></tr>",
                            "<tr><td>Алжир</td><td>Алжир</td><td>2381740</td><td>39813722</td><td>Африка</td></tr>",
                            "<tr><td>Ангола</td><td>Луанда</td><td>1246700</td><td>25831000</td><td>Африка</td></tr>",
                            "<tr><td>Аргентина</td><td>Буэнос-Айрес</td><td>2766890</td><td>43847000</td><td>Южная Америка</td></tr>",
                            "<tr><td>Бангладеш</td><td>Дакка</td><td>144000</td><td>160221000</td><td>Азия</td></tr>",
                            "<tr><td>Боливия</td><td>Сукре</td><td>1098580</td><td>10985059</td><td>Южная Америка</td></tr>",
                            "<tr><td>Бразилия</td><td>Бразилиа</td><td>8511965</td><td>206081432</td><td>Южная Америка</td></tr>",
                            "</table>"
                        ]
                    }
                }
            ],
            "execution_count": 7
        },
        {
            "cell_type": "markdown",
            "source": [
                "## Задание 2.1.4"
            ],
            "metadata": {
                "azdata_cell_guid": "dbffbc9b-6160-4d15-81de-e866f53a4613"
            }
        },
        {
            "cell_type": "code",
            "source": [
                "use TestDB1;\n",
                "\n",
                "select\n",
                "\tname,\n",
                "\tcapital,\n",
                "\tsquare,\n",
                "\tpopulation,\n",
                "\tCountry_Continent\n",
                "from\n",
                "\tContinents\n",
                "where\n",
                "\tCountry_Continent = 'Åâðîïà' and cast(population as float) / square > 300\n",
                "union\n",
                "select\n",
                "\tname,\n",
                "\tcapital,\n",
                "\tsquare,\n",
                "\tpopulation,\n",
                "\tCountry_Continent\n",
                "from\n",
                "\tContinents\n",
                "where\n",
                "\tCountry_Continent = 'Àçèÿ' and cast(population as float) / square > 200\n",
                "union\n",
                "select\n",
                "\tname,\n",
                "\tcapital,\n",
                "\tsquare,\n",
                "\tpopulation,\n",
                "\tCountry_Continent\n",
                "from\n",
                "\tContinents\n",
                "where\n",
                "\tCountry_Continent = 'Àôðèêà' and cast(population as float) / square > 150\n",
                " "
            ],
            "metadata": {
                "azdata_cell_guid": "55777966-13d5-4810-a7d1-bde27ebe860f",
                "language": "sql"
            },
            "outputs": [
                {
                    "output_type": "error",
                    "evalue": "Msg 208, Level 16, State 1, Line 3\nInvalid object name 'Continents'.",
                    "ename": "",
                    "traceback": []
                },
                {
                    "output_type": "display_data",
                    "data": {
                        "text/html": "Total execution time: 00:00:00.004"
                    },
                    "metadata": {}
                }
            ],
            "execution_count": 8
        },
        {
            "cell_type": "markdown",
            "source": [
                "## Задание 2.5"
            ],
            "metadata": {
                "language": "sql",
                "azdata_cell_guid": "96134e70-a342-4001-8a98-ee2c8a7e56dd"
            },
            "attachments": {}
        },
        {
            "cell_type": "code",
            "source": [
                "use TestDB1;\n",
                "\n",
                "select\n",
                "\tname,\n",
                "\tcapital,\n",
                "\tsquare,\n",
                "\tpopulation,\n",
                "\tcontinent\n",
                "from\n",
                "\tCountries\n",
                "where\n",
                "\tsquare > 1000000\n",
                "\n",
                "union all\n",
                "\n",
                "select\n",
                "\tname,\n",
                "\tcapital,\n",
                "\tsquare,\n",
                "\tpopulation,\n",
                "\tcontinent\n",
                "from\n",
                "\tCountries\n",
                "where\n",
                "\tpopulation > 100000000"
            ],
            "metadata": {
                "azdata_cell_guid": "0fab1d2f-207e-4d98-9b22-b47f96b54046",
                "language": "sql"
            },
            "outputs": [],
            "execution_count": null
        },
        {
            "cell_type": "markdown",
            "source": [
                "## Задание 2.1.6 Самостоятельная работа\n",
                "\n",
                "### 1.\n",
                "Вывести объединенный результат выполнения запросов, которые выбирают\n",
                "страны с площадью меньше 500 кв. км и с площадью больше 5 млн. кв. км:\n",
                "\n",
                "### 2.\n",
                "Вывести список стран с площадью больше 1 млн. кв. км, исключить страны с\n",
                "населением меньше 100 млн. чел.:\n",
                "\n",
                "### 3.\n",
                "Вывести список стран с площадью меньше 500 кв. км и с населением меньше\n",
                "100 тыс. чел."
            ],
            "metadata": {
                "azdata_cell_guid": "35cd9456-3e78-42b9-8928-283b6fee3022"
            }
        },
        {
            "cell_type": "code",
            "source": [
                "use TestDB1;\n",
                "--------2.1.6.1--------\n",
                "select\n",
                "\tname,\n",
                "\tcapital,\n",
                "\tsquare,\n",
                "\tpopulation,\n",
                "\tCountry_Continent\n",
                "from\n",
                "\tContinents\n",
                "where\n",
                "\tsquare < 500\n",
                "\n",
                "union\n",
                "\n",
                "select\n",
                "\tname,\n",
                "\tcapital,\n",
                "\tsquare,\n",
                "\tpopulation,\n",
                "\tCountry_Continent\n",
                "from\n",
                "\tContinents\n",
                "where\n",
                "\tsquare > 5000000\n",
                "--------2.1.6.2--------\n",
                "select\n",
                "\tname,\n",
                "\tcapital,\n",
                "\tsquare,\n",
                "\tpopulation,\n",
                "\tCountry_Continent\n",
                "from\n",
                "\tContinents\n",
                "where\n",
                "\tsquare > 1000000\n",
                "\n",
                "except\n",
                "\n",
                "select\n",
                "\tname,\n",
                "\tcapital,\n",
                "\tsquare,\n",
                "\tpopulation,\n",
                "\tCountry_Continent\n",
                "from\n",
                "\tContinents\n",
                "where\n",
                "\tpopulation < 100000000\n",
                "--------2.1.6.3--------\n",
                "select\n",
                "\tname,\n",
                "\tcapital,\n",
                "\tsquare,\n",
                "\tpopulation,\n",
                "\tCountry_Continent\n",
                "from\n",
                "\tContinents\n",
                "where\n",
                "\tsquare < 500\n",
                "\n",
                "intersect\n",
                "\n",
                "select\n",
                "\tname,\n",
                "\tcapital,\n",
                "\tsquare,\n",
                "\tpopulation,\n",
                "\tCountry_Continent\n",
                "from\n",
                "\tContinents\n",
                "where\n",
                "\tpopulation < 100000"
            ],
            "metadata": {
                "azdata_cell_guid": "d015b88b-877b-4a56-a01a-ee9f6e480683",
                "language": "sql"
            },
            "outputs": [],
            "execution_count": null
        }
    ]
}