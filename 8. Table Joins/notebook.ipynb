{
    "metadata": {
        "kernelspec": {
            "name": "SQL",
            "display_name": "SQL",
            "language": "sql"
        },
        "language_info": {
            "name": "sql",
            "version": ""
        }
    },
    "nbformat_minor": 2,
    "nbformat": 4,
    "cells": [
        {
            "cell_type": "markdown",
            "source": [
                "# Соединение нескольких таблиц в запросе"
            ],
            "metadata": {
                "language": "sql",
                "azdata_cell_guid": "191e9b7a-a0d8-4b75-b03b-3a5eadc9740f"
            },
            "attachments": {}
        },
        {
            "cell_type": "markdown",
            "source": [
                "## 1. Выбрать факультет и кафедры, используя неявное соединение. Результат отсортировать по алфавиту"
            ],
            "metadata": {
                "language": "sql",
                "azdata_cell_guid": "e835a12b-2cc0-4c1c-80d8-a3c8419dc67c"
            },
            "attachments": {}
        },
        {
            "cell_type": "code",
            "source": [
                "",
                "\n",
                "select\n",
                "\tF.Nfak as Fakultet,\n",
                "\tK.Nkaf as Kafedra\n",
                "from\n",
                "\tFakultet F, Kafedra K\n",
                "where\n",
                "\tF.ABfak = K.AbFak_Kaf\n",
                "order by\n",
                "\tFakultet, Kafedra"
            ],
            "metadata": {
                "azdata_cell_guid": "5a246390-740b-4dc4-bc33-11b5511fe7b7",
                "language": "sql"
            },
            "outputs": [
                {
                    "output_type": "display_data",
                    "data": {
                        "text/html": "(6 rows affected)"
                    },
                    "metadata": {}
                },
                {
                    "output_type": "display_data",
                    "data": {
                        "text/html": "Total execution time: 00:00:00.035"
                    },
                    "metadata": {}
                },
                {
                    "output_type": "execute_result",
                    "metadata": {},
                    "execution_count": 1,
                    "data": {
                        "application/vnd.dataresource+json": {
                            "schema": {
                                "fields": [
                                    {
                                        "name": "Fakultet"
                                    },
                                    {
                                        "name": "Kafedra"
                                    }
                                ]
                            },
                            "data": [
                                {
                                    "0": "Естественные Науки",
                                    "1": "Высшая Математика"
                                },
                                {
                                    "0": "Естественные Науки",
                                    "1": "Общая Физика"
                                },
                                {
                                    "0": "Информационные Науки",
                                    "1": "Информационные Системы"
                                },
                                {
                                    "0": "Информационные Науки",
                                    "1": "Прикладная Математика"
                                },
                                {
                                    "0": "Физико Математический",
                                    "1": "Математическое Моделирование"
                                },
                                {
                                    "0": "Физико Математический",
                                    "1": "Экспериментальная Физика"
                                }
                            ]
                        },
                        "text/html": [
                            "<table>",
                            "<tr><th>Fakultet</th><th>Kafedra</th></tr>",
                            "<tr><td>Естественные Науки</td><td>Высшая Математика</td></tr>",
                            "<tr><td>Естественные Науки</td><td>Общая Физика</td></tr>",
                            "<tr><td>Информационные Науки</td><td>Информационные Системы</td></tr>",
                            "<tr><td>Информационные Науки</td><td>Прикладная Математика</td></tr>",
                            "<tr><td>Физико Математический</td><td>Математическое Моделирование</td></tr>",
                            "<tr><td>Физико Математический</td><td>Экспериментальная Физика</td></tr>",
                            "</table>"
                        ]
                    }
                }
            ],
            "execution_count": 1
        },
        {
            "cell_type": "code",
            "source": [
                "",
                "\n",
                "select\n",
                "\tF.Nfak as Fakultet,\n",
                "\tK.Nkaf as Kafedra\n",
                "from\n",
                "\tFakultet F inner join Kafedra K\n",
                "\ton F.ABfak = K.AbFak_Kaf\n",
                "order by\n",
                "\tFakultet, Kafedra"
            ],
            "metadata": {
                "language": "sql",
                "azdata_cell_guid": "eaf27c0c-1a35-4a3f-9105-d1109edc99ef",
                "tags": []
            },
            "outputs": [
                {
                    "output_type": "display_data",
                    "data": {
                        "text/html": "(6 rows affected)"
                    },
                    "metadata": {}
                },
                {
                    "output_type": "display_data",
                    "data": {
                        "text/html": "Total execution time: 00:00:00.005"
                    },
                    "metadata": {}
                },
                {
                    "output_type": "execute_result",
                    "metadata": {},
                    "execution_count": 2,
                    "data": {
                        "application/vnd.dataresource+json": {
                            "schema": {
                                "fields": [
                                    {
                                        "name": "Fakultet"
                                    },
                                    {
                                        "name": "Kafedra"
                                    }
                                ]
                            },
                            "data": [
                                {
                                    "0": "Естественные Науки",
                                    "1": "Высшая Математика"
                                },
                                {
                                    "0": "Естественные Науки",
                                    "1": "Общая Физика"
                                },
                                {
                                    "0": "Информационные Науки",
                                    "1": "Информационные Системы"
                                },
                                {
                                    "0": "Информационные Науки",
                                    "1": "Прикладная Математика"
                                },
                                {
                                    "0": "Физико Математический",
                                    "1": "Математическое Моделирование"
                                },
                                {
                                    "0": "Физико Математический",
                                    "1": "Экспериментальная Физика"
                                }
                            ]
                        },
                        "text/html": [
                            "<table>",
                            "<tr><th>Fakultet</th><th>Kafedra</th></tr>",
                            "<tr><td>Естественные Науки</td><td>Высшая Математика</td></tr>",
                            "<tr><td>Естественные Науки</td><td>Общая Физика</td></tr>",
                            "<tr><td>Информационные Науки</td><td>Информационные Системы</td></tr>",
                            "<tr><td>Информационные Науки</td><td>Прикладная Математика</td></tr>",
                            "<tr><td>Физико Математический</td><td>Математическое Моделирование</td></tr>",
                            "<tr><td>Физико Математический</td><td>Экспериментальная Физика</td></tr>",
                            "</table>"
                        ]
                    }
                }
            ],
            "execution_count": 2
        },
        {
            "cell_type": "code",
            "source": [
                "",
                "\n",
                "select\n",
                "\tS.Fio_stud,\n",
                "\tP.NaprSpez,\n",
                "\tK.Nkaf as Kafedra\n",
                "from\n",
                "\tStudent S\n",
                "\tinner join Spezialn P on S.NomSpez_St = P.Nspez\n",
                "\tinner join Kafedra K on P.Shifr_spez = K.ShifrKaf\n",
                "where\n",
                "\tK.AbFak_Kaf = N'ит'"
            ],
            "metadata": {
                "language": "sql",
                "azdata_cell_guid": "ea103506-d030-4545-9c2b-fddc7bbbf0ee"
            },
            "outputs": [
                {
                    "output_type": "display_data",
                    "data": {
                        "text/html": "(4 rows affected)"
                    },
                    "metadata": {}
                },
                {
                    "output_type": "display_data",
                    "data": {
                        "text/html": "Total execution time: 00:00:00.007"
                    },
                    "metadata": {}
                },
                {
                    "output_type": "execute_result",
                    "metadata": {},
                    "execution_count": 3,
                    "data": {
                        "application/vnd.dataresource+json": {
                            "schema": {
                                "fields": [
                                    {
                                        "name": "Fio_stud"
                                    },
                                    {
                                        "name": "NaprSpez"
                                    },
                                    {
                                        "name": "Kafedra"
                                    }
                                ]
                            },
                            "data": [
                                {
                                    "0": "Андреев",
                                    "1": "Информационные системы и технологии",
                                    "2": "Информационные Системы"
                                },
                                {
                                    "0": "Федоров",
                                    "1": "Информационные системы и технологии",
                                    "2": "Информационные Системы"
                                },
                                {
                                    "0": "Макаров",
                                    "1": "Бизнес информатика",
                                    "2": "Информационные Системы"
                                },
                                {
                                    "0": "Яковлев",
                                    "1": "Бизнес информатика",
                                    "2": "Информационные Системы"
                                }
                            ]
                        },
                        "text/html": [
                            "<table>",
                            "<tr><th>Fio_stud</th><th>NaprSpez</th><th>Kafedra</th></tr>",
                            "<tr><td>Андреев</td><td>Информационные системы и технологии</td><td>Информационные Системы</td></tr>",
                            "<tr><td>Федоров</td><td>Информационные системы и технологии</td><td>Информационные Системы</td></tr>",
                            "<tr><td>Макаров</td><td>Бизнес информатика</td><td>Информационные Системы</td></tr>",
                            "<tr><td>Яковлев</td><td>Бизнес информатика</td><td>Информационные Системы</td></tr>",
                            "</table>"
                        ]
                    }
                }
            ],
            "execution_count": 3
        },
        {
            "cell_type": "code",
            "source": [
                "",
                "\n",
                "select \n",
                "\ts.fio,\n",
                "\tcount(o.data) as [Количество экзаменов]\n",
                "\tfrom Ozenka o \n",
                "\t\tinner join Sotrudnik s on o.Tab_Nom = s.TabNom\n",
                "group by \n",
                "\ts.FIO\n",
                "having\n",
                "\tcount(o.data) > 3\n",
                ""
            ],
            "metadata": {
                "language": "sql",
                "azdata_cell_guid": "3e0fa3d3-a440-469a-9d75-b11797f3efc0"
            },
            "outputs": [
                {
                    "output_type": "display_data",
                    "data": {
                        "text/html": "(0 rows affected)"
                    },
                    "metadata": {}
                },
                {
                    "output_type": "display_data",
                    "data": {
                        "text/html": "Total execution time: 00:00:00.007"
                    },
                    "metadata": {}
                },
                {
                    "output_type": "execute_result",
                    "metadata": {},
                    "execution_count": 4,
                    "data": {
                        "application/vnd.dataresource+json": {
                            "schema": {
                                "fields": [
                                    {
                                        "name": "fio"
                                    },
                                    {
                                        "name": "Количество экзаменов"
                                    }
                                ]
                            },
                            "data": []
                        },
                        "text/html": [
                            "<table>",
                            "<tr><th>fio</th><th>Количество экзаменов</th></tr>",
                            "</table>"
                        ]
                    }
                }
            ],
            "execution_count": 4
        },
        {
            "cell_type": "code",
            "source": [
                "",
                "\n",
                "select\n",
                "\tfio_stud\n",
                "from \n",
                "\tStudent\n",
                "where\n",
                "\tFio_Stud not in\n",
                "\t(select \n",
                "\t\ts.fio_stud\n",
                "\t\tfrom Student s\n",
                "\t\t\tleft outer join Ozenka o on s.Reg_nom=o.ReGNom\n",
                "\twhere\n",
                "\t\to.data = '2022-06-05'\n",
                "\tgroup by \n",
                "\t\ts.Fio_Stud)"
            ],
            "metadata": {
                "language": "sql",
                "azdata_cell_guid": "625dcfc9-7ea8-45e5-a1f3-26a823eba5e5"
            },
            "outputs": [
                {
                    "output_type": "display_data",
                    "data": {
                        "text/html": "(8 rows affected)"
                    },
                    "metadata": {}
                },
                {
                    "output_type": "display_data",
                    "data": {
                        "text/html": "Total execution time: 00:00:00.017"
                    },
                    "metadata": {}
                },
                {
                    "output_type": "execute_result",
                    "metadata": {},
                    "execution_count": 5,
                    "data": {
                        "application/vnd.dataresource+json": {
                            "schema": {
                                "fields": [
                                    {
                                        "name": "fio_stud"
                                    }
                                ]
                            },
                            "data": [
                                {
                                    "0": "Крюков"
                                },
                                {
                                    "0": "Бондаренко"
                                },
                                {
                                    "0": "Цветков"
                                },
                                {
                                    "0": "Петров"
                                },
                                {
                                    "0": "Сергеев"
                                },
                                {
                                    "0": "Кудрявцев"
                                },
                                {
                                    "0": "Макаров"
                                },
                                {
                                    "0": "Яковлев"
                                }
                            ]
                        },
                        "text/html": [
                            "<table>",
                            "<tr><th>fio_stud</th></tr>",
                            "<tr><td>Крюков</td></tr>",
                            "<tr><td>Бондаренко</td></tr>",
                            "<tr><td>Цветков</td></tr>",
                            "<tr><td>Петров</td></tr>",
                            "<tr><td>Сергеев</td></tr>",
                            "<tr><td>Кудрявцев</td></tr>",
                            "<tr><td>Макаров</td></tr>",
                            "<tr><td>Яковлев</td></tr>",
                            "</table>"
                        ]
                    }
                }
            ],
            "execution_count": 5
        },
        {
            "cell_type": "code",
            "source": [
                "",
                "\n",
                "select\n",
                "\tP.TabNom_ruk as Nom_ruk,\n",
                "\tIIF(S.Dolgn = N'зав.кафедрой', null, P.FIO) as Manager\n",
                "from\n",
                "\tSotrudnik S\n",
                "\tinner join Sotrudnik P on S.TabNom = P.TabNom_ruk"
            ],
            "metadata": {
                "language": "sql",
                "azdata_cell_guid": "9e97ccef-d7bd-42d6-8587-065fb659049b"
            },
            "outputs": [
                {
                    "output_type": "display_data",
                    "data": {
                        "text/html": "(20 rows affected)"
                    },
                    "metadata": {}
                },
                {
                    "output_type": "display_data",
                    "data": {
                        "text/html": "Total execution time: 00:00:00.011"
                    },
                    "metadata": {}
                },
                {
                    "output_type": "execute_result",
                    "metadata": {},
                    "execution_count": 6,
                    "data": {
                        "application/vnd.dataresource+json": {
                            "schema": {
                                "fields": [
                                    {
                                        "name": "Nom_ruk"
                                    },
                                    {
                                        "name": "Manager"
                                    }
                                ]
                            },
                            "data": [
                                {
                                    "0": "101",
                                    "1": "NULL"
                                },
                                {
                                    "0": "101",
                                    "1": "NULL"
                                },
                                {
                                    "0": "101",
                                    "1": "NULL"
                                },
                                {
                                    "0": "102",
                                    "1": "Сидоров"
                                },
                                {
                                    "0": "201",
                                    "1": "NULL"
                                },
                                {
                                    "0": "201",
                                    "1": "NULL"
                                },
                                {
                                    "0": "201",
                                    "1": "NULL"
                                },
                                {
                                    "0": "202",
                                    "1": "Чернов"
                                },
                                {
                                    "0": "301",
                                    "1": "NULL"
                                },
                                {
                                    "0": "301",
                                    "1": "NULL"
                                },
                                {
                                    "0": "401",
                                    "1": "NULL"
                                },
                                {
                                    "0": "401",
                                    "1": "NULL"
                                },
                                {
                                    "0": "401",
                                    "1": "NULL"
                                },
                                {
                                    "0": "402",
                                    "1": "Лисик"
                                },
                                {
                                    "0": "501",
                                    "1": "NULL"
                                },
                                {
                                    "0": "501",
                                    "1": "NULL"
                                },
                                {
                                    "0": "501",
                                    "1": "NULL"
                                },
                                {
                                    "0": "601",
                                    "1": "NULL"
                                },
                                {
                                    "0": "601",
                                    "1": "NULL"
                                },
                                {
                                    "0": "602",
                                    "1": "Григорьев"
                                }
                            ]
                        },
                        "text/html": [
                            "<table>",
                            "<tr><th>Nom_ruk</th><th>Manager</th></tr>",
                            "<tr><td>101</td><td>NULL</td></tr>",
                            "<tr><td>101</td><td>NULL</td></tr>",
                            "<tr><td>101</td><td>NULL</td></tr>",
                            "<tr><td>102</td><td>Сидоров</td></tr>",
                            "<tr><td>201</td><td>NULL</td></tr>",
                            "<tr><td>201</td><td>NULL</td></tr>",
                            "<tr><td>201</td><td>NULL</td></tr>",
                            "<tr><td>202</td><td>Чернов</td></tr>",
                            "<tr><td>301</td><td>NULL</td></tr>",
                            "<tr><td>301</td><td>NULL</td></tr>",
                            "<tr><td>401</td><td>NULL</td></tr>",
                            "<tr><td>401</td><td>NULL</td></tr>",
                            "<tr><td>401</td><td>NULL</td></tr>",
                            "<tr><td>402</td><td>Лисик</td></tr>",
                            "<tr><td>501</td><td>NULL</td></tr>",
                            "<tr><td>501</td><td>NULL</td></tr>",
                            "<tr><td>501</td><td>NULL</td></tr>",
                            "<tr><td>601</td><td>NULL</td></tr>",
                            "<tr><td>601</td><td>NULL</td></tr>",
                            "<tr><td>602</td><td>Григорьев</td></tr>",
                            "</table>"
                        ]
                    }
                }
            ],
            "execution_count": 6
        },
        {
            "cell_type": "code",
            "source": [
                "",
                "\n",
                "select\n",
                "\ts.fio_stud,\n",
                "\tcount(O.Ozenk_a) as [Amount of exams]\n",
                "from\t\n",
                "\tStudent S\n",
                "\t\tinner join Ozenka O on S.Reg_nom = O.ReGNom\n",
                "group by \n",
                "\ts.Fio_Stud\n",
                "having\n",
                "\tcount(O.Ozenk_a) >= 2"
            ],
            "metadata": {
                "language": "sql",
                "azdata_cell_guid": "83ac64ba-bcdd-41ad-ad3c-2f9524e86226"
            },
            "outputs": [
                {
                    "output_type": "display_data",
                    "data": {
                        "text/html": "(7 rows affected)"
                    },
                    "metadata": {}
                },
                {
                    "output_type": "display_data",
                    "data": {
                        "text/html": "Total execution time: 00:00:00.008"
                    },
                    "metadata": {}
                },
                {
                    "output_type": "execute_result",
                    "metadata": {},
                    "execution_count": 7,
                    "data": {
                        "application/vnd.dataresource+json": {
                            "schema": {
                                "fields": [
                                    {
                                        "name": "fio_stud"
                                    },
                                    {
                                        "name": "Amount of exams"
                                    }
                                ]
                            },
                            "data": [
                                {
                                    "0": "Андреев",
                                    "1": "2"
                                },
                                {
                                    "0": "Бондаренко",
                                    "1": "2"
                                },
                                {
                                    "0": "Иванов",
                                    "1": "2"
                                },
                                {
                                    "0": "Макаров",
                                    "1": "3"
                                },
                                {
                                    "0": "Николаева",
                                    "1": "3"
                                },
                                {
                                    "0": "Цветков",
                                    "1": "2"
                                },
                                {
                                    "0": "Яковлев",
                                    "1": "2"
                                }
                            ]
                        },
                        "text/html": [
                            "<table>",
                            "<tr><th>fio_stud</th><th>Amount of exams</th></tr>",
                            "<tr><td>Андреев</td><td>2</td></tr>",
                            "<tr><td>Бондаренко</td><td>2</td></tr>",
                            "<tr><td>Иванов</td><td>2</td></tr>",
                            "<tr><td>Макаров</td><td>3</td></tr>",
                            "<tr><td>Николаева</td><td>3</td></tr>",
                            "<tr><td>Цветков</td><td>2</td></tr>",
                            "<tr><td>Яковлев</td><td>2</td></tr>",
                            "</table>"
                        ]
                    }
                }
            ],
            "execution_count": 7
        },
        {
            "cell_type": "code",
            "source": [
                "",
                "\n",
                "select\n",
                "\ts.fio,\n",
                "\ts.zarplata\n",
                "from\t\n",
                "\tSotrudnik S\n",
                "\t\tinner join Ingener i on S.TabNom = i.TabNom_IN\n",
                "where\n",
                "\ts.Zarplata < 2000\n",
                ""
            ],
            "metadata": {
                "language": "sql",
                "azdata_cell_guid": "96b99167-2760-4e56-81f5-6eaffe88ae8b"
            },
            "outputs": [
                {
                    "output_type": "display_data",
                    "data": {
                        "text/html": "(2 rows affected)"
                    },
                    "metadata": {}
                },
                {
                    "output_type": "display_data",
                    "data": {
                        "text/html": "Total execution time: 00:00:00.008"
                    },
                    "metadata": {}
                },
                {
                    "output_type": "execute_result",
                    "metadata": {},
                    "execution_count": 8,
                    "data": {
                        "application/vnd.dataresource+json": {
                            "schema": {
                                "fields": [
                                    {
                                        "name": "fio"
                                    },
                                    {
                                        "name": "zarplata"
                                    }
                                ]
                            },
                            "data": [
                                {
                                    "0": "Сидоров",
                                    "1": "1500.00"
                                },
                                {
                                    "0": "Чернов",
                                    "1": "1500.00"
                                }
                            ]
                        },
                        "text/html": [
                            "<table>",
                            "<tr><th>fio</th><th>zarplata</th></tr>",
                            "<tr><td>Сидоров</td><td>1500.00</td></tr>",
                            "<tr><td>Чернов</td><td>1500.00</td></tr>",
                            "</table>"
                        ]
                    }
                }
            ],
            "execution_count": 8
        },
        {
            "cell_type": "code",
            "source": [
                "",
                "\n",
                "select\n",
                "\ts.fio_stud,\n",
                "\to.Auditoria\n",
                "from\t\n",
                "\tStudent S\n",
                "\t\tinner join Ozenka O on S.Reg_nom = O.ReGNom\n",
                "group by \n",
                "\ts.Fio_Stud,\n",
                "\to.Auditoria\n",
                "having\n",
                "\tO.Auditoria = N'т505'"
            ],
            "metadata": {
                "language": "sql",
                "azdata_cell_guid": "8b5ccaf2-afef-4753-b4f5-abce20f60873"
            },
            "outputs": [
                {
                    "output_type": "display_data",
                    "data": {
                        "text/html": "(2 rows affected)"
                    },
                    "metadata": {}
                },
                {
                    "output_type": "display_data",
                    "data": {
                        "text/html": "Total execution time: 00:00:00.008"
                    },
                    "metadata": {}
                },
                {
                    "output_type": "execute_result",
                    "metadata": {},
                    "execution_count": 9,
                    "data": {
                        "application/vnd.dataresource+json": {
                            "schema": {
                                "fields": [
                                    {
                                        "name": "fio_stud"
                                    },
                                    {
                                        "name": "Auditoria"
                                    }
                                ]
                            },
                            "data": [
                                {
                                    "0": "Иванов",
                                    "1": "т505"
                                },
                                {
                                    "0": "Николаева",
                                    "1": "т505"
                                }
                            ]
                        },
                        "text/html": [
                            "<table>",
                            "<tr><th>fio_stud</th><th>Auditoria</th></tr>",
                            "<tr><td>Иванов</td><td>т505</td></tr>",
                            "<tr><td>Николаева</td><td>т505</td></tr>",
                            "</table>"
                        ]
                    }
                }
            ],
            "execution_count": 9
        },
        {
            "cell_type": "code",
            "source": [
                "",
                "\n",
                "select\n",
                "\ts.fio_stud,\n",
                "\tcount(O.Ozenk_a) as [Amount of exams],\n",
                "\tavg(O.Ozenk_a) as [Average Grade]\n",
                "from\t\n",
                "\tStudent S\n",
                "\t\tinner join Ozenka O on S.Reg_nom = O.ReGNom\n",
                "group by \n",
                "\ts.Fio_Stud\n",
                "having\n",
                "\tavg(O.Ozenk_a) >= 4"
            ],
            "metadata": {
                "language": "sql",
                "azdata_cell_guid": "da6376df-05e4-4920-af28-b14e5d8b0d24"
            },
            "outputs": [
                {
                    "output_type": "display_data",
                    "data": {
                        "text/html": "(6 rows affected)"
                    },
                    "metadata": {}
                },
                {
                    "output_type": "display_data",
                    "data": {
                        "text/html": "Total execution time: 00:00:00.009"
                    },
                    "metadata": {}
                },
                {
                    "output_type": "execute_result",
                    "metadata": {},
                    "execution_count": 10,
                    "data": {
                        "application/vnd.dataresource+json": {
                            "schema": {
                                "fields": [
                                    {
                                        "name": "fio_stud"
                                    },
                                    {
                                        "name": "Amount of exams"
                                    },
                                    {
                                        "name": "Average Grade"
                                    }
                                ]
                            },
                            "data": [
                                {
                                    "0": "Иванов",
                                    "1": "2",
                                    "2": "4"
                                },
                                {
                                    "0": "Макаров",
                                    "1": "3",
                                    "2": "4"
                                },
                                {
                                    "0": "Николаева",
                                    "1": "3",
                                    "2": "4"
                                },
                                {
                                    "0": "Сергеев",
                                    "1": "1",
                                    "2": "5"
                                },
                                {
                                    "0": "Цветков",
                                    "1": "2",
                                    "2": "4"
                                },
                                {
                                    "0": "Яковлев",
                                    "1": "2",
                                    "2": "4"
                                }
                            ]
                        },
                        "text/html": [
                            "<table>",
                            "<tr><th>fio_stud</th><th>Amount of exams</th><th>Average Grade</th></tr>",
                            "<tr><td>Иванов</td><td>2</td><td>4</td></tr>",
                            "<tr><td>Макаров</td><td>3</td><td>4</td></tr>",
                            "<tr><td>Николаева</td><td>3</td><td>4</td></tr>",
                            "<tr><td>Сергеев</td><td>1</td><td>5</td></tr>",
                            "<tr><td>Цветков</td><td>2</td><td>4</td></tr>",
                            "<tr><td>Яковлев</td><td>2</td><td>4</td></tr>",
                            "</table>"
                        ]
                    }
                }
            ],
            "execution_count": 10
        },
        {
            "cell_type": "code",
            "source": [
                "",
                "\n",
                "select\n",
                "\ts.fio,\n",
                "\ts.zarplata,\n",
                "\tp.Stepen\n",
                "from\t\n",
                "\tSotrudnik S\n",
                "\t\tinner join ZavKaf z on S.TabNom = z.TabNom_K\n",
                "\t\tinner join Prepodavatel p on S.TabNom = p.TabNom_pr"
            ],
            "metadata": {
                "language": "sql",
                "azdata_cell_guid": "a6d06b91-86cd-4152-92be-81088299576d"
            },
            "outputs": [
                {
                    "output_type": "display_data",
                    "data": {
                        "text/html": "(6 rows affected)"
                    },
                    "metadata": {}
                },
                {
                    "output_type": "display_data",
                    "data": {
                        "text/html": "Total execution time: 00:00:00.013"
                    },
                    "metadata": {}
                },
                {
                    "output_type": "execute_result",
                    "metadata": {},
                    "execution_count": 11,
                    "data": {
                        "application/vnd.dataresource+json": {
                            "schema": {
                                "fields": [
                                    {
                                        "name": "fio"
                                    },
                                    {
                                        "name": "zarplata"
                                    },
                                    {
                                        "name": "Stepen"
                                    }
                                ]
                            },
                            "data": [
                                {
                                    "0": "Прохоров",
                                    "1": "3500.00",
                                    "2": "д.т.н"
                                },
                                {
                                    "0": "Андреев",
                                    "1": "3500.00",
                                    "2": "д.ф.-м.н"
                                },
                                {
                                    "0": "Басов",
                                    "1": "3500.00",
                                    "2": "д.т.н"
                                },
                                {
                                    "0": "Волков",
                                    "1": "3500.00",
                                    "2": "д.т.н"
                                },
                                {
                                    "0": "Кузнецов",
                                    "1": "3500.00",
                                    "2": "д.ф.-м.н"
                                },
                                {
                                    "0": "Зверев",
                                    "1": "3500.00",
                                    "2": "д.ф.-м.н"
                                }
                            ]
                        },
                        "text/html": [
                            "<table>",
                            "<tr><th>fio</th><th>zarplata</th><th>Stepen</th></tr>",
                            "<tr><td>Прохоров</td><td>3500.00</td><td>д.т.н</td></tr>",
                            "<tr><td>Андреев</td><td>3500.00</td><td>д.ф.-м.н</td></tr>",
                            "<tr><td>Басов</td><td>3500.00</td><td>д.т.н</td></tr>",
                            "<tr><td>Волков</td><td>3500.00</td><td>д.т.н</td></tr>",
                            "<tr><td>Кузнецов</td><td>3500.00</td><td>д.ф.-м.н</td></tr>",
                            "<tr><td>Зверев</td><td>3500.00</td><td>д.ф.-м.н</td></tr>",
                            "</table>"
                        ]
                    }
                }
            ],
            "execution_count": 11
        },
        {
            "cell_type": "code",
            "source": [
                "",
                "\n",
                "select\n",
                "\ts.fio,\n",
                "\tp.Zvanie\n",
                "from\t\n",
                "\tSotrudnik S\n",
                "\t\tinner join Prepodavatel p on S.TabNom = p.TabNom_pr\n",
                "group by\n",
                "\ts.FIO,\n",
                "\tp.Zvanie\n",
                "having\n",
                "\tp.Zvanie = N'профессор'"
            ],
            "metadata": {
                "language": "sql",
                "azdata_cell_guid": "30baa67e-0021-4af9-9b57-956dd194f669"
            },
            "outputs": [
                {
                    "output_type": "display_data",
                    "data": {
                        "text/html": "(7 rows affected)"
                    },
                    "metadata": {}
                },
                {
                    "output_type": "display_data",
                    "data": {
                        "text/html": "Total execution time: 00:00:00.006"
                    },
                    "metadata": {}
                },
                {
                    "output_type": "execute_result",
                    "metadata": {},
                    "execution_count": 12,
                    "data": {
                        "application/vnd.dataresource+json": {
                            "schema": {
                                "fields": [
                                    {
                                        "name": "fio"
                                    },
                                    {
                                        "name": "Zvanie"
                                    }
                                ]
                            },
                            "data": [
                                {
                                    "0": "Андреев",
                                    "1": "профессор"
                                },
                                {
                                    "0": "Басов",
                                    "1": "профессор"
                                },
                                {
                                    "0": "Волков",
                                    "1": "профессор"
                                },
                                {
                                    "0": "Зверев",
                                    "1": "профессор"
                                },
                                {
                                    "0": "Кузнецов",
                                    "1": "профессор"
                                },
                                {
                                    "0": "Прохоров",
                                    "1": "профессор"
                                },
                                {
                                    "0": "Романцев",
                                    "1": "профессор"
                                }
                            ]
                        },
                        "text/html": [
                            "<table>",
                            "<tr><th>fio</th><th>Zvanie</th></tr>",
                            "<tr><td>Андреев</td><td>профессор</td></tr>",
                            "<tr><td>Басов</td><td>профессор</td></tr>",
                            "<tr><td>Волков</td><td>профессор</td></tr>",
                            "<tr><td>Зверев</td><td>профессор</td></tr>",
                            "<tr><td>Кузнецов</td><td>профессор</td></tr>",
                            "<tr><td>Прохоров</td><td>профессор</td></tr>",
                            "<tr><td>Романцев</td><td>профессор</td></tr>",
                            "</table>"
                        ]
                    }
                }
            ],
            "execution_count": 12
        },
        {
            "cell_type": "code",
            "source": [
                "",
                "\n",
                "select distinct\t\n",
                "\tpr.predmet as Дисциплина,\n",
                "\ts.fio,\n",
                "\ts.dolgn,\n",
                "\tp.stepen,\n",
                "\to.data,\n",
                "\to.auditoria \n",
                "from \n",
                "\tozenka o\n",
                "\t\tinner join predmet pr on o.kod = pr.kod_pred\n",
                "\t\tinner join sotrudnik s on o.Tab_Nom = s.TabNom\n",
                "\t\tinner join Prepodavatel p on o.Tab_Nom = p.TabNom_pr\n",
                "where\n",
                "\to.data between '2022-06-07' and '2022-06-12'\n",
                "order by \n",
                "\to.data\n",
                "\n",
                ""
            ],
            "metadata": {
                "language": "sql",
                "azdata_cell_guid": "b38a07ab-1f20-4385-8c2a-50bb06316d01"
            },
            "outputs": [
                {
                    "output_type": "display_data",
                    "data": {
                        "text/html": "(8 rows affected)"
                    },
                    "metadata": {}
                },
                {
                    "output_type": "display_data",
                    "data": {
                        "text/html": "Total execution time: 00:00:00.021"
                    },
                    "metadata": {}
                },
                {
                    "output_type": "execute_result",
                    "metadata": {},
                    "execution_count": 13,
                    "data": {
                        "application/vnd.dataresource+json": {
                            "schema": {
                                "fields": [
                                    {
                                        "name": "Дисциплина"
                                    },
                                    {
                                        "name": "fio"
                                    },
                                    {
                                        "name": "dolgn"
                                    },
                                    {
                                        "name": "stepen"
                                    },
                                    {
                                        "name": "data"
                                    },
                                    {
                                        "name": "auditoria"
                                    }
                                ]
                            },
                            "data": [
                                {
                                    "0": "Информатика",
                                    "1": "Петров",
                                    "2": "преподаватель",
                                    "3": "к.т.н",
                                    "4": "2022-06-07",
                                    "5": "ф419"
                                },
                                {
                                    "0": "Информатика",
                                    "1": "Прохоров",
                                    "2": "зав.кафедрой",
                                    "3": "д.т.н",
                                    "4": "2022-06-07",
                                    "5": "т506"
                                },
                                {
                                    "0": "Моделирование",
                                    "1": "Сергеева",
                                    "2": "преподаватель",
                                    "3": "к.т.н",
                                    "4": "2022-06-09",
                                    "5": "ф333"
                                },
                                {
                                    "0": "Программирование",
                                    "1": "Зайцев",
                                    "2": "преподаватель",
                                    "3": "к.т.н",
                                    "4": "2022-06-09",
                                    "5": "м424"
                                },
                                {
                                    "0": "Математика",
                                    "1": "Кузнецов",
                                    "2": "зав.кафедрой",
                                    "3": "д.ф.-м.н",
                                    "4": "2022-06-10",
                                    "5": "т506"
                                },
                                {
                                    "0": "Моделирование",
                                    "1": "Басов",
                                    "2": "зав.кафедрой",
                                    "3": "д.т.н",
                                    "4": "2022-06-10",
                                    "5": "э105"
                                },
                                {
                                    "0": "Электронника",
                                    "1": "Зверев",
                                    "2": "зав.кафедрой",
                                    "3": "д.ф.-м.н",
                                    "4": "2022-06-10",
                                    "5": "ф349"
                                },
                                {
                                    "0": "Математика",
                                    "1": "Романцев",
                                    "2": "преподаватель",
                                    "3": "д.ф.-м.н",
                                    "4": "2022-06-12",
                                    "5": "с324"
                                }
                            ]
                        },
                        "text/html": [
                            "<table>",
                            "<tr><th>Дисциплина</th><th>fio</th><th>dolgn</th><th>stepen</th><th>data</th><th>auditoria</th></tr>",
                            "<tr><td>Информатика</td><td>Петров</td><td>преподаватель</td><td>к.т.н</td><td>2022-06-07</td><td>ф419</td></tr>",
                            "<tr><td>Информатика</td><td>Прохоров</td><td>зав.кафедрой</td><td>д.т.н</td><td>2022-06-07</td><td>т506</td></tr>",
                            "<tr><td>Моделирование</td><td>Сергеева</td><td>преподаватель</td><td>к.т.н</td><td>2022-06-09</td><td>ф333</td></tr>",
                            "<tr><td>Программирование</td><td>Зайцев</td><td>преподаватель</td><td>к.т.н</td><td>2022-06-09</td><td>м424</td></tr>",
                            "<tr><td>Математика</td><td>Кузнецов</td><td>зав.кафедрой</td><td>д.ф.-м.н</td><td>2022-06-10</td><td>т506</td></tr>",
                            "<tr><td>Моделирование</td><td>Басов</td><td>зав.кафедрой</td><td>д.т.н</td><td>2022-06-10</td><td>э105</td></tr>",
                            "<tr><td>Электронника</td><td>Зверев</td><td>зав.кафедрой</td><td>д.ф.-м.н</td><td>2022-06-10</td><td>ф349</td></tr>",
                            "<tr><td>Математика</td><td>Романцев</td><td>преподаватель</td><td>д.ф.-м.н</td><td>2022-06-12</td><td>с324</td></tr>",
                            "</table>"
                        ]
                    }
                }
            ],
            "execution_count": 13
        },
        {
            "cell_type": "code",
            "source": [
                "",
                "\n",
                "select\n",
                "\tF.Nfak as Fakultet,\n",
                "\tK.Nkaf as Kafedra\n",
                "from\n",
                "\tFakultet F left outer join Kafedra K\n",
                "\ton F.ABfak = K.AbFak_Kaf\n",
                "order by\n",
                "\tFakultet, Kafedra"
            ],
            "metadata": {
                "language": "sql",
                "azdata_cell_guid": "7c739ff4-0d2b-4406-baea-ebde37a5486d"
            },
            "outputs": [
                {
                    "output_type": "display_data",
                    "data": {
                        "text/html": "(7 rows affected)"
                    },
                    "metadata": {}
                },
                {
                    "output_type": "display_data",
                    "data": {
                        "text/html": "Total execution time: 00:00:00.007"
                    },
                    "metadata": {}
                },
                {
                    "output_type": "execute_result",
                    "metadata": {},
                    "execution_count": 14,
                    "data": {
                        "application/vnd.dataresource+json": {
                            "schema": {
                                "fields": [
                                    {
                                        "name": "Fakultet"
                                    },
                                    {
                                        "name": "Kafedra"
                                    }
                                ]
                            },
                            "data": [
                                {
                                    "0": "Гуманнитарные Науки",
                                    "1": "NULL"
                                },
                                {
                                    "0": "Естественные Науки",
                                    "1": "Высшая Математика"
                                },
                                {
                                    "0": "Естественные Науки",
                                    "1": "Общая Физика"
                                },
                                {
                                    "0": "Информационные Науки",
                                    "1": "Информационные Системы"
                                },
                                {
                                    "0": "Информационные Науки",
                                    "1": "Прикладная Математика"
                                },
                                {
                                    "0": "Физико Математический",
                                    "1": "Математическое Моделирование"
                                },
                                {
                                    "0": "Физико Математический",
                                    "1": "Экспериментальная Физика"
                                }
                            ]
                        },
                        "text/html": [
                            "<table>",
                            "<tr><th>Fakultet</th><th>Kafedra</th></tr>",
                            "<tr><td>Гуманнитарные Науки</td><td>NULL</td></tr>",
                            "<tr><td>Естественные Науки</td><td>Высшая Математика</td></tr>",
                            "<tr><td>Естественные Науки</td><td>Общая Физика</td></tr>",
                            "<tr><td>Информационные Науки</td><td>Информационные Системы</td></tr>",
                            "<tr><td>Информационные Науки</td><td>Прикладная Математика</td></tr>",
                            "<tr><td>Физико Математический</td><td>Математическое Моделирование</td></tr>",
                            "<tr><td>Физико Математический</td><td>Экспериментальная Физика</td></tr>",
                            "</table>"
                        ]
                    }
                }
            ],
            "execution_count": 14
        },
        {
            "cell_type": "code",
            "source": [
                "",
                "\n",
                "select\n",
                "\tS.FIO,\n",
                "\tS.Dolgn,\n",
                "\tS.Zarplata,\n",
                "\tP.FIO as Manager\n",
                "from\n",
                "\tSotrudnik S\n",
                "\tinner join Sotrudnik P on S.TabNom = P.TabNom_ruk"
            ],
            "metadata": {
                "language": "sql",
                "azdata_cell_guid": "1e5ca163-5a43-425a-93d7-6b1c7a18ea85",
                "tags": []
            },
            "outputs": [
                {
                    "output_type": "display_data",
                    "data": {
                        "text/html": "(20 rows affected)"
                    },
                    "metadata": {}
                },
                {
                    "output_type": "display_data",
                    "data": {
                        "text/html": "Total execution time: 00:00:00.008"
                    },
                    "metadata": {}
                },
                {
                    "output_type": "execute_result",
                    "metadata": {},
                    "execution_count": 15,
                    "data": {
                        "application/vnd.dataresource+json": {
                            "schema": {
                                "fields": [
                                    {
                                        "name": "FIO"
                                    },
                                    {
                                        "name": "Dolgn"
                                    },
                                    {
                                        "name": "Zarplata"
                                    },
                                    {
                                        "name": "Manager"
                                    }
                                ]
                            },
                            "data": [
                                {
                                    "0": "Прохоров",
                                    "1": "зав.кафедрой",
                                    "2": "3500.00",
                                    "3": "Прохоров"
                                },
                                {
                                    "0": "Прохоров",
                                    "1": "зав.кафедрой",
                                    "2": "3500.00",
                                    "3": "Семенов"
                                },
                                {
                                    "0": "Прохоров",
                                    "1": "зав.кафедрой",
                                    "2": "3500.00",
                                    "3": "Петров"
                                },
                                {
                                    "0": "Семенов",
                                    "1": "преподаватель",
                                    "2": "2500.00",
                                    "3": "Сидоров"
                                },
                                {
                                    "0": "Андреев",
                                    "1": "зав.кафедрой",
                                    "2": "3500.00",
                                    "3": "Андреев"
                                },
                                {
                                    "0": "Андреев",
                                    "1": "зав.кафедрой",
                                    "2": "3500.00",
                                    "3": "Борисов"
                                },
                                {
                                    "0": "Андреев",
                                    "1": "зав.кафедрой",
                                    "2": "3500.00",
                                    "3": "Глухов"
                                },
                                {
                                    "0": "Борисов",
                                    "1": "преподаватель",
                                    "2": "2500.00",
                                    "3": "Чернов"
                                },
                                {
                                    "0": "Басов",
                                    "1": "зав.кафедрой",
                                    "2": "3500.00",
                                    "3": "Басов"
                                },
                                {
                                    "0": "Басов",
                                    "1": "зав.кафедрой",
                                    "2": "3500.00",
                                    "3": "Сергеева"
                                },
                                {
                                    "0": "Волков",
                                    "1": "зав.кафедрой",
                                    "2": "3500.00",
                                    "3": "Волков"
                                },
                                {
                                    "0": "Волков",
                                    "1": "зав.кафедрой",
                                    "2": "3500.00",
                                    "3": "Зайцев"
                                },
                                {
                                    "0": "Волков",
                                    "1": "зав.кафедрой",
                                    "2": "3500.00",
                                    "3": "Смирнов"
                                },
                                {
                                    "0": "Зайцев",
                                    "1": "преподаватель",
                                    "2": "2500.00",
                                    "3": "Лисик"
                                },
                                {
                                    "0": "Кузнецов",
                                    "1": "зав.кафедрой",
                                    "2": "3500.00",
                                    "3": "Кузнецов"
                                },
                                {
                                    "0": "Кузнецов",
                                    "1": "зав.кафедрой",
                                    "2": "3500.00",
                                    "3": "Романцев"
                                },
                                {
                                    "0": "Кузнецов",
                                    "1": "зав.кафедрой",
                                    "2": "3500.00",
                                    "3": "Соловьев"
                                },
                                {
                                    "0": "Зверев",
                                    "1": "зав.кафедрой",
                                    "2": "3500.00",
                                    "3": "Зверев"
                                },
                                {
                                    "0": "Зверев",
                                    "1": "зав.кафедрой",
                                    "2": "3500.00",
                                    "3": "Сорокина"
                                },
                                {
                                    "0": "Сорокина",
                                    "1": "преподаватель",
                                    "2": "2500.00",
                                    "3": "Григорьев"
                                }
                            ]
                        },
                        "text/html": [
                            "<table>",
                            "<tr><th>FIO</th><th>Dolgn</th><th>Zarplata</th><th>Manager</th></tr>",
                            "<tr><td>Прохоров</td><td>зав.кафедрой</td><td>3500.00</td><td>Прохоров</td></tr>",
                            "<tr><td>Прохоров</td><td>зав.кафедрой</td><td>3500.00</td><td>Семенов</td></tr>",
                            "<tr><td>Прохоров</td><td>зав.кафедрой</td><td>3500.00</td><td>Петров</td></tr>",
                            "<tr><td>Семенов</td><td>преподаватель</td><td>2500.00</td><td>Сидоров</td></tr>",
                            "<tr><td>Андреев</td><td>зав.кафедрой</td><td>3500.00</td><td>Андреев</td></tr>",
                            "<tr><td>Андреев</td><td>зав.кафедрой</td><td>3500.00</td><td>Борисов</td></tr>",
                            "<tr><td>Андреев</td><td>зав.кафедрой</td><td>3500.00</td><td>Глухов</td></tr>",
                            "<tr><td>Борисов</td><td>преподаватель</td><td>2500.00</td><td>Чернов</td></tr>",
                            "<tr><td>Басов</td><td>зав.кафедрой</td><td>3500.00</td><td>Басов</td></tr>",
                            "<tr><td>Басов</td><td>зав.кафедрой</td><td>3500.00</td><td>Сергеева</td></tr>",
                            "<tr><td>Волков</td><td>зав.кафедрой</td><td>3500.00</td><td>Волков</td></tr>",
                            "<tr><td>Волков</td><td>зав.кафедрой</td><td>3500.00</td><td>Зайцев</td></tr>",
                            "<tr><td>Волков</td><td>зав.кафедрой</td><td>3500.00</td><td>Смирнов</td></tr>",
                            "<tr><td>Зайцев</td><td>преподаватель</td><td>2500.00</td><td>Лисик</td></tr>",
                            "<tr><td>Кузнецов</td><td>зав.кафедрой</td><td>3500.00</td><td>Кузнецов</td></tr>",
                            "<tr><td>Кузнецов</td><td>зав.кафедрой</td><td>3500.00</td><td>Романцев</td></tr>",
                            "<tr><td>Кузнецов</td><td>зав.кафедрой</td><td>3500.00</td><td>Соловьев</td></tr>",
                            "<tr><td>Зверев</td><td>зав.кафедрой</td><td>3500.00</td><td>Зверев</td></tr>",
                            "<tr><td>Зверев</td><td>зав.кафедрой</td><td>3500.00</td><td>Сорокина</td></tr>",
                            "<tr><td>Сорокина</td><td>преподаватель</td><td>2500.00</td><td>Григорьев</td></tr>",
                            "</table>"
                        ]
                    }
                }
            ],
            "execution_count": 15
        },
        {
            "cell_type": "code",
            "source": [
                "",
                "\n",
                "select\n",
                "\tS.Fio_stud,\n",
                "\tP.NaprSpez,\n",
                "\tK.Nkaf as Kafedra\n",
                "from\n",
                "\tStudent S\n",
                "\tinner join Spezialn P on S.NomSpez_St = P.Nspez\n",
                "\tinner join Kafedra K on P.Shifr_spez = K.ShifrKaf"
            ],
            "metadata": {
                "language": "sql",
                "azdata_cell_guid": "87d2c393-8a21-461b-904a-474d1b94b381"
            },
            "outputs": [
                {
                    "output_type": "display_data",
                    "data": {
                        "text/html": "(6 rows affected)"
                    },
                    "metadata": {}
                },
                {
                    "output_type": "display_data",
                    "data": {
                        "text/html": "Total execution time: 00:00:00.008"
                    },
                    "metadata": {}
                },
                {
                    "output_type": "execute_result",
                    "metadata": {},
                    "execution_count": 16,
                    "data": {
                        "application/vnd.dataresource+json": {
                            "schema": {
                                "fields": [
                                    {
                                        "name": "Fio_stud"
                                    },
                                    {
                                        "name": "NaprSpez"
                                    },
                                    {
                                        "name": "Kafedra"
                                    }
                                ]
                            },
                            "data": [
                                {
                                    "0": "Андреев",
                                    "1": "Информационные системы и технологии",
                                    "2": "Информационные Системы"
                                },
                                {
                                    "0": "Федоров",
                                    "1": "Информационные системы и технологии",
                                    "2": "Информационные Системы"
                                },
                                {
                                    "0": "Сергеев",
                                    "1": "Прикладная Математика",
                                    "2": "Математическое Моделирование"
                                },
                                {
                                    "0": "Кудрявцев",
                                    "1": "Прикладная Математика",
                                    "2": "Математическое Моделирование"
                                },
                                {
                                    "0": "Макаров",
                                    "1": "Бизнес информатика",
                                    "2": "Информационные Системы"
                                },
                                {
                                    "0": "Яковлев",
                                    "1": "Бизнес информатика",
                                    "2": "Информационные Системы"
                                }
                            ]
                        },
                        "text/html": [
                            "<table>",
                            "<tr><th>Fio_stud</th><th>NaprSpez</th><th>Kafedra</th></tr>",
                            "<tr><td>Андреев</td><td>Информационные системы и технологии</td><td>Информационные Системы</td></tr>",
                            "<tr><td>Федоров</td><td>Информационные системы и технологии</td><td>Информационные Системы</td></tr>",
                            "<tr><td>Сергеев</td><td>Прикладная Математика</td><td>Математическое Моделирование</td></tr>",
                            "<tr><td>Кудрявцев</td><td>Прикладная Математика</td><td>Математическое Моделирование</td></tr>",
                            "<tr><td>Макаров</td><td>Бизнес информатика</td><td>Информационные Системы</td></tr>",
                            "<tr><td>Яковлев</td><td>Бизнес информатика</td><td>Информационные Системы</td></tr>",
                            "</table>"
                        ]
                    }
                }
            ],
            "execution_count": 16
        },
        {
            "cell_type": "code",
            "source": [
                "",
                "\n",
                "select\n",
                "\tS.Fio_stud\n",
                "from\n",
                "\tStudent S\n",
                "\tinner join Ozenka O on S.Reg_nom = O.ReGNom\n",
                "group by\n",
                "\tS.Fio_Stud"
            ],
            "metadata": {
                "language": "sql",
                "azdata_cell_guid": "f6572b5c-6a9f-455b-a0b4-ed160f55bde8"
            },
            "outputs": [
                {
                    "output_type": "display_data",
                    "data": {
                        "text/html": "(10 rows affected)"
                    },
                    "metadata": {}
                },
                {
                    "output_type": "display_data",
                    "data": {
                        "text/html": "Total execution time: 00:00:00.006"
                    },
                    "metadata": {}
                },
                {
                    "output_type": "execute_result",
                    "metadata": {},
                    "execution_count": 17,
                    "data": {
                        "application/vnd.dataresource+json": {
                            "schema": {
                                "fields": [
                                    {
                                        "name": "Fio_stud"
                                    }
                                ]
                            },
                            "data": [
                                {
                                    "0": "Андреев"
                                },
                                {
                                    "0": "Бондаренко"
                                },
                                {
                                    "0": "Иванов"
                                },
                                {
                                    "0": "Кудрявцев"
                                },
                                {
                                    "0": "Макаров"
                                },
                                {
                                    "0": "Николаева"
                                },
                                {
                                    "0": "Сергеев"
                                },
                                {
                                    "0": "Федоров"
                                },
                                {
                                    "0": "Цветков"
                                },
                                {
                                    "0": "Яковлев"
                                }
                            ]
                        },
                        "text/html": [
                            "<table>",
                            "<tr><th>Fio_stud</th></tr>",
                            "<tr><td>Андреев</td></tr>",
                            "<tr><td>Бондаренко</td></tr>",
                            "<tr><td>Иванов</td></tr>",
                            "<tr><td>Кудрявцев</td></tr>",
                            "<tr><td>Макаров</td></tr>",
                            "<tr><td>Николаева</td></tr>",
                            "<tr><td>Сергеев</td></tr>",
                            "<tr><td>Федоров</td></tr>",
                            "<tr><td>Цветков</td></tr>",
                            "<tr><td>Яковлев</td></tr>",
                            "</table>"
                        ]
                    }
                }
            ],
            "execution_count": 17
        }
    ]
}