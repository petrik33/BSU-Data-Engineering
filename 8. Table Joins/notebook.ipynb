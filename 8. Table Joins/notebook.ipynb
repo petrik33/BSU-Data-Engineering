{
    "metadata": {
        "kernelspec": {
            "name": "SQL",
            "display_name": "SQL",
            "language": "sql"
        },
        "language_info": {
            "name": "sql",
            "version": ""
        }
    },
    "nbformat_minor": 2,
    "nbformat": 4,
    "cells": [
        {
            "cell_type": "markdown",
            "source": [
                "# Соединение нескольких таблиц в запросе"
            ],
            "metadata": {
                "language": "sql",
                "azdata_cell_guid": "191e9b7a-a0d8-4b75-b03b-3a5eadc9740f"
            },
            "attachments": {}
        },
        {
            "cell_type": "markdown",
            "source": [
                "## 1. Выбрать факультет и кафедры, используя неявное соединение. Результат отсортировать по алфавиту"
            ],
            "metadata": {
                "language": "sql",
                "azdata_cell_guid": "e835a12b-2cc0-4c1c-80d8-a3c8419dc67c"
            },
            "attachments": {}
        },
        {
            "cell_type": "code",
            "source": [
                "",
                "\n",
                "select\n",
                "\tF.Nfak as Fakultet,\n",
                "\tK.Nkaf as Kafedra\n",
                "from\n",
                "\tFakultet F, Kafedra K\n",
                "where\n",
                "\tF.ABfak = K.AbFak_Kaf\n",
                "order by\n",
                "\tFakultet, Kafedra"
            ],
            "metadata": {
                "azdata_cell_guid": "5a246390-740b-4dc4-bc33-11b5511fe7b7",
                "language": "sql"
            },
            "outputs": [
                {
                    "output_type": "display_data",
                    "data": {
                        "text/html": "(6 rows affected)"
                    },
                    "metadata": {}
                },
                {
                    "output_type": "display_data",
                    "data": {
                        "text/html": "Total execution time: 00:00:00.035"
                    },
                    "metadata": {}
                },
                {
                    "output_type": "execute_result",
                    "execution_count": 1,
                    "data": {
                        "application/vnd.dataresource+json": {
                            "schema": {
                                "fields": [
                                    {
                                        "name": "Fakultet"
                                    },
                                    {
                                        "name": "Kafedra"
                                    }
                                ]
                            },
                            "data": [
                                {
                                    "0": "Естественные Науки",
                                    "1": "Высшая Математика"
                                },
                                {
                                    "0": "Естественные Науки",
                                    "1": "Общая Физика"
                                },
                                {
                                    "0": "Информационные Науки",
                                    "1": "Информационные Системы"
                                },
                                {
                                    "0": "Информационные Науки",
                                    "1": "Прикладная Математика"
                                },
                                {
                                    "0": "Физико Математический",
                                    "1": "Математическое Моделирование"
                                },
                                {
                                    "0": "Физико Математический",
                                    "1": "Экспериментальная Физика"
                                }
                            ]
                        },
                        "text/html": "<table><tr><th>Fakultet</th><th>Kafedra</th></tr><tr><td>Естественные Науки</td><td>Высшая Математика</td></tr><tr><td>Естественные Науки</td><td>Общая Физика</td></tr><tr><td>Информационные Науки</td><td>Информационные Системы</td></tr><tr><td>Информационные Науки</td><td>Прикладная Математика</td></tr><tr><td>Физико Математический</td><td>Математическое Моделирование</td></tr><tr><td>Физико Математический</td><td>Экспериментальная Физика</td></tr></table>"
                    },
                    "metadata": {}
                }
            ],
            "execution_count": 1
        },
        {
            "cell_type": "markdown",
            "source": [
                "## 2. Выбрать факультет и кафедры, используя явное соединение. Результат отсортировать по алфавиту"
            ],
            "metadata": {
                "language": "sql",
                "azdata_cell_guid": "e835a12b-2cc0-4c1c-80d8-a3c8419dc67c"
            },
            "attachments": {}
        },
        {
            "cell_type": "code",
            "source": [
                "",
                "\n",
                "select\n",
                "\tF.Nfak as Fakultet,\n",
                "\tK.Nkaf as Kafedra\n",
                "from\n",
                "\tFakultet F inner join Kafedra K\n",
                "\ton F.ABfak = K.AbFak_Kaf\n",
                "order by\n",
                "\tFakultet, Kafedra"
            ],
            "metadata": {
                "language": "sql",
                "azdata_cell_guid": "eaf27c0c-1a35-4a3f-9105-d1109edc99ef",
                "tags": []
            },
            "outputs": [
                {
                    "output_type": "display_data",
                    "data": {
                        "text/html": "(6 rows affected)"
                    },
                    "metadata": {}
                },
                {
                    "output_type": "display_data",
                    "data": {
                        "text/html": "Total execution time: 00:00:00.005"
                    },
                    "metadata": {}
                },
                {
                    "output_type": "execute_result",
                    "execution_count": 2,
                    "data": {
                        "application/vnd.dataresource+json": {
                            "schema": {
                                "fields": [
                                    {
                                        "name": "Fakultet"
                                    },
                                    {
                                        "name": "Kafedra"
                                    }
                                ]
                            },
                            "data": [
                                {
                                    "0": "Естественные Науки",
                                    "1": "Высшая Математика"
                                },
                                {
                                    "0": "Естественные Науки",
                                    "1": "Общая Физика"
                                },
                                {
                                    "0": "Информационные Науки",
                                    "1": "Информационные Системы"
                                },
                                {
                                    "0": "Информационные Науки",
                                    "1": "Прикладная Математика"
                                },
                                {
                                    "0": "Физико Математический",
                                    "1": "Математическое Моделирование"
                                },
                                {
                                    "0": "Физико Математический",
                                    "1": "Экспериментальная Физика"
                                }
                            ]
                        },
                        "text/html": "<table><tr><th>Fakultet</th><th>Kafedra</th></tr><tr><td>Естественные Науки</td><td>Высшая Математика</td></tr><tr><td>Естественные Науки</td><td>Общая Физика</td></tr><tr><td>Информационные Науки</td><td>Информационные Системы</td></tr><tr><td>Информационные Науки</td><td>Прикладная Математика</td></tr><tr><td>Физико Математический</td><td>Математическое Моделирование</td></tr><tr><td>Физико Математический</td><td>Экспериментальная Физика</td></tr></table>"
                    },
                    "metadata": {}
                }
            ],
            "execution_count": 2
        },
        {
            "cell_type": "markdown",
            "source": [
                "## 3. Выбрать все факультеты и их кафедры, если существуют. Результат отсортировать по алфавиту"
            ],
            "metadata": {
                "language": "sql",
                "azdata_cell_guid": "4538af69-a256-4520-ba24-c626f29dc3cf"
            },
            "attachments": {}
        },
        {
            "cell_type": "code",
            "source": [
                "SELECT\n",
                "    F.Nfak as Fakultet\n",
                "    , K.Nkaf AS Kafedra\n",
                "    from\n",
                "    Fakultet F\n",
                "    LEFT OUTER JOIN Kafedra K ON\n",
                "    F.ABfak = K.AbFak_Kaf\n",
                "    ORDER BY\n",
                "        Fakultet, Kafedra"
            ],
            "metadata": {
                "language": "sql",
                "azdata_cell_guid": "30b2f45c-e0d1-4fe9-a452-1d4d43f967c8"
            },
            "outputs": [
                {
                    "output_type": "display_data",
                    "data": {
                        "text/html": "(7 rows affected)"
                    },
                    "metadata": {}
                },
                {
                    "output_type": "display_data",
                    "data": {
                        "text/html": "Total execution time: 00:00:00.005"
                    },
                    "metadata": {}
                },
                {
                    "output_type": "execute_result",
                    "execution_count": 1,
                    "data": {
                        "application/vnd.dataresource+json": {
                            "schema": {
                                "fields": [
                                    {
                                        "name": "Fakultet"
                                    },
                                    {
                                        "name": "Kafedra"
                                    }
                                ]
                            },
                            "data": [
                                {
                                    "0": "Гуманнитарные Науки",
                                    "1": "NULL"
                                },
                                {
                                    "0": "Естественные Науки",
                                    "1": "Высшая Математика"
                                },
                                {
                                    "0": "Естественные Науки",
                                    "1": "Общая Физика"
                                },
                                {
                                    "0": "Информационные Науки",
                                    "1": "Информационные Системы"
                                },
                                {
                                    "0": "Информационные Науки",
                                    "1": "Прикладная Математика"
                                },
                                {
                                    "0": "Физико Математический",
                                    "1": "Математическое Моделирование"
                                },
                                {
                                    "0": "Физико Математический",
                                    "1": "Экспериментальная Физика"
                                }
                            ]
                        },
                        "text/html": "<table><tr><th>Fakultet</th><th>Kafedra</th></tr><tr><td>Гуманнитарные Науки</td><td>NULL</td></tr><tr><td>Естественные Науки</td><td>Высшая Математика</td></tr><tr><td>Естественные Науки</td><td>Общая Физика</td></tr><tr><td>Информационные Науки</td><td>Информационные Системы</td></tr><tr><td>Информационные Науки</td><td>Прикладная Математика</td></tr><tr><td>Физико Математический</td><td>Математическое Моделирование</td></tr><tr><td>Физико Математический</td><td>Экспериментальная Физика</td></tr></table>"
                    },
                    "metadata": {}
                }
            ],
            "execution_count": 1
        },
        {
            "cell_type": "markdown",
            "source": [
                "## 4. Вывести из таблиц «Кафедра», «Специальность» и «Студент» данные о студентах"
            ],
            "metadata": {
                "language": "sql",
                "azdata_cell_guid": "e835a12b-2cc0-4c1c-80d8-a3c8419dc67c"
            },
            "attachments": {}
        },
        {
            "cell_type": "code",
            "source": [
                "",
                "\n",
                "select\n",
                "\tS.Fio_stud,\n",
                "\tP.NaprSpez,\n",
                "\tK.Nkaf as Kafedra\n",
                "from\n",
                "\tStudent S\n",
                "\tinner join Spezialn P on S.NomSpez_St = P.Nspez\n",
                "\tinner join Kafedra K on P.Shifr_spez = K.ShifrKaf\n",
                "where\n",
                "\tK.AbFak_Kaf = N'ит'"
            ],
            "metadata": {
                "language": "sql",
                "azdata_cell_guid": "ea103506-d030-4545-9c2b-fddc7bbbf0ee"
            },
            "outputs": [
                {
                    "output_type": "display_data",
                    "data": {
                        "text/html": "(4 rows affected)"
                    },
                    "metadata": {}
                },
                {
                    "output_type": "display_data",
                    "data": {
                        "text/html": "Total execution time: 00:00:00.007"
                    },
                    "metadata": {}
                },
                {
                    "output_type": "execute_result",
                    "execution_count": 3,
                    "data": {
                        "application/vnd.dataresource+json": {
                            "schema": {
                                "fields": [
                                    {
                                        "name": "Fio_stud"
                                    },
                                    {
                                        "name": "NaprSpez"
                                    },
                                    {
                                        "name": "Kafedra"
                                    }
                                ]
                            },
                            "data": [
                                {
                                    "0": "Андреев",
                                    "1": "Информационные системы и технологии",
                                    "2": "Информационные Системы"
                                },
                                {
                                    "0": "Федоров",
                                    "1": "Информационные системы и технологии",
                                    "2": "Информационные Системы"
                                },
                                {
                                    "0": "Макаров",
                                    "1": "Бизнес информатика",
                                    "2": "Информационные Системы"
                                },
                                {
                                    "0": "Яковлев",
                                    "1": "Бизнес информатика",
                                    "2": "Информационные Системы"
                                }
                            ]
                        },
                        "text/html": "<table><tr><th>Fio_stud</th><th>NaprSpez</th><th>Kafedra</th></tr><tr><td>Андреев</td><td>Информационные системы и технологии</td><td>Информационные Системы</td></tr><tr><td>Федоров</td><td>Информационные системы и технологии</td><td>Информационные Системы</td></tr><tr><td>Макаров</td><td>Бизнес информатика</td><td>Информационные Системы</td></tr><tr><td>Яковлев</td><td>Бизнес информатика</td><td>Информационные Системы</td></tr></table>"
                    },
                    "metadata": {}
                }
            ],
            "execution_count": 3
        },
        {
            "cell_type": "markdown",
            "source": [
                "## 5. Вывести для каждого сотрудника фамилию, должность, зарплату и фамилию его непосредственного руководителя"
            ],
            "metadata": {
                "language": "sql",
                "azdata_cell_guid": "797ad84e-1125-430a-995e-7cf66dffbf60"
            },
            "attachments": {}
        },
        {
            "cell_type": "code",
            "source": [
                "SELECT\n",
                "    S.FIO, S.Dolgn, S.Zarplata, P.FIO AS Rukovoditel\n",
                "    FROM Sotrudnik S INNER JOIN Sotrudnik P ON S.TabNom = P.TabNom_ruk"
            ],
            "metadata": {
                "language": "sql",
                "azdata_cell_guid": "aee91a5d-bba7-4abd-add4-25e9e2d83f4f"
            },
            "outputs": [
                {
                    "output_type": "display_data",
                    "data": {
                        "text/html": "(20 rows affected)"
                    },
                    "metadata": {}
                },
                {
                    "output_type": "display_data",
                    "data": {
                        "text/html": "Total execution time: 00:00:00.005"
                    },
                    "metadata": {}
                },
                {
                    "output_type": "execute_result",
                    "metadata": {},
                    "execution_count": 2,
                    "data": {
                        "application/vnd.dataresource+json": {
                            "schema": {
                                "fields": [
                                    {
                                        "name": "FIO"
                                    },
                                    {
                                        "name": "Dolgn"
                                    },
                                    {
                                        "name": "Zarplata"
                                    },
                                    {
                                        "name": "Rukovoditel"
                                    }
                                ]
                            },
                            "data": [
                                {
                                    "0": "Прохоров",
                                    "1": "зав.кафедрой",
                                    "2": "3500.00",
                                    "3": "Прохоров"
                                },
                                {
                                    "0": "Прохоров",
                                    "1": "зав.кафедрой",
                                    "2": "3500.00",
                                    "3": "Семенов"
                                },
                                {
                                    "0": "Прохоров",
                                    "1": "зав.кафедрой",
                                    "2": "3500.00",
                                    "3": "Петров"
                                },
                                {
                                    "0": "Семенов",
                                    "1": "преподаватель",
                                    "2": "2500.00",
                                    "3": "Сидоров"
                                },
                                {
                                    "0": "Андреев",
                                    "1": "зав.кафедрой",
                                    "2": "3500.00",
                                    "3": "Андреев"
                                },
                                {
                                    "0": "Андреев",
                                    "1": "зав.кафедрой",
                                    "2": "3500.00",
                                    "3": "Борисов"
                                },
                                {
                                    "0": "Андреев",
                                    "1": "зав.кафедрой",
                                    "2": "3500.00",
                                    "3": "Глухов"
                                },
                                {
                                    "0": "Борисов",
                                    "1": "преподаватель",
                                    "2": "2500.00",
                                    "3": "Чернов"
                                },
                                {
                                    "0": "Басов",
                                    "1": "зав.кафедрой",
                                    "2": "3500.00",
                                    "3": "Басов"
                                },
                                {
                                    "0": "Басов",
                                    "1": "зав.кафедрой",
                                    "2": "3500.00",
                                    "3": "Сергеева"
                                },
                                {
                                    "0": "Волков",
                                    "1": "зав.кафедрой",
                                    "2": "3500.00",
                                    "3": "Волков"
                                },
                                {
                                    "0": "Волков",
                                    "1": "зав.кафедрой",
                                    "2": "3500.00",
                                    "3": "Зайцев"
                                },
                                {
                                    "0": "Волков",
                                    "1": "зав.кафедрой",
                                    "2": "3500.00",
                                    "3": "Смирнов"
                                },
                                {
                                    "0": "Зайцев",
                                    "1": "преподаватель",
                                    "2": "2500.00",
                                    "3": "Лисик"
                                },
                                {
                                    "0": "Кузнецов",
                                    "1": "зав.кафедрой",
                                    "2": "3500.00",
                                    "3": "Кузнецов"
                                },
                                {
                                    "0": "Кузнецов",
                                    "1": "зав.кафедрой",
                                    "2": "3500.00",
                                    "3": "Романцев"
                                },
                                {
                                    "0": "Кузнецов",
                                    "1": "зав.кафедрой",
                                    "2": "3500.00",
                                    "3": "Соловьев"
                                },
                                {
                                    "0": "Зверев",
                                    "1": "зав.кафедрой",
                                    "2": "3500.00",
                                    "3": "Зверев"
                                },
                                {
                                    "0": "Зверев",
                                    "1": "зав.кафедрой",
                                    "2": "3500.00",
                                    "3": "Сорокина"
                                },
                                {
                                    "0": "Сорокина",
                                    "1": "преподаватель",
                                    "2": "2500.00",
                                    "3": "Григорьев"
                                }
                            ]
                        },
                        "text/html": [
                            "<table>",
                            "<tr><th>FIO</th><th>Dolgn</th><th>Zarplata</th><th>Rukovoditel</th></tr>",
                            "<tr><td>Прохоров</td><td>зав.кафедрой</td><td>3500.00</td><td>Прохоров</td></tr>",
                            "<tr><td>Прохоров</td><td>зав.кафедрой</td><td>3500.00</td><td>Семенов</td></tr>",
                            "<tr><td>Прохоров</td><td>зав.кафедрой</td><td>3500.00</td><td>Петров</td></tr>",
                            "<tr><td>Семенов</td><td>преподаватель</td><td>2500.00</td><td>Сидоров</td></tr>",
                            "<tr><td>Андреев</td><td>зав.кафедрой</td><td>3500.00</td><td>Андреев</td></tr>",
                            "<tr><td>Андреев</td><td>зав.кафедрой</td><td>3500.00</td><td>Борисов</td></tr>",
                            "<tr><td>Андреев</td><td>зав.кафедрой</td><td>3500.00</td><td>Глухов</td></tr>",
                            "<tr><td>Борисов</td><td>преподаватель</td><td>2500.00</td><td>Чернов</td></tr>",
                            "<tr><td>Басов</td><td>зав.кафедрой</td><td>3500.00</td><td>Басов</td></tr>",
                            "<tr><td>Басов</td><td>зав.кафедрой</td><td>3500.00</td><td>Сергеева</td></tr>",
                            "<tr><td>Волков</td><td>зав.кафедрой</td><td>3500.00</td><td>Волков</td></tr>",
                            "<tr><td>Волков</td><td>зав.кафедрой</td><td>3500.00</td><td>Зайцев</td></tr>",
                            "<tr><td>Волков</td><td>зав.кафедрой</td><td>3500.00</td><td>Смирнов</td></tr>",
                            "<tr><td>Зайцев</td><td>преподаватель</td><td>2500.00</td><td>Лисик</td></tr>",
                            "<tr><td>Кузнецов</td><td>зав.кафедрой</td><td>3500.00</td><td>Кузнецов</td></tr>",
                            "<tr><td>Кузнецов</td><td>зав.кафедрой</td><td>3500.00</td><td>Романцев</td></tr>",
                            "<tr><td>Кузнецов</td><td>зав.кафедрой</td><td>3500.00</td><td>Соловьев</td></tr>",
                            "<tr><td>Зверев</td><td>зав.кафедрой</td><td>3500.00</td><td>Зверев</td></tr>",
                            "<tr><td>Зверев</td><td>зав.кафедрой</td><td>3500.00</td><td>Сорокина</td></tr>",
                            "<tr><td>Сорокина</td><td>преподаватель</td><td>2500.00</td><td>Григорьев</td></tr>",
                            "</table>"
                        ]
                    }
                }
            ],
            "execution_count": 2
        },
        {
            "cell_type": "code",
            "source": [
                "",
                "\n",
                "select \n",
                "\ts.fio,\n",
                "\tcount(o.data) as [Количество экзаменов]\n",
                "\tfrom Ozenka o \n",
                "\t\tinner join Sotrudnik s on o.Tab_Nom = s.TabNom\n",
                "group by \n",
                "\ts.FIO\n",
                "having\n",
                "\tcount(o.data) > 3\n",
                ""
            ],
            "metadata": {
                "language": "sql",
                "azdata_cell_guid": "3e0fa3d3-a440-469a-9d75-b11797f3efc0"
            },
            "outputs": [
                {
                    "output_type": "display_data",
                    "data": {
                        "text/html": "(0 rows affected)"
                    },
                    "metadata": {}
                },
                {
                    "output_type": "display_data",
                    "data": {
                        "text/html": "Total execution time: 00:00:00.007"
                    },
                    "metadata": {}
                },
                {
                    "output_type": "execute_result",
                    "execution_count": 4,
                    "data": {
                        "application/vnd.dataresource+json": {
                            "schema": {
                                "fields": [
                                    {
                                        "name": "fio"
                                    },
                                    {
                                        "name": "Количество экзаменов"
                                    }
                                ]
                            },
                            "data": []
                        },
                        "text/html": "<table><tr><th>fio</th><th>Количество экзаменов</th></tr></table>"
                    },
                    "metadata": {}
                }
            ],
            "execution_count": 4
        },
        {
            "cell_type": "markdown",
            "source": [
                "## 6. Вывести список студентов, сдавших хотя бы один экзамен.\n",
                "\n",
                "**По правилам соединения, студенты, не сдававшие экзамены, в выборке представлены не будут**"
            ],
            "metadata": {
                "language": "sql",
                "azdata_cell_guid": "0be5ff02-2f46-4f38-be1b-810ccd251d71"
            },
            "attachments": {}
        },
        {
            "cell_type": "code",
            "source": [
                "SELECT S.Fio_Stud\n",
                "FROM Student S\n",
                "GROUP BY S.Fio_Stud"
            ],
            "metadata": {
                "language": "sql",
                "azdata_cell_guid": "5030787d-55e8-4940-98e4-f78a524280dc"
            },
            "outputs": [
                {
                    "output_type": "display_data",
                    "data": {
                        "text/html": "(12 rows affected)"
                    },
                    "metadata": {}
                },
                {
                    "output_type": "display_data",
                    "data": {
                        "text/html": "Total execution time: 00:00:00.006"
                    },
                    "metadata": {}
                },
                {
                    "output_type": "execute_result",
                    "metadata": {},
                    "execution_count": 3,
                    "data": {
                        "application/vnd.dataresource+json": {
                            "schema": {
                                "fields": [
                                    {
                                        "name": "Fio_Stud"
                                    }
                                ]
                            },
                            "data": [
                                {
                                    "0": "Андреев"
                                },
                                {
                                    "0": "Бондаренко"
                                },
                                {
                                    "0": "Иванов"
                                },
                                {
                                    "0": "Крюков"
                                },
                                {
                                    "0": "Кудрявцев"
                                },
                                {
                                    "0": "Макаров"
                                },
                                {
                                    "0": "Николаева"
                                },
                                {
                                    "0": "Петров"
                                },
                                {
                                    "0": "Сергеев"
                                },
                                {
                                    "0": "Федоров"
                                },
                                {
                                    "0": "Цветков"
                                },
                                {
                                    "0": "Яковлев"
                                }
                            ]
                        },
                        "text/html": [
                            "<table>",
                            "<tr><th>Fio_Stud</th></tr>",
                            "<tr><td>Андреев</td></tr>",
                            "<tr><td>Бондаренко</td></tr>",
                            "<tr><td>Иванов</td></tr>",
                            "<tr><td>Крюков</td></tr>",
                            "<tr><td>Кудрявцев</td></tr>",
                            "<tr><td>Макаров</td></tr>",
                            "<tr><td>Николаева</td></tr>",
                            "<tr><td>Петров</td></tr>",
                            "<tr><td>Сергеев</td></tr>",
                            "<tr><td>Федоров</td></tr>",
                            "<tr><td>Цветков</td></tr>",
                            "<tr><td>Яковлев</td></tr>",
                            "</table>"
                        ]
                    }
                }
            ],
            "execution_count": 3
        },
        {
            "cell_type": "markdown",
            "source": [
                "## 7. Вывести из таблиц «Студент» и «Экзамен» учетные номера и фамилии cтудентов, а также количество сданных экзаменов и средний балл для каждого студента"
            ],
            "metadata": {
                "language": "sql",
                "azdata_cell_guid": "80e99a9a-83de-4336-aa2d-3ddc030bb970"
            },
            "attachments": {}
        },
        {
            "cell_type": "code",
            "source": [
                "SELECT S.Fio_Stud, COUNT(O.Ozenk_a) AS [Number of exams],\n",
                "AVG(O.Ozenk_a) AS [Average grade]\n",
                "FROM Student S INNER JOIN Ozenka O ON S.Reg_nom = O.ReGNom\n",
                "GROUP BY S.Fio_Stud"
            ],
            "metadata": {
                "language": "sql",
                "azdata_cell_guid": "81038fbc-291b-4586-9088-37044fa88303"
            },
            "outputs": [
                {
                    "output_type": "display_data",
                    "data": {
                        "text/html": "(10 rows affected)"
                    },
                    "metadata": {}
                },
                {
                    "output_type": "display_data",
                    "data": {
                        "text/html": "Total execution time: 00:00:00.008"
                    },
                    "metadata": {}
                },
                {
                    "output_type": "execute_result",
                    "metadata": {},
                    "execution_count": 5,
                    "data": {
                        "application/vnd.dataresource+json": {
                            "schema": {
                                "fields": [
                                    {
                                        "name": "Fio_Stud"
                                    },
                                    {
                                        "name": "Number of exams"
                                    },
                                    {
                                        "name": "Average grade"
                                    }
                                ]
                            },
                            "data": [
                                {
                                    "0": "Андреев",
                                    "1": "2",
                                    "2": "3"
                                },
                                {
                                    "0": "Бондаренко",
                                    "1": "2",
                                    "2": "3"
                                },
                                {
                                    "0": "Иванов",
                                    "1": "2",
                                    "2": "4"
                                },
                                {
                                    "0": "Кудрявцев",
                                    "1": "1",
                                    "2": "3"
                                },
                                {
                                    "0": "Макаров",
                                    "1": "3",
                                    "2": "4"
                                },
                                {
                                    "0": "Николаева",
                                    "1": "3",
                                    "2": "4"
                                },
                                {
                                    "0": "Сергеев",
                                    "1": "1",
                                    "2": "5"
                                },
                                {
                                    "0": "Федоров",
                                    "1": "1",
                                    "2": "3"
                                },
                                {
                                    "0": "Цветков",
                                    "1": "2",
                                    "2": "4"
                                },
                                {
                                    "0": "Яковлев",
                                    "1": "2",
                                    "2": "4"
                                }
                            ]
                        },
                        "text/html": [
                            "<table>",
                            "<tr><th>Fio_Stud</th><th>Number of exams</th><th>Average grade</th></tr>",
                            "<tr><td>Андреев</td><td>2</td><td>3</td></tr>",
                            "<tr><td>Бондаренко</td><td>2</td><td>3</td></tr>",
                            "<tr><td>Иванов</td><td>2</td><td>4</td></tr>",
                            "<tr><td>Кудрявцев</td><td>1</td><td>3</td></tr>",
                            "<tr><td>Макаров</td><td>3</td><td>4</td></tr>",
                            "<tr><td>Николаева</td><td>3</td><td>4</td></tr>",
                            "<tr><td>Сергеев</td><td>1</td><td>5</td></tr>",
                            "<tr><td>Федоров</td><td>1</td><td>3</td></tr>",
                            "<tr><td>Цветков</td><td>2</td><td>4</td></tr>",
                            "<tr><td>Яковлев</td><td>2</td><td>4</td></tr>",
                            "</table>"
                        ]
                    }
                }
            ],
            "execution_count": 5
        },
        {
            "cell_type": "markdown",
            "source": [
                "## 8. Вывести список заведующих кафедрами и их зарплаты, и стаж работы"
            ],
            "metadata": {
                "language": "sql",
                "azdata_cell_guid": "5ed55865-8add-446e-ad7f-a64c5c7c08dd"
            },
            "attachments": {}
        },
        {
            "cell_type": "code",
            "source": [
                "SELECT S.FIO, S.Zarplata, Z.St_K\n",
                "FROM Sotrudnik S INNER JOIN ZavKaf Z on S.TabNom = Z.TabNom_K"
            ],
            "metadata": {
                "language": "sql",
                "azdata_cell_guid": "2b64b06f-e9d0-4e48-a0e1-ac5d3ce7ee37"
            },
            "outputs": [
                {
                    "output_type": "display_data",
                    "data": {
                        "text/html": "(6 rows affected)"
                    },
                    "metadata": {}
                },
                {
                    "output_type": "display_data",
                    "data": {
                        "text/html": "Total execution time: 00:00:00.006"
                    },
                    "metadata": {}
                },
                {
                    "output_type": "execute_result",
                    "metadata": {},
                    "execution_count": 6,
                    "data": {
                        "application/vnd.dataresource+json": {
                            "schema": {
                                "fields": [
                                    {
                                        "name": "FIO"
                                    },
                                    {
                                        "name": "Zarplata"
                                    },
                                    {
                                        "name": "St_K"
                                    }
                                ]
                            },
                            "data": [
                                {
                                    "0": "Прохоров",
                                    "1": "3500.00",
                                    "2": "15"
                                },
                                {
                                    "0": "Андреев",
                                    "1": "3500.00",
                                    "2": "18"
                                },
                                {
                                    "0": "Басов",
                                    "1": "3500.00",
                                    "2": "20"
                                },
                                {
                                    "0": "Волков",
                                    "1": "3500.00",
                                    "2": "10"
                                },
                                {
                                    "0": "Кузнецов",
                                    "1": "3500.00",
                                    "2": "18"
                                },
                                {
                                    "0": "Зверев",
                                    "1": "3500.00",
                                    "2": "8"
                                }
                            ]
                        },
                        "text/html": [
                            "<table>",
                            "<tr><th>FIO</th><th>Zarplata</th><th>St_K</th></tr>",
                            "<tr><td>Прохоров</td><td>3500.00</td><td>15</td></tr>",
                            "<tr><td>Андреев</td><td>3500.00</td><td>18</td></tr>",
                            "<tr><td>Басов</td><td>3500.00</td><td>20</td></tr>",
                            "<tr><td>Волков</td><td>3500.00</td><td>10</td></tr>",
                            "<tr><td>Кузнецов</td><td>3500.00</td><td>18</td></tr>",
                            "<tr><td>Зверев</td><td>3500.00</td><td>8</td></tr>",
                            "</table>"
                        ]
                    }
                }
            ],
            "execution_count": 6
        },
        {
            "cell_type": "markdown",
            "source": [
                "## 9. Вывести список кандидатов и докторов физико-математических наук"
            ],
            "metadata": {
                "language": "sql",
                "azdata_cell_guid": "ba9001ba-e004-4077-ae97-288b4fa51cdf"
            },
            "attachments": {}
        },
        {
            "cell_type": "code",
            "source": [
                "SELECT S.FIO, P.Stepen FROM Sotrudnik S INNER JOIN Prepodavatel P ON S.TabNom = P.TabNom_pr\n",
                "WHERE P.Stepen IN (N'к.ф.-м.н', N'д.ф.-м.н')"
            ],
            "metadata": {
                "language": "sql",
                "azdata_cell_guid": "748e2b7f-70c0-48be-8aa0-648576ff2109"
            },
            "outputs": [
                {
                    "output_type": "display_data",
                    "data": {
                        "text/html": "(7 rows affected)"
                    },
                    "metadata": {}
                },
                {
                    "output_type": "display_data",
                    "data": {
                        "text/html": "Total execution time: 00:00:00.008"
                    },
                    "metadata": {}
                },
                {
                    "output_type": "execute_result",
                    "metadata": {},
                    "execution_count": 12,
                    "data": {
                        "application/vnd.dataresource+json": {
                            "schema": {
                                "fields": [
                                    {
                                        "name": "FIO"
                                    },
                                    {
                                        "name": "Stepen"
                                    }
                                ]
                            },
                            "data": [
                                {
                                    "0": "Семенов",
                                    "1": "к.ф.-м.н"
                                },
                                {
                                    "0": "Андреев",
                                    "1": "д.ф.-м.н"
                                },
                                {
                                    "0": "Борисов",
                                    "1": "к.ф.-м.н"
                                },
                                {
                                    "0": "Кузнецов",
                                    "1": "д.ф.-м.н"
                                },
                                {
                                    "0": "Романцев",
                                    "1": "д.ф.-м.н"
                                },
                                {
                                    "0": "Соловьев",
                                    "1": "к.ф.-м.н"
                                },
                                {
                                    "0": "Зверев",
                                    "1": "д.ф.-м.н"
                                }
                            ]
                        },
                        "text/html": [
                            "<table>",
                            "<tr><th>FIO</th><th>Stepen</th></tr>",
                            "<tr><td>Семенов</td><td>к.ф.-м.н</td></tr>",
                            "<tr><td>Андреев</td><td>д.ф.-м.н</td></tr>",
                            "<tr><td>Борисов</td><td>к.ф.-м.н</td></tr>",
                            "<tr><td>Кузнецов</td><td>д.ф.-м.н</td></tr>",
                            "<tr><td>Романцев</td><td>д.ф.-м.н</td></tr>",
                            "<tr><td>Соловьев</td><td>к.ф.-м.н</td></tr>",
                            "<tr><td>Зверев</td><td>д.ф.-м.н</td></tr>",
                            "</table>"
                        ]
                    }
                }
            ],
            "execution_count": 12
        },
        {
            "cell_type": "markdown",
            "source": [
                "## 10. Вывести название дисциплины, фамилию, должность и степень преподавателя, дату и место проведения экзаменов в хронологическом порядке"
            ],
            "metadata": {
                "language": "sql",
                "azdata_cell_guid": "45d4f891-fa86-4b47-b6f4-43937384e243"
            },
            "attachments": {}
        },
        {
            "cell_type": "code",
            "source": [
                "SELECT DISTINCT\n",
                "    PR.Predmet AS [discipline], S.FIO, S.Dolgn, P.Stepen, O.data, O.Auditoria\n",
                "    FROM Ozenka O\n",
                "    INNER JOIN Predmet PR ON O.kod = PR.kod_pred\n",
                "    INNER JOIN Sotrudnik S ON O.Tab_Nom = S.TabNom\n",
                "    INNER JOIN Prepodavatel P ON O.Tab_Nom = P.TabNom_pr\n",
                "    ORDER BY O.[data]"
            ],
            "metadata": {
                "language": "sql",
                "azdata_cell_guid": "74a17cfc-0ee6-4015-9190-c4483810bce1"
            },
            "outputs": [
                {
                    "output_type": "display_data",
                    "data": {
                        "text/html": "(14 rows affected)"
                    },
                    "metadata": {}
                },
                {
                    "output_type": "display_data",
                    "data": {
                        "text/html": "Total execution time: 00:00:00.013"
                    },
                    "metadata": {}
                },
                {
                    "output_type": "execute_result",
                    "metadata": {},
                    "execution_count": 11,
                    "data": {
                        "application/vnd.dataresource+json": {
                            "schema": {
                                "fields": [
                                    {
                                        "name": "discipline"
                                    },
                                    {
                                        "name": "FIO"
                                    },
                                    {
                                        "name": "Dolgn"
                                    },
                                    {
                                        "name": "Stepen"
                                    },
                                    {
                                        "name": "data"
                                    },
                                    {
                                        "name": "Auditoria"
                                    }
                                ]
                            },
                            "data": [
                                {
                                    "0": "База данных",
                                    "1": "Борисов",
                                    "2": "преподаватель",
                                    "3": "к.ф.-м.н",
                                    "4": "2022-06-05",
                                    "5": "т506"
                                },
                                {
                                    "0": "Информатика",
                                    "1": "Семенов",
                                    "2": "преподаватель",
                                    "3": "к.ф.-м.н",
                                    "4": "2022-06-05",
                                    "5": "т505"
                                },
                                {
                                    "0": "Информатика",
                                    "1": "Петров",
                                    "2": "преподаватель",
                                    "3": "к.т.н",
                                    "4": "2022-06-07",
                                    "5": "ф419"
                                },
                                {
                                    "0": "Информатика",
                                    "1": "Прохоров",
                                    "2": "зав.кафедрой",
                                    "3": "д.т.н",
                                    "4": "2022-06-07",
                                    "5": "т506"
                                },
                                {
                                    "0": "Моделирование",
                                    "1": "Сергеева",
                                    "2": "преподаватель",
                                    "3": "к.т.н",
                                    "4": "2022-06-09",
                                    "5": "ф333"
                                },
                                {
                                    "0": "Программирование",
                                    "1": "Зайцев",
                                    "2": "преподаватель",
                                    "3": "к.т.н",
                                    "4": "2022-06-09",
                                    "5": "м424"
                                },
                                {
                                    "0": "Математика",
                                    "1": "Кузнецов",
                                    "2": "зав.кафедрой",
                                    "3": "д.ф.-м.н",
                                    "4": "2022-06-10",
                                    "5": "т506"
                                },
                                {
                                    "0": "Моделирование",
                                    "1": "Басов",
                                    "2": "зав.кафедрой",
                                    "3": "д.т.н",
                                    "4": "2022-06-10",
                                    "5": "э105"
                                },
                                {
                                    "0": "Электронника",
                                    "1": "Зверев",
                                    "2": "зав.кафедрой",
                                    "3": "д.ф.-м.н",
                                    "4": "2022-06-10",
                                    "5": "ф349"
                                },
                                {
                                    "0": "Математика",
                                    "1": "Романцев",
                                    "2": "преподаватель",
                                    "3": "д.ф.-м.н",
                                    "4": "2022-06-12",
                                    "5": "с324"
                                },
                                {
                                    "0": "Информатика",
                                    "1": "Семенов",
                                    "2": "преподаватель",
                                    "3": "к.ф.-м.н",
                                    "4": "2022-06-15",
                                    "5": "т505"
                                },
                                {
                                    "0": "Математика",
                                    "1": "Кузнецов",
                                    "2": "зав.кафедрой",
                                    "3": "д.ф.-м.н",
                                    "4": "2022-06-15",
                                    "5": "ф201"
                                },
                                {
                                    "0": "Математика",
                                    "1": "Соловьев",
                                    "2": "преподаватель",
                                    "3": "к.ф.-м.н",
                                    "4": "2022-06-15",
                                    "5": "ф417"
                                },
                                {
                                    "0": "Физика",
                                    "1": "Зайцев",
                                    "2": "преподаватель",
                                    "3": "к.т.н",
                                    "4": "2022-06-15",
                                    "5": "ф414"
                                }
                            ]
                        },
                        "text/html": [
                            "<table>",
                            "<tr><th>discipline</th><th>FIO</th><th>Dolgn</th><th>Stepen</th><th>data</th><th>Auditoria</th></tr>",
                            "<tr><td>База данных</td><td>Борисов</td><td>преподаватель</td><td>к.ф.-м.н</td><td>2022-06-05</td><td>т506</td></tr>",
                            "<tr><td>Информатика</td><td>Семенов</td><td>преподаватель</td><td>к.ф.-м.н</td><td>2022-06-05</td><td>т505</td></tr>",
                            "<tr><td>Информатика</td><td>Петров</td><td>преподаватель</td><td>к.т.н</td><td>2022-06-07</td><td>ф419</td></tr>",
                            "<tr><td>Информатика</td><td>Прохоров</td><td>зав.кафедрой</td><td>д.т.н</td><td>2022-06-07</td><td>т506</td></tr>",
                            "<tr><td>Моделирование</td><td>Сергеева</td><td>преподаватель</td><td>к.т.н</td><td>2022-06-09</td><td>ф333</td></tr>",
                            "<tr><td>Программирование</td><td>Зайцев</td><td>преподаватель</td><td>к.т.н</td><td>2022-06-09</td><td>м424</td></tr>",
                            "<tr><td>Математика</td><td>Кузнецов</td><td>зав.кафедрой</td><td>д.ф.-м.н</td><td>2022-06-10</td><td>т506</td></tr>",
                            "<tr><td>Моделирование</td><td>Басов</td><td>зав.кафедрой</td><td>д.т.н</td><td>2022-06-10</td><td>э105</td></tr>",
                            "<tr><td>Электронника</td><td>Зверев</td><td>зав.кафедрой</td><td>д.ф.-м.н</td><td>2022-06-10</td><td>ф349</td></tr>",
                            "<tr><td>Математика</td><td>Романцев</td><td>преподаватель</td><td>д.ф.-м.н</td><td>2022-06-12</td><td>с324</td></tr>",
                            "<tr><td>Информатика</td><td>Семенов</td><td>преподаватель</td><td>к.ф.-м.н</td><td>2022-06-15</td><td>т505</td></tr>",
                            "<tr><td>Математика</td><td>Кузнецов</td><td>зав.кафедрой</td><td>д.ф.-м.н</td><td>2022-06-15</td><td>ф201</td></tr>",
                            "<tr><td>Математика</td><td>Соловьев</td><td>преподаватель</td><td>к.ф.-м.н</td><td>2022-06-15</td><td>ф417</td></tr>",
                            "<tr><td>Физика</td><td>Зайцев</td><td>преподаватель</td><td>к.т.н</td><td>2022-06-15</td><td>ф414</td></tr>",
                            "</table>"
                        ]
                    }
                }
            ],
            "execution_count": 11
        },
        {
            "cell_type": "markdown",
            "source": [
                "## 11. Вывести фамилию преподавателей и количество их экзаменов"
            ],
            "metadata": {
                "language": "sql",
                "azdata_cell_guid": "c1d0625d-fa95-44e7-b243-fee80ecf69f6"
            },
            "attachments": {}
        },
        {
            "cell_type": "code",
            "source": [
                "SELECT S.FIO, COUNT(O.data) AS [Exams number]\n",
                "FROM Ozenka O INNER JOIN Sotrudnik S ON O.Tab_Nom = S.TabNom\n",
                "GROUP BY S.FIO"
            ],
            "metadata": {
                "language": "sql",
                "azdata_cell_guid": "063b996b-ee29-4375-9821-e2c7d1bb4848"
            },
            "outputs": [
                {
                    "output_type": "display_data",
                    "data": {
                        "text/html": "(11 rows affected)"
                    },
                    "metadata": {}
                },
                {
                    "output_type": "display_data",
                    "data": {
                        "text/html": "Total execution time: 00:00:00.006"
                    },
                    "metadata": {}
                },
                {
                    "output_type": "execute_result",
                    "metadata": {},
                    "execution_count": 13,
                    "data": {
                        "application/vnd.dataresource+json": {
                            "schema": {
                                "fields": [
                                    {
                                        "name": "FIO"
                                    },
                                    {
                                        "name": "Exams number"
                                    }
                                ]
                            },
                            "data": [
                                {
                                    "0": "Басов",
                                    "1": "2"
                                },
                                {
                                    "0": "Борисов",
                                    "1": "2"
                                },
                                {
                                    "0": "Зайцев",
                                    "1": "2"
                                },
                                {
                                    "0": "Зверев",
                                    "1": "1"
                                },
                                {
                                    "0": "Кузнецов",
                                    "1": "3"
                                },
                                {
                                    "0": "Петров",
                                    "1": "1"
                                },
                                {
                                    "0": "Прохоров",
                                    "1": "1"
                                },
                                {
                                    "0": "Романцев",
                                    "1": "1"
                                },
                                {
                                    "0": "Семенов",
                                    "1": "3"
                                },
                                {
                                    "0": "Сергеева",
                                    "1": "1"
                                },
                                {
                                    "0": "Соловьев",
                                    "1": "1"
                                }
                            ]
                        },
                        "text/html": [
                            "<table>",
                            "<tr><th>FIO</th><th>Exams number</th></tr>",
                            "<tr><td>Басов</td><td>2</td></tr>",
                            "<tr><td>Борисов</td><td>2</td></tr>",
                            "<tr><td>Зайцев</td><td>2</td></tr>",
                            "<tr><td>Зверев</td><td>1</td></tr>",
                            "<tr><td>Кузнецов</td><td>3</td></tr>",
                            "<tr><td>Петров</td><td>1</td></tr>",
                            "<tr><td>Прохоров</td><td>1</td></tr>",
                            "<tr><td>Романцев</td><td>1</td></tr>",
                            "<tr><td>Семенов</td><td>3</td></tr>",
                            "<tr><td>Сергеева</td><td>1</td></tr>",
                            "<tr><td>Соловьев</td><td>1</td></tr>",
                            "</table>"
                        ]
                    }
                }
            ],
            "execution_count": 13
        },
        {
            "cell_type": "markdown",
            "source": [
                "## 12. Вывести список студентов, не сдавших ни одного экзамена"
            ],
            "metadata": {
                "language": "sql",
                "azdata_cell_guid": "b2d4ff9a-8202-4104-a15f-601ad21bc048"
            },
            "attachments": {}
        },
        {
            "cell_type": "code",
            "source": [
                "SELECT\n",
                "    S.Fio_stud\n",
                "    FROM Student S LEFT OUTER JOIN Ozenka O ON S.Reg_nom = O.ReGNom\n",
                "    WHERE O.ReGNom IS NULL"
            ],
            "metadata": {
                "language": "sql",
                "azdata_cell_guid": "2e73761c-4583-4380-989e-e1a05079cf56"
            },
            "outputs": [
                {
                    "output_type": "display_data",
                    "data": {
                        "text/html": "(2 rows affected)"
                    },
                    "metadata": {}
                },
                {
                    "output_type": "display_data",
                    "data": {
                        "text/html": "Total execution time: 00:00:00.007"
                    },
                    "metadata": {}
                },
                {
                    "output_type": "execute_result",
                    "metadata": {},
                    "execution_count": 14,
                    "data": {
                        "application/vnd.dataresource+json": {
                            "schema": {
                                "fields": [
                                    {
                                        "name": "Fio_stud"
                                    }
                                ]
                            },
                            "data": [
                                {
                                    "0": "Крюков"
                                },
                                {
                                    "0": "Петров"
                                }
                            ]
                        },
                        "text/html": [
                            "<table>",
                            "<tr><th>Fio_stud</th></tr>",
                            "<tr><td>Крюков</td></tr>",
                            "<tr><td>Петров</td></tr>",
                            "</table>"
                        ]
                    }
                }
            ],
            "execution_count": 14
        },
        {
            "cell_type": "markdown",
            "source": [
                "# II. Самостоятельная (домашняя) работа"
            ],
            "metadata": {
                "language": "sql",
                "azdata_cell_guid": "0c6c13da-eaea-42e2-b4b9-e048aaf2ae1a"
            },
            "attachments": {}
        },
        {
            "cell_type": "markdown",
            "source": [
                "## 11. Вывести список студентов, не сдавших ни одного экзамена в указанной дате."
            ],
            "metadata": {
                "language": "sql",
                "azdata_cell_guid": "e03440d3-3590-4ed4-a658-5090e8461eef"
            },
            "attachments": {}
        },
        {
            "cell_type": "code",
            "source": [
                "",
                "\n",
                "select\n",
                "\tfio_stud\n",
                "from \n",
                "\tStudent\n",
                "where\n",
                "\tFio_Stud not in\n",
                "\t(select \n",
                "\t\ts.fio_stud\n",
                "\t\tfrom Student s\n",
                "\t\t\tleft outer join Ozenka o on s.Reg_nom=o.ReGNom\n",
                "\twhere\n",
                "\t\to.data = '2022-06-05'\n",
                "\tgroup by \n",
                "\t\ts.Fio_Stud)"
            ],
            "metadata": {
                "language": "sql",
                "azdata_cell_guid": "625dcfc9-7ea8-45e5-a1f3-26a823eba5e5"
            },
            "outputs": [
                {
                    "output_type": "display_data",
                    "data": {
                        "text/html": "(8 rows affected)"
                    },
                    "metadata": {}
                },
                {
                    "output_type": "display_data",
                    "data": {
                        "text/html": "Total execution time: 00:00:00.017"
                    },
                    "metadata": {}
                },
                {
                    "output_type": "execute_result",
                    "execution_count": 5,
                    "data": {
                        "application/vnd.dataresource+json": {
                            "schema": {
                                "fields": [
                                    {
                                        "name": "fio_stud"
                                    }
                                ]
                            },
                            "data": [
                                {
                                    "0": "Крюков"
                                },
                                {
                                    "0": "Бондаренко"
                                },
                                {
                                    "0": "Цветков"
                                },
                                {
                                    "0": "Петров"
                                },
                                {
                                    "0": "Сергеев"
                                },
                                {
                                    "0": "Кудрявцев"
                                },
                                {
                                    "0": "Макаров"
                                },
                                {
                                    "0": "Яковлев"
                                }
                            ]
                        },
                        "text/html": "<table><tr><th>fio_stud</th></tr><tr><td>Крюков</td></tr><tr><td>Бондаренко</td></tr><tr><td>Цветков</td></tr><tr><td>Петров</td></tr><tr><td>Сергеев</td></tr><tr><td>Кудрявцев</td></tr><tr><td>Макаров</td></tr><tr><td>Яковлев</td></tr></table>"
                    },
                    "metadata": {}
                }
            ],
            "execution_count": 5
        },
        {
            "cell_type": "markdown",
            "source": [
                "## 2. Вывести в запросе для каждого сотрудника номер и фамилию его непосредственного руководителя. Для заведующих кафедрами поле руководителя оставить пустым. "
            ],
            "metadata": {
                "language": "sql",
                "azdata_cell_guid": "8c965898-9429-46f3-b8d0-e5d5446a71d3"
            },
            "attachments": {}
        },
        {
            "cell_type": "code",
            "source": [
                "",
                "\n",
                "select\n",
                "\tP.TabNom_ruk as Nom_ruk,\n",
                "\tIIF(S.Dolgn = N'зав.кафедрой', null, P.FIO) as Manager\n",
                "from\n",
                "\tSotrudnik S\n",
                "\tinner join Sotrudnik P on S.TabNom = P.TabNom_ruk"
            ],
            "metadata": {
                "language": "sql",
                "azdata_cell_guid": "9e97ccef-d7bd-42d6-8587-065fb659049b"
            },
            "outputs": [
                {
                    "output_type": "display_data",
                    "data": {
                        "text/html": "(20 rows affected)"
                    },
                    "metadata": {}
                },
                {
                    "output_type": "display_data",
                    "data": {
                        "text/html": "Total execution time: 00:00:00.011"
                    },
                    "metadata": {}
                },
                {
                    "output_type": "execute_result",
                    "execution_count": 6,
                    "data": {
                        "application/vnd.dataresource+json": {
                            "schema": {
                                "fields": [
                                    {
                                        "name": "Nom_ruk"
                                    },
                                    {
                                        "name": "Manager"
                                    }
                                ]
                            },
                            "data": [
                                {
                                    "0": "101",
                                    "1": "NULL"
                                },
                                {
                                    "0": "101",
                                    "1": "NULL"
                                },
                                {
                                    "0": "101",
                                    "1": "NULL"
                                },
                                {
                                    "0": "102",
                                    "1": "Сидоров"
                                },
                                {
                                    "0": "201",
                                    "1": "NULL"
                                },
                                {
                                    "0": "201",
                                    "1": "NULL"
                                },
                                {
                                    "0": "201",
                                    "1": "NULL"
                                },
                                {
                                    "0": "202",
                                    "1": "Чернов"
                                },
                                {
                                    "0": "301",
                                    "1": "NULL"
                                },
                                {
                                    "0": "301",
                                    "1": "NULL"
                                },
                                {
                                    "0": "401",
                                    "1": "NULL"
                                },
                                {
                                    "0": "401",
                                    "1": "NULL"
                                },
                                {
                                    "0": "401",
                                    "1": "NULL"
                                },
                                {
                                    "0": "402",
                                    "1": "Лисик"
                                },
                                {
                                    "0": "501",
                                    "1": "NULL"
                                },
                                {
                                    "0": "501",
                                    "1": "NULL"
                                },
                                {
                                    "0": "501",
                                    "1": "NULL"
                                },
                                {
                                    "0": "601",
                                    "1": "NULL"
                                },
                                {
                                    "0": "601",
                                    "1": "NULL"
                                },
                                {
                                    "0": "602",
                                    "1": "Григорьев"
                                }
                            ]
                        },
                        "text/html": "<table><tr><th>Nom_ruk</th><th>Manager</th></tr><tr><td>101</td><td>NULL</td></tr><tr><td>101</td><td>NULL</td></tr><tr><td>101</td><td>NULL</td></tr><tr><td>102</td><td>Сидоров</td></tr><tr><td>201</td><td>NULL</td></tr><tr><td>201</td><td>NULL</td></tr><tr><td>201</td><td>NULL</td></tr><tr><td>202</td><td>Чернов</td></tr><tr><td>301</td><td>NULL</td></tr><tr><td>301</td><td>NULL</td></tr><tr><td>401</td><td>NULL</td></tr><tr><td>401</td><td>NULL</td></tr><tr><td>401</td><td>NULL</td></tr><tr><td>402</td><td>Лисик</td></tr><tr><td>501</td><td>NULL</td></tr><tr><td>501</td><td>NULL</td></tr><tr><td>501</td><td>NULL</td></tr><tr><td>601</td><td>NULL</td></tr><tr><td>601</td><td>NULL</td></tr><tr><td>602</td><td>Григорьев</td></tr></table>"
                    },
                    "metadata": {}
                }
            ],
            "execution_count": 6
        },
        {
            "cell_type": "markdown",
            "source": [
                "## 3. Вывести список студентов, сдавших минимум два экзамена. "
            ],
            "metadata": {
                "language": "sql",
                "azdata_cell_guid": "3b900e57-896f-42ec-9d94-0e5283223a42"
            },
            "attachments": {}
        },
        {
            "cell_type": "code",
            "source": [
                "",
                "\n",
                "select\n",
                "\ts.fio_stud,\n",
                "\tcount(O.Ozenk_a) as [Amount of exams]\n",
                "from\t\n",
                "\tStudent S\n",
                "\t\tinner join Ozenka O on S.Reg_nom = O.ReGNom\n",
                "group by \n",
                "\ts.Fio_Stud\n",
                "having\n",
                "\tcount(O.Ozenk_a) >= 2"
            ],
            "metadata": {
                "language": "sql",
                "azdata_cell_guid": "83ac64ba-bcdd-41ad-ad3c-2f9524e86226"
            },
            "outputs": [
                {
                    "output_type": "display_data",
                    "data": {
                        "text/html": "(7 rows affected)"
                    },
                    "metadata": {}
                },
                {
                    "output_type": "display_data",
                    "data": {
                        "text/html": "Total execution time: 00:00:00.008"
                    },
                    "metadata": {}
                },
                {
                    "output_type": "execute_result",
                    "execution_count": 7,
                    "data": {
                        "application/vnd.dataresource+json": {
                            "schema": {
                                "fields": [
                                    {
                                        "name": "fio_stud"
                                    },
                                    {
                                        "name": "Amount of exams"
                                    }
                                ]
                            },
                            "data": [
                                {
                                    "0": "Андреев",
                                    "1": "2"
                                },
                                {
                                    "0": "Бондаренко",
                                    "1": "2"
                                },
                                {
                                    "0": "Иванов",
                                    "1": "2"
                                },
                                {
                                    "0": "Макаров",
                                    "1": "3"
                                },
                                {
                                    "0": "Николаева",
                                    "1": "3"
                                },
                                {
                                    "0": "Цветков",
                                    "1": "2"
                                },
                                {
                                    "0": "Яковлев",
                                    "1": "2"
                                }
                            ]
                        },
                        "text/html": "<table><tr><th>fio_stud</th><th>Amount of exams</th></tr><tr><td>Андреев</td><td>2</td></tr><tr><td>Бондаренко</td><td>2</td></tr><tr><td>Иванов</td><td>2</td></tr><tr><td>Макаров</td><td>3</td></tr><tr><td>Николаева</td><td>3</td></tr><tr><td>Цветков</td><td>2</td></tr><tr><td>Яковлев</td><td>2</td></tr></table>"
                    },
                    "metadata": {}
                }
            ],
            "execution_count": 7
        },
        {
            "cell_type": "markdown",
            "source": [
                "## 4. Вывести список инженеров с зарплатой, меньшей 2000 руб."
            ],
            "metadata": {
                "language": "sql",
                "azdata_cell_guid": "6c1b941c-0b43-490f-bdad-4a76d510a5fd"
            },
            "attachments": {}
        },
        {
            "cell_type": "code",
            "source": [
                "",
                "\n",
                "select\n",
                "\ts.fio,\n",
                "\ts.zarplata\n",
                "from\t\n",
                "\tSotrudnik S\n",
                "\t\tinner join Ingener i on S.TabNom = i.TabNom_IN\n",
                "where\n",
                "\ts.Zarplata < 2000\n",
                ""
            ],
            "metadata": {
                "language": "sql",
                "azdata_cell_guid": "96b99167-2760-4e56-81f5-6eaffe88ae8b"
            },
            "outputs": [
                {
                    "output_type": "display_data",
                    "data": {
                        "text/html": "(2 rows affected)"
                    },
                    "metadata": {}
                },
                {
                    "output_type": "display_data",
                    "data": {
                        "text/html": "Total execution time: 00:00:00.008"
                    },
                    "metadata": {}
                },
                {
                    "output_type": "execute_result",
                    "execution_count": 8,
                    "data": {
                        "application/vnd.dataresource+json": {
                            "schema": {
                                "fields": [
                                    {
                                        "name": "fio"
                                    },
                                    {
                                        "name": "zarplata"
                                    }
                                ]
                            },
                            "data": [
                                {
                                    "0": "Сидоров",
                                    "1": "1500.00"
                                },
                                {
                                    "0": "Чернов",
                                    "1": "1500.00"
                                }
                            ]
                        },
                        "text/html": "<table><tr><th>fio</th><th>zarplata</th></tr><tr><td>Сидоров</td><td>1500.00</td></tr><tr><td>Чернов</td><td>1500.00</td></tr></table>"
                    },
                    "metadata": {}
                }
            ],
            "execution_count": 8
        },
        {
            "cell_type": "markdown",
            "source": [
                "## 5. Вывести список студентов, сдавших экзамены в заданной аудитории. "
            ],
            "metadata": {
                "language": "sql",
                "azdata_cell_guid": "d5cca145-d170-4418-bd34-f8ce89dc7fb4"
            },
            "attachments": {}
        },
        {
            "cell_type": "code",
            "source": [
                "",
                "\n",
                "select\n",
                "\ts.fio_stud,\n",
                "\to.Auditoria\n",
                "from\t\n",
                "\tStudent S\n",
                "\t\tinner join Ozenka O on S.Reg_nom = O.ReGNom\n",
                "group by \n",
                "\ts.Fio_Stud,\n",
                "\to.Auditoria\n",
                "having\n",
                "\tO.Auditoria = N'т505'"
            ],
            "metadata": {
                "language": "sql",
                "azdata_cell_guid": "8b5ccaf2-afef-4753-b4f5-abce20f60873"
            },
            "outputs": [
                {
                    "output_type": "display_data",
                    "data": {
                        "text/html": "(2 rows affected)"
                    },
                    "metadata": {}
                },
                {
                    "output_type": "display_data",
                    "data": {
                        "text/html": "Total execution time: 00:00:00.008"
                    },
                    "metadata": {}
                },
                {
                    "output_type": "execute_result",
                    "execution_count": 9,
                    "data": {
                        "application/vnd.dataresource+json": {
                            "schema": {
                                "fields": [
                                    {
                                        "name": "fio_stud"
                                    },
                                    {
                                        "name": "Auditoria"
                                    }
                                ]
                            },
                            "data": [
                                {
                                    "0": "Иванов",
                                    "1": "т505"
                                },
                                {
                                    "0": "Николаева",
                                    "1": "т505"
                                }
                            ]
                        },
                        "text/html": "<table><tr><th>fio_stud</th><th>Auditoria</th></tr><tr><td>Иванов</td><td>т505</td></tr><tr><td>Николаева</td><td>т505</td></tr></table>"
                    },
                    "metadata": {}
                }
            ],
            "execution_count": 9
        },
        {
            "cell_type": "markdown",
            "source": [
                "## 6. Вывести из таблиц «Студент» и «Экзамен» учетные номера и фамилии студентов, а также количество сданных экзаменов и средний балл для каждого студента только для тех студентов, у которых средний балл не меньше заданного (например, 4). "
            ],
            "metadata": {
                "language": "sql",
                "azdata_cell_guid": "310c539c-4559-41e1-8ec1-bd809d1973f6"
            },
            "attachments": {}
        },
        {
            "cell_type": "code",
            "source": [
                "",
                "\n",
                "select\n",
                "\ts.fio_stud,\n",
                "\tcount(O.Ozenk_a) as [Amount of exams],\n",
                "\tavg(O.Ozenk_a) as [Average Grade]\n",
                "from\t\n",
                "\tStudent S\n",
                "\t\tinner join Ozenka O on S.Reg_nom = O.ReGNom\n",
                "group by \n",
                "\ts.Fio_Stud\n",
                "having\n",
                "\tavg(O.Ozenk_a) >= 4"
            ],
            "metadata": {
                "language": "sql",
                "azdata_cell_guid": "da6376df-05e4-4920-af28-b14e5d8b0d24"
            },
            "outputs": [
                {
                    "output_type": "display_data",
                    "data": {
                        "text/html": "(6 rows affected)"
                    },
                    "metadata": {}
                },
                {
                    "output_type": "display_data",
                    "data": {
                        "text/html": "Total execution time: 00:00:00.009"
                    },
                    "metadata": {}
                },
                {
                    "output_type": "execute_result",
                    "execution_count": 10,
                    "data": {
                        "application/vnd.dataresource+json": {
                            "schema": {
                                "fields": [
                                    {
                                        "name": "fio_stud"
                                    },
                                    {
                                        "name": "Amount of exams"
                                    },
                                    {
                                        "name": "Average Grade"
                                    }
                                ]
                            },
                            "data": [
                                {
                                    "0": "Иванов",
                                    "1": "2",
                                    "2": "4"
                                },
                                {
                                    "0": "Макаров",
                                    "1": "3",
                                    "2": "4"
                                },
                                {
                                    "0": "Николаева",
                                    "1": "3",
                                    "2": "4"
                                },
                                {
                                    "0": "Сергеев",
                                    "1": "1",
                                    "2": "5"
                                },
                                {
                                    "0": "Цветков",
                                    "1": "2",
                                    "2": "4"
                                },
                                {
                                    "0": "Яковлев",
                                    "1": "2",
                                    "2": "4"
                                }
                            ]
                        },
                        "text/html": "<table><tr><th>fio_stud</th><th>Amount of exams</th><th>Average Grade</th></tr><tr><td>Иванов</td><td>2</td><td>4</td></tr><tr><td>Макаров</td><td>3</td><td>4</td></tr><tr><td>Николаева</td><td>3</td><td>4</td></tr><tr><td>Сергеев</td><td>1</td><td>5</td></tr><tr><td>Цветков</td><td>2</td><td>4</td></tr><tr><td>Яковлев</td><td>2</td><td>4</td></tr></table>"
                    },
                    "metadata": {}
                }
            ],
            "execution_count": 10
        },
        {
            "cell_type": "markdown",
            "source": [
                "## 7. Вывести список заведующих кафедрами и их зарплаты, и степень. "
            ],
            "metadata": {
                "language": "sql",
                "azdata_cell_guid": "77f39c14-d132-496f-bbf4-5ca4fc4a3a47"
            },
            "attachments": {}
        },
        {
            "cell_type": "code",
            "source": [
                "",
                "\n",
                "select\n",
                "\ts.fio,\n",
                "\ts.zarplata,\n",
                "\tp.Stepen\n",
                "from\t\n",
                "\tSotrudnik S\n",
                "\t\tinner join ZavKaf z on S.TabNom = z.TabNom_K\n",
                "\t\tinner join Prepodavatel p on S.TabNom = p.TabNom_pr"
            ],
            "metadata": {
                "language": "sql",
                "azdata_cell_guid": "a6d06b91-86cd-4152-92be-81088299576d"
            },
            "outputs": [
                {
                    "output_type": "display_data",
                    "data": {
                        "text/html": "(6 rows affected)"
                    },
                    "metadata": {}
                },
                {
                    "output_type": "display_data",
                    "data": {
                        "text/html": "Total execution time: 00:00:00.013"
                    },
                    "metadata": {}
                },
                {
                    "output_type": "execute_result",
                    "execution_count": 11,
                    "data": {
                        "application/vnd.dataresource+json": {
                            "schema": {
                                "fields": [
                                    {
                                        "name": "fio"
                                    },
                                    {
                                        "name": "zarplata"
                                    },
                                    {
                                        "name": "Stepen"
                                    }
                                ]
                            },
                            "data": [
                                {
                                    "0": "Прохоров",
                                    "1": "3500.00",
                                    "2": "д.т.н"
                                },
                                {
                                    "0": "Андреев",
                                    "1": "3500.00",
                                    "2": "д.ф.-м.н"
                                },
                                {
                                    "0": "Басов",
                                    "1": "3500.00",
                                    "2": "д.т.н"
                                },
                                {
                                    "0": "Волков",
                                    "1": "3500.00",
                                    "2": "д.т.н"
                                },
                                {
                                    "0": "Кузнецов",
                                    "1": "3500.00",
                                    "2": "д.ф.-м.н"
                                },
                                {
                                    "0": "Зверев",
                                    "1": "3500.00",
                                    "2": "д.ф.-м.н"
                                }
                            ]
                        },
                        "text/html": "<table><tr><th>fio</th><th>zarplata</th><th>Stepen</th></tr><tr><td>Прохоров</td><td>3500.00</td><td>д.т.н</td></tr><tr><td>Андреев</td><td>3500.00</td><td>д.ф.-м.н</td></tr><tr><td>Басов</td><td>3500.00</td><td>д.т.н</td></tr><tr><td>Волков</td><td>3500.00</td><td>д.т.н</td></tr><tr><td>Кузнецов</td><td>3500.00</td><td>д.ф.-м.н</td></tr><tr><td>Зверев</td><td>3500.00</td><td>д.ф.-м.н</td></tr></table>"
                    },
                    "metadata": {}
                }
            ],
            "execution_count": 11
        },
        {
            "cell_type": "markdown",
            "source": [
                "## 8. Вывести список профессоров. "
            ],
            "metadata": {
                "language": "sql",
                "azdata_cell_guid": "cb572e06-7b14-4391-b181-80ffa6273c92"
            },
            "attachments": {}
        },
        {
            "cell_type": "code",
            "source": [
                "",
                "\n",
                "select\n",
                "\ts.fio,\n",
                "\tp.Zvanie\n",
                "from\t\n",
                "\tSotrudnik S\n",
                "\t\tinner join Prepodavatel p on S.TabNom = p.TabNom_pr\n",
                "group by\n",
                "\ts.FIO,\n",
                "\tp.Zvanie\n",
                "having\n",
                "\tp.Zvanie = N'профессор'"
            ],
            "metadata": {
                "language": "sql",
                "azdata_cell_guid": "30baa67e-0021-4af9-9b57-956dd194f669",
                "tags": []
            },
            "outputs": [
                {
                    "output_type": "display_data",
                    "data": {
                        "text/html": "(7 rows affected)"
                    },
                    "metadata": {}
                },
                {
                    "output_type": "display_data",
                    "data": {
                        "text/html": "Total execution time: 00:00:00.006"
                    },
                    "metadata": {}
                },
                {
                    "output_type": "execute_result",
                    "execution_count": 12,
                    "data": {
                        "application/vnd.dataresource+json": {
                            "schema": {
                                "fields": [
                                    {
                                        "name": "fio"
                                    },
                                    {
                                        "name": "Zvanie"
                                    }
                                ]
                            },
                            "data": [
                                {
                                    "0": "Андреев",
                                    "1": "профессор"
                                },
                                {
                                    "0": "Басов",
                                    "1": "профессор"
                                },
                                {
                                    "0": "Волков",
                                    "1": "профессор"
                                },
                                {
                                    "0": "Зверев",
                                    "1": "профессор"
                                },
                                {
                                    "0": "Кузнецов",
                                    "1": "профессор"
                                },
                                {
                                    "0": "Прохоров",
                                    "1": "профессор"
                                },
                                {
                                    "0": "Романцев",
                                    "1": "профессор"
                                }
                            ]
                        },
                        "text/html": "<table><tr><th>fio</th><th>Zvanie</th></tr><tr><td>Андреев</td><td>профессор</td></tr><tr><td>Басов</td><td>профессор</td></tr><tr><td>Волков</td><td>профессор</td></tr><tr><td>Зверев</td><td>профессор</td></tr><tr><td>Кузнецов</td><td>профессор</td></tr><tr><td>Прохоров</td><td>профессор</td></tr><tr><td>Романцев</td><td>профессор</td></tr></table>"
                    },
                    "metadata": {}
                }
            ],
            "execution_count": 12
        },
        {
            "cell_type": "markdown",
            "source": [
                "## 9. Вывести название дисциплины, фамилию, должность и степень преподавателя, дату и место проведения экзаменов в хронологическом порядке в заданном интервале даты. "
            ],
            "metadata": {
                "language": "sql",
                "azdata_cell_guid": "0f84b40a-2f4b-4661-a06b-fdbdf451461d"
            },
            "attachments": {}
        },
        {
            "cell_type": "code",
            "source": [
                "",
                "\n",
                "select distinct\t\n",
                "\tpr.predmet as Дисциплина,\n",
                "\ts.fio,\n",
                "\ts.dolgn,\n",
                "\tp.stepen,\n",
                "\to.data,\n",
                "\to.auditoria \n",
                "from \n",
                "\tozenka o\n",
                "\t\tinner join predmet pr on o.kod = pr.kod_pred\n",
                "\t\tinner join sotrudnik s on o.Tab_Nom = s.TabNom\n",
                "\t\tinner join Prepodavatel p on o.Tab_Nom = p.TabNom_pr\n",
                "where\n",
                "\to.data between '2022-06-07' and '2022-06-12'\n",
                "order by \n",
                "\to.data\n",
                "\n",
                ""
            ],
            "metadata": {
                "language": "sql",
                "azdata_cell_guid": "b38a07ab-1f20-4385-8c2a-50bb06316d01"
            },
            "outputs": [
                {
                    "output_type": "display_data",
                    "data": {
                        "text/html": "(8 rows affected)"
                    },
                    "metadata": {}
                },
                {
                    "output_type": "display_data",
                    "data": {
                        "text/html": "Total execution time: 00:00:00.021"
                    },
                    "metadata": {}
                },
                {
                    "output_type": "execute_result",
                    "execution_count": 13,
                    "data": {
                        "application/vnd.dataresource+json": {
                            "schema": {
                                "fields": [
                                    {
                                        "name": "Дисциплина"
                                    },
                                    {
                                        "name": "fio"
                                    },
                                    {
                                        "name": "dolgn"
                                    },
                                    {
                                        "name": "stepen"
                                    },
                                    {
                                        "name": "data"
                                    },
                                    {
                                        "name": "auditoria"
                                    }
                                ]
                            },
                            "data": [
                                {
                                    "0": "Информатика",
                                    "1": "Петров",
                                    "2": "преподаватель",
                                    "3": "к.т.н",
                                    "4": "2022-06-07",
                                    "5": "ф419"
                                },
                                {
                                    "0": "Информатика",
                                    "1": "Прохоров",
                                    "2": "зав.кафедрой",
                                    "3": "д.т.н",
                                    "4": "2022-06-07",
                                    "5": "т506"
                                },
                                {
                                    "0": "Моделирование",
                                    "1": "Сергеева",
                                    "2": "преподаватель",
                                    "3": "к.т.н",
                                    "4": "2022-06-09",
                                    "5": "ф333"
                                },
                                {
                                    "0": "Программирование",
                                    "1": "Зайцев",
                                    "2": "преподаватель",
                                    "3": "к.т.н",
                                    "4": "2022-06-09",
                                    "5": "м424"
                                },
                                {
                                    "0": "Математика",
                                    "1": "Кузнецов",
                                    "2": "зав.кафедрой",
                                    "3": "д.ф.-м.н",
                                    "4": "2022-06-10",
                                    "5": "т506"
                                },
                                {
                                    "0": "Моделирование",
                                    "1": "Басов",
                                    "2": "зав.кафедрой",
                                    "3": "д.т.н",
                                    "4": "2022-06-10",
                                    "5": "э105"
                                },
                                {
                                    "0": "Электронника",
                                    "1": "Зверев",
                                    "2": "зав.кафедрой",
                                    "3": "д.ф.-м.н",
                                    "4": "2022-06-10",
                                    "5": "ф349"
                                },
                                {
                                    "0": "Математика",
                                    "1": "Романцев",
                                    "2": "преподаватель",
                                    "3": "д.ф.-м.н",
                                    "4": "2022-06-12",
                                    "5": "с324"
                                }
                            ]
                        },
                        "text/html": "<table><tr><th>Дисциплина</th><th>fio</th><th>dolgn</th><th>stepen</th><th>data</th><th>auditoria</th></tr><tr><td>Информатика</td><td>Петров</td><td>преподаватель</td><td>к.т.н</td><td>2022-06-07</td><td>ф419</td></tr><tr><td>Информатика</td><td>Прохоров</td><td>зав.кафедрой</td><td>д.т.н</td><td>2022-06-07</td><td>т506</td></tr><tr><td>Моделирование</td><td>Сергеева</td><td>преподаватель</td><td>к.т.н</td><td>2022-06-09</td><td>ф333</td></tr><tr><td>Программирование</td><td>Зайцев</td><td>преподаватель</td><td>к.т.н</td><td>2022-06-09</td><td>м424</td></tr><tr><td>Математика</td><td>Кузнецов</td><td>зав.кафедрой</td><td>д.ф.-м.н</td><td>2022-06-10</td><td>т506</td></tr><tr><td>Моделирование</td><td>Басов</td><td>зав.кафедрой</td><td>д.т.н</td><td>2022-06-10</td><td>э105</td></tr><tr><td>Электронника</td><td>Зверев</td><td>зав.кафедрой</td><td>д.ф.-м.н</td><td>2022-06-10</td><td>ф349</td></tr><tr><td>Математика</td><td>Романцев</td><td>преподаватель</td><td>д.ф.-м.н</td><td>2022-06-12</td><td>с324</td></tr></table>"
                    },
                    "metadata": {}
                }
            ],
            "execution_count": 13
        },
        {
            "cell_type": "markdown",
            "source": [
                "## 10. Вывести фамилию преподавателей, принявших более трех экзаменов. "
            ],
            "metadata": {
                "language": "sql",
                "azdata_cell_guid": "580af742-3b62-46f2-a8d4-f2526028bb6a"
            },
            "attachments": {}
        },
        {
            "cell_type": "code",
            "source": [
                "SELECT s.fio, p.Zvanie, COUNT(o.data) as [Number of exams]\n",
                "FROM Ozenka o\n",
                "INNER JOIN Sotrudnik s on o.Tab_Nom = s.TabNom\n",
                "INNER JOIN Prepodavatel p on o.Tab_Nom = p.TabNom_pr\n",
                "GROUP BY S.FIO, p.Zvanie HAVING p.Zvanie = N'профессор' AND COUNT(o.data) > 1\n",
                ""
            ],
            "metadata": {
                "language": "sql",
                "azdata_cell_guid": "e1048bd7-43bd-426b-8d6d-10b80c513d09",
                "tags": []
            },
            "outputs": [
                {
                    "output_type": "display_data",
                    "data": {
                        "text/html": "(2 rows affected)"
                    },
                    "metadata": {}
                },
                {
                    "output_type": "display_data",
                    "data": {
                        "text/html": "Total execution time: 00:00:00.009"
                    },
                    "metadata": {}
                },
                {
                    "output_type": "execute_result",
                    "metadata": {},
                    "execution_count": 21,
                    "data": {
                        "application/vnd.dataresource+json": {
                            "schema": {
                                "fields": [
                                    {
                                        "name": "fio"
                                    },
                                    {
                                        "name": "Zvanie"
                                    },
                                    {
                                        "name": "Number of exams"
                                    }
                                ]
                            },
                            "data": [
                                {
                                    "0": "Басов",
                                    "1": "профессор",
                                    "2": "2"
                                },
                                {
                                    "0": "Кузнецов",
                                    "1": "профессор",
                                    "2": "3"
                                }
                            ]
                        },
                        "text/html": [
                            "<table>",
                            "<tr><th>fio</th><th>Zvanie</th><th>Number of exams</th></tr>",
                            "<tr><td>Басов</td><td>профессор</td><td>2</td></tr>",
                            "<tr><td>Кузнецов</td><td>профессор</td><td>3</td></tr>",
                            "</table>"
                        ]
                    }
                }
            ],
            "execution_count": 21
        },
        {
            "cell_type": "markdown",
            "source": [
                "## 1. Вывести из таблиц «Кафедра», «Специальность» и «Студент» данные о студентах, которые обучаются на данном факультете (например, «ит»). "
            ],
            "metadata": {
                "language": "sql",
                "azdata_cell_guid": "871904ca-9fa1-4e7e-9d75-a988491e62c0"
            },
            "attachments": {}
        },
        {
            "cell_type": "code",
            "source": [
                "SELECT Student.Fio_Stud, Student.NomSpez_St, Kafedra.ShifrKaf, Fakultet.ABFak, Fakultet.NFak\n",
                "FROM Student\n",
                "INNER JOIN Spezialn ON Student.NomSpez_St = Spezialn.Nspez\n",
                "INNER JOIN Kafedra ON Spezialn.Shifr_spez = Kafedra.ShifrKaf\n",
                "INNER JOIN Fakultet ON UPPER(Kafedra.AbFak_Kaf) = Fakultet.ABFak\n",
                "WHERE Fakultet.ABFak = N'ИТ'"
            ],
            "metadata": {
                "language": "sql",
                "azdata_cell_guid": "ccd79e08-bcaf-45f9-975b-91cc391fcc3a"
            },
            "outputs": [
                {
                    "output_type": "display_data",
                    "data": {
                        "text/html": "(4 rows affected)"
                    },
                    "metadata": {}
                },
                {
                    "output_type": "display_data",
                    "data": {
                        "text/html": "Total execution time: 00:00:00.010"
                    },
                    "metadata": {}
                },
                {
                    "output_type": "execute_result",
                    "metadata": {},
                    "execution_count": 26,
                    "data": {
                        "application/vnd.dataresource+json": {
                            "schema": {
                                "fields": [
                                    {
                                        "name": "Fio_Stud"
                                    },
                                    {
                                        "name": "NomSpez_St"
                                    },
                                    {
                                        "name": "ShifrKaf"
                                    },
                                    {
                                        "name": "ABFak"
                                    },
                                    {
                                        "name": "NFak"
                                    }
                                ]
                            },
                            "data": [
                                {
                                    "0": "Андреев",
                                    "1": "09.03.02",
                                    "2": "ис",
                                    "3": "ИТ",
                                    "4": "Информационные Науки"
                                },
                                {
                                    "0": "Федоров",
                                    "1": "09.03.02",
                                    "2": "ис",
                                    "3": "ИТ",
                                    "4": "Информационные Науки"
                                },
                                {
                                    "0": "Макаров",
                                    "1": "38.03.05",
                                    "2": "ис",
                                    "3": "ИТ",
                                    "4": "Информационные Науки"
                                },
                                {
                                    "0": "Яковлев",
                                    "1": "38.03.05",
                                    "2": "ис",
                                    "3": "ИТ",
                                    "4": "Информационные Науки"
                                }
                            ]
                        },
                        "text/html": [
                            "<table>",
                            "<tr><th>Fio_Stud</th><th>NomSpez_St</th><th>ShifrKaf</th><th>ABFak</th><th>NFak</th></tr>",
                            "<tr><td>Андреев</td><td>09.03.02</td><td>ис</td><td>ИТ</td><td>Информационные Науки</td></tr>",
                            "<tr><td>Федоров</td><td>09.03.02</td><td>ис</td><td>ИТ</td><td>Информационные Науки</td></tr>",
                            "<tr><td>Макаров</td><td>38.03.05</td><td>ис</td><td>ИТ</td><td>Информационные Науки</td></tr>",
                            "<tr><td>Яковлев</td><td>38.03.05</td><td>ис</td><td>ИТ</td><td>Информационные Науки</td></tr>",
                            "</table>"
                        ]
                    }
                }
            ],
            "execution_count": 26
        }
    ]
}