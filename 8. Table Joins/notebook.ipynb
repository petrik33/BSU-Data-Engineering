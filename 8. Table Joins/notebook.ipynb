{
    "metadata": {
        "kernelspec": {
            "name": "SQL",
            "display_name": "SQL",
            "language": "sql"
        },
        "language_info": {
            "name": "sql",
            "version": ""
        }
    },
    "nbformat_minor": 2,
    "nbformat": 4,
    "cells": [
        {
            "cell_type": "markdown",
            "source": [
                "# Соединение нескольких таблиц в запросе"
            ],
            "metadata": {
                "azdata_cell_guid": "af2e9f94-67bf-401c-b8ae-9ee095ef5c17"
            },
            "attachments": {}
        },
        {
            "cell_type": "markdown",
            "source": [
                "## Теоретическая часть "
            ],
            "metadata": {
                "azdata_cell_guid": "7cd7397f-017b-433c-abbc-6a1d1350fcd3"
            },
            "attachments": {}
        }
    ]
}