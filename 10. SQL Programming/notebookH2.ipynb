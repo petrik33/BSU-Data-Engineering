{
    "metadata": {
        "kernelspec": {
            "name": "SQL",
            "display_name": "SQL",
            "language": "sql"
        },
        "language_info": {
            "name": "sql",
            "version": ""
        }
    },
    "nbformat_minor": 2,
    "nbformat": 4,
    "cells": [
        {
            "cell_type": "markdown",
            "source": [
                "## SQLQuery_c10_2_1.sql"
            ],
            "metadata": {
                "azdata_cell_guid": "304523bc-fef8-404c-abea-1e4500acee3d"
            }
        },
        {
            "cell_type": "code",
            "source": [
                "select\n",
                "\tFIO,\n",
                "\tLen(FIO) as FIO_Len\n",
                "from\n",
                "\tStudent\n",
                "order by\n",
                "\tFIO_Len"
            ],
            "metadata": {
                "azdata_cell_guid": "5f5c194a-995e-43a8-8169-067bd8fa2a45",
                "language": "sql"
            },
            "outputs": [
                {
                    "output_type": "display_data",
                    "data": {
                        "text/html": "(18 rows affected)"
                    },
                    "metadata": {}
                },
                {
                    "output_type": "display_data",
                    "data": {
                        "text/html": "Total execution time: 00:00:00.007"
                    },
                    "metadata": {}
                },
                {
                    "output_type": "execute_result",
                    "metadata": {},
                    "execution_count": 1,
                    "data": {
                        "application/vnd.dataresource+json": {
                            "schema": {
                                "fields": [
                                    {
                                        "name": "FIO"
                                    },
                                    {
                                        "name": "FIO_Len"
                                    }
                                ]
                            },
                            "data": [
                                {
                                    "0": "NULL",
                                    "1": "NULL"
                                },
                                {
                                    "0": "Петров Иван Петрович",
                                    "1": "20"
                                },
                                {
                                    "0": "Шманай Никита Петрович",
                                    "1": "22"
                                },
                                {
                                    "0": "Костецкий Павел Сергеевич",
                                    "1": "25"
                                },
                                {
                                    "0": "Михайлов Николай Иванович",
                                    "1": "25"
                                },
                                {
                                    "0": "Иванов Владимир Николаевич",
                                    "1": "26"
                                },
                                {
                                    "0": "Петрикевич Тимофей Юрьевич",
                                    "1": "26"
                                },
                                {
                                    "0": "Кордияк Татьяна Дмитриевна",
                                    "1": "26"
                                },
                                {
                                    "0": "Шпаковский Артем Денисович",
                                    "1": "26"
                                },
                                {
                                    "0": "Шимкович Елизавета Олеговна",
                                    "1": "27"
                                },
                                {
                                    "0": "Коваленко Владимир Иванович",
                                    "1": "27"
                                },
                                {
                                    "0": "Виноградов Павел Гаврилович",
                                    "1": "27"
                                },
                                {
                                    "0": "Белопольский Андрей Иванович",
                                    "1": "28"
                                },
                                {
                                    "0": "Завадский Кирилл Валентинович",
                                    "1": "29"
                                },
                                {
                                    "0": "Бельский Василий Владимирович",
                                    "1": "29"
                                },
                                {
                                    "0": "Александров Николай Николаевич",
                                    "1": "30"
                                },
                                {
                                    "0": "Семашкевич Виктория Михайловна",
                                    "1": "30"
                                },
                                {
                                    "0": "Мироненко Светлана Владимировна",
                                    "1": "31"
                                }
                            ]
                        },
                        "text/html": [
                            "<table>",
                            "<tr><th>FIO</th><th>FIO_Len</th></tr>",
                            "<tr><td>NULL</td><td>NULL</td></tr>",
                            "<tr><td>Петров Иван Петрович</td><td>20</td></tr>",
                            "<tr><td>Шманай Никита Петрович</td><td>22</td></tr>",
                            "<tr><td>Костецкий Павел Сергеевич</td><td>25</td></tr>",
                            "<tr><td>Михайлов Николай Иванович</td><td>25</td></tr>",
                            "<tr><td>Иванов Владимир Николаевич</td><td>26</td></tr>",
                            "<tr><td>Петрикевич Тимофей Юрьевич</td><td>26</td></tr>",
                            "<tr><td>Кордияк Татьяна Дмитриевна</td><td>26</td></tr>",
                            "<tr><td>Шпаковский Артем Денисович</td><td>26</td></tr>",
                            "<tr><td>Шимкович Елизавета Олеговна</td><td>27</td></tr>",
                            "<tr><td>Коваленко Владимир Иванович</td><td>27</td></tr>",
                            "<tr><td>Виноградов Павел Гаврилович</td><td>27</td></tr>",
                            "<tr><td>Белопольский Андрей Иванович</td><td>28</td></tr>",
                            "<tr><td>Завадский Кирилл Валентинович</td><td>29</td></tr>",
                            "<tr><td>Бельский Василий Владимирович</td><td>29</td></tr>",
                            "<tr><td>Александров Николай Николаевич</td><td>30</td></tr>",
                            "<tr><td>Семашкевич Виктория Михайловна</td><td>30</td></tr>",
                            "<tr><td>Мироненко Светлана Владимировна</td><td>31</td></tr>",
                            "</table>"
                        ]
                    }
                }
            ],
            "execution_count": 1
        },
        {
            "cell_type": "markdown",
            "source": [
                "## SQLQuery_c10_2_2.sql"
            ],
            "metadata": {
                "azdata_cell_guid": "f05e17a8-d5c2-493b-925d-1357bdb5aeca"
            }
        },
        {
            "cell_type": "code",
            "source": [
                "select\n",
                "\ttrim(FIO) as FIO,\n",
                "\tData,\n",
                "\tspez,\n",
                "\tgodpost\n",
                "from\n",
                "\tStudent"
            ],
            "metadata": {
                "azdata_cell_guid": "78c5aeec-f94d-437a-914b-76cd4709738c",
                "language": "sql"
            },
            "outputs": [
                {
                    "output_type": "display_data",
                    "data": {
                        "text/html": "(18 rows affected)"
                    },
                    "metadata": {}
                },
                {
                    "output_type": "display_data",
                    "data": {
                        "text/html": "Total execution time: 00:00:00.009"
                    },
                    "metadata": {}
                },
                {
                    "output_type": "execute_result",
                    "metadata": {},
                    "execution_count": 2,
                    "data": {
                        "application/vnd.dataresource+json": {
                            "schema": {
                                "fields": [
                                    {
                                        "name": "FIO"
                                    },
                                    {
                                        "name": "Data"
                                    },
                                    {
                                        "name": "spez"
                                    },
                                    {
                                        "name": "godpost"
                                    }
                                ]
                            },
                            "data": [
                                {
                                    "0": "Александров Николай Николаевич",
                                    "1": "2000-01-01",
                                    "2": "Физика",
                                    "3": "2018"
                                },
                                {
                                    "0": "Бельский Василий Владимирович",
                                    "1": "2001-05-02",
                                    "2": "Математика",
                                    "3": "2019"
                                },
                                {
                                    "0": "Белопольский Андрей Иванович",
                                    "1": "2004-10-21",
                                    "2": "Информатика",
                                    "3": "2022"
                                },
                                {
                                    "0": "Петров Иван Петрович",
                                    "1": "2004-07-17",
                                    "2": "Физика",
                                    "3": "2022"
                                },
                                {
                                    "0": "Михайлов Николай Иванович",
                                    "1": "2005-12-09",
                                    "2": "Математика",
                                    "3": "2023"
                                },
                                {
                                    "0": "Мироненко Светлана Владимировна",
                                    "1": "1998-12-09",
                                    "2": "Радиофизика",
                                    "3": "2016"
                                },
                                {
                                    "0": "Коваленко Владимир Иванович",
                                    "1": "2001-12-09",
                                    "2": "Информатика",
                                    "3": "2019"
                                },
                                {
                                    "0": "Виноградов Павел Гаврилович",
                                    "1": "2003-12-09",
                                    "2": "Химия",
                                    "3": "2021"
                                },
                                {
                                    "0": "Иванов Владимир Николаевич",
                                    "1": "1999-12-09",
                                    "2": "Радиофизика",
                                    "3": "2018"
                                },
                                {
                                    "0": "Семашкевич Виктория Михайловна",
                                    "1": "1998-12-09",
                                    "2": "Химия",
                                    "3": "2017"
                                },
                                {
                                    "0": "Шимкович Елизавета Олеговна",
                                    "1": "2003-04-18",
                                    "2": "Информатика",
                                    "3": "2021"
                                },
                                {
                                    "0": "Петрикевич Тимофей Юрьевич",
                                    "1": "2004-03-30",
                                    "2": "Информатика",
                                    "3": "2021"
                                },
                                {
                                    "0": "Костецкий Павел Сергеевич",
                                    "1": "2003-04-22",
                                    "2": "Информатика",
                                    "3": "2021"
                                },
                                {
                                    "0": "Шманай Никита Петрович",
                                    "1": "2003-12-06",
                                    "2": "Информатика",
                                    "3": "2021"
                                },
                                {
                                    "0": "Кордияк Татьяна Дмитриевна",
                                    "1": "2004-06-05",
                                    "2": "Информатика",
                                    "3": "2021"
                                },
                                {
                                    "0": "Шпаковский Артем Денисович",
                                    "1": "2004-08-19",
                                    "2": "Информатика",
                                    "3": "2021"
                                },
                                {
                                    "0": "Завадский Кирилл Валентинович",
                                    "1": "2003-11-18",
                                    "2": "Информатика",
                                    "3": "2021"
                                },
                                {
                                    "0": "NULL",
                                    "1": "NULL",
                                    "2": "NULL",
                                    "3": "NULL"
                                }
                            ]
                        },
                        "text/html": [
                            "<table>",
                            "<tr><th>FIO</th><th>Data</th><th>spez</th><th>godpost</th></tr>",
                            "<tr><td>Александров Николай Николаевич</td><td>2000-01-01</td><td>Физика</td><td>2018</td></tr>",
                            "<tr><td>Бельский Василий Владимирович</td><td>2001-05-02</td><td>Математика</td><td>2019</td></tr>",
                            "<tr><td>Белопольский Андрей Иванович</td><td>2004-10-21</td><td>Информатика</td><td>2022</td></tr>",
                            "<tr><td>Петров Иван Петрович</td><td>2004-07-17</td><td>Физика</td><td>2022</td></tr>",
                            "<tr><td>Михайлов Николай Иванович</td><td>2005-12-09</td><td>Математика</td><td>2023</td></tr>",
                            "<tr><td>Мироненко Светлана Владимировна</td><td>1998-12-09</td><td>Радиофизика</td><td>2016</td></tr>",
                            "<tr><td>Коваленко Владимир Иванович</td><td>2001-12-09</td><td>Информатика</td><td>2019</td></tr>",
                            "<tr><td>Виноградов Павел Гаврилович</td><td>2003-12-09</td><td>Химия</td><td>2021</td></tr>",
                            "<tr><td>Иванов Владимир Николаевич</td><td>1999-12-09</td><td>Радиофизика</td><td>2018</td></tr>",
                            "<tr><td>Семашкевич Виктория Михайловна</td><td>1998-12-09</td><td>Химия</td><td>2017</td></tr>",
                            "<tr><td>Шимкович Елизавета Олеговна</td><td>2003-04-18</td><td>Информатика</td><td>2021</td></tr>",
                            "<tr><td>Петрикевич Тимофей Юрьевич</td><td>2004-03-30</td><td>Информатика</td><td>2021</td></tr>",
                            "<tr><td>Костецкий Павел Сергеевич</td><td>2003-04-22</td><td>Информатика</td><td>2021</td></tr>",
                            "<tr><td>Шманай Никита Петрович</td><td>2003-12-06</td><td>Информатика</td><td>2021</td></tr>",
                            "<tr><td>Кордияк Татьяна Дмитриевна</td><td>2004-06-05</td><td>Информатика</td><td>2021</td></tr>",
                            "<tr><td>Шпаковский Артем Денисович</td><td>2004-08-19</td><td>Информатика</td><td>2021</td></tr>",
                            "<tr><td>Завадский Кирилл Валентинович</td><td>2003-11-18</td><td>Информатика</td><td>2021</td></tr>",
                            "<tr><td>NULL</td><td>NULL</td><td>NULL</td><td>NULL</td></tr>",
                            "</table>"
                        ]
                    }
                }
            ],
            "execution_count": 2
        },
        {
            "cell_type": "markdown",
            "source": [
                "## SQLQuery_c10_2_3.sql"
            ],
            "metadata": {
                "azdata_cell_guid": "e1407374-397a-481f-906b-18a1b6b0297b"
            }
        },
        {
            "cell_type": "code",
            "source": [
                "select\n",
                "\tFIO,\n",
                "\tcharindex(N'ов', FIO) as Position\n",
                "from\n",
                "\tStudent"
            ],
            "metadata": {
                "azdata_cell_guid": "c19e95cc-d00b-41d1-ae85-1cf3bd538230",
                "language": "sql"
            },
            "outputs": [
                {
                    "output_type": "display_data",
                    "data": {
                        "text/html": "(18 rows affected)"
                    },
                    "metadata": {}
                },
                {
                    "output_type": "display_data",
                    "data": {
                        "text/html": "Total execution time: 00:00:00.008"
                    },
                    "metadata": {}
                },
                {
                    "output_type": "execute_result",
                    "metadata": {},
                    "execution_count": 11,
                    "data": {
                        "application/vnd.dataresource+json": {
                            "schema": {
                                "fields": [
                                    {
                                        "name": "FIO"
                                    },
                                    {
                                        "name": "Position"
                                    }
                                ]
                            },
                            "data": [
                                {
                                    "0": "Александров Николай Николаевич",
                                    "1": "10"
                                },
                                {
                                    "0": "Бельский Василий Владимирович",
                                    "1": "26"
                                },
                                {
                                    "0": "Белопольский Андрей Иванович",
                                    "1": "25"
                                },
                                {
                                    "0": "Петров Иван Петрович",
                                    "1": "5"
                                },
                                {
                                    "0": "Михайлов Николай Иванович",
                                    "1": "7"
                                },
                                {
                                    "0": "Мироненко Светлана Владимировна",
                                    "1": "28"
                                },
                                {
                                    "0": "Коваленко Владимир Иванович",
                                    "1": "2"
                                },
                                {
                                    "0": "Виноградов Павел Гаврилович",
                                    "1": "9"
                                },
                                {
                                    "0": "Иванов Владимир Николаевич",
                                    "1": "5"
                                },
                                {
                                    "0": "Семашкевич Виктория Михайловна",
                                    "1": "27"
                                },
                                {
                                    "0": "Шимкович Елизавета Олеговна",
                                    "1": "5"
                                },
                                {
                                    "0": "Петрикевич Тимофей Юрьевич",
                                    "1": "0"
                                },
                                {
                                    "0": "Костецкий Павел Сергеевич",
                                    "1": "0"
                                },
                                {
                                    "0": "Шманай Никита Петрович",
                                    "1": "19"
                                },
                                {
                                    "0": "Кордияк Татьяна Дмитриевна",
                                    "1": "0"
                                },
                                {
                                    "0": "Шпаковский Артем Денисович",
                                    "1": "5"
                                },
                                {
                                    "0": "Завадский Кирилл Валентинович",
                                    "1": "26"
                                },
                                {
                                    "0": "NULL",
                                    "1": "NULL"
                                }
                            ]
                        },
                        "text/html": [
                            "<table>",
                            "<tr><th>FIO</th><th>Position</th></tr>",
                            "<tr><td>Александров Николай Николаевич</td><td>10</td></tr>",
                            "<tr><td>Бельский Василий Владимирович</td><td>26</td></tr>",
                            "<tr><td>Белопольский Андрей Иванович</td><td>25</td></tr>",
                            "<tr><td>Петров Иван Петрович</td><td>5</td></tr>",
                            "<tr><td>Михайлов Николай Иванович</td><td>7</td></tr>",
                            "<tr><td>Мироненко Светлана Владимировна</td><td>28</td></tr>",
                            "<tr><td>Коваленко Владимир Иванович</td><td>2</td></tr>",
                            "<tr><td>Виноградов Павел Гаврилович</td><td>9</td></tr>",
                            "<tr><td>Иванов Владимир Николаевич</td><td>5</td></tr>",
                            "<tr><td>Семашкевич Виктория Михайловна</td><td>27</td></tr>",
                            "<tr><td>Шимкович Елизавета Олеговна</td><td>5</td></tr>",
                            "<tr><td>Петрикевич Тимофей Юрьевич</td><td>0</td></tr>",
                            "<tr><td>Костецкий Павел Сергеевич</td><td>0</td></tr>",
                            "<tr><td>Шманай Никита Петрович</td><td>19</td></tr>",
                            "<tr><td>Кордияк Татьяна Дмитриевна</td><td>0</td></tr>",
                            "<tr><td>Шпаковский Артем Денисович</td><td>5</td></tr>",
                            "<tr><td>Завадский Кирилл Валентинович</td><td>26</td></tr>",
                            "<tr><td>NULL</td><td>NULL</td></tr>",
                            "</table>"
                        ]
                    }
                }
            ],
            "execution_count": 11
        },
        {
            "cell_type": "markdown",
            "source": [
                "## SQLQuery_c10_2_4.sql"
            ],
            "metadata": {
                "azdata_cell_guid": "7a84c1ca-e20a-45bb-bbeb-88c3d66d153b"
            }
        },
        {
            "cell_type": "code",
            "source": [
                "select\n",
                "\tFIO,\n",
                "\tright(spez, 2) as spez_2\n",
                "from\n",
                "\tStudent"
            ],
            "metadata": {
                "azdata_cell_guid": "acd0fa2a-4368-4081-ae7b-c389867c9898",
                "language": "sql"
            },
            "outputs": [
                {
                    "output_type": "display_data",
                    "data": {
                        "text/html": "(18 rows affected)"
                    },
                    "metadata": {}
                },
                {
                    "output_type": "display_data",
                    "data": {
                        "text/html": "Total execution time: 00:00:00.007"
                    },
                    "metadata": {}
                },
                {
                    "output_type": "execute_result",
                    "metadata": {},
                    "execution_count": 4,
                    "data": {
                        "application/vnd.dataresource+json": {
                            "schema": {
                                "fields": [
                                    {
                                        "name": "FIO"
                                    },
                                    {
                                        "name": "spez_2"
                                    }
                                ]
                            },
                            "data": [
                                {
                                    "0": "Александров Николай Николаевич",
                                    "1": "ка"
                                },
                                {
                                    "0": "Бельский Василий Владимирович",
                                    "1": "ка"
                                },
                                {
                                    "0": "Белопольский Андрей Иванович",
                                    "1": "ка"
                                },
                                {
                                    "0": "Петров Иван Петрович",
                                    "1": "ка"
                                },
                                {
                                    "0": "Михайлов Николай Иванович",
                                    "1": "ка"
                                },
                                {
                                    "0": "Мироненко Светлана Владимировна",
                                    "1": "ка"
                                },
                                {
                                    "0": "Коваленко Владимир Иванович",
                                    "1": "ка"
                                },
                                {
                                    "0": "Виноградов Павел Гаврилович",
                                    "1": "ия"
                                },
                                {
                                    "0": "Иванов Владимир Николаевич",
                                    "1": "ка"
                                },
                                {
                                    "0": "Семашкевич Виктория Михайловна",
                                    "1": "ия"
                                },
                                {
                                    "0": "Шимкович Елизавета Олеговна",
                                    "1": "ка"
                                },
                                {
                                    "0": "Петрикевич Тимофей Юрьевич",
                                    "1": "ка"
                                },
                                {
                                    "0": "Костецкий Павел Сергеевич",
                                    "1": "ка"
                                },
                                {
                                    "0": "Шманай Никита Петрович",
                                    "1": "ка"
                                },
                                {
                                    "0": "Кордияк Татьяна Дмитриевна",
                                    "1": "ка"
                                },
                                {
                                    "0": "Шпаковский Артем Денисович",
                                    "1": "ка"
                                },
                                {
                                    "0": "Завадский Кирилл Валентинович",
                                    "1": "ка"
                                },
                                {
                                    "0": "NULL",
                                    "1": "NULL"
                                }
                            ]
                        },
                        "text/html": [
                            "<table>",
                            "<tr><th>FIO</th><th>spez_2</th></tr>",
                            "<tr><td>Александров Николай Николаевич</td><td>ка</td></tr>",
                            "<tr><td>Бельский Василий Владимирович</td><td>ка</td></tr>",
                            "<tr><td>Белопольский Андрей Иванович</td><td>ка</td></tr>",
                            "<tr><td>Петров Иван Петрович</td><td>ка</td></tr>",
                            "<tr><td>Михайлов Николай Иванович</td><td>ка</td></tr>",
                            "<tr><td>Мироненко Светлана Владимировна</td><td>ка</td></tr>",
                            "<tr><td>Коваленко Владимир Иванович</td><td>ка</td></tr>",
                            "<tr><td>Виноградов Павел Гаврилович</td><td>ия</td></tr>",
                            "<tr><td>Иванов Владимир Николаевич</td><td>ка</td></tr>",
                            "<tr><td>Семашкевич Виктория Михайловна</td><td>ия</td></tr>",
                            "<tr><td>Шимкович Елизавета Олеговна</td><td>ка</td></tr>",
                            "<tr><td>Петрикевич Тимофей Юрьевич</td><td>ка</td></tr>",
                            "<tr><td>Костецкий Павел Сергеевич</td><td>ка</td></tr>",
                            "<tr><td>Шманай Никита Петрович</td><td>ка</td></tr>",
                            "<tr><td>Кордияк Татьяна Дмитриевна</td><td>ка</td></tr>",
                            "<tr><td>Шпаковский Артем Денисович</td><td>ка</td></tr>",
                            "<tr><td>Завадский Кирилл Валентинович</td><td>ка</td></tr>",
                            "<tr><td>NULL</td><td>NULL</td></tr>",
                            "</table>"
                        ]
                    }
                }
            ],
            "execution_count": 4
        },
        {
            "cell_type": "markdown",
            "source": [
                "## SQLQuery_c10_2_6.sql"
            ],
            "metadata": {
                "azdata_cell_guid": "b92d1258-d2e8-4495-8dd5-39392a383cb0"
            }
        },
        {
            "cell_type": "code",
            "source": [
                "select distinct\n",
                "\tspez,\n",
                "\treverse(spez) as Rev_spez\n",
                "from\n",
                "\tStudent"
            ],
            "metadata": {
                "azdata_cell_guid": "502c5f57-55ce-48fb-b534-7fd4f4d2b982",
                "language": "sql"
            },
            "outputs": [
                {
                    "output_type": "display_data",
                    "data": {
                        "text/html": "(6 rows affected)"
                    },
                    "metadata": {}
                },
                {
                    "output_type": "display_data",
                    "data": {
                        "text/html": "Total execution time: 00:00:00.007"
                    },
                    "metadata": {}
                },
                {
                    "output_type": "execute_result",
                    "metadata": {},
                    "execution_count": 5,
                    "data": {
                        "application/vnd.dataresource+json": {
                            "schema": {
                                "fields": [
                                    {
                                        "name": "spez"
                                    },
                                    {
                                        "name": "Rev_spez"
                                    }
                                ]
                            },
                            "data": [
                                {
                                    "0": "NULL",
                                    "1": "NULL"
                                },
                                {
                                    "0": "Информатика",
                                    "1": "акитамрофнИ"
                                },
                                {
                                    "0": "Математика",
                                    "1": "акитаметаМ"
                                },
                                {
                                    "0": "Радиофизика",
                                    "1": "акизифоидаР"
                                },
                                {
                                    "0": "Физика",
                                    "1": "акизиФ"
                                },
                                {
                                    "0": "Химия",
                                    "1": "яимиХ"
                                }
                            ]
                        },
                        "text/html": [
                            "<table>",
                            "<tr><th>spez</th><th>Rev_spez</th></tr>",
                            "<tr><td>NULL</td><td>NULL</td></tr>",
                            "<tr><td>Информатика</td><td>акитамрофнИ</td></tr>",
                            "<tr><td>Математика</td><td>акитаметаМ</td></tr>",
                            "<tr><td>Радиофизика</td><td>акизифоидаР</td></tr>",
                            "<tr><td>Физика</td><td>акизиФ</td></tr>",
                            "<tr><td>Химия</td><td>яимиХ</td></tr>",
                            "</table>"
                        ]
                    }
                }
            ],
            "execution_count": 5
        },
        {
            "cell_type": "markdown",
            "source": [
                "## SQLQuery_c10_2_7.sql"
            ],
            "metadata": {
                "azdata_cell_guid": "e259da66-ab54-463c-8ac4-047c44744bd6"
            }
        },
        {
            "cell_type": "code",
            "source": [
                "print replicate('Petrykevich ', 19)\n",
                ""
            ],
            "metadata": {
                "azdata_cell_guid": "ead6c668-d6c2-4352-9160-4323c0b95d9f",
                "language": "sql"
            },
            "outputs": [
                {
                    "output_type": "display_data",
                    "data": {
                        "text/html": "Petrykevich Petrykevich Petrykevich Petrykevich Petrykevich Petrykevich Petrykevich Petrykevich Petrykevich Petrykevich Petrykevich Petrykevich Petrykevich Petrykevich Petrykevich Petrykevich Petrykevich Petrykevich Petrykevich "
                    },
                    "metadata": {}
                },
                {
                    "output_type": "display_data",
                    "data": {
                        "text/html": "Total execution time: 00:00:00.004"
                    },
                    "metadata": {}
                }
            ],
            "execution_count": 13
        },
        {
            "cell_type": "markdown",
            "source": [
                "## SQLQuery_c10_2_8.sql"
            ],
            "metadata": {
                "azdata_cell_guid": "71466b77-381a-40c1-b927-3217fa49cb83"
            }
        },
        {
            "cell_type": "code",
            "source": [
                "select\n",
                "\tabs(square(sin(pi() / 2)) - cos(3 * pi() / 2)) as func_ans"
            ],
            "metadata": {
                "azdata_cell_guid": "480cb0be-604f-4bab-a47b-e8697a8ecfab",
                "language": "sql"
            },
            "outputs": [
                {
                    "output_type": "display_data",
                    "data": {
                        "text/html": "(1 row affected)"
                    },
                    "metadata": {}
                },
                {
                    "output_type": "display_data",
                    "data": {
                        "text/html": "Total execution time: 00:00:00.006"
                    },
                    "metadata": {}
                },
                {
                    "output_type": "execute_result",
                    "metadata": {},
                    "execution_count": 7,
                    "data": {
                        "application/vnd.dataresource+json": {
                            "schema": {
                                "fields": [
                                    {
                                        "name": "func_ans"
                                    }
                                ]
                            },
                            "data": [
                                {
                                    "0": "1.0000000000000002"
                                }
                            ]
                        },
                        "text/html": [
                            "<table>",
                            "<tr><th>func_ans</th></tr>",
                            "<tr><td>1.0000000000000002</td></tr>",
                            "</table>"
                        ]
                    }
                }
            ],
            "execution_count": 7
        },
        {
            "cell_type": "markdown",
            "source": [
                "## SQLQuery_c10_2_9.sql"
            ],
            "metadata": {
                "azdata_cell_guid": "82bf98f9-3a80-41c0-b619-7fba9a163fa9"
            }
        },
        {
            "cell_type": "code",
            "source": [
                "select\n",
                "\tdatediff(day, '20230508', '20230603') as amount_of_days"
            ],
            "metadata": {
                "azdata_cell_guid": "b639a936-5872-4b9d-aaaf-7bb9298b3d30",
                "language": "sql"
            },
            "outputs": [
                {
                    "output_type": "display_data",
                    "data": {
                        "text/html": "(1 row affected)"
                    },
                    "metadata": {}
                },
                {
                    "output_type": "display_data",
                    "data": {
                        "text/html": "Total execution time: 00:00:00.006"
                    },
                    "metadata": {}
                },
                {
                    "output_type": "execute_result",
                    "metadata": {},
                    "execution_count": 14,
                    "data": {
                        "application/vnd.dataresource+json": {
                            "schema": {
                                "fields": [
                                    {
                                        "name": "amount_of_days"
                                    }
                                ]
                            },
                            "data": [
                                {
                                    "0": "26"
                                }
                            ]
                        },
                        "text/html": [
                            "<table>",
                            "<tr><th>amount_of_days</th></tr>",
                            "<tr><td>26</td></tr>",
                            "</table>"
                        ]
                    }
                }
            ],
            "execution_count": 14
        },
        {
            "cell_type": "markdown",
            "source": [
                "## SQLQuery_c10_2_10.sql"
            ],
            "metadata": {
                "azdata_cell_guid": "c4db13aa-9cd8-4498-9aa9-782504f867c1"
            }
        },
        {
            "cell_type": "code",
            "source": [
                "select\n",
                "\tdatediff(month, '20040330', '20230508') as amount_of_month"
            ],
            "metadata": {
                "azdata_cell_guid": "093e5f5b-0aa0-4667-aec5-db219553c04c",
                "language": "sql"
            },
            "outputs": [
                {
                    "output_type": "display_data",
                    "data": {
                        "text/html": "(1 row affected)"
                    },
                    "metadata": {}
                },
                {
                    "output_type": "display_data",
                    "data": {
                        "text/html": "Total execution time: 00:00:00.005"
                    },
                    "metadata": {}
                },
                {
                    "output_type": "execute_result",
                    "metadata": {},
                    "execution_count": 15,
                    "data": {
                        "application/vnd.dataresource+json": {
                            "schema": {
                                "fields": [
                                    {
                                        "name": "amount_of_month"
                                    }
                                ]
                            },
                            "data": [
                                {
                                    "0": "230"
                                }
                            ]
                        },
                        "text/html": [
                            "<table>",
                            "<tr><th>amount_of_month</th></tr>",
                            "<tr><td>230</td></tr>",
                            "</table>"
                        ]
                    }
                }
            ],
            "execution_count": 15
        },
        {
            "cell_type": "markdown",
            "source": [
                "## SQLQuery_c10_2_11.sql"
            ],
            "metadata": {
                "azdata_cell_guid": "ed8240e1-31c4-42fd-8844-76da0c0a08b5"
            }
        },
        {
            "cell_type": "code",
            "source": [
                "select distinct\n",
                "\tspez,\n",
                "\tiif(len(spez) <= 10, 'Short', 'Long') as Spez_Len_Type\n",
                "from\n",
                "\tStudent"
            ],
            "metadata": {
                "azdata_cell_guid": "7dd18fd1-6c45-49f5-ae1e-2250e98998bb",
                "language": "sql"
            },
            "outputs": [
                {
                    "output_type": "display_data",
                    "data": {
                        "text/html": "(6 rows affected)"
                    },
                    "metadata": {}
                },
                {
                    "output_type": "display_data",
                    "data": {
                        "text/html": "Total execution time: 00:00:00.007"
                    },
                    "metadata": {}
                },
                {
                    "output_type": "execute_result",
                    "metadata": {},
                    "execution_count": 10,
                    "data": {
                        "application/vnd.dataresource+json": {
                            "schema": {
                                "fields": [
                                    {
                                        "name": "spez"
                                    },
                                    {
                                        "name": "Spez_Len_Type"
                                    }
                                ]
                            },
                            "data": [
                                {
                                    "0": "NULL",
                                    "1": "Long"
                                },
                                {
                                    "0": "Информатика",
                                    "1": "Long"
                                },
                                {
                                    "0": "Математика",
                                    "1": "Short"
                                },
                                {
                                    "0": "Радиофизика",
                                    "1": "Long"
                                },
                                {
                                    "0": "Физика",
                                    "1": "Short"
                                },
                                {
                                    "0": "Химия",
                                    "1": "Short"
                                }
                            ]
                        },
                        "text/html": [
                            "<table>",
                            "<tr><th>spez</th><th>Spez_Len_Type</th></tr>",
                            "<tr><td>NULL</td><td>Long</td></tr>",
                            "<tr><td>Информатика</td><td>Long</td></tr>",
                            "<tr><td>Математика</td><td>Short</td></tr>",
                            "<tr><td>Радиофизика</td><td>Long</td></tr>",
                            "<tr><td>Физика</td><td>Short</td></tr>",
                            "<tr><td>Химия</td><td>Short</td></tr>",
                            "</table>"
                        ]
                    }
                }
            ],
            "execution_count": 10
        }
    ]
}