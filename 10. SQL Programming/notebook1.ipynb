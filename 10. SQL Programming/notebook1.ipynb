{
    "metadata": {
        "kernelspec": {
            "name": "SQL",
            "display_name": "SQL",
            "language": "sql"
        },
        "language_info": {
            "name": "sql",
            "version": ""
        }
    },
    "nbformat_minor": 2,
    "nbformat": 4,
    "cells": [
        {
            "cell_type": "markdown",
            "source": [
                "## SQLQuery10_1_1.sql"
            ],
            "metadata": {
                "azdata_cell_guid": "5bed0e64-16c2-4cbf-8e77-c822fa39d5a8"
            },
            "attachments": {}
        },
        {
            "cell_type": "code",
            "source": [
                "declare @a int, @b int, @c int\n",
                "set @a = 5\n",
                "set @b = 10\n",
                "set @c = @a + @b\n",
                "print @c"
            ],
            "metadata": {
                "azdata_cell_guid": "157220b3-4aa3-42dd-b73c-6b4cb9a8f67b",
                "language": "sql",
                "tags": [
                    "hide_input"
                ]
            },
            "outputs": [
                {
                    "output_type": "display_data",
                    "data": {
                        "text/html": "15"
                    },
                    "metadata": {}
                },
                {
                    "output_type": "display_data",
                    "data": {
                        "text/html": "Total execution time: 00:00:00.004"
                    },
                    "metadata": {}
                }
            ],
            "execution_count": 21
        },
        {
            "cell_type": "markdown",
            "source": [
                "## SQLQuery10_1_2.sql"
            ],
            "metadata": {
                "azdata_cell_guid": "c892b7de-6206-490f-9eac-cf11c8eb26aa"
            },
            "attachments": {}
        },
        {
            "cell_type": "code",
            "source": [
                "declare @liceym_max float, @gimn_max float, @difference float\n",
                "set @liceym_max = (select max(grade) from Students where facility = N'лицей')\n",
                "set @gimn_max = (select max(grade) from Students where facility = N'гимназия')\n",
                "set @difference = @liceym_max - @gimn_max\n",
                "print @difference"
            ],
            "metadata": {
                "azdata_cell_guid": "94ea7ac9-9aba-4a76-94e0-05458c525040",
                "language": "sql"
            },
            "outputs": [
                {
                    "output_type": "display_data",
                    "data": {
                        "text/html": "-0.5"
                    },
                    "metadata": {}
                },
                {
                    "output_type": "display_data",
                    "data": {
                        "text/html": "Total execution time: 00:00:00.004"
                    },
                    "metadata": {}
                }
            ],
            "execution_count": 22
        },
        {
            "cell_type": "markdown",
            "source": [
                "## SQLQuery10_1_3.sql"
            ],
            "metadata": {
                "azdata_cell_guid": "c1a71d93-b1b1-4e33-8074-fd13d4d7337b"
            },
            "attachments": {}
        },
        {
            "cell_type": "code",
            "source": [
                "declare @max_grade float, @min_grade float, @difference float\n",
                "select\n",
                "\t@max_grade = max(Grade),\n",
                "\t@min_grade = min(Grade)\n",
                "from\n",
                "\tStudents\n",
                "set @difference = @max_grade - @min_grade\n",
                "print @difference"
            ],
            "metadata": {
                "azdata_cell_guid": "64b31743-d39f-4a31-b78c-a9329a87f03e",
                "language": "sql"
            },
            "outputs": [
                {
                    "output_type": "display_data",
                    "data": {
                        "text/html": "31"
                    },
                    "metadata": {}
                },
                {
                    "output_type": "display_data",
                    "data": {
                        "text/html": "Total execution time: 00:00:00.004"
                    },
                    "metadata": {}
                }
            ],
            "execution_count": 23
        },
        {
            "cell_type": "markdown",
            "source": [
                "## SQLQuery10_1_4.sql"
            ],
            "metadata": {
                "azdata_cell_guid": "bdb6390e-c079-4006-8694-8a0096776c31"
            },
            "attachments": {}
        },
        {
            "cell_type": "code",
            "source": [
                "declare @a int, @b int\n",
                "set @a = rand()*1000\n",
                "set @b = square(@a)\n",
                "print @a\n",
                "print @b"
            ],
            "metadata": {
                "azdata_cell_guid": "c51a868b-3acf-4185-b6e3-d42c015a6f67",
                "language": "sql"
            },
            "outputs": [
                {
                    "output_type": "display_data",
                    "data": {
                        "text/html": "652"
                    },
                    "metadata": {}
                },
                {
                    "output_type": "display_data",
                    "data": {
                        "text/html": "425104"
                    },
                    "metadata": {}
                },
                {
                    "output_type": "display_data",
                    "data": {
                        "text/html": "Total execution time: 00:00:00.004"
                    },
                    "metadata": {}
                }
            ],
            "execution_count": 24
        },
        {
            "cell_type": "markdown",
            "source": [
                "## SQLQuery10_1_5.sql"
            ],
            "metadata": {
                "azdata_cell_guid": "61d213f0-22be-4911-8325-cd26176676db"
            },
            "attachments": {}
        },
        {
            "cell_type": "code",
            "source": [
                "declare @a int, @b int\n",
                "set @a = rand() * 100\n",
                "set @b = rand() * 100\n",
                "if @a < @b\n",
                "\tprint 'b = ' + cast(@b as varchar(3))\n",
                "else\n",
                "\tprint 'a = ' + cast(@a as varchar(3))"
            ],
            "metadata": {
                "azdata_cell_guid": "c4bf18ed-50fc-49fd-8d7e-278d0a6a8eb1",
                "language": "sql"
            },
            "outputs": [
                {
                    "output_type": "display_data",
                    "data": {
                        "text/html": "b = 63"
                    },
                    "metadata": {}
                },
                {
                    "output_type": "display_data",
                    "data": {
                        "text/html": "Total execution time: 00:00:00.005"
                    },
                    "metadata": {}
                }
            ],
            "execution_count": 25
        },
        {
            "cell_type": "markdown",
            "source": [
                "## SQLQuery10_1_6.sql"
            ],
            "metadata": {
                "azdata_cell_guid": "d679bad2-4c5f-4e36-b27f-e3f3e840ba9e"
            },
            "attachments": {}
        },
        {
            "cell_type": "code",
            "source": [
                "declare @a int\n",
                "set @a = rand() * 100\n",
                "if @a % 3 = 0\n",
                "\tprint cast(@a as varchar(3)) + ' % 3 = 0'\n",
                "else\n",
                "\tprint cast(@a as varchar(3)) + ' % 3 != 0'"
            ],
            "metadata": {
                "azdata_cell_guid": "272b61ed-4a54-4515-9c4c-9539c9711303",
                "language": "sql"
            },
            "outputs": [
                {
                    "output_type": "display_data",
                    "data": {
                        "text/html": "44 % 3 != 0"
                    },
                    "metadata": {}
                },
                {
                    "output_type": "display_data",
                    "data": {
                        "text/html": "Total execution time: 00:00:00.004"
                    },
                    "metadata": {}
                }
            ],
            "execution_count": 26
        },
        {
            "cell_type": "markdown",
            "source": [
                "## SQLQuery10_1_7.sql"
            ],
            "metadata": {
                "azdata_cell_guid": "35b863c0-a3a3-45b1-8079-d606992561f9"
            },
            "attachments": {}
        },
        {
            "cell_type": "code",
            "source": [
                "declare @a int\n",
                "set @a = RAND() * 1000\n",
                "print @a\n",
                "while (@a % 5 = 0 and @a > 1)\n",
                "\tbegin\n",
                "\t\tset @a = @a / 5\n",
                "\tend\n",
                "if @a = 1\n",
                "\tprint 'Yes'\n",
                "else\n",
                "\tprint 'No'"
            ],
            "metadata": {
                "azdata_cell_guid": "86a87f06-37f3-48ca-a931-2d5a374fa7c5",
                "language": "sql"
            },
            "outputs": [
                {
                    "output_type": "display_data",
                    "data": {
                        "text/html": "802"
                    },
                    "metadata": {}
                },
                {
                    "output_type": "display_data",
                    "data": {
                        "text/html": "No"
                    },
                    "metadata": {}
                },
                {
                    "output_type": "display_data",
                    "data": {
                        "text/html": "Total execution time: 00:00:00.005"
                    },
                    "metadata": {}
                }
            ],
            "execution_count": 27
        },
        {
            "cell_type": "markdown",
            "source": [
                "## SQLQuery10_1_8.sql"
            ],
            "metadata": {
                "azdata_cell_guid": "4d1229e5-1a0d-4107-ba8c-e76a24bd1ab6"
            },
            "attachments": {}
        },
        {
            "cell_type": "code",
            "source": [
                "declare @a int, @b int\n",
                "set @a = rand() * 1000\n",
                "set @b = rand() * 1000\n",
                "print @a\n",
                "print @b\n",
                "\n",
                "while @a != @b\n",
                "\tbegin\n",
                "\t\tif @a > @b\n",
                "\t\t\tset @a = @a - @b\n",
                "\t\telse\n",
                "\t\t\tset @b = @b - @a\n",
                "\tend\n",
                "print N'НОД = ' + cast(@a as varchar(4))"
            ],
            "metadata": {
                "azdata_cell_guid": "6d0deeff-1f24-41f0-b78f-e754097f785b",
                "language": "sql"
            },
            "outputs": [
                {
                    "output_type": "display_data",
                    "data": {
                        "text/html": "757"
                    },
                    "metadata": {}
                },
                {
                    "output_type": "display_data",
                    "data": {
                        "text/html": "280"
                    },
                    "metadata": {}
                },
                {
                    "output_type": "display_data",
                    "data": {
                        "text/html": "НОД = 1"
                    },
                    "metadata": {}
                },
                {
                    "output_type": "display_data",
                    "data": {
                        "text/html": "Total execution time: 00:00:00.004"
                    },
                    "metadata": {}
                }
            ],
            "execution_count": 28
        },
        {
            "cell_type": "markdown",
            "source": [
                "## SQLQuery10_1_9.sql"
            ],
            "metadata": {
                "azdata_cell_guid": "2ced229a-d50e-4f0a-a953-33bbeeef3503"
            },
            "attachments": {}
        },
        {
            "cell_type": "code",
            "source": [
                "declare @a int, @b int, @sum int\n",
                "set @a = rand() * 10\n",
                "set @b = rand() * 10\n",
                "set @sum = 0\n",
                "\n",
                "print @a\n",
                "print @b\n",
                "\n",
                "if @a > @b\n",
                "\tprint 'Incorrect input'\n",
                "else\n",
                "\tbegin\n",
                "\t\twhile @a <= @b\n",
                "\t\t\tbegin\n",
                "\t\t\t\tset @sum = @sum + @a\n",
                "\t\t\t\tset @a = @a + 1\n",
                "\t\t\tend\n",
                "\t\tprint @sum\n",
                "\tend\n"
            ],
            "metadata": {
                "azdata_cell_guid": "7d063b68-947d-4a97-b09b-699316468505",
                "language": "sql"
            },
            "outputs": [
                {
                    "output_type": "display_data",
                    "data": {
                        "text/html": "5"
                    },
                    "metadata": {}
                },
                {
                    "output_type": "display_data",
                    "data": {
                        "text/html": "8"
                    },
                    "metadata": {}
                },
                {
                    "output_type": "display_data",
                    "data": {
                        "text/html": "26"
                    },
                    "metadata": {}
                },
                {
                    "output_type": "display_data",
                    "data": {
                        "text/html": "Total execution time: 00:00:00.004"
                    },
                    "metadata": {}
                }
            ],
            "execution_count": 29
        },
        {
            "cell_type": "markdown",
            "source": [
                "## SQLQuery10_1_10.sql"
            ],
            "metadata": {
                "azdata_cell_guid": "196ab3ab-7322-4bf9-b7f7-9b3191652271"
            },
            "attachments": {}
        },
        {
            "cell_type": "code",
            "source": [
                "declare @N int, @M int, @SQ int\n",
                "set @N = rand() * 10\n",
                "set @M = 1\n",
                "set @SQ = 0\n",
                "\n",
                "while @M <= @N - 1\n",
                "begin\n",
                "\tset @SQ = @SQ + @M\n",
                "\tprint @SQ\n",
                "\tset @M = @M + 2\n",
                "end"
            ],
            "metadata": {
                "azdata_cell_guid": "1db76880-29a8-491e-aa5f-5b91f5b08f2f",
                "language": "sql"
            },
            "outputs": [
                {
                    "output_type": "display_data",
                    "data": {
                        "text/html": "1"
                    },
                    "metadata": {}
                },
                {
                    "output_type": "display_data",
                    "data": {
                        "text/html": "4"
                    },
                    "metadata": {}
                },
                {
                    "output_type": "display_data",
                    "data": {
                        "text/html": "Total execution time: 00:00:00.004"
                    },
                    "metadata": {}
                }
            ],
            "execution_count": 30
        },
        {
            "cell_type": "markdown",
            "source": [
                "## SQLQuery10_1_11.sql"
            ],
            "metadata": {
                "azdata_cell_guid": "0cd7b179-2b25-4754-9c38-a582ffaa0e5b"
            },
            "attachments": {}
        },
        {
            "cell_type": "code",
            "source": [
                "declare @a int, @b int, @count int\n",
                "set @a = rand() * 5\n",
                "set @b = rand() * 5 + @a\n",
                "set @count = 1\n",
                "\n",
                "while @a <= @b\n",
                "begin\n",
                "\tprint replicate(@a, @count)\n",
                "\tset @a = @a + 1\n",
                "\tset @count = @count + 1\n",
                "end"
            ],
            "metadata": {
                "azdata_cell_guid": "f5f54484-2420-4c0a-bebd-61716f99b4ad",
                "language": "sql"
            },
            "outputs": [
                {
                    "output_type": "display_data",
                    "data": {
                        "text/html": "0"
                    },
                    "metadata": {}
                },
                {
                    "output_type": "display_data",
                    "data": {
                        "text/html": "Total execution time: 00:00:00.004"
                    },
                    "metadata": {}
                }
            ],
            "execution_count": 31
        },
        {
            "cell_type": "markdown",
            "source": [
                "## SQLQuery10_1_12.sql"
            ],
            "metadata": {
                "azdata_cell_guid": "a51767b5-2822-4fc3-9d60-87af31d5ac6a"
            },
            "attachments": {}
        },
        {
            "cell_type": "code",
            "source": [
                "declare @a int = 10\n",
                "\n",
                "while @a < 100\n",
                "begin\n",
                "\tif @a % 4 = 0 and @a % 6 != 0\n",
                "\tbegin\n",
                "\t\tprint @a\n",
                "\t\tset @a = @a + 4\n",
                "\tend\n",
                "\telse\n",
                "\t\tset @a = @a + 1\n",
                "end"
            ],
            "metadata": {
                "azdata_cell_guid": "6f03eed1-f0bd-43b6-8bb3-9928a085ad3a",
                "language": "sql"
            },
            "outputs": [
                {
                    "output_type": "display_data",
                    "data": {
                        "text/html": "16"
                    },
                    "metadata": {}
                },
                {
                    "output_type": "display_data",
                    "data": {
                        "text/html": "20"
                    },
                    "metadata": {}
                },
                {
                    "output_type": "display_data",
                    "data": {
                        "text/html": "28"
                    },
                    "metadata": {}
                },
                {
                    "output_type": "display_data",
                    "data": {
                        "text/html": "32"
                    },
                    "metadata": {}
                },
                {
                    "output_type": "display_data",
                    "data": {
                        "text/html": "40"
                    },
                    "metadata": {}
                },
                {
                    "output_type": "display_data",
                    "data": {
                        "text/html": "44"
                    },
                    "metadata": {}
                },
                {
                    "output_type": "display_data",
                    "data": {
                        "text/html": "52"
                    },
                    "metadata": {}
                },
                {
                    "output_type": "display_data",
                    "data": {
                        "text/html": "56"
                    },
                    "metadata": {}
                },
                {
                    "output_type": "display_data",
                    "data": {
                        "text/html": "64"
                    },
                    "metadata": {}
                },
                {
                    "output_type": "display_data",
                    "data": {
                        "text/html": "68"
                    },
                    "metadata": {}
                },
                {
                    "output_type": "display_data",
                    "data": {
                        "text/html": "76"
                    },
                    "metadata": {}
                },
                {
                    "output_type": "display_data",
                    "data": {
                        "text/html": "80"
                    },
                    "metadata": {}
                },
                {
                    "output_type": "display_data",
                    "data": {
                        "text/html": "88"
                    },
                    "metadata": {}
                },
                {
                    "output_type": "display_data",
                    "data": {
                        "text/html": "92"
                    },
                    "metadata": {}
                },
                {
                    "output_type": "display_data",
                    "data": {
                        "text/html": "Total execution time: 00:00:00.004"
                    },
                    "metadata": {}
                }
            ],
            "execution_count": 32
        },
        {
            "cell_type": "markdown",
            "source": [
                "## SQLQuery10_1_13.sql"
            ],
            "metadata": {
                "azdata_cell_guid": "1b87abb1-eb49-4e2f-afc3-1ffc38e437ba"
            },
            "attachments": {}
        },
        {
            "cell_type": "code",
            "source": [
                "declare @d int = 30, @m int = 11\n",
                "set @d = case\n",
                "\t\twhen @m in (1,3,5,7,8,10,12) and @d = 31 then 1\n",
                "\t\twhen @m in (4,6,9,11) and @d = 30 then 1\n",
                "\t\twhen @m = 2 and @d = 28 then 1\n",
                "\t\telse @d + 1\n",
                "\tend\n",
                "set @m = case\n",
                "\t\twhen @d = 1 and @m = 12 then 1\n",
                "\t\twhen @d = 1 and @m < 12 then @m + 1\n",
                "\t\telse @m\n",
                "\tend\n",
                "print cast(@d as varchar(2)) + '/' + cast(@m as varchar(2))"
            ],
            "metadata": {
                "azdata_cell_guid": "76127ca2-9318-4e0e-86f0-341952f988b6",
                "language": "sql"
            },
            "outputs": [
                {
                    "output_type": "display_data",
                    "data": {
                        "text/html": "1/12"
                    },
                    "metadata": {}
                },
                {
                    "output_type": "display_data",
                    "data": {
                        "text/html": "Total execution time: 00:00:00.004"
                    },
                    "metadata": {}
                }
            ],
            "execution_count": 33
        },
        {
            "cell_type": "markdown",
            "source": [
                "## SQLQuery10_1_14.sql"
            ],
            "metadata": {
                "azdata_cell_guid": "d8791f8d-55f7-4c2a-8e57-2e40ed34deff"
            },
            "attachments": {}
        },
        {
            "cell_type": "code",
            "source": [
                "declare @len int, @word nvarchar(13) = N'Нижневартовск'\n",
                "set @len = len(@word)\n",
                "\n",
                "while @len > 0\n",
                "\tbegin\n",
                "\t\tprint @word\n",
                "\t\tset @len = @len - 1\n",
                "\tend"
            ],
            "metadata": {
                "azdata_cell_guid": "7fed121b-206d-4282-9ba0-bbb41aba3ae9",
                "language": "sql"
            },
            "outputs": [
                {
                    "output_type": "display_data",
                    "data": {
                        "text/html": "Нижневартовск"
                    },
                    "metadata": {}
                },
                {
                    "output_type": "display_data",
                    "data": {
                        "text/html": "Нижневартовск"
                    },
                    "metadata": {}
                },
                {
                    "output_type": "display_data",
                    "data": {
                        "text/html": "Нижневартовск"
                    },
                    "metadata": {}
                },
                {
                    "output_type": "display_data",
                    "data": {
                        "text/html": "Нижневартовск"
                    },
                    "metadata": {}
                },
                {
                    "output_type": "display_data",
                    "data": {
                        "text/html": "Нижневартовск"
                    },
                    "metadata": {}
                },
                {
                    "output_type": "display_data",
                    "data": {
                        "text/html": "Нижневартовск"
                    },
                    "metadata": {}
                },
                {
                    "output_type": "display_data",
                    "data": {
                        "text/html": "Нижневартовск"
                    },
                    "metadata": {}
                },
                {
                    "output_type": "display_data",
                    "data": {
                        "text/html": "Нижневартовск"
                    },
                    "metadata": {}
                },
                {
                    "output_type": "display_data",
                    "data": {
                        "text/html": "Нижневартовск"
                    },
                    "metadata": {}
                },
                {
                    "output_type": "display_data",
                    "data": {
                        "text/html": "Нижневартовск"
                    },
                    "metadata": {}
                },
                {
                    "output_type": "display_data",
                    "data": {
                        "text/html": "Нижневартовск"
                    },
                    "metadata": {}
                },
                {
                    "output_type": "display_data",
                    "data": {
                        "text/html": "Нижневартовск"
                    },
                    "metadata": {}
                },
                {
                    "output_type": "display_data",
                    "data": {
                        "text/html": "Нижневартовск"
                    },
                    "metadata": {}
                },
                {
                    "output_type": "display_data",
                    "data": {
                        "text/html": "Total execution time: 00:00:00.004"
                    },
                    "metadata": {}
                }
            ],
            "execution_count": 34
        },
        {
            "cell_type": "markdown",
            "source": [
                "## SQLQuery10_1_15.sql"
            ],
            "metadata": {
                "azdata_cell_guid": "58c24aca-91d0-496c-81b1-ae13e87e3658"
            },
            "attachments": {}
        },
        {
            "cell_type": "code",
            "source": [
                "declare @len int, @m int, @word nvarchar(13)\n",
                "set @word = N'Нижневартовск'\n",
                "set @len = len(@word)\n",
                "set @m = @len\n",
                "while @len > 0\n",
                "\tbegin\n",
                "\t\tprint left(@word,@len)+space(2*(@m-@len))+right(reverse(@word),@len)\n",
                "\t\tset @len = @len - 1\n",
                "\tend\n",
                "set @len = 2\n",
                "while @len <= @m\n",
                "\tbegin\n",
                "\t\tprint left(@word,@len)+space(2*(@m-@len))+right(reverse(@word),@len)\n",
                "\t\tset @len = @len + 1\n",
                "\tend"
            ],
            "metadata": {
                "azdata_cell_guid": "dcc5ad9a-f456-4201-b54f-394d0405766b",
                "language": "sql"
            },
            "outputs": [
                {
                    "output_type": "display_data",
                    "data": {
                        "text/html": "НижневартовскксвотравенжиН"
                    },
                    "metadata": {}
                },
                {
                    "output_type": "display_data",
                    "data": {
                        "text/html": "Нижневартовс  свотравенжиН"
                    },
                    "metadata": {}
                },
                {
                    "output_type": "display_data",
                    "data": {
                        "text/html": "Нижневартов    вотравенжиН"
                    },
                    "metadata": {}
                },
                {
                    "output_type": "display_data",
                    "data": {
                        "text/html": "Нижневарто      отравенжиН"
                    },
                    "metadata": {}
                },
                {
                    "output_type": "display_data",
                    "data": {
                        "text/html": "Нижневарт        травенжиН"
                    },
                    "metadata": {}
                },
                {
                    "output_type": "display_data",
                    "data": {
                        "text/html": "Нижневар          равенжиН"
                    },
                    "metadata": {}
                },
                {
                    "output_type": "display_data",
                    "data": {
                        "text/html": "Нижнева            авенжиН"
                    },
                    "metadata": {}
                },
                {
                    "output_type": "display_data",
                    "data": {
                        "text/html": "Нижнев              венжиН"
                    },
                    "metadata": {}
                },
                {
                    "output_type": "display_data",
                    "data": {
                        "text/html": "Нижне                енжиН"
                    },
                    "metadata": {}
                },
                {
                    "output_type": "display_data",
                    "data": {
                        "text/html": "Нижн                  нжиН"
                    },
                    "metadata": {}
                },
                {
                    "output_type": "display_data",
                    "data": {
                        "text/html": "Ниж                    жиН"
                    },
                    "metadata": {}
                },
                {
                    "output_type": "display_data",
                    "data": {
                        "text/html": "Ни                      иН"
                    },
                    "metadata": {}
                },
                {
                    "output_type": "display_data",
                    "data": {
                        "text/html": "Н                        Н"
                    },
                    "metadata": {}
                },
                {
                    "output_type": "display_data",
                    "data": {
                        "text/html": "Ни                      иН"
                    },
                    "metadata": {}
                },
                {
                    "output_type": "display_data",
                    "data": {
                        "text/html": "Ниж                    жиН"
                    },
                    "metadata": {}
                },
                {
                    "output_type": "display_data",
                    "data": {
                        "text/html": "Нижн                  нжиН"
                    },
                    "metadata": {}
                },
                {
                    "output_type": "display_data",
                    "data": {
                        "text/html": "Нижне                енжиН"
                    },
                    "metadata": {}
                },
                {
                    "output_type": "display_data",
                    "data": {
                        "text/html": "Нижнев              венжиН"
                    },
                    "metadata": {}
                },
                {
                    "output_type": "display_data",
                    "data": {
                        "text/html": "Нижнева            авенжиН"
                    },
                    "metadata": {}
                },
                {
                    "output_type": "display_data",
                    "data": {
                        "text/html": "Нижневар          равенжиН"
                    },
                    "metadata": {}
                },
                {
                    "output_type": "display_data",
                    "data": {
                        "text/html": "Нижневарт        травенжиН"
                    },
                    "metadata": {}
                },
                {
                    "output_type": "display_data",
                    "data": {
                        "text/html": "Нижневарто      отравенжиН"
                    },
                    "metadata": {}
                },
                {
                    "output_type": "display_data",
                    "data": {
                        "text/html": "Нижневартов    вотравенжиН"
                    },
                    "metadata": {}
                },
                {
                    "output_type": "display_data",
                    "data": {
                        "text/html": "Нижневартовс  свотравенжиН"
                    },
                    "metadata": {}
                },
                {
                    "output_type": "display_data",
                    "data": {
                        "text/html": "НижневартовскксвотравенжиН"
                    },
                    "metadata": {}
                },
                {
                    "output_type": "display_data",
                    "data": {
                        "text/html": "Total execution time: 00:00:00.007"
                    },
                    "metadata": {}
                }
            ],
            "execution_count": 35
        }
    ]
}