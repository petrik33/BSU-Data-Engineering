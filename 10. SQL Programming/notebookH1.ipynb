{
    "metadata": {
        "kernelspec": {
            "name": "SQL",
            "display_name": "SQL",
            "language": "sql"
        },
        "language_info": {
            "name": "sql",
            "version": ""
        }
    },
    "nbformat_minor": 2,
    "nbformat": 4,
    "cells": [
        {
            "cell_type": "markdown",
            "source": [
                "## SQLQuery_c10_1_1.sql"
            ],
            "metadata": {
                "azdata_cell_guid": "1d26fbbc-9775-4ce8-a685-0fc8917da466"
            }
        },
        {
            "cell_type": "code",
            "source": [
                "declare @a int = 5, @b int = 10\n",
                "print @a * @b"
            ],
            "metadata": {
                "azdata_cell_guid": "ce36ee78-d080-4e38-b7a0-f287091ceabf",
                "language": "sql"
            },
            "outputs": [
                {
                    "output_type": "display_data",
                    "data": {
                        "text/html": "50"
                    },
                    "metadata": {}
                },
                {
                    "output_type": "display_data",
                    "data": {
                        "text/html": "Total execution time: 00:00:00.003"
                    },
                    "metadata": {}
                }
            ],
            "execution_count": 5
        },
        {
            "cell_type": "markdown",
            "source": [
                "## SQLQuery_c10_1_2.sql"
            ],
            "metadata": {
                "azdata_cell_guid": "0d977819-73c9-4ccc-a915-d0e607678bae"
            }
        },
        {
            "cell_type": "code",
            "source": [
                "declare @liceym_avg float, @gimn_avg float, @difference float\n",
                "set @liceym_avg = (select avg(grade) from Students where facility = N'лицей')\n",
                "set @gimn_avg = (select avg(grade) from Students where facility = N'гимназия')\n",
                "set @difference = @liceym_avg - @gimn_avg\n",
                "print @difference"
            ],
            "metadata": {
                "azdata_cell_guid": "c4bac5a3-751d-4e50-9c45-2839db644e57",
                "language": "sql"
            },
            "outputs": [
                {
                    "output_type": "display_data",
                    "data": {
                        "text/html": "9.75"
                    },
                    "metadata": {}
                },
                {
                    "output_type": "display_data",
                    "data": {
                        "text/html": "Total execution time: 00:00:00.011"
                    },
                    "metadata": {}
                }
            ],
            "execution_count": 6
        },
        {
            "cell_type": "markdown",
            "source": [
                "## SQLQuery_c10_1_3.sql"
            ],
            "metadata": {
                "azdata_cell_guid": "34c67b0e-8402-4b60-bbca-d3a08848ad85"
            }
        },
        {
            "cell_type": "code",
            "source": [
                "declare @count int = (select count(*) from Students)\n",
                "if @count % 2 = 0\n",
                "\tprint 'Even'\n",
                "else\n",
                "\tprint 'Odd'"
            ],
            "metadata": {
                "azdata_cell_guid": "5a3946e0-85af-4725-a12d-1f6037e89cf0",
                "language": "sql"
            },
            "outputs": [
                {
                    "output_type": "display_data",
                    "data": {
                        "text/html": "Even"
                    },
                    "metadata": {}
                },
                {
                    "output_type": "display_data",
                    "data": {
                        "text/html": "Total execution time: 00:00:00.008"
                    },
                    "metadata": {}
                }
            ],
            "execution_count": 7
        },
        {
            "cell_type": "markdown",
            "source": [
                "## SQLQuery_c10_1_4.sql"
            ],
            "metadata": {
                "azdata_cell_guid": "504932f8-8502-496c-9cc2-d33d0dabf268"
            }
        },
        {
            "cell_type": "code",
            "source": [
                "declare @a int = rand() * 10000, @sum int = 0, @count int = 0\n",
                "print @a\n",
                "\n",
                "while @count <= 3\n",
                "\tbegin \n",
                "\t\tset @sum = (@a % 10) + @sum\n",
                "\t\tset @a = @a / 10\n",
                "\t\tset @count = @count + 1\n",
                "\tend\n",
                "print @sum"
            ],
            "metadata": {
                "azdata_cell_guid": "91e40a0e-664a-4c3f-9e43-d6de9551d49b",
                "language": "sql"
            },
            "outputs": [
                {
                    "output_type": "display_data",
                    "data": {
                        "text/html": "965"
                    },
                    "metadata": {}
                },
                {
                    "output_type": "display_data",
                    "data": {
                        "text/html": "20"
                    },
                    "metadata": {}
                },
                {
                    "output_type": "display_data",
                    "data": {
                        "text/html": "Total execution time: 00:00:00.006"
                    },
                    "metadata": {}
                }
            ],
            "execution_count": 8
        },
        {
            "cell_type": "markdown",
            "source": [
                "## SQLQuery_c10_1_5.sql"
            ],
            "metadata": {
                "azdata_cell_guid": "9f74f291-c7c2-4d5e-ae1a-9f748282021b"
            }
        },
        {
            "cell_type": "code",
            "source": [
                "declare @a int, @b int, @c int, @min int\n",
                "set @a = rand() * 10 print @a\n",
                "set @b = rand() * 10 print @b\n",
                "set @c = rand() * 10 print @c\n",
                "\n",
                "if @a < @b\n",
                "\tbegin\n",
                "\t\tset @min = @a\n",
                "\t\tif @c < @min\n",
                "\t\t\tset @min = @c\n",
                "\tend\n",
                "else\n",
                "\tbegin\n",
                "\t\tset @min = @b\n",
                "\t\tif @c < @min\n",
                "\t\t\tset @min = @c\n",
                "\tend\n",
                "print @min\n"
            ],
            "metadata": {
                "azdata_cell_guid": "e0f6c729-74f4-4014-9926-b5cbc1f69cd6",
                "language": "sql"
            },
            "outputs": [
                {
                    "output_type": "display_data",
                    "data": {
                        "text/html": "0"
                    },
                    "metadata": {}
                },
                {
                    "output_type": "display_data",
                    "data": {
                        "text/html": "8"
                    },
                    "metadata": {}
                },
                {
                    "output_type": "display_data",
                    "data": {
                        "text/html": "9"
                    },
                    "metadata": {}
                },
                {
                    "output_type": "display_data",
                    "data": {
                        "text/html": "0"
                    },
                    "metadata": {}
                },
                {
                    "output_type": "display_data",
                    "data": {
                        "text/html": "Total execution time: 00:00:00.005"
                    },
                    "metadata": {}
                }
            ],
            "execution_count": 9
        },
        {
            "cell_type": "markdown",
            "source": [
                "## SQLQuery_c10_1_6.sql"
            ],
            "metadata": {
                "azdata_cell_guid": "0672e7fb-aceb-4a77-9c26-64a0f1a7eea1"
            }
        },
        {
            "cell_type": "code",
            "source": [
                "declare @a int = rand() * 100\n",
                "print @a\n",
                "\n",
                "if @a % 11 = 0\n",
                "\tprint 'Yes'\n",
                "else\n",
                "\tprint 'No'"
            ],
            "metadata": {
                "azdata_cell_guid": "01f41042-97f2-40e0-b9ee-735842ce4161",
                "language": "sql"
            },
            "outputs": [
                {
                    "output_type": "display_data",
                    "data": {
                        "text/html": "73"
                    },
                    "metadata": {}
                },
                {
                    "output_type": "display_data",
                    "data": {
                        "text/html": "No"
                    },
                    "metadata": {}
                },
                {
                    "output_type": "display_data",
                    "data": {
                        "text/html": "Total execution time: 00:00:00.005"
                    },
                    "metadata": {}
                }
            ],
            "execution_count": 10
        },
        {
            "cell_type": "markdown",
            "source": [
                "## SQLQuery_c10_1_7.sql"
            ],
            "metadata": {
                "azdata_cell_guid": "b1493cb0-4600-4630-973c-4b22632793ae"
            }
        },
        {
            "cell_type": "code",
            "source": [
                "declare @a int\n",
                "set @a = RAND() * 1000\n",
                "print @a\n",
                "while (@a % 3 = 0 and @a > 1)\n",
                "\tbegin\n",
                "\t\tset @a = @a / 3\n",
                "\tend\n",
                "if @a = 1\n",
                "\tprint 'Yes'\n",
                "else\n",
                "\tprint 'No'"
            ],
            "metadata": {
                "azdata_cell_guid": "3f313ccf-f3dd-4710-ba50-97f0a792e858",
                "language": "sql"
            },
            "outputs": [
                {
                    "output_type": "display_data",
                    "data": {
                        "text/html": "49"
                    },
                    "metadata": {}
                },
                {
                    "output_type": "display_data",
                    "data": {
                        "text/html": "No"
                    },
                    "metadata": {}
                },
                {
                    "output_type": "display_data",
                    "data": {
                        "text/html": "Total execution time: 00:00:00.005"
                    },
                    "metadata": {}
                }
            ],
            "execution_count": 11
        },
        {
            "cell_type": "markdown",
            "source": [
                "## SQLQuery_c10_1_8.sql"
            ],
            "metadata": {
                "azdata_cell_guid": "73313a77-48fa-4cbb-a220-808b89a593c6"
            }
        },
        {
            "cell_type": "code",
            "source": [
                "declare @a int, @b int, @b1 int, @GCD int, @LCM int\n",
                "set @a = rand() * 1000\n",
                "set @b = rand() * 1000\n",
                "print @a\n",
                "print @b\n",
                "set @GCD = @a\n",
                "set @b1 = @b\n",
                "while @GCD != @b1\n",
                "\tbegin\n",
                "\t\tif @GCD > @b1\n",
                "\t\t\tset @GCD = @GCD - @b1\n",
                "\t\telse\n",
                "\t\t\tset @b1 = @b1 - @GCD\n",
                "\tend\n",
                "set @LCM = @a * @b / @GCD\n",
                "print N'НОД = ' + cast(@LCM as varchar(10))"
            ],
            "metadata": {
                "azdata_cell_guid": "c65b74d2-7923-4a36-b93a-756b91e92a58",
                "language": "sql"
            },
            "outputs": [
                {
                    "output_type": "display_data",
                    "data": {
                        "text/html": "288"
                    },
                    "metadata": {}
                },
                {
                    "output_type": "display_data",
                    "data": {
                        "text/html": "795"
                    },
                    "metadata": {}
                },
                {
                    "output_type": "display_data",
                    "data": {
                        "text/html": "НОД = 76320"
                    },
                    "metadata": {}
                },
                {
                    "output_type": "display_data",
                    "data": {
                        "text/html": "Total execution time: 00:00:00.006"
                    },
                    "metadata": {}
                }
            ],
            "execution_count": 12
        },
        {
            "cell_type": "markdown",
            "source": [
                "## SQLQuery_c10_1_9.sql"
            ],
            "metadata": {
                "azdata_cell_guid": "3cb29d9e-cb83-4850-bb90-b4ab80703541"
            }
        },
        {
            "cell_type": "code",
            "source": [
                "declare @a int, @b int, @sum int\n",
                "set @a = rand() * 10\n",
                "set @b = rand() * 10\n",
                "set @sum = 0\n",
                "\n",
                "print @a\n",
                "print @b\n",
                "\n",
                "if @a > @b\n",
                "\tprint 'Incorrect input'\n",
                "else\n",
                "\tbegin\n",
                "\t\twhile @a <= @b\n",
                "\t\t\tbegin\n",
                "\t\t\t\tset @sum = @sum + square(@a)\n",
                "\t\t\t\tset @a = @a + 1\n",
                "\t\t\tend\n",
                "\t\tprint @sum\n",
                "\tend\n"
            ],
            "metadata": {
                "azdata_cell_guid": "e0611a65-d124-4101-965f-8d9f7c5d1b8b",
                "language": "sql"
            },
            "outputs": [
                {
                    "output_type": "display_data",
                    "data": {
                        "text/html": "7"
                    },
                    "metadata": {}
                },
                {
                    "output_type": "display_data",
                    "data": {
                        "text/html": "4"
                    },
                    "metadata": {}
                },
                {
                    "output_type": "display_data",
                    "data": {
                        "text/html": "Incorrect input"
                    },
                    "metadata": {}
                },
                {
                    "output_type": "display_data",
                    "data": {
                        "text/html": "Total execution time: 00:00:00.005"
                    },
                    "metadata": {}
                }
            ],
            "execution_count": 13
        },
        {
            "cell_type": "markdown",
            "source": [
                "## SQLQuery_c10_1_10.sql"
            ],
            "metadata": {
                "azdata_cell_guid": "f7d2386b-5495-4d8f-9e90-dc88f10804ee"
            }
        },
        {
            "cell_type": "code",
            "source": [
                "declare @num int = 21\n",
                "\n",
                "while @num > 0\n",
                "\tbegin\n",
                "\t\tif @num % 2 = 1 and @num % 3 = 1 and @num % 4 = 1 and @num % 5 = 1 and @num % 6 = 1 and @num % 7 = 0\n",
                "\t\t\tbegin\n",
                "\t\t\t\tprint @num\n",
                "\t\t\t\tbreak\n",
                "\t\t\tend\n",
                "\t\telse\n",
                "\t\t\tset @num = @num + 70\n",
                "\tend"
            ],
            "metadata": {
                "azdata_cell_guid": "3b8b4584-9373-4765-af16-b8e1806b4594",
                "language": "sql"
            },
            "outputs": [
                {
                    "output_type": "display_data",
                    "data": {
                        "text/html": "301"
                    },
                    "metadata": {}
                },
                {
                    "output_type": "display_data",
                    "data": {
                        "text/html": "Total execution time: 00:00:00.004"
                    },
                    "metadata": {}
                }
            ],
            "execution_count": 14
        },
        {
            "cell_type": "markdown",
            "source": [
                "## SQLQuery_c10_1_11.sql"
            ],
            "metadata": {
                "azdata_cell_guid": "f6aa6f13-f8ca-4761-aa8b-3966e7c5a644"
            }
        },
        {
            "cell_type": "code",
            "source": [
                "declare @len int, @word nvarchar(10) = N'Тимофей'\n",
                "set @len = len(@word)\n",
                "\n",
                "while @len > 0\n",
                "\tbegin\n",
                "\t\tprint @word\n",
                "\t\tset @len = @len - 1\n",
                "\tend"
            ],
            "metadata": {
                "azdata_cell_guid": "6d6a4048-715b-4d66-a9a2-b16b28f8e160",
                "language": "sql"
            },
            "outputs": [
                {
                    "output_type": "display_data",
                    "data": {
                        "text/html": "Тимофей"
                    },
                    "metadata": {}
                },
                {
                    "output_type": "display_data",
                    "data": {
                        "text/html": "Тимофей"
                    },
                    "metadata": {}
                },
                {
                    "output_type": "display_data",
                    "data": {
                        "text/html": "Тимофей"
                    },
                    "metadata": {}
                },
                {
                    "output_type": "display_data",
                    "data": {
                        "text/html": "Тимофей"
                    },
                    "metadata": {}
                },
                {
                    "output_type": "display_data",
                    "data": {
                        "text/html": "Тимофей"
                    },
                    "metadata": {}
                },
                {
                    "output_type": "display_data",
                    "data": {
                        "text/html": "Тимофей"
                    },
                    "metadata": {}
                },
                {
                    "output_type": "display_data",
                    "data": {
                        "text/html": "Тимофей"
                    },
                    "metadata": {}
                },
                {
                    "output_type": "display_data",
                    "data": {
                        "text/html": "Total execution time: 00:00:00.004"
                    },
                    "metadata": {}
                }
            ],
            "execution_count": 15
        }
    ]
}